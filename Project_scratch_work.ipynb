{
 "cells": [
  {
   "cell_type": "code",
   "execution_count": 358,
   "id": "00781ac6",
   "metadata": {},
   "outputs": [],
   "source": [
    "import pandas as pd\n",
    "import os\n",
    "import env\n",
    "import matplotlib.pyplot as plt\n",
    "import pandas as pd\n",
    "import seaborn as sns\n",
    "from pydataset import data\n",
    "from acquire import get_telco_data\n",
    "from prepare import prep_telco\n",
    "import warnings\n",
    "warnings.filterwarnings('ignore')\n",
    "from sklearn.dummy import DummyClassifier\n",
    "from sklearn.metrics import classification_report\n",
    "from sklearn.model_selection import train_test_split\n",
    "import scipy.stats as stats\n",
    "from scipy.stats import mannwhitneyu\n",
    "\n",
    "from sklearn.model_selection import train_test_split\n",
    "from sklearn.tree import DecisionTreeClassifier\n",
    "from sklearn.tree import export_graphviz\n",
    "\n",
    "from sklearn.metrics import confusion_matrix\n",
    "import graphviz\n",
    "from graphviz import Graph\n",
    "from sklearn import tree\n",
    "import numpy\n",
    "from sklearn.metrics import accuracy_score\n",
    "from sklearn.metrics import precision_score\n",
    "from sklearn.metrics import recall_score\n",
    "from sklearn.metrics import f1_score"
   ]
  },
  {
   "cell_type": "markdown",
   "id": "09ae79c3",
   "metadata": {},
   "source": [
    "## Acquire the data"
   ]
  },
  {
   "cell_type": "markdown",
   "id": "7380f09e",
   "metadata": {},
   "source": [
    "We will use functions to obtain our data."
   ]
  },
  {
   "cell_type": "markdown",
   "id": "95a802c4",
   "metadata": {},
   "source": [
    "**Get connection to SQL**"
   ]
  },
  {
   "cell_type": "code",
   "execution_count": 359,
   "id": "e03a5e30",
   "metadata": {},
   "outputs": [],
   "source": [
    "def get_connection(db, user=env.user, host=env.host, password=env.password):\n",
    "    return f'mysql+pymysql://{user}:{password}@{host}/{db}'"
   ]
  },
  {
   "cell_type": "markdown",
   "id": "9e55f236",
   "metadata": {},
   "source": [
    "**Get telco data**"
   ]
  },
  {
   "cell_type": "code",
   "execution_count": 360,
   "id": "9128ec7d",
   "metadata": {},
   "outputs": [],
   "source": [
    "def get_telco_data():\n",
    "    filename = \"telco_churn.csv\"\n",
    "    sql = '''SELECT *\n",
    "        FROM customers \n",
    "        JOIN contract_types\n",
    "        ON contract_types.contract_type_id = customers.contract_type_id\n",
    "        JOIN internet_service_types\n",
    "        ON internet_service_types.internet_service_type_id = customers.internet_service_type_id\n",
    "        JOIN payment_types \n",
    "        ON payment_types.payment_type_id = customers.payment_type_id'''\n",
    "    if os.path.isfile(filename):\n",
    "        return pd.read_csv(filename)\n",
    "    else:\n",
    "        df = pd.read_sql(sql, get_connection('telco_churn'))\n",
    "        return df"
   ]
  },
  {
   "cell_type": "markdown",
   "id": "0a880cdc",
   "metadata": {},
   "source": [
    "We will create a dictionary of our raw data for our `README.md` file."
   ]
  },
  {
   "cell_type": "code",
   "execution_count": 322,
   "id": "c278a99f",
   "metadata": {},
   "outputs": [],
   "source": [
    "details = {\n",
    "    'Target' : ['churn'],\n",
    "    'Dataype' : [df.dtypes['churn']],\n",
    "    'Definition' : ['Whether or not a customer has churned'],\n",
    "}"
   ]
  },
  {
   "cell_type": "code",
   "execution_count": 323,
   "id": "2c13b5c3",
   "metadata": {},
   "outputs": [],
   "source": [
    "dictionary = {\n",
    "    'Feature' : [\n",
    "                'customer_id', \n",
    "                 'gender', \n",
    "                 'senior_citizen', \n",
    "                 'partner', \n",
    "                 'dependents', \n",
    "                 'tenure', \n",
    "                 'phone_service', \n",
    "                 'multiple_lines', \n",
    "                 'internet_service_type_id', \n",
    "                'online_security', \n",
    "                'online_backup', \n",
    "                'device_protection',\n",
    "                'tech_support', \n",
    "                'streaming_tv', \n",
    "                'streaming_movies', \n",
    "                'contract_type_id', \n",
    "                'paperless_billing', \n",
    "                'payment_type_id', \n",
    "                'monthly_charges',\n",
    "                'total_charges',\n",
    "                'churn',\n",
    "                'contract_type',\n",
    "                'internet_service_type',\n",
    "                'payment_type',\n",
    "                ],\n",
    "    'Dataype' : [\n",
    "                df.dtypes['customer_id'], \n",
    "                 df.dtypes['gender'], \n",
    "                 df.dtypes['senior_citizen'],\n",
    "                df.dtypes['partner'],\n",
    "                 df.dtypes['dependents'], \n",
    "                 df.dtypes['tenure'], \n",
    "                 df.dtypes['phone_service'], \n",
    "                df.dtypes['multiple_lines'],\n",
    "                 df.dtypes['internet_service_type_id'], \n",
    "                df.dtypes['online_security'], \n",
    "                df.dtypes['online_backup'], \n",
    "                df.dtypes['device_protection'],\n",
    "                df.dtypes['tech_support'], \n",
    "                df.dtypes['streaming_tv'], \n",
    "                df.dtypes['streaming_movies'],\n",
    "                df.dtypes['contract_type_id'], \n",
    "                df.dtypes['paperless_billing'], \n",
    "                df.dtypes['payment_type_id'], \n",
    "                df.dtypes['monthly_charges'],\n",
    "                df.dtypes['total_charges'],\n",
    "                df.dtypes['churn'],\n",
    "                df.dtypes['contract_type'],\n",
    "                df.dtypes['internet_service_type'],\n",
    "                df.dtypes['payment_type'],\n",
    "                ],\n",
    "    'Definition' : ['Identification number for customer', \n",
    "                    'Customer gender, male or female', \n",
    "                    'Yes or no, is the customer a senior citizen', \n",
    "                    'Yes or no, does the customer customer has a parter', \n",
    "                    'Number of dependents a customer has', \n",
    "                    'Number of days a customer has been with the company', \n",
    "                    'Type of phone service plan a customer has', \n",
    "                    'Yes or no, does the customer have multiple lines', \n",
    "                    '1 for DSL, 2 for Fiber Optic, 3 for None', \n",
    "                    'Yes, no, or no internet service',\n",
    "                    'Yes, no, or no internet service', \n",
    "                    'Yes, no, or no internet service',\n",
    "                    'Yes, no, or no internet service', \n",
    "                    'Yes, no, or no internet service',\n",
    "                    'Yes, no, or no internet service',\n",
    "                    '1 for month-to-month, 2 for year, and 3 for two-year contract', \n",
    "                    'Yes or no, whether or not the customer uses paperless billing', \n",
    "                    '1 for electronic check, 2 for mailed check, 3 for automatic bank transfer, 4 for automatic credit card payment',\n",
    "                    'Monthly charges the customer pays',\n",
    "                    'Total charges the customer has paid',\n",
    "                    'Yes or no, whether or not the customer has churned',\n",
    "                    'Month-to-month, year, or two-year contract',\n",
    "                    'DSL, Fiber Optic, or None',\n",
    "                    'Electronic check, mailed check, automatic bank transfer, or automatic credit card payment',\n",
    "                    ],\n",
    "}"
   ]
  },
  {
   "cell_type": "code",
   "execution_count": 324,
   "id": "89780908",
   "metadata": {},
   "outputs": [],
   "source": [
    "dict_churn = pd.DataFrame(details)"
   ]
  },
  {
   "cell_type": "code",
   "execution_count": 325,
   "id": "f8225884",
   "metadata": {},
   "outputs": [],
   "source": [
    "data_dictionary = pd.DataFrame(dictionary)"
   ]
  },
  {
   "cell_type": "code",
   "execution_count": 326,
   "id": "938701b4",
   "metadata": {},
   "outputs": [
    {
     "name": "stdout",
     "output_type": "stream",
     "text": [
      "| Target   | Dataype   | Definition                            |\n",
      "|:---------|:----------|:--------------------------------------|\n",
      "| churn    | object    | Whether or not a customer has churned |\n"
     ]
    }
   ],
   "source": [
    "print(dict_churn.to_markdown(index=False))"
   ]
  },
  {
   "cell_type": "code",
   "execution_count": 327,
   "id": "f20ed1b6",
   "metadata": {},
   "outputs": [
    {
     "name": "stdout",
     "output_type": "stream",
     "text": [
      "| Feature                  | Dataype   | Definition                                                                                                     |\n",
      "|:-------------------------|:----------|:---------------------------------------------------------------------------------------------------------------|\n",
      "| customer_id              | object    | Identification number for customer                                                                             |\n",
      "| gender                   | object    | Customer gender, male or female                                                                                |\n",
      "| senior_citizen           | int64     | Yes or no, is the customer a senior citizen                                                                    |\n",
      "| partner                  | object    | Yes or no, does the customer customer has a parter                                                             |\n",
      "| dependents               | object    | Number of dependents a customer has                                                                            |\n",
      "| tenure                   | int64     | Number of days a customer has been with the company                                                            |\n",
      "| phone_service            | object    | Type of phone service plan a customer has                                                                      |\n",
      "| multiple_lines           | object    | Yes or no, does the customer have multiple lines                                                               |\n",
      "| internet_service_type_id | int64     | 1 for DSL, 2 for Fiber Optic, 3 for None                                                                       |\n",
      "| online_security          | object    | Yes, no, or no internet service                                                                                |\n",
      "| online_backup            | object    | Yes, no, or no internet service                                                                                |\n",
      "| device_protection        | object    | Yes, no, or no internet service                                                                                |\n",
      "| tech_support             | object    | Yes, no, or no internet service                                                                                |\n",
      "| streaming_tv             | object    | Yes, no, or no internet service                                                                                |\n",
      "| streaming_movies         | object    | Yes, no, or no internet service                                                                                |\n",
      "| contract_type_id         | int64     | 1 for month-to-month, 2 for year, and 3 for two-year contract                                                  |\n",
      "| paperless_billing        | object    | Yes or no, whether or not the customer uses paperless billing                                                  |\n",
      "| payment_type_id          | int64     | 1 for electronic check, 2 for mailed check, 3 for automatic bank transfer, 4 for automatic credit card payment |\n",
      "| monthly_charges          | float64   | Monthly charges the customer pays                                                                              |\n",
      "| total_charges            | float64   | Total charges the customer has paid                                                                            |\n",
      "| churn                    | object    | Yes or no, whether or not the customer has churned                                                             |\n",
      "| contract_type            | object    | Month-to-month, year, or two-year contract                                                                     |\n",
      "| internet_service_type    | object    | DSL, Fiber Optic, or None                                                                                      |\n",
      "| payment_type             | object    | Electronic check, mailed check, automatic bank transfer, or automatic credit card payment                      |\n"
     ]
    }
   ],
   "source": [
    "print(data_dictionary.to_markdown(index=False))"
   ]
  },
  {
   "cell_type": "markdown",
   "id": "b716deda",
   "metadata": {},
   "source": [
    "Now we can begin to explore the data. First let's look at the dataframe itself."
   ]
  },
  {
   "cell_type": "code",
   "execution_count": 328,
   "id": "933ff04f",
   "metadata": {},
   "outputs": [
    {
     "data": {
      "text/html": [
       "<div>\n",
       "<style scoped>\n",
       "    .dataframe tbody tr th:only-of-type {\n",
       "        vertical-align: middle;\n",
       "    }\n",
       "\n",
       "    .dataframe tbody tr th {\n",
       "        vertical-align: top;\n",
       "    }\n",
       "\n",
       "    .dataframe thead th {\n",
       "        text-align: right;\n",
       "    }\n",
       "</style>\n",
       "<table border=\"1\" class=\"dataframe\">\n",
       "  <thead>\n",
       "    <tr style=\"text-align: right;\">\n",
       "      <th></th>\n",
       "      <th>customer_id</th>\n",
       "      <th>gender</th>\n",
       "      <th>senior_citizen</th>\n",
       "      <th>partner</th>\n",
       "      <th>dependents</th>\n",
       "      <th>tenure</th>\n",
       "      <th>phone_service</th>\n",
       "      <th>multiple_lines</th>\n",
       "      <th>internet_service_type_id</th>\n",
       "      <th>online_security</th>\n",
       "      <th>...</th>\n",
       "      <th>contract_type_id</th>\n",
       "      <th>paperless_billing</th>\n",
       "      <th>payment_type_id</th>\n",
       "      <th>monthly_charges</th>\n",
       "      <th>total_charges</th>\n",
       "      <th>churn</th>\n",
       "      <th>contract_type</th>\n",
       "      <th>internet_service_type</th>\n",
       "      <th>payment_type</th>\n",
       "      <th>has_churned</th>\n",
       "    </tr>\n",
       "  </thead>\n",
       "  <tbody>\n",
       "    <tr>\n",
       "      <th>0</th>\n",
       "      <td>0016-QLJIS</td>\n",
       "      <td>Female</td>\n",
       "      <td>0</td>\n",
       "      <td>Yes</td>\n",
       "      <td>Yes</td>\n",
       "      <td>65</td>\n",
       "      <td>Yes</td>\n",
       "      <td>Yes</td>\n",
       "      <td>1</td>\n",
       "      <td>Yes</td>\n",
       "      <td>...</td>\n",
       "      <td>3</td>\n",
       "      <td>Yes</td>\n",
       "      <td>2</td>\n",
       "      <td>90.45</td>\n",
       "      <td>5957.90</td>\n",
       "      <td>No</td>\n",
       "      <td>Two year</td>\n",
       "      <td>DSL</td>\n",
       "      <td>Mailed check</td>\n",
       "      <td>0</td>\n",
       "    </tr>\n",
       "    <tr>\n",
       "      <th>1</th>\n",
       "      <td>0017-DINOC</td>\n",
       "      <td>Male</td>\n",
       "      <td>0</td>\n",
       "      <td>No</td>\n",
       "      <td>No</td>\n",
       "      <td>54</td>\n",
       "      <td>No</td>\n",
       "      <td>No phone service</td>\n",
       "      <td>1</td>\n",
       "      <td>Yes</td>\n",
       "      <td>...</td>\n",
       "      <td>3</td>\n",
       "      <td>No</td>\n",
       "      <td>4</td>\n",
       "      <td>45.20</td>\n",
       "      <td>2460.55</td>\n",
       "      <td>No</td>\n",
       "      <td>Two year</td>\n",
       "      <td>DSL</td>\n",
       "      <td>Credit card (automatic)</td>\n",
       "      <td>0</td>\n",
       "    </tr>\n",
       "    <tr>\n",
       "      <th>2</th>\n",
       "      <td>0019-GFNTW</td>\n",
       "      <td>Female</td>\n",
       "      <td>0</td>\n",
       "      <td>No</td>\n",
       "      <td>No</td>\n",
       "      <td>56</td>\n",
       "      <td>No</td>\n",
       "      <td>No phone service</td>\n",
       "      <td>1</td>\n",
       "      <td>Yes</td>\n",
       "      <td>...</td>\n",
       "      <td>3</td>\n",
       "      <td>No</td>\n",
       "      <td>3</td>\n",
       "      <td>45.05</td>\n",
       "      <td>2560.10</td>\n",
       "      <td>No</td>\n",
       "      <td>Two year</td>\n",
       "      <td>DSL</td>\n",
       "      <td>Bank transfer (automatic)</td>\n",
       "      <td>0</td>\n",
       "    </tr>\n",
       "    <tr>\n",
       "      <th>3</th>\n",
       "      <td>0056-EPFBG</td>\n",
       "      <td>Male</td>\n",
       "      <td>0</td>\n",
       "      <td>Yes</td>\n",
       "      <td>Yes</td>\n",
       "      <td>20</td>\n",
       "      <td>No</td>\n",
       "      <td>No phone service</td>\n",
       "      <td>1</td>\n",
       "      <td>Yes</td>\n",
       "      <td>...</td>\n",
       "      <td>3</td>\n",
       "      <td>Yes</td>\n",
       "      <td>4</td>\n",
       "      <td>39.40</td>\n",
       "      <td>825.40</td>\n",
       "      <td>No</td>\n",
       "      <td>Two year</td>\n",
       "      <td>DSL</td>\n",
       "      <td>Credit card (automatic)</td>\n",
       "      <td>0</td>\n",
       "    </tr>\n",
       "    <tr>\n",
       "      <th>4</th>\n",
       "      <td>0078-XZMHT</td>\n",
       "      <td>Male</td>\n",
       "      <td>0</td>\n",
       "      <td>Yes</td>\n",
       "      <td>No</td>\n",
       "      <td>72</td>\n",
       "      <td>Yes</td>\n",
       "      <td>Yes</td>\n",
       "      <td>1</td>\n",
       "      <td>No</td>\n",
       "      <td>...</td>\n",
       "      <td>3</td>\n",
       "      <td>Yes</td>\n",
       "      <td>3</td>\n",
       "      <td>85.15</td>\n",
       "      <td>6316.20</td>\n",
       "      <td>No</td>\n",
       "      <td>Two year</td>\n",
       "      <td>DSL</td>\n",
       "      <td>Bank transfer (automatic)</td>\n",
       "      <td>0</td>\n",
       "    </tr>\n",
       "  </tbody>\n",
       "</table>\n",
       "<p>5 rows × 25 columns</p>\n",
       "</div>"
      ],
      "text/plain": [
       "  customer_id  gender  senior_citizen partner dependents  tenure  \\\n",
       "0  0016-QLJIS  Female               0     Yes        Yes      65   \n",
       "1  0017-DINOC    Male               0      No         No      54   \n",
       "2  0019-GFNTW  Female               0      No         No      56   \n",
       "3  0056-EPFBG    Male               0     Yes        Yes      20   \n",
       "4  0078-XZMHT    Male               0     Yes         No      72   \n",
       "\n",
       "  phone_service    multiple_lines  internet_service_type_id online_security  \\\n",
       "0           Yes               Yes                         1             Yes   \n",
       "1            No  No phone service                         1             Yes   \n",
       "2            No  No phone service                         1             Yes   \n",
       "3            No  No phone service                         1             Yes   \n",
       "4           Yes               Yes                         1              No   \n",
       "\n",
       "   ... contract_type_id paperless_billing payment_type_id monthly_charges  \\\n",
       "0  ...                3               Yes               2           90.45   \n",
       "1  ...                3                No               4           45.20   \n",
       "2  ...                3                No               3           45.05   \n",
       "3  ...                3               Yes               4           39.40   \n",
       "4  ...                3               Yes               3           85.15   \n",
       "\n",
       "  total_charges  churn contract_type  internet_service_type  \\\n",
       "0       5957.90     No      Two year                    DSL   \n",
       "1       2460.55     No      Two year                    DSL   \n",
       "2       2560.10     No      Two year                    DSL   \n",
       "3        825.40     No      Two year                    DSL   \n",
       "4       6316.20     No      Two year                    DSL   \n",
       "\n",
       "                payment_type  has_churned  \n",
       "0               Mailed check            0  \n",
       "1    Credit card (automatic)            0  \n",
       "2  Bank transfer (automatic)            0  \n",
       "3    Credit card (automatic)            0  \n",
       "4  Bank transfer (automatic)            0  \n",
       "\n",
       "[5 rows x 25 columns]"
      ]
     },
     "execution_count": 328,
     "metadata": {},
     "output_type": "execute_result"
    }
   ],
   "source": [
    "df.head()"
   ]
  },
  {
   "cell_type": "markdown",
   "id": "54ee71ff",
   "metadata": {},
   "source": [
    "We will complete an inital data summarization using `info()`, `describe()`, and `value_counts()`."
   ]
  },
  {
   "cell_type": "code",
   "execution_count": 329,
   "id": "d1f7b2ea",
   "metadata": {},
   "outputs": [
    {
     "name": "stdout",
     "output_type": "stream",
     "text": [
      "<class 'pandas.core.frame.DataFrame'>\n",
      "RangeIndex: 7043 entries, 0 to 7042\n",
      "Data columns (total 25 columns):\n",
      " #   Column                    Non-Null Count  Dtype  \n",
      "---  ------                    --------------  -----  \n",
      " 0   customer_id               7043 non-null   object \n",
      " 1   gender                    7043 non-null   object \n",
      " 2   senior_citizen            7043 non-null   int64  \n",
      " 3   partner                   7043 non-null   object \n",
      " 4   dependents                7043 non-null   object \n",
      " 5   tenure                    7043 non-null   int64  \n",
      " 6   phone_service             7043 non-null   object \n",
      " 7   multiple_lines            7043 non-null   object \n",
      " 8   internet_service_type_id  7043 non-null   int64  \n",
      " 9   online_security           7043 non-null   object \n",
      " 10  online_backup             7043 non-null   object \n",
      " 11  device_protection         7043 non-null   object \n",
      " 12  tech_support              7043 non-null   object \n",
      " 13  streaming_tv              7043 non-null   object \n",
      " 14  streaming_movies          7043 non-null   object \n",
      " 15  contract_type_id          7043 non-null   int64  \n",
      " 16  paperless_billing         7043 non-null   object \n",
      " 17  payment_type_id           7043 non-null   int64  \n",
      " 18  monthly_charges           7043 non-null   float64\n",
      " 19  total_charges             7043 non-null   float64\n",
      " 20  churn                     7043 non-null   object \n",
      " 21  contract_type             7043 non-null   object \n",
      " 22  internet_service_type     7043 non-null   object \n",
      " 23  payment_type              7043 non-null   object \n",
      " 24  has_churned               7043 non-null   int64  \n",
      "dtypes: float64(2), int64(6), object(17)\n",
      "memory usage: 1.3+ MB\n"
     ]
    }
   ],
   "source": [
    "df.info()"
   ]
  },
  {
   "cell_type": "code",
   "execution_count": 330,
   "id": "a0599784",
   "metadata": {},
   "outputs": [
    {
     "data": {
      "text/html": [
       "<div>\n",
       "<style scoped>\n",
       "    .dataframe tbody tr th:only-of-type {\n",
       "        vertical-align: middle;\n",
       "    }\n",
       "\n",
       "    .dataframe tbody tr th {\n",
       "        vertical-align: top;\n",
       "    }\n",
       "\n",
       "    .dataframe thead th {\n",
       "        text-align: right;\n",
       "    }\n",
       "</style>\n",
       "<table border=\"1\" class=\"dataframe\">\n",
       "  <thead>\n",
       "    <tr style=\"text-align: right;\">\n",
       "      <th></th>\n",
       "      <th>senior_citizen</th>\n",
       "      <th>tenure</th>\n",
       "      <th>internet_service_type_id</th>\n",
       "      <th>contract_type_id</th>\n",
       "      <th>payment_type_id</th>\n",
       "      <th>monthly_charges</th>\n",
       "      <th>total_charges</th>\n",
       "      <th>has_churned</th>\n",
       "    </tr>\n",
       "  </thead>\n",
       "  <tbody>\n",
       "    <tr>\n",
       "      <th>count</th>\n",
       "      <td>7043.000000</td>\n",
       "      <td>7043.000000</td>\n",
       "      <td>7043.000000</td>\n",
       "      <td>7043.000000</td>\n",
       "      <td>7043.000000</td>\n",
       "      <td>7043.000000</td>\n",
       "      <td>7043.000000</td>\n",
       "      <td>7043.000000</td>\n",
       "    </tr>\n",
       "    <tr>\n",
       "      <th>mean</th>\n",
       "      <td>0.162147</td>\n",
       "      <td>32.371149</td>\n",
       "      <td>1.872923</td>\n",
       "      <td>1.690473</td>\n",
       "      <td>2.315633</td>\n",
       "      <td>64.761692</td>\n",
       "      <td>2279.734304</td>\n",
       "      <td>0.265370</td>\n",
       "    </tr>\n",
       "    <tr>\n",
       "      <th>std</th>\n",
       "      <td>0.368612</td>\n",
       "      <td>24.559481</td>\n",
       "      <td>0.737796</td>\n",
       "      <td>0.833755</td>\n",
       "      <td>1.148907</td>\n",
       "      <td>30.090047</td>\n",
       "      <td>2266.794470</td>\n",
       "      <td>0.441561</td>\n",
       "    </tr>\n",
       "    <tr>\n",
       "      <th>min</th>\n",
       "      <td>0.000000</td>\n",
       "      <td>0.000000</td>\n",
       "      <td>1.000000</td>\n",
       "      <td>1.000000</td>\n",
       "      <td>1.000000</td>\n",
       "      <td>18.250000</td>\n",
       "      <td>0.000000</td>\n",
       "      <td>0.000000</td>\n",
       "    </tr>\n",
       "    <tr>\n",
       "      <th>25%</th>\n",
       "      <td>0.000000</td>\n",
       "      <td>9.000000</td>\n",
       "      <td>1.000000</td>\n",
       "      <td>1.000000</td>\n",
       "      <td>1.000000</td>\n",
       "      <td>35.500000</td>\n",
       "      <td>398.550000</td>\n",
       "      <td>0.000000</td>\n",
       "    </tr>\n",
       "    <tr>\n",
       "      <th>50%</th>\n",
       "      <td>0.000000</td>\n",
       "      <td>29.000000</td>\n",
       "      <td>2.000000</td>\n",
       "      <td>1.000000</td>\n",
       "      <td>2.000000</td>\n",
       "      <td>70.350000</td>\n",
       "      <td>1394.550000</td>\n",
       "      <td>0.000000</td>\n",
       "    </tr>\n",
       "    <tr>\n",
       "      <th>75%</th>\n",
       "      <td>0.000000</td>\n",
       "      <td>55.000000</td>\n",
       "      <td>2.000000</td>\n",
       "      <td>2.000000</td>\n",
       "      <td>3.000000</td>\n",
       "      <td>89.850000</td>\n",
       "      <td>3786.600000</td>\n",
       "      <td>1.000000</td>\n",
       "    </tr>\n",
       "    <tr>\n",
       "      <th>max</th>\n",
       "      <td>1.000000</td>\n",
       "      <td>72.000000</td>\n",
       "      <td>3.000000</td>\n",
       "      <td>3.000000</td>\n",
       "      <td>4.000000</td>\n",
       "      <td>118.750000</td>\n",
       "      <td>8684.800000</td>\n",
       "      <td>1.000000</td>\n",
       "    </tr>\n",
       "  </tbody>\n",
       "</table>\n",
       "</div>"
      ],
      "text/plain": [
       "       senior_citizen       tenure  internet_service_type_id  \\\n",
       "count     7043.000000  7043.000000               7043.000000   \n",
       "mean         0.162147    32.371149                  1.872923   \n",
       "std          0.368612    24.559481                  0.737796   \n",
       "min          0.000000     0.000000                  1.000000   \n",
       "25%          0.000000     9.000000                  1.000000   \n",
       "50%          0.000000    29.000000                  2.000000   \n",
       "75%          0.000000    55.000000                  2.000000   \n",
       "max          1.000000    72.000000                  3.000000   \n",
       "\n",
       "       contract_type_id  payment_type_id  monthly_charges  total_charges  \\\n",
       "count       7043.000000      7043.000000      7043.000000    7043.000000   \n",
       "mean           1.690473         2.315633        64.761692    2279.734304   \n",
       "std            0.833755         1.148907        30.090047    2266.794470   \n",
       "min            1.000000         1.000000        18.250000       0.000000   \n",
       "25%            1.000000         1.000000        35.500000     398.550000   \n",
       "50%            1.000000         2.000000        70.350000    1394.550000   \n",
       "75%            2.000000         3.000000        89.850000    3786.600000   \n",
       "max            3.000000         4.000000       118.750000    8684.800000   \n",
       "\n",
       "       has_churned  \n",
       "count  7043.000000  \n",
       "mean      0.265370  \n",
       "std       0.441561  \n",
       "min       0.000000  \n",
       "25%       0.000000  \n",
       "50%       0.000000  \n",
       "75%       1.000000  \n",
       "max       1.000000  "
      ]
     },
     "execution_count": 330,
     "metadata": {},
     "output_type": "execute_result"
    }
   ],
   "source": [
    "df.describe()"
   ]
  },
  {
   "cell_type": "markdown",
   "id": "d4ee6444",
   "metadata": {},
   "source": [
    "The `value_counts()` function will not work if we have duplicate columns, so we have to get rid of duplicate columns."
   ]
  },
  {
   "cell_type": "code",
   "execution_count": 331,
   "id": "7c4fb682",
   "metadata": {},
   "outputs": [],
   "source": [
    "df = df.loc[:,~df.columns.duplicated()]"
   ]
  },
  {
   "cell_type": "markdown",
   "id": "254a390e",
   "metadata": {},
   "source": [
    "Now we can run a loop to determine the `value_counts()` for each column."
   ]
  },
  {
   "cell_type": "code",
   "execution_count": 332,
   "id": "a93779b8",
   "metadata": {
    "scrolled": true
   },
   "outputs": [
    {
     "name": "stdout",
     "output_type": "stream",
     "text": [
      "---- customer_id ---\n",
      "9415-ZNBSX    1\n",
      "2038-OEQZH    1\n",
      "1587-FKLZB    1\n",
      "5186-EJEGL    1\n",
      "8050-WYBND    1\n",
      "             ..\n",
      "6522-OIQSX    1\n",
      "5124-EOGYE    1\n",
      "6595-COKXZ    1\n",
      "1725-IQNIY    1\n",
      "7343-EOBEU    1\n",
      "Name: customer_id, Length: 7043, dtype: int64\n",
      "---- gender ---\n",
      "Male      3555\n",
      "Female    3488\n",
      "Name: gender, dtype: int64\n",
      "---- senior_citizen ---\n",
      "0    5901\n",
      "1    1142\n",
      "Name: senior_citizen, dtype: int64\n",
      "---- partner ---\n",
      "No     3641\n",
      "Yes    3402\n",
      "Name: partner, dtype: int64\n",
      "---- dependents ---\n",
      "No     4933\n",
      "Yes    2110\n",
      "Name: dependents, dtype: int64\n",
      "---- tenure ---\n",
      "1     613\n",
      "72    362\n",
      "2     238\n",
      "3     200\n",
      "4     176\n",
      "71    170\n",
      "5     133\n",
      "7     131\n",
      "8     123\n",
      "70    119\n",
      "9     119\n",
      "12    117\n",
      "10    116\n",
      "6     110\n",
      "13    109\n",
      "68    100\n",
      "11     99\n",
      "15     99\n",
      "67     98\n",
      "18     97\n",
      "69     95\n",
      "24     94\n",
      "22     90\n",
      "66     89\n",
      "35     88\n",
      "17     87\n",
      "23     85\n",
      "56     80\n",
      "52     80\n",
      "64     80\n",
      "16     80\n",
      "26     79\n",
      "25     79\n",
      "60     76\n",
      "61     76\n",
      "65     76\n",
      "14     76\n",
      "46     74\n",
      "19     73\n",
      "27     72\n",
      "29     72\n",
      "30     72\n",
      "63     72\n",
      "20     71\n",
      "62     70\n",
      "41     70\n",
      "53     70\n",
      "32     69\n",
      "50     68\n",
      "54     68\n",
      "51     68\n",
      "47     68\n",
      "58     67\n",
      "49     66\n",
      "31     65\n",
      "43     65\n",
      "42     65\n",
      "34     65\n",
      "57     65\n",
      "37     65\n",
      "40     64\n",
      "48     64\n",
      "55     64\n",
      "33     64\n",
      "21     63\n",
      "45     61\n",
      "59     60\n",
      "38     59\n",
      "28     57\n",
      "39     56\n",
      "44     51\n",
      "36     50\n",
      "0      11\n",
      "Name: tenure, dtype: int64\n",
      "---- phone_service ---\n",
      "Yes    6361\n",
      "No      682\n",
      "Name: phone_service, dtype: int64\n",
      "---- multiple_lines ---\n",
      "No                  3390\n",
      "Yes                 2971\n",
      "No phone service     682\n",
      "Name: multiple_lines, dtype: int64\n",
      "---- internet_service_type_id ---\n",
      "2    3096\n",
      "1    2421\n",
      "3    1526\n",
      "Name: internet_service_type_id, dtype: int64\n",
      "---- online_security ---\n",
      "No                     3498\n",
      "Yes                    2019\n",
      "No internet service    1526\n",
      "Name: online_security, dtype: int64\n",
      "---- online_backup ---\n",
      "No                     3088\n",
      "Yes                    2429\n",
      "No internet service    1526\n",
      "Name: online_backup, dtype: int64\n",
      "---- device_protection ---\n",
      "No                     3095\n",
      "Yes                    2422\n",
      "No internet service    1526\n",
      "Name: device_protection, dtype: int64\n",
      "---- tech_support ---\n",
      "No                     3473\n",
      "Yes                    2044\n",
      "No internet service    1526\n",
      "Name: tech_support, dtype: int64\n",
      "---- streaming_tv ---\n",
      "No                     2810\n",
      "Yes                    2707\n",
      "No internet service    1526\n",
      "Name: streaming_tv, dtype: int64\n",
      "---- streaming_movies ---\n",
      "No                     2785\n",
      "Yes                    2732\n",
      "No internet service    1526\n",
      "Name: streaming_movies, dtype: int64\n",
      "---- contract_type_id ---\n",
      "1    3875\n",
      "3    1695\n",
      "2    1473\n",
      "Name: contract_type_id, dtype: int64\n",
      "---- paperless_billing ---\n",
      "Yes    4171\n",
      "No     2872\n",
      "Name: paperless_billing, dtype: int64\n",
      "---- payment_type_id ---\n",
      "1    2365\n",
      "2    1612\n",
      "3    1544\n",
      "4    1522\n",
      "Name: payment_type_id, dtype: int64\n",
      "---- monthly_charges ---\n",
      "20.05     61\n",
      "19.85     45\n",
      "19.90     44\n",
      "19.95     44\n",
      "20.00     43\n",
      "          ..\n",
      "30.30      1\n",
      "56.45      1\n",
      "117.50     1\n",
      "40.00      1\n",
      "97.25      1\n",
      "Name: monthly_charges, Length: 1585, dtype: int64\n",
      "---- total_charges ---\n",
      "0.00       11\n",
      "20.20      11\n",
      "19.75       9\n",
      "19.65       8\n",
      "20.05       8\n",
      "           ..\n",
      "775.30      1\n",
      "6841.30     1\n",
      "75.70       1\n",
      "3888.65     1\n",
      "5867.00     1\n",
      "Name: total_charges, Length: 6531, dtype: int64\n",
      "---- churn ---\n",
      "No     5174\n",
      "Yes    1869\n",
      "Name: churn, dtype: int64\n",
      "---- contract_type ---\n",
      "Month-to-month    3875\n",
      "Two year          1695\n",
      "One year          1473\n",
      "Name: contract_type, dtype: int64\n",
      "---- internet_service_type ---\n",
      "Fiber optic    3096\n",
      "DSL            2421\n",
      "None           1526\n",
      "Name: internet_service_type, dtype: int64\n",
      "---- payment_type ---\n",
      "Electronic check             2365\n",
      "Mailed check                 1612\n",
      "Bank transfer (automatic)    1544\n",
      "Credit card (automatic)      1522\n",
      "Name: payment_type, dtype: int64\n",
      "---- has_churned ---\n",
      "0    5174\n",
      "1    1869\n",
      "Name: has_churned, dtype: int64\n"
     ]
    }
   ],
   "source": [
    "for c in df.columns:\n",
    "    print (\"---- %s ---\" % c)\n",
    "    print (df[c].value_counts())"
   ]
  },
  {
   "cell_type": "markdown",
   "id": "859c7bd5",
   "metadata": {},
   "source": [
    "## Prepare the data"
   ]
  },
  {
   "cell_type": "markdown",
   "id": "4f0f0f90",
   "metadata": {},
   "source": [
    "First we will make afunction that will split our data into `train`, `validate`, and `test`."
   ]
  },
  {
   "cell_type": "code",
   "execution_count": 361,
   "id": "1409a917",
   "metadata": {},
   "outputs": [],
   "source": [
    "def split_data(df):\n",
    "    '''\n",
    "    take in a DataFrame and return train, validate, and test DataFrames; stratify on churn.\n",
    "    return train, validate, test DataFrames.\n",
    "    '''\n",
    "    \n",
    "    # splits df into train_validate and test using train_test_split() stratifying on churn to get an even mix of each churn, yes or no\n",
    "    train_validate, test = train_test_split(df, test_size=.2, random_state=123, stratify=df.has_churned)\n",
    "    \n",
    "    # splits train_validate into train and validate using train_test_split() stratifying on churn to get an even mix of each churn\n",
    "    train, validate = train_test_split(train_validate, \n",
    "                                       test_size=.3, \n",
    "                                       random_state=123, \n",
    "                                       stratify=train_validate.has_churned)\n",
    "    return train, validate, test"
   ]
  },
  {
   "cell_type": "code",
   "execution_count": 362,
   "id": "b65fdbb6",
   "metadata": {},
   "outputs": [],
   "source": [
    "def prep_telco(df):\n",
    "    ## First we will get rid of duplicate columns\n",
    "    df = df.loc[:,~df.columns.duplicated()]\n",
    "    \n",
    "    ##Add a numeric columns for churned or didn't churn\n",
    "    df['has_churned'] = df['churn'].replace({'No' : 0, 'Yes': 1})\n",
    "    \n",
    "    ##Add a numerical column for paperless billing\n",
    "    df['paperless_billing_numeric'] = df['paperless_billing'].replace({'No' : 0, 'Yes': 1})\n",
    "    \n",
    "    ## Now we will substitute the object values for dummy values that are easier to process. \n",
    "    dummy_df = pd.get_dummies(df[['partner', 'dependents', 'gender', 'phone_service', 'multiple_lines', 'online_security', 'online_backup', 'device_protection', 'tech_support', 'streaming_tv', 'streaming_movies']], drop_first=True)\n",
    "    \n",
    "    ##Concatenate our dummy values to our main Dataframe. \n",
    "    df = pd.concat([df, dummy_df], axis=1)\n",
    "    \n",
    "    ## Drop the redundant columns.\n",
    "    df = df.drop(columns = ['customer_id', 'gender', 'partner', 'dependents', 'phone_service', 'multiple_lines', 'online_security', 'online_backup', 'device_protection', 'tech_support', 'streaming_tv', 'streaming_movies', 'contract_type', 'internet_service_type', 'payment_type', 'churn', 'paperless_billing'])\n",
    "    \n",
    "    ##Our column total_charges has some empty string values, so we will replace those values with a 0\n",
    "    \n",
    "    df[\"total_charges\"] = df.total_charges.replace(\" \", \"0\")\n",
    "    \n",
    "    ##Now we will convert the numbers in our total_charges and monthly_charges columns to floats. \n",
    "    df['total_charges'] = df.total_charges.astype(float)\n",
    "    \n",
    "    df['monthly_charges'] = df.monthly_charges.astype(float)\n",
    "    \n",
    "    ## Now we can split our data into train, validate, and test\n",
    "    \n",
    "     # split data into train, validate, test dfs\n",
    "    train, validate, test = split_data(df)\n",
    "    \n",
    "    return train, validate, test"
   ]
  },
  {
   "cell_type": "code",
   "execution_count": 363,
   "id": "53eb5688",
   "metadata": {},
   "outputs": [],
   "source": [
    "train, test, validate = prep_telco(df)"
   ]
  },
  {
   "cell_type": "code",
   "execution_count": 336,
   "id": "71bb21a9",
   "metadata": {},
   "outputs": [
    {
     "data": {
      "text/plain": [
       "Index(['senior_citizen', 'tenure', 'internet_service_type_id',\n",
       "       'contract_type_id', 'payment_type_id', 'monthly_charges',\n",
       "       'total_charges', 'has_churned', 'partner_Yes', 'dependents_Yes',\n",
       "       'gender_Male', 'phone_service_Yes', 'multiple_lines_No phone service',\n",
       "       'multiple_lines_Yes', 'online_security_No internet service',\n",
       "       'online_security_Yes', 'online_backup_No internet service',\n",
       "       'online_backup_Yes', 'device_protection_No internet service',\n",
       "       'device_protection_Yes', 'tech_support_No internet service',\n",
       "       'tech_support_Yes', 'streaming_tv_No internet service',\n",
       "       'streaming_tv_Yes', 'streaming_movies_No internet service',\n",
       "       'streaming_movies_Yes'],\n",
       "      dtype='object')"
      ]
     },
     "execution_count": 336,
     "metadata": {},
     "output_type": "execute_result"
    }
   ],
   "source": [
    "train.columns"
   ]
  },
  {
   "cell_type": "markdown",
   "id": "0427853f",
   "metadata": {},
   "source": [
    "## Initial Hypothesis Testing"
   ]
  },
  {
   "cell_type": "markdown",
   "id": "77dc7cbc",
   "metadata": {},
   "source": [
    "For all of the following hypotheses we will set $\\alpha = 0.05 $. "
   ]
  },
  {
   "cell_type": "markdown",
   "id": "d3e1a43e",
   "metadata": {},
   "source": [
    "### Hypothesis 1"
   ]
  },
  {
   "cell_type": "markdown",
   "id": "96146938",
   "metadata": {},
   "source": [
    "**Formulate hypotheses**"
   ]
  },
  {
   "cell_type": "markdown",
   "id": "d65dffee",
   "metadata": {},
   "source": [
    "$H_0$: There is no difference in the churn rate for customers on month-to-month contracts and the churn rate for customers on either year or two-year contracts. "
   ]
  },
  {
   "cell_type": "markdown",
   "id": "0e341caf",
   "metadata": {},
   "source": [
    "$H_a$: There is a significant difference in the churn rate for customers on month-to-month contracts and the churn rate for customers on either year or two-yera contracts. "
   ]
  },
  {
   "cell_type": "markdown",
   "id": "d554d738",
   "metadata": {},
   "source": [
    "**Get data**"
   ]
  },
  {
   "cell_type": "code",
   "execution_count": 337,
   "id": "c79bdc21",
   "metadata": {},
   "outputs": [],
   "source": [
    "month_to_month_customers = train[train.contract_type_id == 1]"
   ]
  },
  {
   "cell_type": "code",
   "execution_count": 338,
   "id": "d05cec19",
   "metadata": {},
   "outputs": [],
   "source": [
    "year_and_two_year_customers = train[train.contract_type_id != 1]"
   ]
  },
  {
   "cell_type": "markdown",
   "id": "7fc90730",
   "metadata": {},
   "source": [
    "**Compute p value and test statistic**"
   ]
  },
  {
   "cell_type": "code",
   "execution_count": 339,
   "id": "c4903117",
   "metadata": {
    "scrolled": true
   },
   "outputs": [],
   "source": [
    "tstat, p = stats.ttest_ind(month_to_month_customers.has_churned, year_and_two_year_customers.has_churned)"
   ]
  },
  {
   "cell_type": "code",
   "execution_count": 340,
   "id": "22fbcb02",
   "metadata": {},
   "outputs": [
    {
     "data": {
      "text/plain": [
       "28.150653344431294"
      ]
     },
     "execution_count": 340,
     "metadata": {},
     "output_type": "execute_result"
    }
   ],
   "source": [
    "tstat"
   ]
  },
  {
   "cell_type": "code",
   "execution_count": 341,
   "id": "0b1afb19",
   "metadata": {},
   "outputs": [
    {
     "data": {
      "text/plain": [
       "4.950197678770975e-159"
      ]
     },
     "execution_count": 341,
     "metadata": {},
     "output_type": "execute_result"
    }
   ],
   "source": [
    "p"
   ]
  },
  {
   "cell_type": "markdown",
   "id": "f3690d98",
   "metadata": {},
   "source": [
    "**Make a conclusion based on our data**"
   ]
  },
  {
   "cell_type": "markdown",
   "id": "4af32e22",
   "metadata": {},
   "source": [
    "Since our p value is less than 0.05, we can conclude that there is a significant difference between the month-to-month customer churn rate and the year-to-year and two-year customer churn rates. "
   ]
  },
  {
   "cell_type": "markdown",
   "id": "afb96588",
   "metadata": {},
   "source": [
    "**Chart indicating correlation**"
   ]
  },
  {
   "cell_type": "code",
   "execution_count": 342,
   "id": "729e4c42",
   "metadata": {},
   "outputs": [
    {
     "data": {
      "image/png": "[encoded data removed]",
      "text/plain": [
       "<Figure size 432x288 with 1 Axes>"
      ]
     },
     "metadata": {
      "needs_background": "light"
     },
     "output_type": "display_data"
    }
   ],
   "source": [
    "churn_counts_by_contract = sns.countplot(x='has_churned', data=train[train.has_churned == 1], hue = \"contract_type_id\")"
   ]
  },
  {
   "cell_type": "markdown",
   "id": "83ba7dcf",
   "metadata": {},
   "source": [
    "### Hypothesis 2"
   ]
  },
  {
   "cell_type": "markdown",
   "id": "b3229e1a",
   "metadata": {},
   "source": [
    "**Formulate hypotheses**"
   ]
  },
  {
   "cell_type": "markdown",
   "id": "a91b45f5",
   "metadata": {},
   "source": [
    "$H_0$: There is no correlation between customer churn rate and monthly charges. \n",
    "\n",
    "$H_a$: There is a correlation between customer churn rate and monthly charges."
   ]
  },
  {
   "cell_type": "markdown",
   "id": "26ed21fa",
   "metadata": {},
   "source": [
    "**Get data**"
   ]
  },
  {
   "cell_type": "code",
   "execution_count": 343,
   "id": "161420dc",
   "metadata": {},
   "outputs": [],
   "source": [
    "churn_rate = train.has_churned\n",
    "monthly_charges = train.monthly_charges"
   ]
  },
  {
   "cell_type": "markdown",
   "id": "52522915",
   "metadata": {},
   "source": [
    "**Compute p value and correlation**"
   ]
  },
  {
   "cell_type": "code",
   "execution_count": 344,
   "id": "cd5cfa7c",
   "metadata": {},
   "outputs": [
    {
     "data": {
      "text/plain": [
       "(0.18903970957264357, 4.816687112552436e-33)"
      ]
     },
     "execution_count": 344,
     "metadata": {},
     "output_type": "execute_result"
    }
   ],
   "source": [
    "corr, p = stats.pearsonr(churn_rate, monthly_charges)\n",
    "corr, p"
   ]
  },
  {
   "cell_type": "markdown",
   "id": "35961dc6",
   "metadata": {},
   "source": [
    "**Make conclusion based on our data**"
   ]
  },
  {
   "cell_type": "markdown",
   "id": "60dc1495",
   "metadata": {},
   "source": [
    "Our p-value is less than 0.05. We reject the null hypothesis and conclude that churn rate and monthly charges are correlated."
   ]
  },
  {
   "cell_type": "markdown",
   "id": "88ca10cb",
   "metadata": {},
   "source": [
    "**Chart indicating correlation**"
   ]
  },
  {
   "cell_type": "code",
   "execution_count": 345,
   "id": "0a0dafc5",
   "metadata": {},
   "outputs": [
    {
     "data": {
      "image/png": "[encoded data removed]",
      "text/plain": [
       "<Figure size 432x288 with 1 Axes>"
      ]
     },
     "metadata": {
      "needs_background": "light"
     },
     "output_type": "display_data"
    }
   ],
   "source": [
    "churn_by_monthly_charges = sns.histplot(\n",
    "    x=train.monthly_charges, hue=train.has_churned, element = 'step'\n",
    ")"
   ]
  },
  {
   "cell_type": "markdown",
   "id": "2a182817",
   "metadata": {},
   "source": [
    "We will now use the Mann Whitney Test to test if the churn group has a different mean than the non churn group for certain values. "
   ]
  },
  {
   "cell_type": "markdown",
   "id": "eb83cdf0",
   "metadata": {},
   "source": [
    "**We need the following data for our next hypotheses**"
   ]
  },
  {
   "cell_type": "code",
   "execution_count": 346,
   "id": "4de9e318",
   "metadata": {},
   "outputs": [],
   "source": [
    "train_has_churned = train[train.has_churned == 1]"
   ]
  },
  {
   "cell_type": "code",
   "execution_count": 347,
   "id": "aa20345e",
   "metadata": {},
   "outputs": [],
   "source": [
    "train_no_churn = train[train.has_churned == 0]"
   ]
  },
  {
   "cell_type": "markdown",
   "id": "39227dea",
   "metadata": {},
   "source": [
    "### Hypothesis 3"
   ]
  },
  {
   "cell_type": "markdown",
   "id": "c0289461",
   "metadata": {},
   "source": [
    "**Formulate hypotheses**"
   ]
  },
  {
   "cell_type": "markdown",
   "id": "c54797fd",
   "metadata": {},
   "source": [
    "$H_0$: There is no significant difference between the mean tenure for customers who didn't churn and customers who did churn. \n",
    "\n",
    "$H_a$: There is a significant difference between the mean tenure for customers who churned and customers who did churn. "
   ]
  },
  {
   "cell_type": "markdown",
   "id": "d8fbb611",
   "metadata": {},
   "source": [
    "**Compute statistic and p value**"
   ]
  },
  {
   "cell_type": "code",
   "execution_count": 348,
   "id": "ff7e9d3d",
   "metadata": {},
   "outputs": [
    {
     "data": {
      "text/plain": [
       "MannwhitneyuResult(statistic=787745.5, pvalue=5.978994288055496e-118)"
      ]
     },
     "execution_count": 348,
     "metadata": {},
     "output_type": "execute_result"
    }
   ],
   "source": [
    "stats.mannwhitneyu(train_has_churned['tenure'], train_no_churn['tenure'], use_continuity=True)"
   ]
  },
  {
   "cell_type": "markdown",
   "id": "f73c0c83",
   "metadata": {},
   "source": [
    "Because our p value is less than 0.05, we conclude that the mean tenure for customers who churned is signficantly different from the mean tenure for customers who didn't churn. "
   ]
  },
  {
   "cell_type": "markdown",
   "id": "372f405b",
   "metadata": {},
   "source": [
    "**Graph**"
   ]
  },
  {
   "cell_type": "code",
   "execution_count": 349,
   "id": "df523f5a",
   "metadata": {},
   "outputs": [
    {
     "data": {
      "text/plain": [
       "<AxesSubplot:xlabel='tenure', ylabel='Count'>"
      ]
     },
     "execution_count": 349,
     "metadata": {},
     "output_type": "execute_result"
    },
    {
     "data": {
      "image/png": "[encoded data removed]",
      "text/plain": [
       "<Figure size 432x288 with 1 Axes>"
      ]
     },
     "metadata": {
      "needs_background": "light"
     },
     "output_type": "display_data"
    }
   ],
   "source": [
    "sns.histplot(x=train.tenure, hue=train.has_churned, element = 'step')"
   ]
  },
  {
   "cell_type": "markdown",
   "id": "445377ea",
   "metadata": {},
   "source": [
    "### Hypothesis 4"
   ]
  },
  {
   "cell_type": "markdown",
   "id": "7efff95f",
   "metadata": {},
   "source": [
    "**Formulate hypotheses**"
   ]
  },
  {
   "cell_type": "markdown",
   "id": "e02bf7a9",
   "metadata": {},
   "source": [
    "$H_0$: There is no significant difference in mean monthly charges for customers who have churned and customers who have not churned. \n",
    "\n",
    "$H_a$: There is a significant difference in mean monthly charges for customers who have churned and customers who have not churned."
   ]
  },
  {
   "cell_type": "markdown",
   "id": "54bac1cc",
   "metadata": {},
   "source": [
    "**Compute statistic and p value**"
   ]
  },
  {
   "cell_type": "code",
   "execution_count": 303,
   "id": "c865b6dd",
   "metadata": {},
   "outputs": [
    {
     "data": {
      "text/plain": [
       "MannwhitneyuResult(statistic=1160715.0, pvalue=1.4455529063493655e-29)"
      ]
     },
     "execution_count": 303,
     "metadata": {},
     "output_type": "execute_result"
    }
   ],
   "source": [
    "stats.mannwhitneyu(train_has_churned['monthly_charges'], train_no_churn['monthly_charges'], use_continuity=True)"
   ]
  },
  {
   "cell_type": "markdown",
   "id": "ba3d8324",
   "metadata": {},
   "source": [
    "Because our p value is less than 0.05, we reject the null hypothesis and conclude that mean monthly charges for customers who have churned are significantly different from mean monthly charges for customers who have not churned."
   ]
  },
  {
   "cell_type": "markdown",
   "id": "4a6efdb6",
   "metadata": {},
   "source": [
    "**Graph**"
   ]
  },
  {
   "cell_type": "code",
   "execution_count": 304,
   "id": "75a76720",
   "metadata": {},
   "outputs": [
    {
     "data": {
      "text/plain": [
       "<AxesSubplot:xlabel='monthly_charges', ylabel='Count'>"
      ]
     },
     "execution_count": 304,
     "metadata": {},
     "output_type": "execute_result"
    },
    {
     "data": {
      "image/png": "[encoded data removed]",
      "text/plain": [
       "<Figure size 432x288 with 1 Axes>"
      ]
     },
     "metadata": {
      "needs_background": "light"
     },
     "output_type": "display_data"
    }
   ],
   "source": [
    "sns.histplot(x=train.monthly_charges, hue = train.has_churned, element = 'step')"
   ]
  },
  {
   "cell_type": "markdown",
   "id": "43b92700",
   "metadata": {},
   "source": [
    "### Hypothesis 5"
   ]
  },
  {
   "cell_type": "markdown",
   "id": "02af9362",
   "metadata": {},
   "source": [
    "**Formulate hypotheses**"
   ]
  },
  {
   "cell_type": "markdown",
   "id": "cf53211b",
   "metadata": {},
   "source": [
    "$H_0$: There is no significant difference in average contract type for customers who churn and customers who do not churn. \n",
    "\n",
    "$H_a$: There is a significant difference in average contract type for customers who churn and customers who do not churn."
   ]
  },
  {
   "cell_type": "markdown",
   "id": "1d8f6717",
   "metadata": {},
   "source": [
    "**Compute statistic and p value**"
   ]
  },
  {
   "cell_type": "code",
   "execution_count": 305,
   "id": "57c88a3b",
   "metadata": {},
   "outputs": [
    {
     "data": {
      "text/plain": [
       "MannwhitneyuResult(statistic=789116.0, pvalue=3.760387895572131e-144)"
      ]
     },
     "execution_count": 305,
     "metadata": {},
     "output_type": "execute_result"
    }
   ],
   "source": [
    "stats.mannwhitneyu(train_has_churned['contract_type_id'], train_no_churn['contract_type_id'], use_continuity=True)"
   ]
  },
  {
   "cell_type": "markdown",
   "id": "39951cc0",
   "metadata": {},
   "source": [
    "Because our p-value is less than 0.05, we reject the null hypothesis and conclude that there is a significant difference in mean contract type for customers who churn and customers who don't churn. "
   ]
  },
  {
   "cell_type": "markdown",
   "id": "24403f6e",
   "metadata": {},
   "source": [
    "**Graph**"
   ]
  },
  {
   "cell_type": "code",
   "execution_count": 306,
   "id": "36785c69",
   "metadata": {},
   "outputs": [
    {
     "data": {
      "image/png": "[encoded data removed]",
      "text/plain": [
       "<Figure size 432x288 with 1 Axes>"
      ]
     },
     "metadata": {
      "needs_background": "light"
     },
     "output_type": "display_data"
    }
   ],
   "source": [
    "churn_counts_by_contract = sns.countplot(x='has_churned', data=train, hue = \"contract_type_id\")"
   ]
  },
  {
   "cell_type": "markdown",
   "id": "f45d79da",
   "metadata": {},
   "source": [
    "### Hypothesis 6"
   ]
  },
  {
   "cell_type": "markdown",
   "id": "10c2b7a9",
   "metadata": {},
   "source": [
    "**Formulate hypotheses**"
   ]
  },
  {
   "cell_type": "markdown",
   "id": "9d9c4e2f",
   "metadata": {},
   "source": [
    "$H_0$: There is no significant difference in mean payment type id for customers who churn and customers who don't churn.\n",
    "\n",
    "$H_a$: There is a significant difference in mean payment type id for customers who churn and customers who don't churn."
   ]
  },
  {
   "cell_type": "markdown",
   "id": "1b48e3b8",
   "metadata": {},
   "source": [
    "**Calculate statistic and p value**"
   ]
  },
  {
   "cell_type": "code",
   "execution_count": 307,
   "id": "29c328f1",
   "metadata": {},
   "outputs": [
    {
     "data": {
      "text/plain": [
       "MannwhitneyuResult(statistic=1010432.5, pvalue=4.42203203035722e-62)"
      ]
     },
     "execution_count": 307,
     "metadata": {},
     "output_type": "execute_result"
    }
   ],
   "source": [
    "stats.mannwhitneyu(train_has_churned['payment_type_id'], train_no_churn['payment_type_id'], use_continuity=True)"
   ]
  },
  {
   "cell_type": "markdown",
   "id": "6153c579",
   "metadata": {},
   "source": [
    "Because or p-value is less than 0.05, we reject the null hypothesis and conclude that there is a significant different in mean payment type id for customers who churned and customers who did not churn. "
   ]
  },
  {
   "cell_type": "code",
   "execution_count": 308,
   "id": "37941d04",
   "metadata": {},
   "outputs": [
    {
     "data": {
      "image/png": "[encoded data removed]",
      "text/plain": [
       "<Figure size 432x288 with 1 Axes>"
      ]
     },
     "metadata": {
      "needs_background": "light"
     },
     "output_type": "display_data"
    }
   ],
   "source": [
    "churn_rates_counts_by_contract = sns.countplot(x='has_churned', data=train[train.has_churned == 1], hue = \"contract_type_id\")"
   ]
  },
  {
   "cell_type": "markdown",
   "id": "d296e8de",
   "metadata": {},
   "source": [
    "### Hypothesis 7"
   ]
  },
  {
   "cell_type": "markdown",
   "id": "bcf73188",
   "metadata": {},
   "source": [
    "**Formulate hypotheses**"
   ]
  },
  {
   "cell_type": "markdown",
   "id": "345e970a",
   "metadata": {},
   "source": [
    "$H_0$: There is no significant difference in the mean internet service type id for customers who churn and customers who did not churn. \n",
    "\n",
    "$H_a$: There is a significant difference in the mean internet service type id for customers who churn and customers who did not churn. "
   ]
  },
  {
   "cell_type": "markdown",
   "id": "b3404dc4",
   "metadata": {},
   "source": [
    "**Calculate statistic and p value**"
   ]
  },
  {
   "cell_type": "code",
   "execution_count": 309,
   "id": "224c2c3e",
   "metadata": {},
   "outputs": [
    {
     "data": {
      "text/plain": [
       "MannwhitneyuResult(statistic=1469861.5, pvalue=0.061278792735769076)"
      ]
     },
     "execution_count": 309,
     "metadata": {},
     "output_type": "execute_result"
    }
   ],
   "source": [
    "stats.mannwhitneyu(train_has_churned['internet_service_type_id'], train_no_churn['internet_service_type_id'], use_continuity=True)"
   ]
  },
  {
   "cell_type": "markdown",
   "id": "c306ad7c",
   "metadata": {},
   "source": [
    "Because our p value is greater than 0.05, we fail to reject the null hypothesis that mean internet service type id is not significantly different for customers who churn and customers who don't churn."
   ]
  },
  {
   "cell_type": "markdown",
   "id": "89cfa749",
   "metadata": {},
   "source": [
    "**Graph**"
   ]
  },
  {
   "cell_type": "code",
   "execution_count": 310,
   "id": "32b7e7c4",
   "metadata": {},
   "outputs": [
    {
     "data": {
      "image/png": "[encoded data removed]",
      "text/plain": [
       "<Figure size 432x288 with 1 Axes>"
      ]
     },
     "metadata": {
      "needs_background": "light"
     },
     "output_type": "display_data"
    }
   ],
   "source": [
    "churn_counts_by_internet_service = sns.countplot(x='has_churned', data=train, hue = \"internet_service_type_id\")"
   ]
  },
  {
   "cell_type": "markdown",
   "id": "891a78f6",
   "metadata": {},
   "source": [
    "## Conclusions and Key Takeaways"
   ]
  },
  {
   "cell_type": "markdown",
   "id": "f0c98ba2",
   "metadata": {},
   "source": [
    "Based on our hypothesis testing, we conclude the following variables warrant further exploration for correlation with churn: \n",
    " - `contract_type_id` \n",
    " - `monthly_charges`\n",
    " - `tenure`\n",
    " - `payment_type_id`\n",
    "\n",
    "The variable `internet_service_type_id` does not warrant furhter exploration for correlation with churn.\n",
    " "
   ]
  },
  {
   "cell_type": "markdown",
   "id": "1fc8b12f",
   "metadata": {},
   "source": [
    "## Split data into X_train and y_train"
   ]
  },
  {
   "cell_type": "markdown",
   "id": "fb53a590",
   "metadata": {},
   "source": [
    "We will split our data into `X_train` and `y_train` so that we can run the data in our models."
   ]
  },
  {
   "cell_type": "code",
   "execution_count": 350,
   "id": "a8d17db0",
   "metadata": {},
   "outputs": [],
   "source": [
    "X_train, y_train = train.drop(columns='has_churned'), train.has_churned\n",
    "X_validate, y_validate = validate.drop(columns='has_churned'), validate.has_churned\n",
    "X_test, y_test = test.drop(columns='has_churned'), test.has_churned"
   ]
  },
  {
   "cell_type": "markdown",
   "id": "0780dd22",
   "metadata": {},
   "source": [
    "## Baseline Accuracy"
   ]
  },
  {
   "cell_type": "markdown",
   "id": "66a782fa",
   "metadata": {},
   "source": [
    "We will establish a baseline accuracy to compare to the accuracy of our models."
   ]
  },
  {
   "cell_type": "code",
   "execution_count": 351,
   "id": "ccdf3ad2",
   "metadata": {},
   "outputs": [
    {
     "data": {
      "text/plain": [
       "0    2897\n",
       "1    1046\n",
       "Name: has_churned, dtype: int64"
      ]
     },
     "execution_count": 351,
     "metadata": {},
     "output_type": "execute_result"
    }
   ],
   "source": [
    "train.has_churned.value_counts()"
   ]
  },
  {
   "cell_type": "markdown",
   "id": "a9ec4cb2",
   "metadata": {},
   "source": [
    "The majority of our customers have not churned, so our baseliene assumption is that cutsomers will not churn."
   ]
  },
  {
   "cell_type": "code",
   "execution_count": 352,
   "id": "6e7826c3",
   "metadata": {},
   "outputs": [],
   "source": [
    "model = DummyClassifier(strategy= 'constant', constant = 0)"
   ]
  },
  {
   "cell_type": "code",
   "execution_count": 353,
   "id": "47abb410",
   "metadata": {},
   "outputs": [
    {
     "data": {
      "text/plain": [
       "DummyClassifier(constant=0, strategy='constant')"
      ]
     },
     "execution_count": 353,
     "metadata": {},
     "output_type": "execute_result"
    }
   ],
   "source": [
    "model.fit(X_train, y_train)"
   ]
  },
  {
   "cell_type": "code",
   "execution_count": 354,
   "id": "5ecc288f",
   "metadata": {},
   "outputs": [
    {
     "name": "stdout",
     "output_type": "stream",
     "text": [
      "Training accuracy: 0.73\n"
     ]
    }
   ],
   "source": [
    "accuracy = round(model.score(X_train, y_train), 2)\n",
    "print(f'Training accuracy: {accuracy}')"
   ]
  },
  {
   "cell_type": "markdown",
   "id": "de9d1329",
   "metadata": {},
   "source": [
    "We will now compare the baseline accuracy to the accuracy of different models."
   ]
  },
  {
   "cell_type": "markdown",
   "id": "ec82239c",
   "metadata": {},
   "source": [
    "## Decision Tree"
   ]
  },
  {
   "cell_type": "markdown",
   "id": "105e18cc",
   "metadata": {},
   "source": [
    "We will start with a Decision Tree of max depth 3."
   ]
  },
  {
   "cell_type": "code",
   "execution_count": 377,
   "id": "0fa6ce27",
   "metadata": {},
   "outputs": [],
   "source": [
    "clf1 = DecisionTreeClassifier(max_depth=3, random_state=123)"
   ]
  },
  {
   "cell_type": "markdown",
   "id": "360c2645",
   "metadata": {},
   "source": [
    "Fit the data."
   ]
  },
  {
   "cell_type": "code",
   "execution_count": 378,
   "id": "9f08209c",
   "metadata": {},
   "outputs": [],
   "source": [
    "clf1 = clf1.fit(X_train, y_train)"
   ]
  },
  {
   "cell_type": "code",
   "execution_count": 379,
   "id": "83bf719e",
   "metadata": {},
   "outputs": [
    {
     "data": {
      "text/plain": [
       "DecisionTreeClassifier(max_depth=3, random_state=123)"
      ]
     },
     "execution_count": 379,
     "metadata": {},
     "output_type": "execute_result"
    }
   ],
   "source": [
    "clf1"
   ]
  },
  {
   "cell_type": "markdown",
   "id": "3e5d26c3",
   "metadata": {},
   "source": [
    "Print a decision tree."
   ]
  },
  {
   "cell_type": "code",
   "execution_count": 381,
   "id": "dc67cd45",
   "metadata": {},
   "outputs": [
    {
     "data": {
      "text/plain": [
       "'telco_tree_1.pdf'"
      ]
     },
     "execution_count": 381,
     "metadata": {},
     "output_type": "execute_result"
    }
   ],
   "source": [
    "dot_data = export_graphviz(clf1, feature_names= X_train.columns, rounded=True, filled=True, out_file=None)\n",
    "graph = graphviz.Source(dot_data) \n",
    "\n",
    "graph.render('telco_tree_1', view=True)"
   ]
  },
  {
   "cell_type": "markdown",
   "id": "eb234d51",
   "metadata": {},
   "source": [
    "The tree indicates to us that the main predictor of churn is contract type. Customers with contract type ID 1 are more likely to churn than customers with contract type ID 2 and 3."
   ]
  },
  {
   "cell_type": "markdown",
   "id": "987bfe64",
   "metadata": {},
   "source": [
    "Of customers who have contract type iD one, the biggest predictor of churn is monthly charges less than 64.43."
   ]
  },
  {
   "cell_type": "markdown",
   "id": "2fc9af0b",
   "metadata": {},
   "source": [
    "3 is a year contract, 2 is yearly, 1 is month to month"
   ]
  },
  {
   "cell_type": "markdown",
   "id": "083052cd",
   "metadata": {},
   "source": [
    "### Probability of churn"
   ]
  },
  {
   "cell_type": "code",
   "execution_count": 382,
   "id": "6e8e184c",
   "metadata": {},
   "outputs": [],
   "source": [
    "y_pred = clf1.predict(X_train)"
   ]
  },
  {
   "cell_type": "code",
   "execution_count": 383,
   "id": "c27316c5",
   "metadata": {},
   "outputs": [],
   "source": [
    "y_pred_proba = clf1.predict_proba(X_train)"
   ]
  },
  {
   "cell_type": "code",
   "execution_count": 384,
   "id": "15dcdcb2",
   "metadata": {},
   "outputs": [
    {
     "data": {
      "text/html": [
       "<div>\n",
       "<style scoped>\n",
       "    .dataframe tbody tr th:only-of-type {\n",
       "        vertical-align: middle;\n",
       "    }\n",
       "\n",
       "    .dataframe tbody tr th {\n",
       "        vertical-align: top;\n",
       "    }\n",
       "\n",
       "    .dataframe thead th {\n",
       "        text-align: right;\n",
       "    }\n",
       "</style>\n",
       "<table border=\"1\" class=\"dataframe\">\n",
       "  <thead>\n",
       "    <tr style=\"text-align: right;\">\n",
       "      <th></th>\n",
       "      <th>0</th>\n",
       "      <th>1</th>\n",
       "    </tr>\n",
       "  </thead>\n",
       "  <tbody>\n",
       "    <tr>\n",
       "      <th>0</th>\n",
       "      <td>0.983914</td>\n",
       "      <td>0.016086</td>\n",
       "    </tr>\n",
       "    <tr>\n",
       "      <th>1</th>\n",
       "      <td>0.808442</td>\n",
       "      <td>0.191558</td>\n",
       "    </tr>\n",
       "    <tr>\n",
       "      <th>2</th>\n",
       "      <td>0.254808</td>\n",
       "      <td>0.745192</td>\n",
       "    </tr>\n",
       "    <tr>\n",
       "      <th>3</th>\n",
       "      <td>0.793834</td>\n",
       "      <td>0.206166</td>\n",
       "    </tr>\n",
       "    <tr>\n",
       "      <th>4</th>\n",
       "      <td>0.808442</td>\n",
       "      <td>0.191558</td>\n",
       "    </tr>\n",
       "  </tbody>\n",
       "</table>\n",
       "</div>"
      ],
      "text/plain": [
       "          0         1\n",
       "0  0.983914  0.016086\n",
       "1  0.808442  0.191558\n",
       "2  0.254808  0.745192\n",
       "3  0.793834  0.206166\n",
       "4  0.808442  0.191558"
      ]
     },
     "execution_count": 384,
     "metadata": {},
     "output_type": "execute_result"
    }
   ],
   "source": [
    "y_probability = pd.DataFrame(y_pred_proba)\n",
    "y_probability.head()"
   ]
  },
  {
   "cell_type": "markdown",
   "id": "75f23863",
   "metadata": {},
   "source": [
    "### Evaluate in-sample results"
   ]
  },
  {
   "cell_type": "markdown",
   "id": "5269349b",
   "metadata": {},
   "source": [
    "#### Accuracy score"
   ]
  },
  {
   "cell_type": "code",
   "execution_count": 385,
   "id": "cd5c8517",
   "metadata": {},
   "outputs": [
    {
     "name": "stdout",
     "output_type": "stream",
     "text": [
      "Accuracy of Decision Tree classifier on training set: 0.79\n"
     ]
    }
   ],
   "source": [
    "print('Accuracy of Decision Tree classifier on training set: {:.2f}'\n",
    "      .format(clf1.score(X_train, y_train)))"
   ]
  },
  {
   "cell_type": "markdown",
   "id": "63f53764",
   "metadata": {},
   "source": [
    "#### Confusion Matrix"
   ]
  },
  {
   "cell_type": "code",
   "execution_count": 386,
   "id": "b5a9aae6",
   "metadata": {},
   "outputs": [
    {
     "data": {
      "text/plain": [
       "array([[2791,  106],\n",
       "       [ 736,  310]])"
      ]
     },
     "execution_count": 386,
     "metadata": {},
     "output_type": "execute_result"
    }
   ],
   "source": [
    "confusion_matrix(y_train, y_pred)"
   ]
  },
  {
   "cell_type": "code",
   "execution_count": 387,
   "id": "f76aba1c",
   "metadata": {},
   "outputs": [
    {
     "data": {
      "text/html": [
       "<div>\n",
       "<style scoped>\n",
       "    .dataframe tbody tr th:only-of-type {\n",
       "        vertical-align: middle;\n",
       "    }\n",
       "\n",
       "    .dataframe tbody tr th {\n",
       "        vertical-align: top;\n",
       "    }\n",
       "\n",
       "    .dataframe thead th {\n",
       "        text-align: right;\n",
       "    }\n",
       "</style>\n",
       "<table border=\"1\" class=\"dataframe\">\n",
       "  <thead>\n",
       "    <tr style=\"text-align: right;\">\n",
       "      <th></th>\n",
       "      <th>no_churn_predicted</th>\n",
       "      <th>churn_predicted</th>\n",
       "    </tr>\n",
       "  </thead>\n",
       "  <tbody>\n",
       "    <tr>\n",
       "      <th>no_churn_actual</th>\n",
       "      <td>2791</td>\n",
       "      <td>106</td>\n",
       "    </tr>\n",
       "    <tr>\n",
       "      <th>churn_actual</th>\n",
       "      <td>736</td>\n",
       "      <td>310</td>\n",
       "    </tr>\n",
       "  </tbody>\n",
       "</table>\n",
       "</div>"
      ],
      "text/plain": [
       "                 no_churn_predicted  churn_predicted\n",
       "no_churn_actual                2791              106\n",
       "churn_actual                    736              310"
      ]
     },
     "execution_count": 387,
     "metadata": {},
     "output_type": "execute_result"
    }
   ],
   "source": [
    "labels1 = ['no_churn_actual', 'churn_actual']\n",
    "labels2 = ['no_churn_predicted', 'churn_predicted']\n",
    "\n",
    "pd.DataFrame(confusion_matrix(y_train, y_pred), index = labels1, columns = labels2)"
   ]
  },
  {
   "cell_type": "markdown",
   "id": "f8826246",
   "metadata": {},
   "source": [
    "### Classification Report"
   ]
  },
  {
   "cell_type": "code",
   "execution_count": 388,
   "id": "a0a8359f",
   "metadata": {},
   "outputs": [],
   "source": [
    "classification_report_churn = pd.DataFrame(classification_report(y_train, y_pred, output_dict = True)).T"
   ]
  },
  {
   "cell_type": "code",
   "execution_count": 389,
   "id": "2f2668d2",
   "metadata": {},
   "outputs": [
    {
     "data": {
      "text/html": [
       "<div>\n",
       "<style scoped>\n",
       "    .dataframe tbody tr th:only-of-type {\n",
       "        vertical-align: middle;\n",
       "    }\n",
       "\n",
       "    .dataframe tbody tr th {\n",
       "        vertical-align: top;\n",
       "    }\n",
       "\n",
       "    .dataframe thead th {\n",
       "        text-align: right;\n",
       "    }\n",
       "</style>\n",
       "<table border=\"1\" class=\"dataframe\">\n",
       "  <thead>\n",
       "    <tr style=\"text-align: right;\">\n",
       "      <th></th>\n",
       "      <th>precision</th>\n",
       "      <th>recall</th>\n",
       "      <th>f1-score</th>\n",
       "      <th>support</th>\n",
       "    </tr>\n",
       "  </thead>\n",
       "  <tbody>\n",
       "    <tr>\n",
       "      <th>0</th>\n",
       "      <td>0.791324</td>\n",
       "      <td>0.963410</td>\n",
       "      <td>0.868929</td>\n",
       "      <td>2897.000000</td>\n",
       "    </tr>\n",
       "    <tr>\n",
       "      <th>1</th>\n",
       "      <td>0.745192</td>\n",
       "      <td>0.296367</td>\n",
       "      <td>0.424077</td>\n",
       "      <td>1046.000000</td>\n",
       "    </tr>\n",
       "    <tr>\n",
       "      <th>accuracy</th>\n",
       "      <td>0.786457</td>\n",
       "      <td>0.786457</td>\n",
       "      <td>0.786457</td>\n",
       "      <td>0.786457</td>\n",
       "    </tr>\n",
       "    <tr>\n",
       "      <th>macro avg</th>\n",
       "      <td>0.768258</td>\n",
       "      <td>0.629889</td>\n",
       "      <td>0.646503</td>\n",
       "      <td>3943.000000</td>\n",
       "    </tr>\n",
       "    <tr>\n",
       "      <th>weighted avg</th>\n",
       "      <td>0.779086</td>\n",
       "      <td>0.786457</td>\n",
       "      <td>0.750918</td>\n",
       "      <td>3943.000000</td>\n",
       "    </tr>\n",
       "  </tbody>\n",
       "</table>\n",
       "</div>"
      ],
      "text/plain": [
       "              precision    recall  f1-score      support\n",
       "0              0.791324  0.963410  0.868929  2897.000000\n",
       "1              0.745192  0.296367  0.424077  1046.000000\n",
       "accuracy       0.786457  0.786457  0.786457     0.786457\n",
       "macro avg      0.768258  0.629889  0.646503  3943.000000\n",
       "weighted avg   0.779086  0.786457  0.750918  3943.000000"
      ]
     },
     "execution_count": 389,
     "metadata": {},
     "output_type": "execute_result"
    }
   ],
   "source": [
    "classification_report_churn"
   ]
  },
  {
   "cell_type": "markdown",
   "id": "24ed8cb2",
   "metadata": {},
   "source": [
    "This model beats our baseline accuracy of `0.73`. Let's see what happens when we differ the max depth of our decision tree."
   ]
  },
  {
   "cell_type": "code",
   "execution_count": 390,
   "id": "b7574591",
   "metadata": {},
   "outputs": [],
   "source": [
    "clf2 = DecisionTreeClassifier(max_depth=4, random_state=123)"
   ]
  },
  {
   "cell_type": "code",
   "execution_count": 391,
   "id": "3df0e105",
   "metadata": {},
   "outputs": [],
   "source": [
    "clf2 = clf2.fit(X_train, y_train)"
   ]
  },
  {
   "cell_type": "code",
   "execution_count": 392,
   "id": "a45de19b",
   "metadata": {},
   "outputs": [
    {
     "data": {
      "text/plain": [
       "'telco_tree_2.pdf'"
      ]
     },
     "execution_count": 392,
     "metadata": {},
     "output_type": "execute_result"
    }
   ],
   "source": [
    "dot_data = export_graphviz(clf2, feature_names= X_train.columns, rounded=True, filled=True, out_file=None)\n",
    "graph = graphviz.Source(dot_data) \n",
    "\n",
    "graph.render('telco_tree_2', view=True)"
   ]
  },
  {
   "cell_type": "code",
   "execution_count": 393,
   "id": "4bd8fdcd",
   "metadata": {},
   "outputs": [
    {
     "name": "stdout",
     "output_type": "stream",
     "text": [
      "Accuracy of Decision Tree classifier on training set: 0.79\n"
     ]
    }
   ],
   "source": [
    "print('Accuracy of Decision Tree classifier on training set: {:.2f}'\n",
    "      .format(clf2.score(X_train, y_train)))"
   ]
  },
  {
   "cell_type": "code",
   "execution_count": 394,
   "id": "ce4d81d2",
   "metadata": {},
   "outputs": [],
   "source": [
    "y_pred_2 = clf2.predict(X_train)"
   ]
  },
  {
   "cell_type": "code",
   "execution_count": 395,
   "id": "66a7eb61",
   "metadata": {},
   "outputs": [],
   "source": [
    "classification_report_churn = pd.DataFrame(classification_report(y_train, y_pred_2, output_dict = True)).T"
   ]
  },
  {
   "cell_type": "code",
   "execution_count": 396,
   "id": "c2a42496",
   "metadata": {},
   "outputs": [
    {
     "data": {
      "text/html": [
       "<div>\n",
       "<style scoped>\n",
       "    .dataframe tbody tr th:only-of-type {\n",
       "        vertical-align: middle;\n",
       "    }\n",
       "\n",
       "    .dataframe tbody tr th {\n",
       "        vertical-align: top;\n",
       "    }\n",
       "\n",
       "    .dataframe thead th {\n",
       "        text-align: right;\n",
       "    }\n",
       "</style>\n",
       "<table border=\"1\" class=\"dataframe\">\n",
       "  <thead>\n",
       "    <tr style=\"text-align: right;\">\n",
       "      <th></th>\n",
       "      <th>precision</th>\n",
       "      <th>recall</th>\n",
       "      <th>f1-score</th>\n",
       "      <th>support</th>\n",
       "    </tr>\n",
       "  </thead>\n",
       "  <tbody>\n",
       "    <tr>\n",
       "      <th>0</th>\n",
       "      <td>0.812954</td>\n",
       "      <td>0.927166</td>\n",
       "      <td>0.866312</td>\n",
       "      <td>2897.000000</td>\n",
       "    </tr>\n",
       "    <tr>\n",
       "      <th>1</th>\n",
       "      <td>0.669797</td>\n",
       "      <td>0.409178</td>\n",
       "      <td>0.508012</td>\n",
       "      <td>1046.000000</td>\n",
       "    </tr>\n",
       "    <tr>\n",
       "      <th>accuracy</th>\n",
       "      <td>0.789754</td>\n",
       "      <td>0.789754</td>\n",
       "      <td>0.789754</td>\n",
       "      <td>0.789754</td>\n",
       "    </tr>\n",
       "    <tr>\n",
       "      <th>macro avg</th>\n",
       "      <td>0.741375</td>\n",
       "      <td>0.668172</td>\n",
       "      <td>0.687162</td>\n",
       "      <td>3943.000000</td>\n",
       "    </tr>\n",
       "    <tr>\n",
       "      <th>weighted avg</th>\n",
       "      <td>0.774977</td>\n",
       "      <td>0.789754</td>\n",
       "      <td>0.771262</td>\n",
       "      <td>3943.000000</td>\n",
       "    </tr>\n",
       "  </tbody>\n",
       "</table>\n",
       "</div>"
      ],
      "text/plain": [
       "              precision    recall  f1-score      support\n",
       "0              0.812954  0.927166  0.866312  2897.000000\n",
       "1              0.669797  0.409178  0.508012  1046.000000\n",
       "accuracy       0.789754  0.789754  0.789754     0.789754\n",
       "macro avg      0.741375  0.668172  0.687162  3943.000000\n",
       "weighted avg   0.774977  0.789754  0.771262  3943.000000"
      ]
     },
     "execution_count": 396,
     "metadata": {},
     "output_type": "execute_result"
    }
   ],
   "source": [
    "classification_report_churn"
   ]
  },
  {
   "cell_type": "markdown",
   "id": "e5a05ca9",
   "metadata": {},
   "source": [
    "Using a max depth of four increases our accuracy, but decreaes our precision and recall. Let's look at max depth 5."
   ]
  },
  {
   "cell_type": "code",
   "execution_count": 402,
   "id": "aea8b9c0",
   "metadata": {},
   "outputs": [
    {
     "data": {
      "text/plain": [
       "'telco_tree_3.pdf'"
      ]
     },
     "execution_count": 402,
     "metadata": {},
     "output_type": "execute_result"
    }
   ],
   "source": [
    "clf3 = DecisionTreeClassifier(max_depth=5, random_state=123)\n",
    "clf3 = clf3.fit(X_train, y_train)\n",
    "dot_data = export_graphviz(clf3, feature_names= X_train.columns, rounded=True, filled=True, out_file=None)\n",
    "graph = graphviz.Source(dot_data) \n",
    "\n",
    "graph.render('telco_tree_3', view=True)"
   ]
  },
  {
   "cell_type": "code",
   "execution_count": 403,
   "id": "8468bff5",
   "metadata": {},
   "outputs": [
    {
     "name": "stdout",
     "output_type": "stream",
     "text": [
      "Accuracy of Decision Tree classifier on training set: 0.79\n"
     ]
    }
   ],
   "source": [
    "print('Accuracy of Decision Tree classifier on training set: {:.2f}'\n",
    "      .format(clf3.score(X_train, y_train)))"
   ]
  },
  {
   "cell_type": "code",
   "execution_count": 404,
   "id": "105225a4",
   "metadata": {},
   "outputs": [],
   "source": [
    "y_pred_3 = clf3.predict(X_train)"
   ]
  },
  {
   "cell_type": "code",
   "execution_count": 405,
   "id": "b655e141",
   "metadata": {},
   "outputs": [],
   "source": [
    "classification_report_churn = pd.DataFrame(classification_report(y_train, y_pred_3, output_dict = True)).T"
   ]
  },
  {
   "cell_type": "code",
   "execution_count": 406,
   "id": "b02b47b9",
   "metadata": {},
   "outputs": [
    {
     "data": {
      "text/html": [
       "<div>\n",
       "<style scoped>\n",
       "    .dataframe tbody tr th:only-of-type {\n",
       "        vertical-align: middle;\n",
       "    }\n",
       "\n",
       "    .dataframe tbody tr th {\n",
       "        vertical-align: top;\n",
       "    }\n",
       "\n",
       "    .dataframe thead th {\n",
       "        text-align: right;\n",
       "    }\n",
       "</style>\n",
       "<table border=\"1\" class=\"dataframe\">\n",
       "  <thead>\n",
       "    <tr style=\"text-align: right;\">\n",
       "      <th></th>\n",
       "      <th>precision</th>\n",
       "      <th>recall</th>\n",
       "      <th>f1-score</th>\n",
       "      <th>support</th>\n",
       "    </tr>\n",
       "  </thead>\n",
       "  <tbody>\n",
       "    <tr>\n",
       "      <th>0</th>\n",
       "      <td>0.843915</td>\n",
       "      <td>0.880911</td>\n",
       "      <td>0.862017</td>\n",
       "      <td>2897.000000</td>\n",
       "    </tr>\n",
       "    <tr>\n",
       "      <th>1</th>\n",
       "      <td>0.624592</td>\n",
       "      <td>0.548757</td>\n",
       "      <td>0.584224</td>\n",
       "      <td>1046.000000</td>\n",
       "    </tr>\n",
       "    <tr>\n",
       "      <th>accuracy</th>\n",
       "      <td>0.792797</td>\n",
       "      <td>0.792797</td>\n",
       "      <td>0.792797</td>\n",
       "      <td>0.792797</td>\n",
       "    </tr>\n",
       "    <tr>\n",
       "      <th>macro avg</th>\n",
       "      <td>0.734254</td>\n",
       "      <td>0.714834</td>\n",
       "      <td>0.723120</td>\n",
       "      <td>3943.000000</td>\n",
       "    </tr>\n",
       "    <tr>\n",
       "      <th>weighted avg</th>\n",
       "      <td>0.785733</td>\n",
       "      <td>0.792797</td>\n",
       "      <td>0.788324</td>\n",
       "      <td>3943.000000</td>\n",
       "    </tr>\n",
       "  </tbody>\n",
       "</table>\n",
       "</div>"
      ],
      "text/plain": [
       "              precision    recall  f1-score      support\n",
       "0              0.843915  0.880911  0.862017  2897.000000\n",
       "1              0.624592  0.548757  0.584224  1046.000000\n",
       "accuracy       0.792797  0.792797  0.792797     0.792797\n",
       "macro avg      0.734254  0.714834  0.723120  3943.000000\n",
       "weighted avg   0.785733  0.792797  0.788324  3943.000000"
      ]
     },
     "execution_count": 406,
     "metadata": {},
     "output_type": "execute_result"
    }
   ],
   "source": [
    "classification_report_churn"
   ]
  },
  {
   "cell_type": "markdown",
   "id": "fb075d28",
   "metadata": {},
   "source": [
    "Precision increases, recall decreases using max depth 5."
   ]
  },
  {
   "cell_type": "markdown",
   "id": "bfaa231b",
   "metadata": {},
   "source": [
    "## Random forest"
   ]
  },
  {
   "cell_type": "code",
   "execution_count": 407,
   "id": "6d7c10dc",
   "metadata": {},
   "outputs": [],
   "source": [
    "from sklearn.ensemble import RandomForestClassifier"
   ]
  },
  {
   "cell_type": "code",
   "execution_count": 408,
   "id": "539ff291",
   "metadata": {},
   "outputs": [],
   "source": [
    "rf = RandomForestClassifier(bootstrap=True, \n",
    "                            class_weight=None, \n",
    "                            criterion='gini',\n",
    "                            min_samples_leaf=1,\n",
    "                            n_estimators=100,\n",
    "                            max_depth=10, \n",
    "                            random_state=123)"
   ]
  },
  {
   "cell_type": "markdown",
   "id": "7c459b5f",
   "metadata": {},
   "source": [
    "### Fit the model"
   ]
  },
  {
   "cell_type": "code",
   "execution_count": 409,
   "id": "dde3ce46",
   "metadata": {},
   "outputs": [
    {
     "data": {
      "text/plain": [
       "RandomForestClassifier(max_depth=10, random_state=123)"
      ]
     },
     "execution_count": 409,
     "metadata": {},
     "output_type": "execute_result"
    }
   ],
   "source": [
    "rf.fit(X_train, y_train)"
   ]
  },
  {
   "cell_type": "markdown",
   "id": "6d3387f1",
   "metadata": {},
   "source": [
    "### Feature importance"
   ]
  },
  {
   "cell_type": "code",
   "execution_count": 410,
   "id": "ee5db815",
   "metadata": {},
   "outputs": [],
   "source": [
    "feature_importances = pd.DataFrame(rf.feature_importances_, index = X_train.columns, columns = [ \"relative importance\"])"
   ]
  },
  {
   "cell_type": "code",
   "execution_count": 411,
   "id": "87e3fae8",
   "metadata": {},
   "outputs": [],
   "source": [
    "feature_importances = feature_importances.sort_values(by = ['relative importance'], ascending = False)"
   ]
  },
  {
   "cell_type": "code",
   "execution_count": 412,
   "id": "4dd97f7c",
   "metadata": {},
   "outputs": [],
   "source": [
    "feature_importances.columns.names = ['category']"
   ]
  },
  {
   "cell_type": "code",
   "execution_count": 413,
   "id": "3a1fc520",
   "metadata": {},
   "outputs": [
    {
     "data": {
      "text/html": [
       "<div>\n",
       "<style scoped>\n",
       "    .dataframe tbody tr th:only-of-type {\n",
       "        vertical-align: middle;\n",
       "    }\n",
       "\n",
       "    .dataframe tbody tr th {\n",
       "        vertical-align: top;\n",
       "    }\n",
       "\n",
       "    .dataframe thead th {\n",
       "        text-align: right;\n",
       "    }\n",
       "</style>\n",
       "<table border=\"1\" class=\"dataframe\">\n",
       "  <thead>\n",
       "    <tr style=\"text-align: right;\">\n",
       "      <th>category</th>\n",
       "      <th>relative importance</th>\n",
       "    </tr>\n",
       "  </thead>\n",
       "  <tbody>\n",
       "    <tr>\n",
       "      <th>total_charges</th>\n",
       "      <td>0.186758</td>\n",
       "    </tr>\n",
       "    <tr>\n",
       "      <th>tenure</th>\n",
       "      <td>0.165272</td>\n",
       "    </tr>\n",
       "    <tr>\n",
       "      <th>monthly_charges</th>\n",
       "      <td>0.141848</td>\n",
       "    </tr>\n",
       "    <tr>\n",
       "      <th>contract_type_id</th>\n",
       "      <td>0.136580</td>\n",
       "    </tr>\n",
       "    <tr>\n",
       "      <th>payment_type_id</th>\n",
       "      <td>0.065013</td>\n",
       "    </tr>\n",
       "    <tr>\n",
       "      <th>internet_service_type_id</th>\n",
       "      <td>0.040443</td>\n",
       "    </tr>\n",
       "    <tr>\n",
       "      <th>tech_support_Yes</th>\n",
       "      <td>0.030075</td>\n",
       "    </tr>\n",
       "    <tr>\n",
       "      <th>online_security_Yes</th>\n",
       "      <td>0.026527</td>\n",
       "    </tr>\n",
       "    <tr>\n",
       "      <th>senior_citizen</th>\n",
       "      <td>0.019619</td>\n",
       "    </tr>\n",
       "    <tr>\n",
       "      <th>gender_Male</th>\n",
       "      <td>0.018648</td>\n",
       "    </tr>\n",
       "    <tr>\n",
       "      <th>multiple_lines_Yes</th>\n",
       "      <td>0.017455</td>\n",
       "    </tr>\n",
       "    <tr>\n",
       "      <th>partner_Yes</th>\n",
       "      <td>0.015221</td>\n",
       "    </tr>\n",
       "    <tr>\n",
       "      <th>online_backup_Yes</th>\n",
       "      <td>0.015143</td>\n",
       "    </tr>\n",
       "    <tr>\n",
       "      <th>dependents_Yes</th>\n",
       "      <td>0.014807</td>\n",
       "    </tr>\n",
       "    <tr>\n",
       "      <th>streaming_tv_Yes</th>\n",
       "      <td>0.014269</td>\n",
       "    </tr>\n",
       "    <tr>\n",
       "      <th>tech_support_No internet service</th>\n",
       "      <td>0.012439</td>\n",
       "    </tr>\n",
       "    <tr>\n",
       "      <th>device_protection_Yes</th>\n",
       "      <td>0.012390</td>\n",
       "    </tr>\n",
       "    <tr>\n",
       "      <th>streaming_movies_Yes</th>\n",
       "      <td>0.011769</td>\n",
       "    </tr>\n",
       "    <tr>\n",
       "      <th>online_security_No internet service</th>\n",
       "      <td>0.010616</td>\n",
       "    </tr>\n",
       "    <tr>\n",
       "      <th>streaming_tv_No internet service</th>\n",
       "      <td>0.010570</td>\n",
       "    </tr>\n",
       "    <tr>\n",
       "      <th>streaming_movies_No internet service</th>\n",
       "      <td>0.008046</td>\n",
       "    </tr>\n",
       "    <tr>\n",
       "      <th>online_backup_No internet service</th>\n",
       "      <td>0.008004</td>\n",
       "    </tr>\n",
       "    <tr>\n",
       "      <th>device_protection_No internet service</th>\n",
       "      <td>0.007527</td>\n",
       "    </tr>\n",
       "    <tr>\n",
       "      <th>multiple_lines_No phone service</th>\n",
       "      <td>0.005498</td>\n",
       "    </tr>\n",
       "    <tr>\n",
       "      <th>phone_service_Yes</th>\n",
       "      <td>0.005462</td>\n",
       "    </tr>\n",
       "  </tbody>\n",
       "</table>\n",
       "</div>"
      ],
      "text/plain": [
       "category                               relative importance\n",
       "total_charges                                     0.186758\n",
       "tenure                                            0.165272\n",
       "monthly_charges                                   0.141848\n",
       "contract_type_id                                  0.136580\n",
       "payment_type_id                                   0.065013\n",
       "internet_service_type_id                          0.040443\n",
       "tech_support_Yes                                  0.030075\n",
       "online_security_Yes                               0.026527\n",
       "senior_citizen                                    0.019619\n",
       "gender_Male                                       0.018648\n",
       "multiple_lines_Yes                                0.017455\n",
       "partner_Yes                                       0.015221\n",
       "online_backup_Yes                                 0.015143\n",
       "dependents_Yes                                    0.014807\n",
       "streaming_tv_Yes                                  0.014269\n",
       "tech_support_No internet service                  0.012439\n",
       "device_protection_Yes                             0.012390\n",
       "streaming_movies_Yes                              0.011769\n",
       "online_security_No internet service               0.010616\n",
       "streaming_tv_No internet service                  0.010570\n",
       "streaming_movies_No internet service              0.008046\n",
       "online_backup_No internet service                 0.008004\n",
       "device_protection_No internet service             0.007527\n",
       "multiple_lines_No phone service                   0.005498\n",
       "phone_service_Yes                                 0.005462"
      ]
     },
     "execution_count": 413,
     "metadata": {},
     "output_type": "execute_result"
    }
   ],
   "source": [
    "feature_importances"
   ]
  },
  {
   "cell_type": "code",
   "execution_count": 414,
   "id": "d90c08ea",
   "metadata": {},
   "outputs": [],
   "source": [
    "most_important_features = feature_importances.head(3)"
   ]
  },
  {
   "cell_type": "code",
   "execution_count": 67,
   "id": "430c4c24",
   "metadata": {},
   "outputs": [
    {
     "name": "stdout",
     "output_type": "stream",
     "text": [
      "|                  |   relative importance |\n",
      "|:-----------------|----------------------:|\n",
      "| tenure           |              0.24197  |\n",
      "| monthly_charges  |              0.156533 |\n",
      "| contract_type_id |              0.148934 |\n"
     ]
    }
   ],
   "source": [
    "print(most_important_features.to_markdown())"
   ]
  },
  {
   "cell_type": "markdown",
   "id": "5923cc86",
   "metadata": {},
   "source": [
    "The above chart indicates to us that the most important values for predicting churn are: **tenure**, **monthly charges**, **contract type**, and **payment type**."
   ]
  },
  {
   "cell_type": "code",
   "execution_count": 415,
   "id": "d438f9f8",
   "metadata": {},
   "outputs": [
    {
     "data": {
      "image/png": "[encoded data removed]",
      "text/plain": [
       "<Figure size 432x288 with 1 Axes>"
      ]
     },
     "metadata": {
      "needs_background": "light"
     },
     "output_type": "display_data"
    }
   ],
   "source": [
    "relative_importances = sns.barplot(x=feature_importances['relative importance'], y=feature_importances.index)"
   ]
  },
  {
   "cell_type": "code",
   "execution_count": 416,
   "id": "9d67dc63",
   "metadata": {},
   "outputs": [
    {
     "data": {
      "image/png": "[encoded data removed]",
      "text/plain": [
       "<Figure size 432x288 with 1 Axes>"
      ]
     },
     "metadata": {
      "needs_background": "light"
     },
     "output_type": "display_data"
    }
   ],
   "source": [
    "relative_importances = sns.barplot(x=feature_importances['relative importance'][0:5], y=feature_importances.index[0:5])"
   ]
  },
  {
   "cell_type": "markdown",
   "id": "343ddbad",
   "metadata": {},
   "source": [
    "### Make predictions"
   ]
  },
  {
   "cell_type": "code",
   "execution_count": 417,
   "id": "d4167080",
   "metadata": {},
   "outputs": [],
   "source": [
    "y_pred = rf.predict(X_train)"
   ]
  },
  {
   "cell_type": "code",
   "execution_count": 418,
   "id": "a8cfad96",
   "metadata": {},
   "outputs": [
    {
     "data": {
      "text/html": [
       "<div>\n",
       "<style scoped>\n",
       "    .dataframe tbody tr th:only-of-type {\n",
       "        vertical-align: middle;\n",
       "    }\n",
       "\n",
       "    .dataframe tbody tr th {\n",
       "        vertical-align: top;\n",
       "    }\n",
       "\n",
       "    .dataframe thead th {\n",
       "        text-align: right;\n",
       "    }\n",
       "</style>\n",
       "<table border=\"1\" class=\"dataframe\">\n",
       "  <thead>\n",
       "    <tr style=\"text-align: right;\">\n",
       "      <th></th>\n",
       "      <th>0</th>\n",
       "    </tr>\n",
       "  </thead>\n",
       "  <tbody>\n",
       "    <tr>\n",
       "      <th>0</th>\n",
       "      <td>0</td>\n",
       "    </tr>\n",
       "    <tr>\n",
       "      <th>1</th>\n",
       "      <td>0</td>\n",
       "    </tr>\n",
       "    <tr>\n",
       "      <th>2</th>\n",
       "      <td>1</td>\n",
       "    </tr>\n",
       "    <tr>\n",
       "      <th>3</th>\n",
       "      <td>0</td>\n",
       "    </tr>\n",
       "    <tr>\n",
       "      <th>4</th>\n",
       "      <td>0</td>\n",
       "    </tr>\n",
       "    <tr>\n",
       "      <th>...</th>\n",
       "      <td>...</td>\n",
       "    </tr>\n",
       "    <tr>\n",
       "      <th>3938</th>\n",
       "      <td>1</td>\n",
       "    </tr>\n",
       "    <tr>\n",
       "      <th>3939</th>\n",
       "      <td>0</td>\n",
       "    </tr>\n",
       "    <tr>\n",
       "      <th>3940</th>\n",
       "      <td>0</td>\n",
       "    </tr>\n",
       "    <tr>\n",
       "      <th>3941</th>\n",
       "      <td>0</td>\n",
       "    </tr>\n",
       "    <tr>\n",
       "      <th>3942</th>\n",
       "      <td>0</td>\n",
       "    </tr>\n",
       "  </tbody>\n",
       "</table>\n",
       "<p>3943 rows × 1 columns</p>\n",
       "</div>"
      ],
      "text/plain": [
       "      0\n",
       "0     0\n",
       "1     0\n",
       "2     1\n",
       "3     0\n",
       "4     0\n",
       "...  ..\n",
       "3938  1\n",
       "3939  0\n",
       "3940  0\n",
       "3941  0\n",
       "3942  0\n",
       "\n",
       "[3943 rows x 1 columns]"
      ]
     },
     "execution_count": 418,
     "metadata": {},
     "output_type": "execute_result"
    }
   ],
   "source": [
    "pd.DataFrame(y_pred)"
   ]
  },
  {
   "cell_type": "markdown",
   "id": "eb71a439",
   "metadata": {},
   "source": [
    "### Estimate probability"
   ]
  },
  {
   "cell_type": "code",
   "execution_count": 419,
   "id": "e136a739",
   "metadata": {},
   "outputs": [],
   "source": [
    "y_pred_proba = rf.predict_proba(X_train)"
   ]
  },
  {
   "cell_type": "code",
   "execution_count": 420,
   "id": "7d0677cc",
   "metadata": {},
   "outputs": [
    {
     "data": {
      "text/html": [
       "<div>\n",
       "<style scoped>\n",
       "    .dataframe tbody tr th:only-of-type {\n",
       "        vertical-align: middle;\n",
       "    }\n",
       "\n",
       "    .dataframe tbody tr th {\n",
       "        vertical-align: top;\n",
       "    }\n",
       "\n",
       "    .dataframe thead th {\n",
       "        text-align: right;\n",
       "    }\n",
       "</style>\n",
       "<table border=\"1\" class=\"dataframe\">\n",
       "  <thead>\n",
       "    <tr style=\"text-align: right;\">\n",
       "      <th></th>\n",
       "      <th>0</th>\n",
       "      <th>1</th>\n",
       "    </tr>\n",
       "  </thead>\n",
       "  <tbody>\n",
       "    <tr>\n",
       "      <th>0</th>\n",
       "      <td>0.998775</td>\n",
       "      <td>0.001225</td>\n",
       "    </tr>\n",
       "    <tr>\n",
       "      <th>1</th>\n",
       "      <td>0.829788</td>\n",
       "      <td>0.170212</td>\n",
       "    </tr>\n",
       "    <tr>\n",
       "      <th>2</th>\n",
       "      <td>0.436425</td>\n",
       "      <td>0.563575</td>\n",
       "    </tr>\n",
       "    <tr>\n",
       "      <th>3</th>\n",
       "      <td>0.901423</td>\n",
       "      <td>0.098577</td>\n",
       "    </tr>\n",
       "    <tr>\n",
       "      <th>4</th>\n",
       "      <td>0.894566</td>\n",
       "      <td>0.105434</td>\n",
       "    </tr>\n",
       "    <tr>\n",
       "      <th>...</th>\n",
       "      <td>...</td>\n",
       "      <td>...</td>\n",
       "    </tr>\n",
       "    <tr>\n",
       "      <th>3938</th>\n",
       "      <td>0.488514</td>\n",
       "      <td>0.511486</td>\n",
       "    </tr>\n",
       "    <tr>\n",
       "      <th>3939</th>\n",
       "      <td>0.984183</td>\n",
       "      <td>0.015817</td>\n",
       "    </tr>\n",
       "    <tr>\n",
       "      <th>3940</th>\n",
       "      <td>0.607466</td>\n",
       "      <td>0.392534</td>\n",
       "    </tr>\n",
       "    <tr>\n",
       "      <th>3941</th>\n",
       "      <td>0.806814</td>\n",
       "      <td>0.193186</td>\n",
       "    </tr>\n",
       "    <tr>\n",
       "      <th>3942</th>\n",
       "      <td>0.650195</td>\n",
       "      <td>0.349805</td>\n",
       "    </tr>\n",
       "  </tbody>\n",
       "</table>\n",
       "<p>3943 rows × 2 columns</p>\n",
       "</div>"
      ],
      "text/plain": [
       "             0         1\n",
       "0     0.998775  0.001225\n",
       "1     0.829788  0.170212\n",
       "2     0.436425  0.563575\n",
       "3     0.901423  0.098577\n",
       "4     0.894566  0.105434\n",
       "...        ...       ...\n",
       "3938  0.488514  0.511486\n",
       "3939  0.984183  0.015817\n",
       "3940  0.607466  0.392534\n",
       "3941  0.806814  0.193186\n",
       "3942  0.650195  0.349805\n",
       "\n",
       "[3943 rows x 2 columns]"
      ]
     },
     "execution_count": 420,
     "metadata": {},
     "output_type": "execute_result"
    }
   ],
   "source": [
    "pd.DataFrame(y_pred_proba)"
   ]
  },
  {
   "cell_type": "markdown",
   "id": "f6d3a1a6",
   "metadata": {},
   "source": [
    "#### Accuracy"
   ]
  },
  {
   "cell_type": "code",
   "execution_count": 421,
   "id": "833e0853",
   "metadata": {},
   "outputs": [
    {
     "name": "stdout",
     "output_type": "stream",
     "text": [
      "Accuracy of random forest classifier on training set: 0.90\n"
     ]
    }
   ],
   "source": [
    "print('Accuracy of random forest classifier on training set: {:.2f}'\n",
    "     .format(rf.score(X_train, y_train)))"
   ]
  },
  {
   "cell_type": "markdown",
   "id": "23887541",
   "metadata": {},
   "source": [
    "#### Confusion matrix"
   ]
  },
  {
   "cell_type": "code",
   "execution_count": 422,
   "id": "3ca72e0a",
   "metadata": {},
   "outputs": [],
   "source": [
    "labels1 = ['did not churn actual', 'churned actual']\n",
    "labels2 = ['did not churn predicted', 'churned predicted']\n",
    "df_confusion_matrix = pd.DataFrame(confusion_matrix(y_train, y_pred), index=labels1, columns=labels2)"
   ]
  },
  {
   "cell_type": "code",
   "execution_count": 423,
   "id": "617c7d77",
   "metadata": {},
   "outputs": [
    {
     "data": {
      "text/html": [
       "<div>\n",
       "<style scoped>\n",
       "    .dataframe tbody tr th:only-of-type {\n",
       "        vertical-align: middle;\n",
       "    }\n",
       "\n",
       "    .dataframe tbody tr th {\n",
       "        vertical-align: top;\n",
       "    }\n",
       "\n",
       "    .dataframe thead th {\n",
       "        text-align: right;\n",
       "    }\n",
       "</style>\n",
       "<table border=\"1\" class=\"dataframe\">\n",
       "  <thead>\n",
       "    <tr style=\"text-align: right;\">\n",
       "      <th></th>\n",
       "      <th>did not churn predicted</th>\n",
       "      <th>churned predicted</th>\n",
       "    </tr>\n",
       "  </thead>\n",
       "  <tbody>\n",
       "    <tr>\n",
       "      <th>did not churn actual</th>\n",
       "      <td>2774</td>\n",
       "      <td>123</td>\n",
       "    </tr>\n",
       "    <tr>\n",
       "      <th>churned actual</th>\n",
       "      <td>286</td>\n",
       "      <td>760</td>\n",
       "    </tr>\n",
       "  </tbody>\n",
       "</table>\n",
       "</div>"
      ],
      "text/plain": [
       "                      did not churn predicted  churned predicted\n",
       "did not churn actual                     2774                123\n",
       "churned actual                            286                760"
      ]
     },
     "execution_count": 423,
     "metadata": {},
     "output_type": "execute_result"
    }
   ],
   "source": [
    "df_confusion_matrix"
   ]
  },
  {
   "cell_type": "markdown",
   "id": "982e9754",
   "metadata": {},
   "source": [
    "#### Classification Report"
   ]
  },
  {
   "cell_type": "code",
   "execution_count": 424,
   "id": "4d62986a",
   "metadata": {},
   "outputs": [],
   "source": [
    "classification_report_2 = classification_report(y_train, y_pred, output_dict = True)"
   ]
  },
  {
   "cell_type": "code",
   "execution_count": 425,
   "id": "44a7dbbf",
   "metadata": {},
   "outputs": [],
   "source": [
    "df_classification_report_2 = pd.DataFrame(classification_report_2).T"
   ]
  },
  {
   "cell_type": "code",
   "execution_count": 426,
   "id": "e4596126",
   "metadata": {},
   "outputs": [
    {
     "data": {
      "text/html": [
       "<div>\n",
       "<style scoped>\n",
       "    .dataframe tbody tr th:only-of-type {\n",
       "        vertical-align: middle;\n",
       "    }\n",
       "\n",
       "    .dataframe tbody tr th {\n",
       "        vertical-align: top;\n",
       "    }\n",
       "\n",
       "    .dataframe thead th {\n",
       "        text-align: right;\n",
       "    }\n",
       "</style>\n",
       "<table border=\"1\" class=\"dataframe\">\n",
       "  <thead>\n",
       "    <tr style=\"text-align: right;\">\n",
       "      <th></th>\n",
       "      <th>precision</th>\n",
       "      <th>recall</th>\n",
       "      <th>f1-score</th>\n",
       "      <th>support</th>\n",
       "    </tr>\n",
       "  </thead>\n",
       "  <tbody>\n",
       "    <tr>\n",
       "      <th>0</th>\n",
       "      <td>0.906536</td>\n",
       "      <td>0.957542</td>\n",
       "      <td>0.931341</td>\n",
       "      <td>2897.000000</td>\n",
       "    </tr>\n",
       "    <tr>\n",
       "      <th>1</th>\n",
       "      <td>0.860702</td>\n",
       "      <td>0.726577</td>\n",
       "      <td>0.787973</td>\n",
       "      <td>1046.000000</td>\n",
       "    </tr>\n",
       "    <tr>\n",
       "      <th>accuracy</th>\n",
       "      <td>0.896272</td>\n",
       "      <td>0.896272</td>\n",
       "      <td>0.896272</td>\n",
       "      <td>0.896272</td>\n",
       "    </tr>\n",
       "    <tr>\n",
       "      <th>macro avg</th>\n",
       "      <td>0.883619</td>\n",
       "      <td>0.842060</td>\n",
       "      <td>0.859657</td>\n",
       "      <td>3943.000000</td>\n",
       "    </tr>\n",
       "    <tr>\n",
       "      <th>weighted avg</th>\n",
       "      <td>0.894377</td>\n",
       "      <td>0.896272</td>\n",
       "      <td>0.893309</td>\n",
       "      <td>3943.000000</td>\n",
       "    </tr>\n",
       "  </tbody>\n",
       "</table>\n",
       "</div>"
      ],
      "text/plain": [
       "              precision    recall  f1-score      support\n",
       "0              0.906536  0.957542  0.931341  2897.000000\n",
       "1              0.860702  0.726577  0.787973  1046.000000\n",
       "accuracy       0.896272  0.896272  0.896272     0.896272\n",
       "macro avg      0.883619  0.842060  0.859657  3943.000000\n",
       "weighted avg   0.894377  0.896272  0.893309  3943.000000"
      ]
     },
     "execution_count": 426,
     "metadata": {},
     "output_type": "execute_result"
    }
   ],
   "source": [
    "df_classification_report_2"
   ]
  },
  {
   "cell_type": "code",
   "execution_count": null,
   "id": "26899d77",
   "metadata": {},
   "outputs": [],
   "source": []
  },
  {
   "cell_type": "code",
   "execution_count": null,
   "id": "19807333",
   "metadata": {},
   "outputs": [],
   "source": []
  },
  {
   "cell_type": "code",
   "execution_count": null,
   "id": "71286a20",
   "metadata": {},
   "outputs": [],
   "source": []
  },
  {
   "cell_type": "code",
   "execution_count": null,
   "id": "7b71cba5",
   "metadata": {},
   "outputs": [],
   "source": []
  },
  {
   "cell_type": "code",
   "execution_count": null,
   "id": "bfed4c42",
   "metadata": {},
   "outputs": [],
   "source": []
  }
 ],
 "metadata": {
  "kernelspec": {
   "display_name": "Python 3",
   "language": "python",
   "name": "python3"
  },
  "language_info": {
   "codemirror_mode": {
    "name": "ipython",
    "version": 3
   },
   "file_extension": ".py",
   "mimetype": "text/x-python",
   "name": "python",
   "nbconvert_exporter": "python",
   "pygments_lexer": "ipython3",
   "version": "3.8.8"
  }
 },
 "nbformat": 4,
 "nbformat_minor": 5
}
