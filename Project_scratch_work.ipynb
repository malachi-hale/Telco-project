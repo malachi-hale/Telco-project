{
 "cells": [
  {
   "cell_type": "code",
   "execution_count": 40,
   "id": "00781ac6",
   "metadata": {},
   "outputs": [],
   "source": [
    "##General imports we need for the project\n",
    "import pandas as pd\n",
    "import os\n",
    "import env\n",
    "import warnings\n",
    "warnings.filterwarnings('ignore')\n",
    "import numpy\n",
    "\n",
    "##Imports for graphing\n",
    "import matplotlib.pyplot as plt\n",
    "import seaborn as sns\n",
    "import graphviz\n",
    "from graphviz import Graph\n",
    "\n",
    "##Import prep and acquire functions\n",
    "from acquire import get_telco_data\n",
    "from prepare import prep_telco\n",
    "\n",
    "##Import sklearn functinos\n",
    "from sklearn.dummy import DummyClassifier\n",
    "from sklearn.model_selection import train_test_split\n",
    "\n",
    "##Import sklearn models\n",
    "from sklearn.tree import DecisionTreeClassifier\n",
    "from sklearn.neighbors import KNeighborsClassifier\n",
    "from sklearn.tree import export_graphviz\n",
    "from sklearn import tree\n",
    "\n",
    "##Import sklearn metrics\n",
    "from sklearn.metrics import accuracy_score\n",
    "from sklearn.metrics import precision_score\n",
    "from sklearn.metrics import recall_score\n",
    "from sklearn.metrics import f1_score\n",
    "from sklearn.metrics import confusion_matrix\n",
    "from sklearn.metrics import classification_report\n",
    "\n",
    "##Import statistics functinos\n",
    "import scipy.stats as stats\n",
    "from scipy.stats import mannwhitneyu"
   ]
  },
  {
   "cell_type": "markdown",
   "id": "09ae79c3",
   "metadata": {},
   "source": [
    "## Acquire the data"
   ]
  },
  {
   "cell_type": "markdown",
   "id": "7380f09e",
   "metadata": {},
   "source": [
    "We will use functions to obtain our data."
   ]
  },
  {
   "cell_type": "markdown",
   "id": "95a802c4",
   "metadata": {},
   "source": [
    "**Get connection to SQL**"
   ]
  },
  {
   "cell_type": "code",
   "execution_count": 41,
   "id": "e03a5e30",
   "metadata": {},
   "outputs": [],
   "source": [
    "def get_connection(db, user=env.user, host=env.host, password=env.password):\n",
    "    return f'mysql+pymysql://{user}:{password}@{host}/{db}'"
   ]
  },
  {
   "cell_type": "markdown",
   "id": "9e55f236",
   "metadata": {},
   "source": [
    "**Get telco data**"
   ]
  },
  {
   "cell_type": "code",
   "execution_count": 42,
   "id": "9128ec7d",
   "metadata": {},
   "outputs": [],
   "source": [
    "def get_telco_data():\n",
    "    filename = \"telco_churn.csv\"\n",
    "    sql = '''SELECT *\n",
    "        FROM customers \n",
    "        JOIN contract_types\n",
    "        ON contract_types.contract_type_id = customers.contract_type_id\n",
    "        JOIN internet_service_types\n",
    "        ON internet_service_types.internet_service_type_id = customers.internet_service_type_id\n",
    "        JOIN payment_types \n",
    "        ON payment_types.payment_type_id = customers.payment_type_id'''\n",
    "    if os.path.isfile(filename):\n",
    "        return pd.read_csv(filename)\n",
    "    else:\n",
    "        df = pd.read_sql(sql, get_connection('telco_churn'))\n",
    "        return df"
   ]
  },
  {
   "cell_type": "code",
   "execution_count": 43,
   "id": "5b7e4caf",
   "metadata": {},
   "outputs": [],
   "source": [
    "df = get_telco_data()"
   ]
  },
  {
   "cell_type": "markdown",
   "id": "0a880cdc",
   "metadata": {},
   "source": [
    "We will create a dictionary of our raw data for our `README.md` file."
   ]
  },
  {
   "cell_type": "code",
   "execution_count": 44,
   "id": "c278a99f",
   "metadata": {},
   "outputs": [],
   "source": [
    "details = {\n",
    "    'Target' : ['churn'],\n",
    "    'Dataype' : [df.dtypes['churn']],\n",
    "    'Definition' : ['Whether or not a customer has churned'],\n",
    "}"
   ]
  },
  {
   "cell_type": "code",
   "execution_count": 45,
   "id": "2c13b5c3",
   "metadata": {},
   "outputs": [],
   "source": [
    "dictionary = {\n",
    "    'Feature' : [\n",
    "                'customer_id', \n",
    "                 'gender', \n",
    "                 'senior_citizen', \n",
    "                 'partner', \n",
    "                 'dependents', \n",
    "                 'tenure', \n",
    "                 'phone_service', \n",
    "                 'multiple_lines', \n",
    "                 'internet_service_type_id', \n",
    "                'online_security', \n",
    "                'online_backup', \n",
    "                'device_protection',\n",
    "                'tech_support', \n",
    "                'streaming_tv', \n",
    "                'streaming_movies', \n",
    "                'contract_type_id', \n",
    "                'paperless_billing', \n",
    "                'payment_type_id', \n",
    "                'monthly_charges',\n",
    "                'total_charges',\n",
    "                'churn',\n",
    "                'contract_type',\n",
    "                'internet_service_type',\n",
    "                'payment_type',\n",
    "                ],\n",
    "    'Dataype' : [\n",
    "                df.dtypes['customer_id'], \n",
    "                 df.dtypes['gender'], \n",
    "                 df.dtypes['senior_citizen'],\n",
    "                df.dtypes['partner'],\n",
    "                 df.dtypes['dependents'], \n",
    "                 df.dtypes['tenure'], \n",
    "                 df.dtypes['phone_service'], \n",
    "                df.dtypes['multiple_lines'],\n",
    "                 df.dtypes['internet_service_type_id'], \n",
    "                df.dtypes['online_security'], \n",
    "                df.dtypes['online_backup'], \n",
    "                df.dtypes['device_protection'],\n",
    "                df.dtypes['tech_support'], \n",
    "                df.dtypes['streaming_tv'], \n",
    "                df.dtypes['streaming_movies'],\n",
    "                df.dtypes['contract_type_id'], \n",
    "                df.dtypes['paperless_billing'], \n",
    "                df.dtypes['payment_type_id'], \n",
    "                df.dtypes['monthly_charges'],\n",
    "                df.dtypes['total_charges'],\n",
    "                df.dtypes['churn'],\n",
    "                df.dtypes['contract_type'],\n",
    "                df.dtypes['internet_service_type'],\n",
    "                df.dtypes['payment_type'],\n",
    "                ],\n",
    "    'Definition' : ['Identification number for customer', \n",
    "                    'Customer gender, male or female', \n",
    "                    'Yes or no, is the customer a senior citizen', \n",
    "                    'Yes or no, does the customer customer has a parter', \n",
    "                    'Number of dependents a customer has', \n",
    "                    'Number of days a customer has been with the company', \n",
    "                    'Type of phone service plan a customer has', \n",
    "                    'Yes or no, does the customer have multiple lines', \n",
    "                    '1 for DSL, 2 for Fiber Optic, 3 for None', \n",
    "                    'Yes, no, or no internet service',\n",
    "                    'Yes, no, or no internet service', \n",
    "                    'Yes, no, or no internet service',\n",
    "                    'Yes, no, or no internet service', \n",
    "                    'Yes, no, or no internet service',\n",
    "                    'Yes, no, or no internet service',\n",
    "                    '1 for month-to-month, 2 for year, and 3 for two-year contract', \n",
    "                    'Yes or no, whether or not the customer uses paperless billing', \n",
    "                    '1 for electronic check, 2 for mailed check, 3 for automatic bank transfer, 4 for automatic credit card payment',\n",
    "                    'Monthly charges the customer pays',\n",
    "                    'Total charges the customer has paid',\n",
    "                    'Yes or no, whether or not the customer has churned',\n",
    "                    'Month-to-month, year, or two-year contract',\n",
    "                    'DSL, Fiber Optic, or None',\n",
    "                    'Electronic check, mailed check, automatic bank transfer, or automatic credit card payment',\n",
    "                    ],\n",
    "}"
   ]
  },
  {
   "cell_type": "code",
   "execution_count": 46,
   "id": "89780908",
   "metadata": {},
   "outputs": [],
   "source": [
    "dict_churn = pd.DataFrame(details)"
   ]
  },
  {
   "cell_type": "code",
   "execution_count": 47,
   "id": "f8225884",
   "metadata": {},
   "outputs": [],
   "source": [
    "data_dictionary = pd.DataFrame(dictionary)"
   ]
  },
  {
   "cell_type": "code",
   "execution_count": 48,
   "id": "938701b4",
   "metadata": {},
   "outputs": [
    {
     "name": "stdout",
     "output_type": "stream",
     "text": [
      "| Target   | Dataype   | Definition                            |\n",
      "|:---------|:----------|:--------------------------------------|\n",
      "| churn    | object    | Whether or not a customer has churned |\n"
     ]
    }
   ],
   "source": [
    "print(dict_churn.to_markdown(index=False))"
   ]
  },
  {
   "cell_type": "code",
   "execution_count": 49,
   "id": "f20ed1b6",
   "metadata": {},
   "outputs": [
    {
     "name": "stdout",
     "output_type": "stream",
     "text": [
      "| Feature                  | Dataype                           | Definition                                                                                                     |\n",
      "|:-------------------------|:----------------------------------|:---------------------------------------------------------------------------------------------------------------|\n",
      "| customer_id              | object                            | Identification number for customer                                                                             |\n",
      "| gender                   | object                            | Customer gender, male or female                                                                                |\n",
      "| senior_citizen           | int64                             | Yes or no, is the customer a senior citizen                                                                    |\n",
      "| partner                  | object                            | Yes or no, does the customer customer has a parter                                                             |\n",
      "| dependents               | object                            | Number of dependents a customer has                                                                            |\n",
      "| tenure                   | int64                             | Number of days a customer has been with the company                                                            |\n",
      "| phone_service            | object                            | Type of phone service plan a customer has                                                                      |\n",
      "| multiple_lines           | object                            | Yes or no, does the customer have multiple lines                                                               |\n",
      "| internet_service_type_id | internet_service_type_id    int64 | 1 for DSL, 2 for Fiber Optic, 3 for None                                                                       |\n",
      "|                          | internet_service_type_id    int64 |                                                                                                                |\n",
      "|                          | dtype: object                     |                                                                                                                |\n",
      "| online_security          | object                            | Yes, no, or no internet service                                                                                |\n",
      "| online_backup            | object                            | Yes, no, or no internet service                                                                                |\n",
      "| device_protection        | object                            | Yes, no, or no internet service                                                                                |\n",
      "| tech_support             | object                            | Yes, no, or no internet service                                                                                |\n",
      "| streaming_tv             | object                            | Yes, no, or no internet service                                                                                |\n",
      "| streaming_movies         | object                            | Yes, no, or no internet service                                                                                |\n",
      "| contract_type_id         | contract_type_id    int64         | 1 for month-to-month, 2 for year, and 3 for two-year contract                                                  |\n",
      "|                          | contract_type_id    int64         |                                                                                                                |\n",
      "|                          | dtype: object                     |                                                                                                                |\n",
      "| paperless_billing        | object                            | Yes or no, whether or not the customer uses paperless billing                                                  |\n",
      "| payment_type_id          | payment_type_id    int64          | 1 for electronic check, 2 for mailed check, 3 for automatic bank transfer, 4 for automatic credit card payment |\n",
      "|                          | payment_type_id    int64          |                                                                                                                |\n",
      "|                          | dtype: object                     |                                                                                                                |\n",
      "| monthly_charges          | float64                           | Monthly charges the customer pays                                                                              |\n",
      "| total_charges            | object                            | Total charges the customer has paid                                                                            |\n",
      "| churn                    | object                            | Yes or no, whether or not the customer has churned                                                             |\n",
      "| contract_type            | object                            | Month-to-month, year, or two-year contract                                                                     |\n",
      "| internet_service_type    | object                            | DSL, Fiber Optic, or None                                                                                      |\n",
      "| payment_type             | object                            | Electronic check, mailed check, automatic bank transfer, or automatic credit card payment                      |\n"
     ]
    }
   ],
   "source": [
    "print(data_dictionary.to_markdown(index=False))"
   ]
  },
  {
   "cell_type": "markdown",
   "id": "b716deda",
   "metadata": {},
   "source": [
    "Now we can begin to explore the data. First let's look at the dataframe itself."
   ]
  },
  {
   "cell_type": "code",
   "execution_count": 50,
   "id": "933ff04f",
   "metadata": {},
   "outputs": [
    {
     "data": {
      "text/html": [
       "<div>\n",
       "<style scoped>\n",
       "    .dataframe tbody tr th:only-of-type {\n",
       "        vertical-align: middle;\n",
       "    }\n",
       "\n",
       "    .dataframe tbody tr th {\n",
       "        vertical-align: top;\n",
       "    }\n",
       "\n",
       "    .dataframe thead th {\n",
       "        text-align: right;\n",
       "    }\n",
       "</style>\n",
       "<table border=\"1\" class=\"dataframe\">\n",
       "  <thead>\n",
       "    <tr style=\"text-align: right;\">\n",
       "      <th></th>\n",
       "      <th>customer_id</th>\n",
       "      <th>gender</th>\n",
       "      <th>senior_citizen</th>\n",
       "      <th>partner</th>\n",
       "      <th>dependents</th>\n",
       "      <th>tenure</th>\n",
       "      <th>phone_service</th>\n",
       "      <th>multiple_lines</th>\n",
       "      <th>internet_service_type_id</th>\n",
       "      <th>online_security</th>\n",
       "      <th>...</th>\n",
       "      <th>payment_type_id</th>\n",
       "      <th>monthly_charges</th>\n",
       "      <th>total_charges</th>\n",
       "      <th>churn</th>\n",
       "      <th>contract_type_id</th>\n",
       "      <th>contract_type</th>\n",
       "      <th>internet_service_type_id</th>\n",
       "      <th>internet_service_type</th>\n",
       "      <th>payment_type_id</th>\n",
       "      <th>payment_type</th>\n",
       "    </tr>\n",
       "  </thead>\n",
       "  <tbody>\n",
       "    <tr>\n",
       "      <th>0</th>\n",
       "      <td>0016-QLJIS</td>\n",
       "      <td>Female</td>\n",
       "      <td>0</td>\n",
       "      <td>Yes</td>\n",
       "      <td>Yes</td>\n",
       "      <td>65</td>\n",
       "      <td>Yes</td>\n",
       "      <td>Yes</td>\n",
       "      <td>1</td>\n",
       "      <td>Yes</td>\n",
       "      <td>...</td>\n",
       "      <td>2</td>\n",
       "      <td>90.45</td>\n",
       "      <td>5957.9</td>\n",
       "      <td>No</td>\n",
       "      <td>3</td>\n",
       "      <td>Two year</td>\n",
       "      <td>1</td>\n",
       "      <td>DSL</td>\n",
       "      <td>2</td>\n",
       "      <td>Mailed check</td>\n",
       "    </tr>\n",
       "    <tr>\n",
       "      <th>1</th>\n",
       "      <td>0017-DINOC</td>\n",
       "      <td>Male</td>\n",
       "      <td>0</td>\n",
       "      <td>No</td>\n",
       "      <td>No</td>\n",
       "      <td>54</td>\n",
       "      <td>No</td>\n",
       "      <td>No phone service</td>\n",
       "      <td>1</td>\n",
       "      <td>Yes</td>\n",
       "      <td>...</td>\n",
       "      <td>4</td>\n",
       "      <td>45.20</td>\n",
       "      <td>2460.55</td>\n",
       "      <td>No</td>\n",
       "      <td>3</td>\n",
       "      <td>Two year</td>\n",
       "      <td>1</td>\n",
       "      <td>DSL</td>\n",
       "      <td>4</td>\n",
       "      <td>Credit card (automatic)</td>\n",
       "    </tr>\n",
       "    <tr>\n",
       "      <th>2</th>\n",
       "      <td>0019-GFNTW</td>\n",
       "      <td>Female</td>\n",
       "      <td>0</td>\n",
       "      <td>No</td>\n",
       "      <td>No</td>\n",
       "      <td>56</td>\n",
       "      <td>No</td>\n",
       "      <td>No phone service</td>\n",
       "      <td>1</td>\n",
       "      <td>Yes</td>\n",
       "      <td>...</td>\n",
       "      <td>3</td>\n",
       "      <td>45.05</td>\n",
       "      <td>2560.1</td>\n",
       "      <td>No</td>\n",
       "      <td>3</td>\n",
       "      <td>Two year</td>\n",
       "      <td>1</td>\n",
       "      <td>DSL</td>\n",
       "      <td>3</td>\n",
       "      <td>Bank transfer (automatic)</td>\n",
       "    </tr>\n",
       "    <tr>\n",
       "      <th>3</th>\n",
       "      <td>0056-EPFBG</td>\n",
       "      <td>Male</td>\n",
       "      <td>0</td>\n",
       "      <td>Yes</td>\n",
       "      <td>Yes</td>\n",
       "      <td>20</td>\n",
       "      <td>No</td>\n",
       "      <td>No phone service</td>\n",
       "      <td>1</td>\n",
       "      <td>Yes</td>\n",
       "      <td>...</td>\n",
       "      <td>4</td>\n",
       "      <td>39.40</td>\n",
       "      <td>825.4</td>\n",
       "      <td>No</td>\n",
       "      <td>3</td>\n",
       "      <td>Two year</td>\n",
       "      <td>1</td>\n",
       "      <td>DSL</td>\n",
       "      <td>4</td>\n",
       "      <td>Credit card (automatic)</td>\n",
       "    </tr>\n",
       "    <tr>\n",
       "      <th>4</th>\n",
       "      <td>0078-XZMHT</td>\n",
       "      <td>Male</td>\n",
       "      <td>0</td>\n",
       "      <td>Yes</td>\n",
       "      <td>No</td>\n",
       "      <td>72</td>\n",
       "      <td>Yes</td>\n",
       "      <td>Yes</td>\n",
       "      <td>1</td>\n",
       "      <td>No</td>\n",
       "      <td>...</td>\n",
       "      <td>3</td>\n",
       "      <td>85.15</td>\n",
       "      <td>6316.2</td>\n",
       "      <td>No</td>\n",
       "      <td>3</td>\n",
       "      <td>Two year</td>\n",
       "      <td>1</td>\n",
       "      <td>DSL</td>\n",
       "      <td>3</td>\n",
       "      <td>Bank transfer (automatic)</td>\n",
       "    </tr>\n",
       "  </tbody>\n",
       "</table>\n",
       "<p>5 rows × 27 columns</p>\n",
       "</div>"
      ],
      "text/plain": [
       "  customer_id  gender  senior_citizen partner dependents  tenure  \\\n",
       "0  0016-QLJIS  Female               0     Yes        Yes      65   \n",
       "1  0017-DINOC    Male               0      No         No      54   \n",
       "2  0019-GFNTW  Female               0      No         No      56   \n",
       "3  0056-EPFBG    Male               0     Yes        Yes      20   \n",
       "4  0078-XZMHT    Male               0     Yes         No      72   \n",
       "\n",
       "  phone_service    multiple_lines internet_service_type_id online_security  \\\n",
       "0           Yes               Yes                        1             Yes   \n",
       "1            No  No phone service                        1             Yes   \n",
       "2            No  No phone service                        1             Yes   \n",
       "3            No  No phone service                        1             Yes   \n",
       "4           Yes               Yes                        1              No   \n",
       "\n",
       "   ...  payment_type_id monthly_charges total_charges churn contract_type_id  \\\n",
       "0  ...                2           90.45        5957.9    No                3   \n",
       "1  ...                4           45.20       2460.55    No                3   \n",
       "2  ...                3           45.05        2560.1    No                3   \n",
       "3  ...                4           39.40         825.4    No                3   \n",
       "4  ...                3           85.15        6316.2    No                3   \n",
       "\n",
       "   contract_type internet_service_type_id  internet_service_type  \\\n",
       "0       Two year                        1                    DSL   \n",
       "1       Two year                        1                    DSL   \n",
       "2       Two year                        1                    DSL   \n",
       "3       Two year                        1                    DSL   \n",
       "4       Two year                        1                    DSL   \n",
       "\n",
       "   payment_type_id               payment_type  \n",
       "0                2               Mailed check  \n",
       "1                4    Credit card (automatic)  \n",
       "2                3  Bank transfer (automatic)  \n",
       "3                4    Credit card (automatic)  \n",
       "4                3  Bank transfer (automatic)  \n",
       "\n",
       "[5 rows x 27 columns]"
      ]
     },
     "execution_count": 50,
     "metadata": {},
     "output_type": "execute_result"
    }
   ],
   "source": [
    "df.head()"
   ]
  },
  {
   "cell_type": "markdown",
   "id": "54ee71ff",
   "metadata": {},
   "source": [
    "We will complete an inital data summarization using `info()`, `describe()`, and `value_counts()`."
   ]
  },
  {
   "cell_type": "code",
   "execution_count": 51,
   "id": "d1f7b2ea",
   "metadata": {},
   "outputs": [
    {
     "name": "stdout",
     "output_type": "stream",
     "text": [
      "<class 'pandas.core.frame.DataFrame'>\n",
      "RangeIndex: 7043 entries, 0 to 7042\n",
      "Data columns (total 27 columns):\n",
      " #   Column                    Non-Null Count  Dtype  \n",
      "---  ------                    --------------  -----  \n",
      " 0   customer_id               7043 non-null   object \n",
      " 1   gender                    7043 non-null   object \n",
      " 2   senior_citizen            7043 non-null   int64  \n",
      " 3   partner                   7043 non-null   object \n",
      " 4   dependents                7043 non-null   object \n",
      " 5   tenure                    7043 non-null   int64  \n",
      " 6   phone_service             7043 non-null   object \n",
      " 7   multiple_lines            7043 non-null   object \n",
      " 8   internet_service_type_id  7043 non-null   int64  \n",
      " 9   online_security           7043 non-null   object \n",
      " 10  online_backup             7043 non-null   object \n",
      " 11  device_protection         7043 non-null   object \n",
      " 12  tech_support              7043 non-null   object \n",
      " 13  streaming_tv              7043 non-null   object \n",
      " 14  streaming_movies          7043 non-null   object \n",
      " 15  contract_type_id          7043 non-null   int64  \n",
      " 16  paperless_billing         7043 non-null   object \n",
      " 17  payment_type_id           7043 non-null   int64  \n",
      " 18  monthly_charges           7043 non-null   float64\n",
      " 19  total_charges             7043 non-null   object \n",
      " 20  churn                     7043 non-null   object \n",
      " 21  contract_type_id          7043 non-null   int64  \n",
      " 22  contract_type             7043 non-null   object \n",
      " 23  internet_service_type_id  7043 non-null   int64  \n",
      " 24  internet_service_type     7043 non-null   object \n",
      " 25  payment_type_id           7043 non-null   int64  \n",
      " 26  payment_type              7043 non-null   object \n",
      "dtypes: float64(1), int64(8), object(18)\n",
      "memory usage: 1.5+ MB\n"
     ]
    }
   ],
   "source": [
    "df.info()"
   ]
  },
  {
   "cell_type": "code",
   "execution_count": 52,
   "id": "a0599784",
   "metadata": {},
   "outputs": [
    {
     "data": {
      "text/html": [
       "<div>\n",
       "<style scoped>\n",
       "    .dataframe tbody tr th:only-of-type {\n",
       "        vertical-align: middle;\n",
       "    }\n",
       "\n",
       "    .dataframe tbody tr th {\n",
       "        vertical-align: top;\n",
       "    }\n",
       "\n",
       "    .dataframe thead th {\n",
       "        text-align: right;\n",
       "    }\n",
       "</style>\n",
       "<table border=\"1\" class=\"dataframe\">\n",
       "  <thead>\n",
       "    <tr style=\"text-align: right;\">\n",
       "      <th></th>\n",
       "      <th>senior_citizen</th>\n",
       "      <th>tenure</th>\n",
       "      <th>internet_service_type_id</th>\n",
       "      <th>contract_type_id</th>\n",
       "      <th>payment_type_id</th>\n",
       "      <th>monthly_charges</th>\n",
       "      <th>contract_type_id</th>\n",
       "      <th>internet_service_type_id</th>\n",
       "      <th>payment_type_id</th>\n",
       "    </tr>\n",
       "  </thead>\n",
       "  <tbody>\n",
       "    <tr>\n",
       "      <th>count</th>\n",
       "      <td>7043.000000</td>\n",
       "      <td>7043.000000</td>\n",
       "      <td>7043.000000</td>\n",
       "      <td>7043.000000</td>\n",
       "      <td>7043.000000</td>\n",
       "      <td>7043.000000</td>\n",
       "      <td>7043.000000</td>\n",
       "      <td>7043.000000</td>\n",
       "      <td>7043.000000</td>\n",
       "    </tr>\n",
       "    <tr>\n",
       "      <th>mean</th>\n",
       "      <td>0.162147</td>\n",
       "      <td>32.371149</td>\n",
       "      <td>1.872923</td>\n",
       "      <td>1.690473</td>\n",
       "      <td>2.315633</td>\n",
       "      <td>64.761692</td>\n",
       "      <td>1.690473</td>\n",
       "      <td>1.872923</td>\n",
       "      <td>2.315633</td>\n",
       "    </tr>\n",
       "    <tr>\n",
       "      <th>std</th>\n",
       "      <td>0.368612</td>\n",
       "      <td>24.559481</td>\n",
       "      <td>0.737796</td>\n",
       "      <td>0.833755</td>\n",
       "      <td>1.148907</td>\n",
       "      <td>30.090047</td>\n",
       "      <td>0.833755</td>\n",
       "      <td>0.737796</td>\n",
       "      <td>1.148907</td>\n",
       "    </tr>\n",
       "    <tr>\n",
       "      <th>min</th>\n",
       "      <td>0.000000</td>\n",
       "      <td>0.000000</td>\n",
       "      <td>1.000000</td>\n",
       "      <td>1.000000</td>\n",
       "      <td>1.000000</td>\n",
       "      <td>18.250000</td>\n",
       "      <td>1.000000</td>\n",
       "      <td>1.000000</td>\n",
       "      <td>1.000000</td>\n",
       "    </tr>\n",
       "    <tr>\n",
       "      <th>25%</th>\n",
       "      <td>0.000000</td>\n",
       "      <td>9.000000</td>\n",
       "      <td>1.000000</td>\n",
       "      <td>1.000000</td>\n",
       "      <td>1.000000</td>\n",
       "      <td>35.500000</td>\n",
       "      <td>1.000000</td>\n",
       "      <td>1.000000</td>\n",
       "      <td>1.000000</td>\n",
       "    </tr>\n",
       "    <tr>\n",
       "      <th>50%</th>\n",
       "      <td>0.000000</td>\n",
       "      <td>29.000000</td>\n",
       "      <td>2.000000</td>\n",
       "      <td>1.000000</td>\n",
       "      <td>2.000000</td>\n",
       "      <td>70.350000</td>\n",
       "      <td>1.000000</td>\n",
       "      <td>2.000000</td>\n",
       "      <td>2.000000</td>\n",
       "    </tr>\n",
       "    <tr>\n",
       "      <th>75%</th>\n",
       "      <td>0.000000</td>\n",
       "      <td>55.000000</td>\n",
       "      <td>2.000000</td>\n",
       "      <td>2.000000</td>\n",
       "      <td>3.000000</td>\n",
       "      <td>89.850000</td>\n",
       "      <td>2.000000</td>\n",
       "      <td>2.000000</td>\n",
       "      <td>3.000000</td>\n",
       "    </tr>\n",
       "    <tr>\n",
       "      <th>max</th>\n",
       "      <td>1.000000</td>\n",
       "      <td>72.000000</td>\n",
       "      <td>3.000000</td>\n",
       "      <td>3.000000</td>\n",
       "      <td>4.000000</td>\n",
       "      <td>118.750000</td>\n",
       "      <td>3.000000</td>\n",
       "      <td>3.000000</td>\n",
       "      <td>4.000000</td>\n",
       "    </tr>\n",
       "  </tbody>\n",
       "</table>\n",
       "</div>"
      ],
      "text/plain": [
       "       senior_citizen       tenure  internet_service_type_id  \\\n",
       "count     7043.000000  7043.000000               7043.000000   \n",
       "mean         0.162147    32.371149                  1.872923   \n",
       "std          0.368612    24.559481                  0.737796   \n",
       "min          0.000000     0.000000                  1.000000   \n",
       "25%          0.000000     9.000000                  1.000000   \n",
       "50%          0.000000    29.000000                  2.000000   \n",
       "75%          0.000000    55.000000                  2.000000   \n",
       "max          1.000000    72.000000                  3.000000   \n",
       "\n",
       "       contract_type_id  payment_type_id  monthly_charges  contract_type_id  \\\n",
       "count       7043.000000      7043.000000      7043.000000       7043.000000   \n",
       "mean           1.690473         2.315633        64.761692          1.690473   \n",
       "std            0.833755         1.148907        30.090047          0.833755   \n",
       "min            1.000000         1.000000        18.250000          1.000000   \n",
       "25%            1.000000         1.000000        35.500000          1.000000   \n",
       "50%            1.000000         2.000000        70.350000          1.000000   \n",
       "75%            2.000000         3.000000        89.850000          2.000000   \n",
       "max            3.000000         4.000000       118.750000          3.000000   \n",
       "\n",
       "       internet_service_type_id  payment_type_id  \n",
       "count               7043.000000      7043.000000  \n",
       "mean                   1.872923         2.315633  \n",
       "std                    0.737796         1.148907  \n",
       "min                    1.000000         1.000000  \n",
       "25%                    1.000000         1.000000  \n",
       "50%                    2.000000         2.000000  \n",
       "75%                    2.000000         3.000000  \n",
       "max                    3.000000         4.000000  "
      ]
     },
     "execution_count": 52,
     "metadata": {},
     "output_type": "execute_result"
    }
   ],
   "source": [
    "df.describe()"
   ]
  },
  {
   "cell_type": "markdown",
   "id": "d4ee6444",
   "metadata": {},
   "source": [
    "The `value_counts()` function will not work if we have duplicate columns, so we have to get rid of duplicate columns."
   ]
  },
  {
   "cell_type": "code",
   "execution_count": 53,
   "id": "7c4fb682",
   "metadata": {},
   "outputs": [],
   "source": [
    "df = df.loc[:,~df.columns.duplicated()]"
   ]
  },
  {
   "cell_type": "markdown",
   "id": "254a390e",
   "metadata": {},
   "source": [
    "Now we can run a loop to determine the `value_counts()` for each column."
   ]
  },
  {
   "cell_type": "code",
   "execution_count": 54,
   "id": "a93779b8",
   "metadata": {
    "scrolled": true
   },
   "outputs": [
    {
     "name": "stdout",
     "output_type": "stream",
     "text": [
      "---- customer_id ---\n",
      "7995-ZHHNZ    1\n",
      "6650-VJONK    1\n",
      "1641-RQDAY    1\n",
      "3192-LNKRK    1\n",
      "5915-ANOEI    1\n",
      "             ..\n",
      "8204-TIFGJ    1\n",
      "2074-GKOWZ    1\n",
      "9625-RZFUK    1\n",
      "1760-CAZHT    1\n",
      "7054-LGEQW    1\n",
      "Name: customer_id, Length: 7043, dtype: int64\n",
      "---- gender ---\n",
      "Male      3555\n",
      "Female    3488\n",
      "Name: gender, dtype: int64\n",
      "---- senior_citizen ---\n",
      "0    5901\n",
      "1    1142\n",
      "Name: senior_citizen, dtype: int64\n",
      "---- partner ---\n",
      "No     3641\n",
      "Yes    3402\n",
      "Name: partner, dtype: int64\n",
      "---- dependents ---\n",
      "No     4933\n",
      "Yes    2110\n",
      "Name: dependents, dtype: int64\n",
      "---- tenure ---\n",
      "1     613\n",
      "72    362\n",
      "2     238\n",
      "3     200\n",
      "4     176\n",
      "     ... \n",
      "28     57\n",
      "39     56\n",
      "44     51\n",
      "36     50\n",
      "0      11\n",
      "Name: tenure, Length: 73, dtype: int64\n",
      "---- phone_service ---\n",
      "Yes    6361\n",
      "No      682\n",
      "Name: phone_service, dtype: int64\n",
      "---- multiple_lines ---\n",
      "No                  3390\n",
      "Yes                 2971\n",
      "No phone service     682\n",
      "Name: multiple_lines, dtype: int64\n",
      "---- internet_service_type_id ---\n",
      "2    3096\n",
      "1    2421\n",
      "3    1526\n",
      "Name: internet_service_type_id, dtype: int64\n",
      "---- online_security ---\n",
      "No                     3498\n",
      "Yes                    2019\n",
      "No internet service    1526\n",
      "Name: online_security, dtype: int64\n",
      "---- online_backup ---\n",
      "No                     3088\n",
      "Yes                    2429\n",
      "No internet service    1526\n",
      "Name: online_backup, dtype: int64\n",
      "---- device_protection ---\n",
      "No                     3095\n",
      "Yes                    2422\n",
      "No internet service    1526\n",
      "Name: device_protection, dtype: int64\n",
      "---- tech_support ---\n",
      "No                     3473\n",
      "Yes                    2044\n",
      "No internet service    1526\n",
      "Name: tech_support, dtype: int64\n",
      "---- streaming_tv ---\n",
      "No                     2810\n",
      "Yes                    2707\n",
      "No internet service    1526\n",
      "Name: streaming_tv, dtype: int64\n",
      "---- streaming_movies ---\n",
      "No                     2785\n",
      "Yes                    2732\n",
      "No internet service    1526\n",
      "Name: streaming_movies, dtype: int64\n",
      "---- contract_type_id ---\n",
      "1    3875\n",
      "3    1695\n",
      "2    1473\n",
      "Name: contract_type_id, dtype: int64\n",
      "---- paperless_billing ---\n",
      "Yes    4171\n",
      "No     2872\n",
      "Name: paperless_billing, dtype: int64\n",
      "---- payment_type_id ---\n",
      "1    2365\n",
      "2    1612\n",
      "3    1544\n",
      "4    1522\n",
      "Name: payment_type_id, dtype: int64\n",
      "---- monthly_charges ---\n",
      "20.05     61\n",
      "19.85     45\n",
      "19.90     44\n",
      "19.95     44\n",
      "20.00     43\n",
      "          ..\n",
      "30.30      1\n",
      "56.45      1\n",
      "117.50     1\n",
      "40.00      1\n",
      "97.25      1\n",
      "Name: monthly_charges, Length: 1585, dtype: int64\n",
      "---- total_charges ---\n",
      "20.2       11\n",
      "           11\n",
      "19.75       9\n",
      "19.9        8\n",
      "19.65       8\n",
      "           ..\n",
      "262.3       1\n",
      "1937.4      1\n",
      "406.95      1\n",
      "4287.2      1\n",
      "5135.15     1\n",
      "Name: total_charges, Length: 6531, dtype: int64\n",
      "---- churn ---\n",
      "No     5174\n",
      "Yes    1869\n",
      "Name: churn, dtype: int64\n",
      "---- contract_type ---\n",
      "Month-to-month    3875\n",
      "Two year          1695\n",
      "One year          1473\n",
      "Name: contract_type, dtype: int64\n",
      "---- internet_service_type ---\n",
      "Fiber optic    3096\n",
      "DSL            2421\n",
      "None           1526\n",
      "Name: internet_service_type, dtype: int64\n",
      "---- payment_type ---\n",
      "Electronic check             2365\n",
      "Mailed check                 1612\n",
      "Bank transfer (automatic)    1544\n",
      "Credit card (automatic)      1522\n",
      "Name: payment_type, dtype: int64\n"
     ]
    }
   ],
   "source": [
    "for c in df.columns:\n",
    "    print (\"---- %s ---\" % c)\n",
    "    print (df[c].value_counts())"
   ]
  },
  {
   "cell_type": "markdown",
   "id": "859c7bd5",
   "metadata": {},
   "source": [
    "## Prepare the data"
   ]
  },
  {
   "cell_type": "markdown",
   "id": "4f0f0f90",
   "metadata": {},
   "source": [
    "First we will make afunction that will split our data into `train`, `validate`, and `test`."
   ]
  },
  {
   "cell_type": "code",
   "execution_count": 55,
   "id": "1409a917",
   "metadata": {},
   "outputs": [],
   "source": [
    "def split_data(df):\n",
    "    '''\n",
    "    take in a DataFrame and return train, validate, and test DataFrames; stratify on churn.\n",
    "    return train, validate, test DataFrames.\n",
    "    '''\n",
    "    \n",
    "    # splits df into train_validate and test using train_test_split() stratifying on churn to get an even mix of each churn, yes or no\n",
    "    train_validate, test = train_test_split(df, test_size=.2, random_state=123, stratify=df.has_churned)\n",
    "    \n",
    "    # splits train_validate into train and validate using train_test_split() stratifying on churn to get an even mix of each churn\n",
    "    train, validate = train_test_split(train_validate, \n",
    "                                       test_size=.3, \n",
    "                                       random_state=123, \n",
    "                                       stratify=train_validate.has_churned)\n",
    "    return train, validate, test"
   ]
  },
  {
   "cell_type": "code",
   "execution_count": 56,
   "id": "b65fdbb6",
   "metadata": {},
   "outputs": [],
   "source": [
    "def prep_telco(df):\n",
    "    ## First we will get rid of duplicate columns\n",
    "    df = df.loc[:,~df.columns.duplicated()]\n",
    "    \n",
    "    ##Add a numeric columns for churned or didn't churn\n",
    "    df['has_churned'] = df['churn'].replace({'No' : 0, 'Yes': 1})\n",
    "    \n",
    "    ##Add a numerical column for paperless billing\n",
    "    df['paperless_billing_numeric'] = df['paperless_billing'].replace({'No' : 0, 'Yes': 1})\n",
    "    \n",
    "    ## Now we will substitute the object values for dummy values that are easier to process. \n",
    "    dummy_df = pd.get_dummies(df[['partner', 'dependents', 'gender', 'phone_service', 'multiple_lines', 'online_security', 'online_backup', 'device_protection', 'tech_support', 'streaming_tv', 'streaming_movies']], drop_first=True)\n",
    "    \n",
    "    ##Concatenate our dummy values to our main Dataframe. \n",
    "    df = pd.concat([df, dummy_df], axis=1)\n",
    "    \n",
    "    ## Drop the redundant columns.\n",
    "    df = df.drop(columns = ['gender', 'partner', 'dependents', 'phone_service', 'multiple_lines', 'online_security', 'online_backup', 'device_protection', 'tech_support', 'streaming_tv', 'streaming_movies', 'contract_type', 'internet_service_type', 'payment_type', 'churn', 'paperless_billing'])\n",
    "    \n",
    "    ##Our column total_charges has some empty string values, so we will replace those values with a 0\n",
    "    \n",
    "    df[\"total_charges\"] = df.total_charges.replace(\" \", \"0\")\n",
    "    \n",
    "    ##Now we will convert the numbers in our total_charges and monthly_charges columns to floats. \n",
    "    df['total_charges'] = df.total_charges.astype(float)\n",
    "    \n",
    "    df['monthly_charges'] = df.monthly_charges.astype(float)\n",
    "    \n",
    "    ## Now we can split our data into train, validate, and test\n",
    "    \n",
    "     # split data into train, validate, test dfs\n",
    "    train, validate, test = split_data(df)\n",
    "    \n",
    "    return train, validate, test"
   ]
  },
  {
   "cell_type": "code",
   "execution_count": 57,
   "id": "53eb5688",
   "metadata": {},
   "outputs": [],
   "source": [
    "train, test, validate = prep_telco(df)"
   ]
  },
  {
   "cell_type": "code",
   "execution_count": 58,
   "id": "71bb21a9",
   "metadata": {},
   "outputs": [
    {
     "data": {
      "text/plain": [
       "Index(['customer_id', 'senior_citizen', 'tenure', 'internet_service_type_id',\n",
       "       'contract_type_id', 'payment_type_id', 'monthly_charges',\n",
       "       'total_charges', 'has_churned', 'paperless_billing_numeric',\n",
       "       'partner_Yes', 'dependents_Yes', 'gender_Male', 'phone_service_Yes',\n",
       "       'multiple_lines_No phone service', 'multiple_lines_Yes',\n",
       "       'online_security_No internet service', 'online_security_Yes',\n",
       "       'online_backup_No internet service', 'online_backup_Yes',\n",
       "       'device_protection_No internet service', 'device_protection_Yes',\n",
       "       'tech_support_No internet service', 'tech_support_Yes',\n",
       "       'streaming_tv_No internet service', 'streaming_tv_Yes',\n",
       "       'streaming_movies_No internet service', 'streaming_movies_Yes'],\n",
       "      dtype='object')"
      ]
     },
     "execution_count": 58,
     "metadata": {},
     "output_type": "execute_result"
    }
   ],
   "source": [
    "train.columns"
   ]
  },
  {
   "cell_type": "code",
   "execution_count": 59,
   "id": "b6088c8c",
   "metadata": {},
   "outputs": [
    {
     "data": {
      "text/html": [
       "<div>\n",
       "<style scoped>\n",
       "    .dataframe tbody tr th:only-of-type {\n",
       "        vertical-align: middle;\n",
       "    }\n",
       "\n",
       "    .dataframe tbody tr th {\n",
       "        vertical-align: top;\n",
       "    }\n",
       "\n",
       "    .dataframe thead th {\n",
       "        text-align: right;\n",
       "    }\n",
       "</style>\n",
       "<table border=\"1\" class=\"dataframe\">\n",
       "  <thead>\n",
       "    <tr style=\"text-align: right;\">\n",
       "      <th></th>\n",
       "      <th>customer_id</th>\n",
       "      <th>senior_citizen</th>\n",
       "      <th>tenure</th>\n",
       "      <th>internet_service_type_id</th>\n",
       "      <th>contract_type_id</th>\n",
       "      <th>payment_type_id</th>\n",
       "      <th>monthly_charges</th>\n",
       "      <th>total_charges</th>\n",
       "      <th>has_churned</th>\n",
       "      <th>paperless_billing_numeric</th>\n",
       "      <th>...</th>\n",
       "      <th>online_backup_No internet service</th>\n",
       "      <th>online_backup_Yes</th>\n",
       "      <th>device_protection_No internet service</th>\n",
       "      <th>device_protection_Yes</th>\n",
       "      <th>tech_support_No internet service</th>\n",
       "      <th>tech_support_Yes</th>\n",
       "      <th>streaming_tv_No internet service</th>\n",
       "      <th>streaming_tv_Yes</th>\n",
       "      <th>streaming_movies_No internet service</th>\n",
       "      <th>streaming_movies_Yes</th>\n",
       "    </tr>\n",
       "  </thead>\n",
       "  <tbody>\n",
       "    <tr>\n",
       "      <th>5642</th>\n",
       "      <td>1982-FEBTD</td>\n",
       "      <td>0</td>\n",
       "      <td>23</td>\n",
       "      <td>3</td>\n",
       "      <td>3</td>\n",
       "      <td>4</td>\n",
       "      <td>25.60</td>\n",
       "      <td>514.75</td>\n",
       "      <td>0</td>\n",
       "      <td>1</td>\n",
       "      <td>...</td>\n",
       "      <td>1</td>\n",
       "      <td>0</td>\n",
       "      <td>1</td>\n",
       "      <td>0</td>\n",
       "      <td>1</td>\n",
       "      <td>0</td>\n",
       "      <td>1</td>\n",
       "      <td>0</td>\n",
       "      <td>1</td>\n",
       "      <td>0</td>\n",
       "    </tr>\n",
       "    <tr>\n",
       "      <th>3338</th>\n",
       "      <td>8982-NHAVY</td>\n",
       "      <td>0</td>\n",
       "      <td>27</td>\n",
       "      <td>2</td>\n",
       "      <td>2</td>\n",
       "      <td>3</td>\n",
       "      <td>100.50</td>\n",
       "      <td>2673.45</td>\n",
       "      <td>0</td>\n",
       "      <td>1</td>\n",
       "      <td>...</td>\n",
       "      <td>0</td>\n",
       "      <td>0</td>\n",
       "      <td>0</td>\n",
       "      <td>1</td>\n",
       "      <td>0</td>\n",
       "      <td>0</td>\n",
       "      <td>0</td>\n",
       "      <td>1</td>\n",
       "      <td>0</td>\n",
       "      <td>1</td>\n",
       "    </tr>\n",
       "    <tr>\n",
       "      <th>4273</th>\n",
       "      <td>4115-NZRKS</td>\n",
       "      <td>1</td>\n",
       "      <td>7</td>\n",
       "      <td>2</td>\n",
       "      <td>1</td>\n",
       "      <td>1</td>\n",
       "      <td>89.15</td>\n",
       "      <td>574.35</td>\n",
       "      <td>0</td>\n",
       "      <td>1</td>\n",
       "      <td>...</td>\n",
       "      <td>0</td>\n",
       "      <td>0</td>\n",
       "      <td>0</td>\n",
       "      <td>0</td>\n",
       "      <td>0</td>\n",
       "      <td>0</td>\n",
       "      <td>0</td>\n",
       "      <td>1</td>\n",
       "      <td>0</td>\n",
       "      <td>1</td>\n",
       "    </tr>\n",
       "    <tr>\n",
       "      <th>2382</th>\n",
       "      <td>9633-DENPU</td>\n",
       "      <td>0</td>\n",
       "      <td>47</td>\n",
       "      <td>1</td>\n",
       "      <td>1</td>\n",
       "      <td>3</td>\n",
       "      <td>58.60</td>\n",
       "      <td>2723.40</td>\n",
       "      <td>0</td>\n",
       "      <td>1</td>\n",
       "      <td>...</td>\n",
       "      <td>0</td>\n",
       "      <td>1</td>\n",
       "      <td>0</td>\n",
       "      <td>0</td>\n",
       "      <td>0</td>\n",
       "      <td>0</td>\n",
       "      <td>0</td>\n",
       "      <td>1</td>\n",
       "      <td>0</td>\n",
       "      <td>0</td>\n",
       "    </tr>\n",
       "    <tr>\n",
       "      <th>2655</th>\n",
       "      <td>5693-PIPCS</td>\n",
       "      <td>0</td>\n",
       "      <td>41</td>\n",
       "      <td>2</td>\n",
       "      <td>3</td>\n",
       "      <td>4</td>\n",
       "      <td>99.65</td>\n",
       "      <td>4220.35</td>\n",
       "      <td>0</td>\n",
       "      <td>1</td>\n",
       "      <td>...</td>\n",
       "      <td>0</td>\n",
       "      <td>1</td>\n",
       "      <td>0</td>\n",
       "      <td>0</td>\n",
       "      <td>0</td>\n",
       "      <td>1</td>\n",
       "      <td>0</td>\n",
       "      <td>1</td>\n",
       "      <td>0</td>\n",
       "      <td>1</td>\n",
       "    </tr>\n",
       "  </tbody>\n",
       "</table>\n",
       "<p>5 rows × 28 columns</p>\n",
       "</div>"
      ],
      "text/plain": [
       "     customer_id  senior_citizen  tenure  internet_service_type_id  \\\n",
       "5642  1982-FEBTD               0      23                         3   \n",
       "3338  8982-NHAVY               0      27                         2   \n",
       "4273  4115-NZRKS               1       7                         2   \n",
       "2382  9633-DENPU               0      47                         1   \n",
       "2655  5693-PIPCS               0      41                         2   \n",
       "\n",
       "      contract_type_id  payment_type_id  monthly_charges  total_charges  \\\n",
       "5642                 3                4            25.60         514.75   \n",
       "3338                 2                3           100.50        2673.45   \n",
       "4273                 1                1            89.15         574.35   \n",
       "2382                 1                3            58.60        2723.40   \n",
       "2655                 3                4            99.65        4220.35   \n",
       "\n",
       "      has_churned  paperless_billing_numeric  ...  \\\n",
       "5642            0                          1  ...   \n",
       "3338            0                          1  ...   \n",
       "4273            0                          1  ...   \n",
       "2382            0                          1  ...   \n",
       "2655            0                          1  ...   \n",
       "\n",
       "      online_backup_No internet service  online_backup_Yes  \\\n",
       "5642                                  1                  0   \n",
       "3338                                  0                  0   \n",
       "4273                                  0                  0   \n",
       "2382                                  0                  1   \n",
       "2655                                  0                  1   \n",
       "\n",
       "      device_protection_No internet service  device_protection_Yes  \\\n",
       "5642                                      1                      0   \n",
       "3338                                      0                      1   \n",
       "4273                                      0                      0   \n",
       "2382                                      0                      0   \n",
       "2655                                      0                      0   \n",
       "\n",
       "      tech_support_No internet service  tech_support_Yes  \\\n",
       "5642                                 1                 0   \n",
       "3338                                 0                 0   \n",
       "4273                                 0                 0   \n",
       "2382                                 0                 0   \n",
       "2655                                 0                 1   \n",
       "\n",
       "      streaming_tv_No internet service  streaming_tv_Yes  \\\n",
       "5642                                 1                 0   \n",
       "3338                                 0                 1   \n",
       "4273                                 0                 1   \n",
       "2382                                 0                 1   \n",
       "2655                                 0                 1   \n",
       "\n",
       "      streaming_movies_No internet service  streaming_movies_Yes  \n",
       "5642                                     1                     0  \n",
       "3338                                     0                     1  \n",
       "4273                                     0                     1  \n",
       "2382                                     0                     0  \n",
       "2655                                     0                     1  \n",
       "\n",
       "[5 rows x 28 columns]"
      ]
     },
     "execution_count": 59,
     "metadata": {},
     "output_type": "execute_result"
    }
   ],
   "source": [
    "train.head()"
   ]
  },
  {
   "cell_type": "markdown",
   "id": "1850c8d8",
   "metadata": {},
   "source": [
    "We will prepare a dictionary of our data after we have cleaned it."
   ]
  },
  {
   "cell_type": "code",
   "execution_count": 60,
   "id": "d13d45b2",
   "metadata": {},
   "outputs": [],
   "source": [
    "dictionary_clean_data = {\n",
    "    'Feature' : [\n",
    "                'customer_id', \n",
    "                'senior_citizen', \n",
    "                'tenure',\n",
    "                'internet_service_type_id', \n",
    "                'contract_type_id',\n",
    "                'payment_type_id', \n",
    "                'monthly_charges',\n",
    "                'total_charges',\n",
    "                'has_churned',\n",
    "                'paperless_billing_numeric',\n",
    "                'partner_Yes',\n",
    "                'dependents_Yes',\n",
    "                'gender_Male',\n",
    "                'phone_service_Yes',\n",
    "                'multiple_lines_No phone service',\n",
    "                'online_security_No internet service',\n",
    "                'online_security_Yes', \n",
    "                'online_backup_No internet service', \n",
    "                'online_backup_Yes', \n",
    "                'device_protection_No internet service', \n",
    "                'device_protection_Yes', \n",
    "                'tech_support_No internet service', \n",
    "                'tech_support_Yes', \n",
    "                'streaming_tv_No internet service', \n",
    "                'streaming_tv_Yes', \n",
    "                'streaming_movies_No internet service', \n",
    "                'streaming_movies_Yes',\n",
    "                ],\n",
    "    'Dataype' : [\n",
    "                train.dtypes['customer_id'], \n",
    "                train.dtypes['senior_citizen'],\n",
    "                train.dtypes['tenure'],\n",
    "                train.dtypes['internet_service_type_id'],\n",
    "                train.dtypes['contract_type_id'],\n",
    "                train.dtypes['payment_type_id'],\n",
    "                train.dtypes['monthly_charges'],\n",
    "                train.dtypes['total_charges'],\n",
    "                train.dtypes['has_churned'],\n",
    "                train.dtypes['paperless_billing_numeric'],\n",
    "                train.dtypes['partner_Yes'],\n",
    "                train.dtypes['dependents_Yes'],\n",
    "                train.dtypes['gender_Male'],\n",
    "                train.dtypes['phone_service_Yes'],\n",
    "                train.dtypes['multiple_lines_No phone service'],\n",
    "                train.dtypes['online_security_No internet service'],\n",
    "                train.dtypes['online_security_Yes'],\n",
    "                train.dtypes['online_backup_No internet service'],\n",
    "                train.dtypes['online_backup_Yes'],\n",
    "                train.dtypes['device_protection_No internet service'], \n",
    "                train.dtypes['device_protection_Yes'],\n",
    "                train.dtypes['tech_support_No internet service'],\n",
    "                train.dtypes['tech_support_Yes'],\n",
    "                train.dtypes['streaming_tv_No internet service'],\n",
    "                train.dtypes['streaming_tv_Yes'],\n",
    "                train.dtypes['streaming_movies_No internet service'],\n",
    "                train.dtypes['streaming_movies_Yes'],\n",
    "                ],\n",
    "    'Definition' : [\n",
    "                    'Identification number for customer', \n",
    "                    '0 for not senior citizen, 1 for senior citizen', \n",
    "                    'Months the customer has been with the company',\n",
    "                    '1 for DSL, 2 for Fiber Optic, 3 for None', \n",
    "                    '1 for month-to-month, 2 for year, and 3 for two-year contract', \n",
    "                    '1 for electronic check, 2 for mailed check, 3 for automatic bank transfer, 4 for automatic credit card payment',\n",
    "                    'Charges a customer pays per months',\n",
    "                    'Total charges a customer has paid',\n",
    "                    '0 for has not churned, 1 for has churned',\n",
    "                    '0 for non-paperless billing, 1 for paperless billing',\n",
    "                    '0 for no partner, 1 for has partner',\n",
    "                    '0 for no dependents, 1 for has dependents',\n",
    "                    '0 for female, 1 for male',\n",
    "                    '0 for no phone service, 1 for phone service',\n",
    "                    '0 for phone service, 1 for no phone service',\n",
    "                    '0 for internet service, 1 for no internet service',\n",
    "                    '0 for no online security, 1 for online security',\n",
    "                    '0 for internet service, 1 for no internet service',\n",
    "                    '0 for no online backup, 1 for online backup',\n",
    "                    '0 for internet service, 1 for no internet service',\n",
    "                    '0 for no device protection, 1 for device protection',\n",
    "                    '0 for internet service, 1 for no internet service',\n",
    "                    '0 for no tech support, 1 for tech support',\n",
    "                    '0 for internet service, 1 for no internet service',\n",
    "                    '0 for no streaming TV, 1 for streaming TV',\n",
    "                    '0 for internet service, 1 for no internet service',\n",
    "                    '0 for no streaming movies, 1 for streaming movies',\n",
    "                    ],\n",
    "}"
   ]
  },
  {
   "cell_type": "code",
   "execution_count": 61,
   "id": "cffde3bc",
   "metadata": {},
   "outputs": [],
   "source": [
    "df_clean_data = pd.DataFrame(dictionary_clean_data)"
   ]
  },
  {
   "cell_type": "code",
   "execution_count": 62,
   "id": "05dd8702",
   "metadata": {
    "scrolled": false
   },
   "outputs": [
    {
     "name": "stdout",
     "output_type": "stream",
     "text": [
      "| Feature                               | Dataype   | Definition                                                                                                     |\n",
      "|:--------------------------------------|:----------|:---------------------------------------------------------------------------------------------------------------|\n",
      "| customer_id                           | object    | Identification number for customer                                                                             |\n",
      "| senior_citizen                        | int64     | 0 for not senior citizen, 1 for senior citizen                                                                 |\n",
      "| tenure                                | int64     | Months the customer has been with the company                                                                  |\n",
      "| internet_service_type_id              | int64     | 1 for DSL, 2 for Fiber Optic, 3 for None                                                                       |\n",
      "| contract_type_id                      | int64     | 1 for month-to-month, 2 for year, and 3 for two-year contract                                                  |\n",
      "| payment_type_id                       | int64     | 1 for electronic check, 2 for mailed check, 3 for automatic bank transfer, 4 for automatic credit card payment |\n",
      "| monthly_charges                       | float64   | Charges a customer pays per months                                                                             |\n",
      "| total_charges                         | float64   | Total charges a customer has paid                                                                              |\n",
      "| has_churned                           | int64     | 0 for has not churned, 1 for has churned                                                                       |\n",
      "| paperless_billing_numeric             | int64     | 0 for non-paperless billing, 1 for paperless billing                                                           |\n",
      "| partner_Yes                           | uint8     | 0 for no partner, 1 for has partner                                                                            |\n",
      "| dependents_Yes                        | uint8     | 0 for no dependents, 1 for has dependents                                                                      |\n",
      "| gender_Male                           | uint8     | 0 for female, 1 for male                                                                                       |\n",
      "| phone_service_Yes                     | uint8     | 0 for no phone service, 1 for phone service                                                                    |\n",
      "| multiple_lines_No phone service       | uint8     | 0 for phone service, 1 for no phone service                                                                    |\n",
      "| online_security_No internet service   | uint8     | 0 for internet service, 1 for no internet service                                                              |\n",
      "| online_security_Yes                   | uint8     | 0 for no online security, 1 for online security                                                                |\n",
      "| online_backup_No internet service     | uint8     | 0 for internet service, 1 for no internet service                                                              |\n",
      "| online_backup_Yes                     | uint8     | 0 for no online backup, 1 for online backup                                                                    |\n",
      "| device_protection_No internet service | uint8     | 0 for internet service, 1 for no internet service                                                              |\n",
      "| device_protection_Yes                 | uint8     | 0 for no device protection, 1 for device protection                                                            |\n",
      "| tech_support_No internet service      | uint8     | 0 for internet service, 1 for no internet service                                                              |\n",
      "| tech_support_Yes                      | uint8     | 0 for no tech support, 1 for tech support                                                                      |\n",
      "| streaming_tv_No internet service      | uint8     | 0 for internet service, 1 for no internet service                                                              |\n",
      "| streaming_tv_Yes                      | uint8     | 0 for no streaming TV, 1 for streaming TV                                                                      |\n",
      "| streaming_movies_No internet service  | uint8     | 0 for internet service, 1 for no internet service                                                              |\n",
      "| streaming_movies_Yes                  | uint8     | 0 for no streaming movies, 1 for streaming movies                                                              |\n"
     ]
    }
   ],
   "source": [
    "print(df_clean_data.to_markdown(index=False))"
   ]
  },
  {
   "cell_type": "markdown",
   "id": "0427853f",
   "metadata": {},
   "source": [
    "## Initial Hypothesis Testing"
   ]
  },
  {
   "cell_type": "markdown",
   "id": "77dc7cbc",
   "metadata": {},
   "source": [
    "For all of the following hypotheses we will set $\\alpha = 0.05 $. "
   ]
  },
  {
   "cell_type": "markdown",
   "id": "d3e1a43e",
   "metadata": {},
   "source": [
    "### Hypothesis 1"
   ]
  },
  {
   "cell_type": "markdown",
   "id": "96146938",
   "metadata": {},
   "source": [
    "**Formulate hypotheses**"
   ]
  },
  {
   "cell_type": "markdown",
   "id": "d65dffee",
   "metadata": {},
   "source": [
    "$H_0$: There is no difference in the churn rate for customers on month-to-month contracts and the churn rate for customers on either year or two-year contracts. "
   ]
  },
  {
   "cell_type": "markdown",
   "id": "0e341caf",
   "metadata": {},
   "source": [
    "$H_a$: There is a significant difference in the churn rate for customers on month-to-month contracts and the churn rate for customers on either year or two-yera contracts. "
   ]
  },
  {
   "cell_type": "markdown",
   "id": "d554d738",
   "metadata": {},
   "source": [
    "**Get data**"
   ]
  },
  {
   "cell_type": "code",
   "execution_count": 63,
   "id": "c79bdc21",
   "metadata": {},
   "outputs": [],
   "source": [
    "month_to_month_customers = train[train.contract_type_id == 1]"
   ]
  },
  {
   "cell_type": "code",
   "execution_count": 64,
   "id": "d05cec19",
   "metadata": {},
   "outputs": [],
   "source": [
    "year_and_two_year_customers = train[train.contract_type_id != 1]"
   ]
  },
  {
   "cell_type": "markdown",
   "id": "7fc90730",
   "metadata": {},
   "source": [
    "**Compute p value and test statistic**"
   ]
  },
  {
   "cell_type": "code",
   "execution_count": 65,
   "id": "c4903117",
   "metadata": {
    "scrolled": true
   },
   "outputs": [],
   "source": [
    "tstat, p = stats.ttest_ind(month_to_month_customers.has_churned, year_and_two_year_customers.has_churned)"
   ]
  },
  {
   "cell_type": "code",
   "execution_count": 66,
   "id": "22fbcb02",
   "metadata": {},
   "outputs": [
    {
     "data": {
      "text/plain": [
       "28.150653344431294"
      ]
     },
     "execution_count": 66,
     "metadata": {},
     "output_type": "execute_result"
    }
   ],
   "source": [
    "tstat"
   ]
  },
  {
   "cell_type": "code",
   "execution_count": 67,
   "id": "0b1afb19",
   "metadata": {},
   "outputs": [
    {
     "data": {
      "text/plain": [
       "4.950197678770975e-159"
      ]
     },
     "execution_count": 67,
     "metadata": {},
     "output_type": "execute_result"
    }
   ],
   "source": [
    "p"
   ]
  },
  {
   "cell_type": "markdown",
   "id": "f3690d98",
   "metadata": {},
   "source": [
    "**Make a conclusion based on our data**"
   ]
  },
  {
   "cell_type": "markdown",
   "id": "4af32e22",
   "metadata": {},
   "source": [
    "Since our p value is less than 0.05, we can conclude that there is a significant difference between the month-to-month customer churn rate and the year-to-year and two-year customer churn rates. "
   ]
  },
  {
   "cell_type": "markdown",
   "id": "afb96588",
   "metadata": {},
   "source": [
    "**Chart indicating correlation**"
   ]
  },
  {
   "cell_type": "code",
   "execution_count": 68,
   "id": "729e4c42",
   "metadata": {},
   "outputs": [
    {
     "data": {
      "image/png": "[encoded data removed]",
      "text/plain": [
       "<Figure size 432x288 with 1 Axes>"
      ]
     },
     "metadata": {
      "needs_background": "light"
     },
     "output_type": "display_data"
    }
   ],
   "source": [
    "churn_counts_by_contract = sns.countplot(x='has_churned', data=train[train.has_churned == 1], hue = \"contract_type_id\")"
   ]
  },
  {
   "cell_type": "markdown",
   "id": "83ba7dcf",
   "metadata": {},
   "source": [
    "### Hypothesis 2"
   ]
  },
  {
   "cell_type": "markdown",
   "id": "b3229e1a",
   "metadata": {},
   "source": [
    "**Formulate hypotheses**"
   ]
  },
  {
   "cell_type": "markdown",
   "id": "a91b45f5",
   "metadata": {},
   "source": [
    "$H_0$: There is no correlation between customer churn rate and monthly charges. \n",
    "\n",
    "$H_a$: There is a correlation between customer churn rate and monthly charges."
   ]
  },
  {
   "cell_type": "markdown",
   "id": "26ed21fa",
   "metadata": {},
   "source": [
    "**Get data**"
   ]
  },
  {
   "cell_type": "code",
   "execution_count": 69,
   "id": "161420dc",
   "metadata": {},
   "outputs": [],
   "source": [
    "churn_rate = train.has_churned\n",
    "monthly_charges = train.monthly_charges"
   ]
  },
  {
   "cell_type": "markdown",
   "id": "52522915",
   "metadata": {},
   "source": [
    "**Compute p value and correlation**"
   ]
  },
  {
   "cell_type": "code",
   "execution_count": 70,
   "id": "cd5cfa7c",
   "metadata": {},
   "outputs": [
    {
     "data": {
      "text/plain": [
       "(0.18903970957264357, 4.816687112552436e-33)"
      ]
     },
     "execution_count": 70,
     "metadata": {},
     "output_type": "execute_result"
    }
   ],
   "source": [
    "corr, p = stats.pearsonr(churn_rate, monthly_charges)\n",
    "corr, p"
   ]
  },
  {
   "cell_type": "markdown",
   "id": "35961dc6",
   "metadata": {},
   "source": [
    "**Make conclusion based on our data**"
   ]
  },
  {
   "cell_type": "markdown",
   "id": "60dc1495",
   "metadata": {},
   "source": [
    "Our p-value is less than 0.05. We reject the null hypothesis and conclude that churn rate and monthly charges are correlated."
   ]
  },
  {
   "cell_type": "markdown",
   "id": "88ca10cb",
   "metadata": {},
   "source": [
    "**Chart indicating correlation**"
   ]
  },
  {
   "cell_type": "code",
   "execution_count": 71,
   "id": "0a0dafc5",
   "metadata": {},
   "outputs": [
    {
     "data": {
      "image/png": "[encoded data removed]",
      "text/plain": [
       "<Figure size 432x288 with 1 Axes>"
      ]
     },
     "metadata": {
      "needs_background": "light"
     },
     "output_type": "display_data"
    }
   ],
   "source": [
    "churn_by_monthly_charges = sns.histplot(\n",
    "    x=train.monthly_charges, hue=train.has_churned, element = 'step'\n",
    ")"
   ]
  },
  {
   "cell_type": "markdown",
   "id": "eb83cdf0",
   "metadata": {},
   "source": [
    "**We need the following data for our next hypotheses**"
   ]
  },
  {
   "cell_type": "code",
   "execution_count": 72,
   "id": "4de9e318",
   "metadata": {},
   "outputs": [],
   "source": [
    "train_has_churned = train[train.has_churned == 1]"
   ]
  },
  {
   "cell_type": "code",
   "execution_count": 73,
   "id": "aa20345e",
   "metadata": {},
   "outputs": [],
   "source": [
    "train_no_churn = train[train.has_churned == 0]"
   ]
  },
  {
   "cell_type": "markdown",
   "id": "39227dea",
   "metadata": {},
   "source": [
    "### Hypothesis 3"
   ]
  },
  {
   "cell_type": "markdown",
   "id": "c0289461",
   "metadata": {},
   "source": [
    "**Formulate hypotheses**"
   ]
  },
  {
   "cell_type": "markdown",
   "id": "c54797fd",
   "metadata": {},
   "source": [
    "$H_0$: There is no significant difference between the mean tenure for customers who didn't churn and customers who did churn. \n",
    "\n",
    "$H_a$: There is a significant difference between the mean tenure for customers who churned and customers who did churn. "
   ]
  },
  {
   "cell_type": "markdown",
   "id": "d8fbb611",
   "metadata": {},
   "source": [
    "**Compute statistic and p value**"
   ]
  },
  {
   "cell_type": "code",
   "execution_count": 74,
   "id": "ff7e9d3d",
   "metadata": {},
   "outputs": [
    {
     "data": {
      "text/plain": [
       "MannwhitneyuResult(statistic=787745.5, pvalue=5.978994288055496e-118)"
      ]
     },
     "execution_count": 74,
     "metadata": {},
     "output_type": "execute_result"
    }
   ],
   "source": [
    "stats.mannwhitneyu(train_has_churned['tenure'], train_no_churn['tenure'], use_continuity=True)"
   ]
  },
  {
   "cell_type": "markdown",
   "id": "f73c0c83",
   "metadata": {},
   "source": [
    "Because our p value is less than 0.05, we conclude that the mean tenure for customers who churned is signficantly different from the mean tenure for customers who didn't churn. "
   ]
  },
  {
   "cell_type": "markdown",
   "id": "372f405b",
   "metadata": {},
   "source": [
    "**Graph**"
   ]
  },
  {
   "cell_type": "code",
   "execution_count": 75,
   "id": "df523f5a",
   "metadata": {},
   "outputs": [
    {
     "data": {
      "text/plain": [
       "<AxesSubplot:xlabel='tenure', ylabel='Count'>"
      ]
     },
     "execution_count": 75,
     "metadata": {},
     "output_type": "execute_result"
    },
    {
     "data": {
      "image/png": "[encoded data removed]",
      "text/plain": [
       "<Figure size 432x288 with 1 Axes>"
      ]
     },
     "metadata": {
      "needs_background": "light"
     },
     "output_type": "display_data"
    }
   ],
   "source": [
    "sns.histplot(x=train.tenure, hue=train.has_churned, element = 'step')"
   ]
  },
  {
   "cell_type": "markdown",
   "id": "445377ea",
   "metadata": {},
   "source": [
    "### Hypothesis 4"
   ]
  },
  {
   "cell_type": "markdown",
   "id": "7efff95f",
   "metadata": {},
   "source": [
    "**Formulate hypotheses**"
   ]
  },
  {
   "cell_type": "markdown",
   "id": "e02bf7a9",
   "metadata": {},
   "source": [
    "$H_0$: There is no significant difference in mean monthly charges for customers who have churned and customers who have not churned. \n",
    "\n",
    "$H_a$: There is a significant difference in mean monthly charges for customers who have churned and customers who have not churned."
   ]
  },
  {
   "cell_type": "markdown",
   "id": "54bac1cc",
   "metadata": {},
   "source": [
    "**Compute statistic and p value**"
   ]
  },
  {
   "cell_type": "code",
   "execution_count": 76,
   "id": "c865b6dd",
   "metadata": {},
   "outputs": [
    {
     "data": {
      "text/plain": [
       "MannwhitneyuResult(statistic=1160715.0, pvalue=1.4455529063493655e-29)"
      ]
     },
     "execution_count": 76,
     "metadata": {},
     "output_type": "execute_result"
    }
   ],
   "source": [
    "stats.mannwhitneyu(train_has_churned['monthly_charges'], train_no_churn['monthly_charges'], use_continuity=True)"
   ]
  },
  {
   "cell_type": "markdown",
   "id": "ba3d8324",
   "metadata": {},
   "source": [
    "Because our p value is less than 0.05, we reject the null hypothesis and conclude that mean monthly charges for customers who have churned are significantly different from mean monthly charges for customers who have not churned."
   ]
  },
  {
   "cell_type": "markdown",
   "id": "4a6efdb6",
   "metadata": {},
   "source": [
    "**Graph**"
   ]
  },
  {
   "cell_type": "code",
   "execution_count": 77,
   "id": "75a76720",
   "metadata": {},
   "outputs": [
    {
     "data": {
      "text/plain": [
       "<AxesSubplot:xlabel='monthly_charges', ylabel='Count'>"
      ]
     },
     "execution_count": 77,
     "metadata": {},
     "output_type": "execute_result"
    },
    {
     "data": {
      "image/png": "[encoded data removed]",
      "text/plain": [
       "<Figure size 432x288 with 1 Axes>"
      ]
     },
     "metadata": {
      "needs_background": "light"
     },
     "output_type": "display_data"
    }
   ],
   "source": [
    "sns.histplot(x=train.monthly_charges, hue = train.has_churned, element = 'step')"
   ]
  },
  {
   "cell_type": "markdown",
   "id": "43b92700",
   "metadata": {},
   "source": [
    "### Hypothesis 5"
   ]
  },
  {
   "cell_type": "markdown",
   "id": "02af9362",
   "metadata": {},
   "source": [
    "**Formulate hypotheses**"
   ]
  },
  {
   "cell_type": "markdown",
   "id": "cf53211b",
   "metadata": {},
   "source": [
    "$H_0$: There is no significant correlation between customer churn rates and contract type.\n",
    "\n",
    "$H_a$: There is a significant correlation between customer churn rates and contract type."
   ]
  },
  {
   "cell_type": "code",
   "execution_count": 78,
   "id": "8d9c3f04",
   "metadata": {},
   "outputs": [],
   "source": [
    "churn_rate = train.has_churned\n",
    "contract_type = train.contract_type_id"
   ]
  },
  {
   "cell_type": "markdown",
   "id": "1d8f6717",
   "metadata": {},
   "source": [
    "**Compute statistic and p value**"
   ]
  },
  {
   "cell_type": "code",
   "execution_count": 79,
   "id": "57c88a3b",
   "metadata": {},
   "outputs": [
    {
     "data": {
      "text/plain": [
       "(-0.3961558393959263, 2.572502613430288e-148)"
      ]
     },
     "execution_count": 79,
     "metadata": {},
     "output_type": "execute_result"
    }
   ],
   "source": [
    "corr, p = stats.pearsonr(churn_rate, contract_type)\n",
    "corr, p"
   ]
  },
  {
   "cell_type": "markdown",
   "id": "39951cc0",
   "metadata": {},
   "source": [
    "Because our p-value is less than 0.05, we reject the null hypothesis that is no significant correlation between customer churn rates and contract type."
   ]
  },
  {
   "cell_type": "markdown",
   "id": "24403f6e",
   "metadata": {},
   "source": [
    "**Graph**"
   ]
  },
  {
   "cell_type": "code",
   "execution_count": 80,
   "id": "36785c69",
   "metadata": {},
   "outputs": [
    {
     "data": {
      "image/png": "[encoded data removed]",
      "text/plain": [
       "<Figure size 432x288 with 1 Axes>"
      ]
     },
     "metadata": {
      "needs_background": "light"
     },
     "output_type": "display_data"
    }
   ],
   "source": [
    "churn_counts_by_contract = sns.countplot(x='has_churned', data=train, hue = \"contract_type_id\")"
   ]
  },
  {
   "cell_type": "markdown",
   "id": "f45d79da",
   "metadata": {},
   "source": [
    "### Hypothesis 6"
   ]
  },
  {
   "cell_type": "markdown",
   "id": "10c2b7a9",
   "metadata": {},
   "source": [
    "**Formulate hypotheses**"
   ]
  },
  {
   "cell_type": "markdown",
   "id": "9d9c4e2f",
   "metadata": {},
   "source": [
    "$H_0$: There is no significant correlation between churn rate and payment type ID.\n",
    "\n",
    "$H_a$: There is a significant correlation between churn rate and payment type ID. "
   ]
  },
  {
   "cell_type": "markdown",
   "id": "1b48e3b8",
   "metadata": {},
   "source": [
    "**Calculate statistic and p value**"
   ]
  },
  {
   "cell_type": "code",
   "execution_count": 81,
   "id": "29c328f1",
   "metadata": {},
   "outputs": [
    {
     "data": {
      "text/plain": [
       "(-0.2555831035581517, 7.653586167832065e-60)"
      ]
     },
     "execution_count": 81,
     "metadata": {},
     "output_type": "execute_result"
    }
   ],
   "source": [
    "corr, p = stats.pearsonr(churn_rate, train.payment_type_id)\n",
    "corr, p"
   ]
  },
  {
   "cell_type": "markdown",
   "id": "6153c579",
   "metadata": {},
   "source": [
    "Because or p-value is less than 0.05, we reject the null hypothesis that there is no significant correlation between churn rate and payment type."
   ]
  },
  {
   "cell_type": "code",
   "execution_count": 82,
   "id": "37941d04",
   "metadata": {},
   "outputs": [
    {
     "data": {
      "image/png": "[encoded data removed]",
      "text/plain": [
       "<Figure size 432x288 with 1 Axes>"
      ]
     },
     "metadata": {
      "needs_background": "light"
     },
     "output_type": "display_data"
    }
   ],
   "source": [
    "churn_rates_counts_by_contract = sns.countplot(x='has_churned', data=train[train.has_churned == 1], hue = \"contract_type_id\")"
   ]
  },
  {
   "cell_type": "markdown",
   "id": "d296e8de",
   "metadata": {},
   "source": [
    "### Hypothesis 7"
   ]
  },
  {
   "cell_type": "markdown",
   "id": "bcf73188",
   "metadata": {},
   "source": [
    "**Formulate hypotheses**"
   ]
  },
  {
   "cell_type": "markdown",
   "id": "345e970a",
   "metadata": {},
   "source": [
    "$H_0$: There is no significant correlation between internet service type ID and churn rate.\n",
    "\n",
    "$H_a$: There is a significant correlation between internet service type ID and churn rate."
   ]
  },
  {
   "cell_type": "markdown",
   "id": "b3404dc4",
   "metadata": {},
   "source": [
    "**Calculate statistic and p value**"
   ]
  },
  {
   "cell_type": "code",
   "execution_count": 83,
   "id": "224c2c3e",
   "metadata": {},
   "outputs": [
    {
     "data": {
      "text/plain": [
       "(-0.043897298986751675, 0.0058350104960837165)"
      ]
     },
     "execution_count": 83,
     "metadata": {},
     "output_type": "execute_result"
    }
   ],
   "source": [
    "corr, p = stats.pearsonr(churn_rate, train.internet_service_type_id)\n",
    "corr, p"
   ]
  },
  {
   "cell_type": "markdown",
   "id": "c306ad7c",
   "metadata": {},
   "source": [
    "Because our p value is less than 0.05, we reject the null hypothesis that there is no significant correlation between churn rate and internet service type ID."
   ]
  },
  {
   "cell_type": "markdown",
   "id": "89cfa749",
   "metadata": {},
   "source": [
    "**Graph**"
   ]
  },
  {
   "cell_type": "code",
   "execution_count": 84,
   "id": "32b7e7c4",
   "metadata": {},
   "outputs": [
    {
     "data": {
      "image/png": "[encoded data removed]",
      "text/plain": [
       "<Figure size 432x288 with 1 Axes>"
      ]
     },
     "metadata": {
      "needs_background": "light"
     },
     "output_type": "display_data"
    }
   ],
   "source": [
    "churn_counts_by_internet_service = sns.countplot(x='has_churned', data=train, hue = \"internet_service_type_id\")"
   ]
  },
  {
   "cell_type": "markdown",
   "id": "891a78f6",
   "metadata": {},
   "source": [
    "## Conclusions and Key Takeaways"
   ]
  },
  {
   "cell_type": "markdown",
   "id": "f0c98ba2",
   "metadata": {},
   "source": [
    "Based on our hypothesis testing, we conclude the following variables warrant further exploration for correlation with churn: \n",
    " - `contract_type_id` \n",
    " - `monthly_charges`\n",
    " - `tenure`\n",
    " - `payment_type_id`\n",
    "\n",
    "The variable `internet_service_type_id` does not warrant furhter exploration for correlation with churn.\n",
    " "
   ]
  },
  {
   "cell_type": "markdown",
   "id": "1fc8b12f",
   "metadata": {},
   "source": [
    "## Split data into X_train and y_train"
   ]
  },
  {
   "cell_type": "markdown",
   "id": "fb53a590",
   "metadata": {},
   "source": [
    "We will split our data into `X_train` and `y_train` so that we can run the data in our models."
   ]
  },
  {
   "cell_type": "code",
   "execution_count": 85,
   "id": "a8d17db0",
   "metadata": {},
   "outputs": [],
   "source": [
    "X_train, y_train = train.drop(columns='has_churned'), train.has_churned\n",
    "X_validate, y_validate = validate.drop(columns='has_churned'), validate.has_churned\n",
    "X_test, y_test = test.drop(columns='has_churned'), test.has_churned"
   ]
  },
  {
   "cell_type": "markdown",
   "id": "0780dd22",
   "metadata": {},
   "source": [
    "## Baseline Accuracy"
   ]
  },
  {
   "cell_type": "markdown",
   "id": "66a782fa",
   "metadata": {},
   "source": [
    "We will establish a baseline accuracy to compare to the accuracy of our models."
   ]
  },
  {
   "cell_type": "code",
   "execution_count": 86,
   "id": "ccdf3ad2",
   "metadata": {},
   "outputs": [
    {
     "data": {
      "text/plain": [
       "0    2897\n",
       "1    1046\n",
       "Name: has_churned, dtype: int64"
      ]
     },
     "execution_count": 86,
     "metadata": {},
     "output_type": "execute_result"
    }
   ],
   "source": [
    "train.has_churned.value_counts()"
   ]
  },
  {
   "cell_type": "markdown",
   "id": "a9ec4cb2",
   "metadata": {},
   "source": [
    "The majority of our customers have not churned, so our baseliene assumption is that cutsomers will not churn."
   ]
  },
  {
   "cell_type": "code",
   "execution_count": 87,
   "id": "6e7826c3",
   "metadata": {},
   "outputs": [],
   "source": [
    "model = DummyClassifier(strategy= 'constant', constant = 0)"
   ]
  },
  {
   "cell_type": "code",
   "execution_count": 88,
   "id": "47abb410",
   "metadata": {},
   "outputs": [
    {
     "data": {
      "text/plain": [
       "DummyClassifier(constant=0, strategy='constant')"
      ]
     },
     "execution_count": 88,
     "metadata": {},
     "output_type": "execute_result"
    }
   ],
   "source": [
    "model.fit(X_train, y_train)"
   ]
  },
  {
   "cell_type": "code",
   "execution_count": 89,
   "id": "5ecc288f",
   "metadata": {},
   "outputs": [
    {
     "name": "stdout",
     "output_type": "stream",
     "text": [
      "Training accuracy: 0.73\n"
     ]
    }
   ],
   "source": [
    "accuracy = round(model.score(X_train, y_train), 2)\n",
    "print(f'Training accuracy: {accuracy}')"
   ]
  },
  {
   "cell_type": "markdown",
   "id": "de9d1329",
   "metadata": {},
   "source": [
    "We will now compare the baseline accuracy to the accuracy of different models."
   ]
  },
  {
   "cell_type": "markdown",
   "id": "ec82239c",
   "metadata": {},
   "source": [
    "## Decision Tree"
   ]
  },
  {
   "cell_type": "markdown",
   "id": "044a29ff",
   "metadata": {},
   "source": [
    "To run our train data through the model, we need to drop customer id. "
   ]
  },
  {
   "cell_type": "code",
   "execution_count": 90,
   "id": "81d2962f",
   "metadata": {},
   "outputs": [],
   "source": [
    "X_train = X_train.drop(columns = ['customer_id'])"
   ]
  },
  {
   "cell_type": "code",
   "execution_count": 91,
   "id": "869bc372",
   "metadata": {},
   "outputs": [],
   "source": [
    "X_validate = X_validate.drop(columns = ['customer_id'])"
   ]
  },
  {
   "cell_type": "markdown",
   "id": "105e18cc",
   "metadata": {},
   "source": [
    "We will start with a Decision Tree of max depth 3."
   ]
  },
  {
   "cell_type": "code",
   "execution_count": 92,
   "id": "0fa6ce27",
   "metadata": {},
   "outputs": [],
   "source": [
    "clf1 = DecisionTreeClassifier(max_depth=3, random_state=123)"
   ]
  },
  {
   "cell_type": "markdown",
   "id": "360c2645",
   "metadata": {},
   "source": [
    "Fit the data."
   ]
  },
  {
   "cell_type": "code",
   "execution_count": 93,
   "id": "9f08209c",
   "metadata": {},
   "outputs": [],
   "source": [
    "clf1 = clf1.fit(X_train, y_train)"
   ]
  },
  {
   "cell_type": "code",
   "execution_count": 94,
   "id": "83bf719e",
   "metadata": {},
   "outputs": [
    {
     "data": {
      "text/plain": [
       "DecisionTreeClassifier(max_depth=3, random_state=123)"
      ]
     },
     "execution_count": 94,
     "metadata": {},
     "output_type": "execute_result"
    }
   ],
   "source": [
    "clf1"
   ]
  },
  {
   "cell_type": "markdown",
   "id": "3e5d26c3",
   "metadata": {},
   "source": [
    "Print a decision tree."
   ]
  },
  {
   "cell_type": "code",
   "execution_count": 95,
   "id": "dc67cd45",
   "metadata": {},
   "outputs": [
    {
     "data": {
      "text/plain": [
       "'telco_tree_1.pdf'"
      ]
     },
     "execution_count": 95,
     "metadata": {},
     "output_type": "execute_result"
    }
   ],
   "source": [
    "dot_data = export_graphviz(clf1, feature_names= X_train.columns, rounded=True, filled=True, out_file=None)\n",
    "graph = graphviz.Source(dot_data) \n",
    "\n",
    "graph.render('telco_tree_1', view=True)"
   ]
  },
  {
   "cell_type": "markdown",
   "id": "eb234d51",
   "metadata": {},
   "source": [
    "The tree indicates to us that the main predictor of churn is contract type. Customers with contract type ID 1 are more likely to churn than customers with contract type ID 2 and 3."
   ]
  },
  {
   "cell_type": "markdown",
   "id": "987bfe64",
   "metadata": {},
   "source": [
    "Of customers who have contract type iD one, the biggest predictor of churn is monthly charges less than 64.43."
   ]
  },
  {
   "cell_type": "markdown",
   "id": "2fc9af0b",
   "metadata": {},
   "source": [
    "3 is a year contract, 2 is yearly, 1 is month to month"
   ]
  },
  {
   "cell_type": "markdown",
   "id": "083052cd",
   "metadata": {},
   "source": [
    "### Probability of churn"
   ]
  },
  {
   "cell_type": "markdown",
   "id": "bb163295",
   "metadata": {},
   "source": [
    "**Train dataset**"
   ]
  },
  {
   "cell_type": "code",
   "execution_count": 96,
   "id": "6e8e184c",
   "metadata": {},
   "outputs": [],
   "source": [
    "y_pred = clf1.predict(X_train)"
   ]
  },
  {
   "cell_type": "code",
   "execution_count": 97,
   "id": "c27316c5",
   "metadata": {},
   "outputs": [],
   "source": [
    "y_pred_proba = clf1.predict_proba(X_train)"
   ]
  },
  {
   "cell_type": "code",
   "execution_count": 98,
   "id": "15dcdcb2",
   "metadata": {},
   "outputs": [
    {
     "data": {
      "text/html": [
       "<div>\n",
       "<style scoped>\n",
       "    .dataframe tbody tr th:only-of-type {\n",
       "        vertical-align: middle;\n",
       "    }\n",
       "\n",
       "    .dataframe tbody tr th {\n",
       "        vertical-align: top;\n",
       "    }\n",
       "\n",
       "    .dataframe thead th {\n",
       "        text-align: right;\n",
       "    }\n",
       "</style>\n",
       "<table border=\"1\" class=\"dataframe\">\n",
       "  <thead>\n",
       "    <tr style=\"text-align: right;\">\n",
       "      <th></th>\n",
       "      <th>0</th>\n",
       "      <th>1</th>\n",
       "    </tr>\n",
       "  </thead>\n",
       "  <tbody>\n",
       "    <tr>\n",
       "      <th>0</th>\n",
       "      <td>0.983914</td>\n",
       "      <td>0.016086</td>\n",
       "    </tr>\n",
       "    <tr>\n",
       "      <th>1</th>\n",
       "      <td>0.808442</td>\n",
       "      <td>0.191558</td>\n",
       "    </tr>\n",
       "    <tr>\n",
       "      <th>2</th>\n",
       "      <td>0.254808</td>\n",
       "      <td>0.745192</td>\n",
       "    </tr>\n",
       "    <tr>\n",
       "      <th>3</th>\n",
       "      <td>0.793834</td>\n",
       "      <td>0.206166</td>\n",
       "    </tr>\n",
       "    <tr>\n",
       "      <th>4</th>\n",
       "      <td>0.808442</td>\n",
       "      <td>0.191558</td>\n",
       "    </tr>\n",
       "  </tbody>\n",
       "</table>\n",
       "</div>"
      ],
      "text/plain": [
       "          0         1\n",
       "0  0.983914  0.016086\n",
       "1  0.808442  0.191558\n",
       "2  0.254808  0.745192\n",
       "3  0.793834  0.206166\n",
       "4  0.808442  0.191558"
      ]
     },
     "execution_count": 98,
     "metadata": {},
     "output_type": "execute_result"
    }
   ],
   "source": [
    "y_probability = pd.DataFrame(y_pred_proba)\n",
    "y_probability.head()"
   ]
  },
  {
   "cell_type": "markdown",
   "id": "49194913",
   "metadata": {},
   "source": [
    "**Validate dataset**"
   ]
  },
  {
   "cell_type": "code",
   "execution_count": 99,
   "id": "0db4a461",
   "metadata": {},
   "outputs": [],
   "source": [
    "y_pred_validate = clf1.predict(X_validate)"
   ]
  },
  {
   "cell_type": "markdown",
   "id": "75f23863",
   "metadata": {},
   "source": [
    "### Evaluate in-sample results"
   ]
  },
  {
   "cell_type": "markdown",
   "id": "5269349b",
   "metadata": {},
   "source": [
    "#### Accuracy score"
   ]
  },
  {
   "cell_type": "code",
   "execution_count": 100,
   "id": "cd5c8517",
   "metadata": {},
   "outputs": [
    {
     "name": "stdout",
     "output_type": "stream",
     "text": [
      "Accuracy of Decision Tree classifier on training set: 0.79\n"
     ]
    }
   ],
   "source": [
    "print('Accuracy of Decision Tree classifier on training set: {:.2f}'\n",
    "      .format(clf1.score(X_train, y_train)))"
   ]
  },
  {
   "cell_type": "markdown",
   "id": "63f53764",
   "metadata": {},
   "source": [
    "#### Confusion Matrix"
   ]
  },
  {
   "cell_type": "code",
   "execution_count": 101,
   "id": "b5a9aae6",
   "metadata": {},
   "outputs": [
    {
     "data": {
      "text/plain": [
       "array([[2791,  106],\n",
       "       [ 736,  310]])"
      ]
     },
     "execution_count": 101,
     "metadata": {},
     "output_type": "execute_result"
    }
   ],
   "source": [
    "confusion_matrix(y_train, y_pred)"
   ]
  },
  {
   "cell_type": "code",
   "execution_count": 102,
   "id": "f76aba1c",
   "metadata": {},
   "outputs": [
    {
     "data": {
      "text/html": [
       "<div>\n",
       "<style scoped>\n",
       "    .dataframe tbody tr th:only-of-type {\n",
       "        vertical-align: middle;\n",
       "    }\n",
       "\n",
       "    .dataframe tbody tr th {\n",
       "        vertical-align: top;\n",
       "    }\n",
       "\n",
       "    .dataframe thead th {\n",
       "        text-align: right;\n",
       "    }\n",
       "</style>\n",
       "<table border=\"1\" class=\"dataframe\">\n",
       "  <thead>\n",
       "    <tr style=\"text-align: right;\">\n",
       "      <th></th>\n",
       "      <th>no_churn_predicted</th>\n",
       "      <th>churn_predicted</th>\n",
       "    </tr>\n",
       "  </thead>\n",
       "  <tbody>\n",
       "    <tr>\n",
       "      <th>no_churn_actual</th>\n",
       "      <td>2791</td>\n",
       "      <td>106</td>\n",
       "    </tr>\n",
       "    <tr>\n",
       "      <th>churn_actual</th>\n",
       "      <td>736</td>\n",
       "      <td>310</td>\n",
       "    </tr>\n",
       "  </tbody>\n",
       "</table>\n",
       "</div>"
      ],
      "text/plain": [
       "                 no_churn_predicted  churn_predicted\n",
       "no_churn_actual                2791              106\n",
       "churn_actual                    736              310"
      ]
     },
     "execution_count": 102,
     "metadata": {},
     "output_type": "execute_result"
    }
   ],
   "source": [
    "labels1 = ['no_churn_actual', 'churn_actual']\n",
    "labels2 = ['no_churn_predicted', 'churn_predicted']\n",
    "\n",
    "pd.DataFrame(confusion_matrix(y_train, y_pred), index = labels1, columns = labels2)"
   ]
  },
  {
   "cell_type": "markdown",
   "id": "f8826246",
   "metadata": {},
   "source": [
    "### Classification Report"
   ]
  },
  {
   "cell_type": "markdown",
   "id": "69821989",
   "metadata": {},
   "source": [
    "**Train dataset**"
   ]
  },
  {
   "cell_type": "code",
   "execution_count": 103,
   "id": "a0a8359f",
   "metadata": {},
   "outputs": [],
   "source": [
    "classification_report_churn = pd.DataFrame(classification_report(y_train, y_pred, output_dict = True)).T"
   ]
  },
  {
   "cell_type": "code",
   "execution_count": 104,
   "id": "2f2668d2",
   "metadata": {},
   "outputs": [
    {
     "data": {
      "text/html": [
       "<div>\n",
       "<style scoped>\n",
       "    .dataframe tbody tr th:only-of-type {\n",
       "        vertical-align: middle;\n",
       "    }\n",
       "\n",
       "    .dataframe tbody tr th {\n",
       "        vertical-align: top;\n",
       "    }\n",
       "\n",
       "    .dataframe thead th {\n",
       "        text-align: right;\n",
       "    }\n",
       "</style>\n",
       "<table border=\"1\" class=\"dataframe\">\n",
       "  <thead>\n",
       "    <tr style=\"text-align: right;\">\n",
       "      <th></th>\n",
       "      <th>precision</th>\n",
       "      <th>recall</th>\n",
       "      <th>f1-score</th>\n",
       "      <th>support</th>\n",
       "    </tr>\n",
       "  </thead>\n",
       "  <tbody>\n",
       "    <tr>\n",
       "      <th>0</th>\n",
       "      <td>0.791324</td>\n",
       "      <td>0.963410</td>\n",
       "      <td>0.868929</td>\n",
       "      <td>2897.000000</td>\n",
       "    </tr>\n",
       "    <tr>\n",
       "      <th>1</th>\n",
       "      <td>0.745192</td>\n",
       "      <td>0.296367</td>\n",
       "      <td>0.424077</td>\n",
       "      <td>1046.000000</td>\n",
       "    </tr>\n",
       "    <tr>\n",
       "      <th>accuracy</th>\n",
       "      <td>0.786457</td>\n",
       "      <td>0.786457</td>\n",
       "      <td>0.786457</td>\n",
       "      <td>0.786457</td>\n",
       "    </tr>\n",
       "    <tr>\n",
       "      <th>macro avg</th>\n",
       "      <td>0.768258</td>\n",
       "      <td>0.629889</td>\n",
       "      <td>0.646503</td>\n",
       "      <td>3943.000000</td>\n",
       "    </tr>\n",
       "    <tr>\n",
       "      <th>weighted avg</th>\n",
       "      <td>0.779086</td>\n",
       "      <td>0.786457</td>\n",
       "      <td>0.750918</td>\n",
       "      <td>3943.000000</td>\n",
       "    </tr>\n",
       "  </tbody>\n",
       "</table>\n",
       "</div>"
      ],
      "text/plain": [
       "              precision    recall  f1-score      support\n",
       "0              0.791324  0.963410  0.868929  2897.000000\n",
       "1              0.745192  0.296367  0.424077  1046.000000\n",
       "accuracy       0.786457  0.786457  0.786457     0.786457\n",
       "macro avg      0.768258  0.629889  0.646503  3943.000000\n",
       "weighted avg   0.779086  0.786457  0.750918  3943.000000"
      ]
     },
     "execution_count": 104,
     "metadata": {},
     "output_type": "execute_result"
    }
   ],
   "source": [
    "classification_report_churn"
   ]
  },
  {
   "cell_type": "markdown",
   "id": "4218dca9",
   "metadata": {},
   "source": [
    "**Validate dataset**"
   ]
  },
  {
   "cell_type": "code",
   "execution_count": 105,
   "id": "282f10f5",
   "metadata": {},
   "outputs": [
    {
     "data": {
      "text/html": [
       "<div>\n",
       "<style scoped>\n",
       "    .dataframe tbody tr th:only-of-type {\n",
       "        vertical-align: middle;\n",
       "    }\n",
       "\n",
       "    .dataframe tbody tr th {\n",
       "        vertical-align: top;\n",
       "    }\n",
       "\n",
       "    .dataframe thead th {\n",
       "        text-align: right;\n",
       "    }\n",
       "</style>\n",
       "<table border=\"1\" class=\"dataframe\">\n",
       "  <thead>\n",
       "    <tr style=\"text-align: right;\">\n",
       "      <th></th>\n",
       "      <th>precision</th>\n",
       "      <th>recall</th>\n",
       "      <th>f1-score</th>\n",
       "      <th>support</th>\n",
       "    </tr>\n",
       "  </thead>\n",
       "  <tbody>\n",
       "    <tr>\n",
       "      <th>0</th>\n",
       "      <td>0.779014</td>\n",
       "      <td>0.946860</td>\n",
       "      <td>0.854775</td>\n",
       "      <td>1035.000000</td>\n",
       "    </tr>\n",
       "    <tr>\n",
       "      <th>1</th>\n",
       "      <td>0.635762</td>\n",
       "      <td>0.256684</td>\n",
       "      <td>0.365714</td>\n",
       "      <td>374.000000</td>\n",
       "    </tr>\n",
       "    <tr>\n",
       "      <th>accuracy</th>\n",
       "      <td>0.763662</td>\n",
       "      <td>0.763662</td>\n",
       "      <td>0.763662</td>\n",
       "      <td>0.763662</td>\n",
       "    </tr>\n",
       "    <tr>\n",
       "      <th>macro avg</th>\n",
       "      <td>0.707388</td>\n",
       "      <td>0.601772</td>\n",
       "      <td>0.610245</td>\n",
       "      <td>1409.000000</td>\n",
       "    </tr>\n",
       "    <tr>\n",
       "      <th>weighted avg</th>\n",
       "      <td>0.740990</td>\n",
       "      <td>0.763662</td>\n",
       "      <td>0.724961</td>\n",
       "      <td>1409.000000</td>\n",
       "    </tr>\n",
       "  </tbody>\n",
       "</table>\n",
       "</div>"
      ],
      "text/plain": [
       "              precision    recall  f1-score      support\n",
       "0              0.779014  0.946860  0.854775  1035.000000\n",
       "1              0.635762  0.256684  0.365714   374.000000\n",
       "accuracy       0.763662  0.763662  0.763662     0.763662\n",
       "macro avg      0.707388  0.601772  0.610245  1409.000000\n",
       "weighted avg   0.740990  0.763662  0.724961  1409.000000"
      ]
     },
     "execution_count": 105,
     "metadata": {},
     "output_type": "execute_result"
    }
   ],
   "source": [
    "classification_report_churn_validate = pd.DataFrame(classification_report(y_validate, y_pred_validate, output_dict = True)).T\n",
    "classification_report_churn_validate"
   ]
  },
  {
   "cell_type": "markdown",
   "id": "24ed8cb2",
   "metadata": {},
   "source": [
    "This model beats our baseline accuracy of `0.73` for train and validate. Let's see what happens when we differ the max depth of our decision tree."
   ]
  },
  {
   "cell_type": "markdown",
   "id": "465f6303",
   "metadata": {},
   "source": [
    "**Train dataset**"
   ]
  },
  {
   "cell_type": "code",
   "execution_count": 106,
   "id": "b7574591",
   "metadata": {},
   "outputs": [],
   "source": [
    "clf2 = DecisionTreeClassifier(max_depth=4, random_state=123)"
   ]
  },
  {
   "cell_type": "code",
   "execution_count": 107,
   "id": "3df0e105",
   "metadata": {},
   "outputs": [],
   "source": [
    "clf2 = clf2.fit(X_train, y_train)"
   ]
  },
  {
   "cell_type": "code",
   "execution_count": 108,
   "id": "a45de19b",
   "metadata": {},
   "outputs": [
    {
     "data": {
      "text/plain": [
       "'telco_tree_2.pdf'"
      ]
     },
     "execution_count": 108,
     "metadata": {},
     "output_type": "execute_result"
    }
   ],
   "source": [
    "dot_data = export_graphviz(clf2, feature_names= X_train.columns, rounded=True, filled=True, out_file=None)\n",
    "graph = graphviz.Source(dot_data) \n",
    "\n",
    "graph.render('telco_tree_2', view=True)"
   ]
  },
  {
   "cell_type": "code",
   "execution_count": 109,
   "id": "4bd8fdcd",
   "metadata": {},
   "outputs": [
    {
     "name": "stdout",
     "output_type": "stream",
     "text": [
      "Accuracy of Decision Tree classifier on training set: 0.79\n"
     ]
    }
   ],
   "source": [
    "print('Accuracy of Decision Tree classifier on training set: {:.2f}'\n",
    "      .format(clf2.score(X_train, y_train)))"
   ]
  },
  {
   "cell_type": "code",
   "execution_count": 110,
   "id": "ce4d81d2",
   "metadata": {},
   "outputs": [],
   "source": [
    "y_pred_2 = clf2.predict(X_train)"
   ]
  },
  {
   "cell_type": "code",
   "execution_count": 111,
   "id": "66a7eb61",
   "metadata": {},
   "outputs": [],
   "source": [
    "classification_report_churn = pd.DataFrame(classification_report(y_train, y_pred_2, output_dict = True)).T"
   ]
  },
  {
   "cell_type": "code",
   "execution_count": 112,
   "id": "c2a42496",
   "metadata": {},
   "outputs": [
    {
     "data": {
      "text/html": [
       "<div>\n",
       "<style scoped>\n",
       "    .dataframe tbody tr th:only-of-type {\n",
       "        vertical-align: middle;\n",
       "    }\n",
       "\n",
       "    .dataframe tbody tr th {\n",
       "        vertical-align: top;\n",
       "    }\n",
       "\n",
       "    .dataframe thead th {\n",
       "        text-align: right;\n",
       "    }\n",
       "</style>\n",
       "<table border=\"1\" class=\"dataframe\">\n",
       "  <thead>\n",
       "    <tr style=\"text-align: right;\">\n",
       "      <th></th>\n",
       "      <th>precision</th>\n",
       "      <th>recall</th>\n",
       "      <th>f1-score</th>\n",
       "      <th>support</th>\n",
       "    </tr>\n",
       "  </thead>\n",
       "  <tbody>\n",
       "    <tr>\n",
       "      <th>0</th>\n",
       "      <td>0.812954</td>\n",
       "      <td>0.927166</td>\n",
       "      <td>0.866312</td>\n",
       "      <td>2897.000000</td>\n",
       "    </tr>\n",
       "    <tr>\n",
       "      <th>1</th>\n",
       "      <td>0.669797</td>\n",
       "      <td>0.409178</td>\n",
       "      <td>0.508012</td>\n",
       "      <td>1046.000000</td>\n",
       "    </tr>\n",
       "    <tr>\n",
       "      <th>accuracy</th>\n",
       "      <td>0.789754</td>\n",
       "      <td>0.789754</td>\n",
       "      <td>0.789754</td>\n",
       "      <td>0.789754</td>\n",
       "    </tr>\n",
       "    <tr>\n",
       "      <th>macro avg</th>\n",
       "      <td>0.741375</td>\n",
       "      <td>0.668172</td>\n",
       "      <td>0.687162</td>\n",
       "      <td>3943.000000</td>\n",
       "    </tr>\n",
       "    <tr>\n",
       "      <th>weighted avg</th>\n",
       "      <td>0.774977</td>\n",
       "      <td>0.789754</td>\n",
       "      <td>0.771262</td>\n",
       "      <td>3943.000000</td>\n",
       "    </tr>\n",
       "  </tbody>\n",
       "</table>\n",
       "</div>"
      ],
      "text/plain": [
       "              precision    recall  f1-score      support\n",
       "0              0.812954  0.927166  0.866312  2897.000000\n",
       "1              0.669797  0.409178  0.508012  1046.000000\n",
       "accuracy       0.789754  0.789754  0.789754     0.789754\n",
       "macro avg      0.741375  0.668172  0.687162  3943.000000\n",
       "weighted avg   0.774977  0.789754  0.771262  3943.000000"
      ]
     },
     "execution_count": 112,
     "metadata": {},
     "output_type": "execute_result"
    }
   ],
   "source": [
    "classification_report_churn"
   ]
  },
  {
   "cell_type": "markdown",
   "id": "b0ab407f",
   "metadata": {},
   "source": [
    "**Validate dataset**"
   ]
  },
  {
   "cell_type": "code",
   "execution_count": 113,
   "id": "a0c9ac7b",
   "metadata": {},
   "outputs": [
    {
     "data": {
      "text/html": [
       "<div>\n",
       "<style scoped>\n",
       "    .dataframe tbody tr th:only-of-type {\n",
       "        vertical-align: middle;\n",
       "    }\n",
       "\n",
       "    .dataframe tbody tr th {\n",
       "        vertical-align: top;\n",
       "    }\n",
       "\n",
       "    .dataframe thead th {\n",
       "        text-align: right;\n",
       "    }\n",
       "</style>\n",
       "<table border=\"1\" class=\"dataframe\">\n",
       "  <thead>\n",
       "    <tr style=\"text-align: right;\">\n",
       "      <th></th>\n",
       "      <th>precision</th>\n",
       "      <th>recall</th>\n",
       "      <th>f1-score</th>\n",
       "      <th>support</th>\n",
       "    </tr>\n",
       "  </thead>\n",
       "  <tbody>\n",
       "    <tr>\n",
       "      <th>0</th>\n",
       "      <td>0.811468</td>\n",
       "      <td>0.902415</td>\n",
       "      <td>0.854529</td>\n",
       "      <td>1035.000000</td>\n",
       "    </tr>\n",
       "    <tr>\n",
       "      <th>1</th>\n",
       "      <td>0.608527</td>\n",
       "      <td>0.419786</td>\n",
       "      <td>0.496835</td>\n",
       "      <td>374.000000</td>\n",
       "    </tr>\n",
       "    <tr>\n",
       "      <th>accuracy</th>\n",
       "      <td>0.774308</td>\n",
       "      <td>0.774308</td>\n",
       "      <td>0.774308</td>\n",
       "      <td>0.774308</td>\n",
       "    </tr>\n",
       "    <tr>\n",
       "      <th>macro avg</th>\n",
       "      <td>0.709998</td>\n",
       "      <td>0.661101</td>\n",
       "      <td>0.675682</td>\n",
       "      <td>1409.000000</td>\n",
       "    </tr>\n",
       "    <tr>\n",
       "      <th>weighted avg</th>\n",
       "      <td>0.757600</td>\n",
       "      <td>0.774308</td>\n",
       "      <td>0.759584</td>\n",
       "      <td>1409.000000</td>\n",
       "    </tr>\n",
       "  </tbody>\n",
       "</table>\n",
       "</div>"
      ],
      "text/plain": [
       "              precision    recall  f1-score      support\n",
       "0              0.811468  0.902415  0.854529  1035.000000\n",
       "1              0.608527  0.419786  0.496835   374.000000\n",
       "accuracy       0.774308  0.774308  0.774308     0.774308\n",
       "macro avg      0.709998  0.661101  0.675682  1409.000000\n",
       "weighted avg   0.757600  0.774308  0.759584  1409.000000"
      ]
     },
     "execution_count": 113,
     "metadata": {},
     "output_type": "execute_result"
    }
   ],
   "source": [
    "y_pred_2_validate = clf2.predict(X_validate)\n",
    "classification_report_churn_validate = pd.DataFrame(classification_report(y_validate, y_pred_2_validate, output_dict = True)).T\n",
    "classification_report_churn_validate"
   ]
  },
  {
   "cell_type": "markdown",
   "id": "e5a05ca9",
   "metadata": {},
   "source": [
    "Using a max depth of four increases our accuracy, but decreaes our precision and recall. Let's look at max depth 5."
   ]
  },
  {
   "cell_type": "markdown",
   "id": "b7b665b7",
   "metadata": {},
   "source": [
    "**Train dataset**"
   ]
  },
  {
   "cell_type": "code",
   "execution_count": 114,
   "id": "aea8b9c0",
   "metadata": {},
   "outputs": [
    {
     "data": {
      "text/plain": [
       "'telco_tree_3.pdf'"
      ]
     },
     "execution_count": 114,
     "metadata": {},
     "output_type": "execute_result"
    }
   ],
   "source": [
    "clf3 = DecisionTreeClassifier(max_depth=5, random_state=123)\n",
    "clf3 = clf3.fit(X_train, y_train)\n",
    "dot_data = export_graphviz(clf3, feature_names= X_train.columns, rounded=True, filled=True, out_file=None)\n",
    "graph = graphviz.Source(dot_data) \n",
    "\n",
    "graph.render('telco_tree_3', view=True)"
   ]
  },
  {
   "cell_type": "code",
   "execution_count": 115,
   "id": "8468bff5",
   "metadata": {},
   "outputs": [
    {
     "name": "stdout",
     "output_type": "stream",
     "text": [
      "Accuracy of Decision Tree classifier on training set: 0.79\n"
     ]
    }
   ],
   "source": [
    "print('Accuracy of Decision Tree classifier on training set: {:.2f}'\n",
    "      .format(clf3.score(X_train, y_train)))"
   ]
  },
  {
   "cell_type": "code",
   "execution_count": 116,
   "id": "105225a4",
   "metadata": {},
   "outputs": [],
   "source": [
    "y_pred_3 = clf3.predict(X_train)"
   ]
  },
  {
   "cell_type": "code",
   "execution_count": 117,
   "id": "b655e141",
   "metadata": {},
   "outputs": [],
   "source": [
    "classification_report_churn = pd.DataFrame(classification_report(y_train, y_pred_3, output_dict = True)).T"
   ]
  },
  {
   "cell_type": "code",
   "execution_count": 118,
   "id": "b02b47b9",
   "metadata": {},
   "outputs": [
    {
     "data": {
      "text/html": [
       "<div>\n",
       "<style scoped>\n",
       "    .dataframe tbody tr th:only-of-type {\n",
       "        vertical-align: middle;\n",
       "    }\n",
       "\n",
       "    .dataframe tbody tr th {\n",
       "        vertical-align: top;\n",
       "    }\n",
       "\n",
       "    .dataframe thead th {\n",
       "        text-align: right;\n",
       "    }\n",
       "</style>\n",
       "<table border=\"1\" class=\"dataframe\">\n",
       "  <thead>\n",
       "    <tr style=\"text-align: right;\">\n",
       "      <th></th>\n",
       "      <th>precision</th>\n",
       "      <th>recall</th>\n",
       "      <th>f1-score</th>\n",
       "      <th>support</th>\n",
       "    </tr>\n",
       "  </thead>\n",
       "  <tbody>\n",
       "    <tr>\n",
       "      <th>0</th>\n",
       "      <td>0.843915</td>\n",
       "      <td>0.880911</td>\n",
       "      <td>0.862017</td>\n",
       "      <td>2897.000000</td>\n",
       "    </tr>\n",
       "    <tr>\n",
       "      <th>1</th>\n",
       "      <td>0.624592</td>\n",
       "      <td>0.548757</td>\n",
       "      <td>0.584224</td>\n",
       "      <td>1046.000000</td>\n",
       "    </tr>\n",
       "    <tr>\n",
       "      <th>accuracy</th>\n",
       "      <td>0.792797</td>\n",
       "      <td>0.792797</td>\n",
       "      <td>0.792797</td>\n",
       "      <td>0.792797</td>\n",
       "    </tr>\n",
       "    <tr>\n",
       "      <th>macro avg</th>\n",
       "      <td>0.734254</td>\n",
       "      <td>0.714834</td>\n",
       "      <td>0.723120</td>\n",
       "      <td>3943.000000</td>\n",
       "    </tr>\n",
       "    <tr>\n",
       "      <th>weighted avg</th>\n",
       "      <td>0.785733</td>\n",
       "      <td>0.792797</td>\n",
       "      <td>0.788324</td>\n",
       "      <td>3943.000000</td>\n",
       "    </tr>\n",
       "  </tbody>\n",
       "</table>\n",
       "</div>"
      ],
      "text/plain": [
       "              precision    recall  f1-score      support\n",
       "0              0.843915  0.880911  0.862017  2897.000000\n",
       "1              0.624592  0.548757  0.584224  1046.000000\n",
       "accuracy       0.792797  0.792797  0.792797     0.792797\n",
       "macro avg      0.734254  0.714834  0.723120  3943.000000\n",
       "weighted avg   0.785733  0.792797  0.788324  3943.000000"
      ]
     },
     "execution_count": 118,
     "metadata": {},
     "output_type": "execute_result"
    }
   ],
   "source": [
    "classification_report_churn"
   ]
  },
  {
   "cell_type": "code",
   "execution_count": 119,
   "id": "b7c6d8ac",
   "metadata": {},
   "outputs": [
    {
     "data": {
      "text/html": [
       "<div>\n",
       "<style scoped>\n",
       "    .dataframe tbody tr th:only-of-type {\n",
       "        vertical-align: middle;\n",
       "    }\n",
       "\n",
       "    .dataframe tbody tr th {\n",
       "        vertical-align: top;\n",
       "    }\n",
       "\n",
       "    .dataframe thead th {\n",
       "        text-align: right;\n",
       "    }\n",
       "</style>\n",
       "<table border=\"1\" class=\"dataframe\">\n",
       "  <thead>\n",
       "    <tr style=\"text-align: right;\">\n",
       "      <th></th>\n",
       "      <th>precision</th>\n",
       "      <th>recall</th>\n",
       "      <th>f1-score</th>\n",
       "      <th>support</th>\n",
       "    </tr>\n",
       "  </thead>\n",
       "  <tbody>\n",
       "    <tr>\n",
       "      <th>0</th>\n",
       "      <td>0.840566</td>\n",
       "      <td>0.860870</td>\n",
       "      <td>0.850597</td>\n",
       "      <td>1035.000000</td>\n",
       "    </tr>\n",
       "    <tr>\n",
       "      <th>1</th>\n",
       "      <td>0.587393</td>\n",
       "      <td>0.548128</td>\n",
       "      <td>0.567082</td>\n",
       "      <td>374.000000</td>\n",
       "    </tr>\n",
       "    <tr>\n",
       "      <th>accuracy</th>\n",
       "      <td>0.777857</td>\n",
       "      <td>0.777857</td>\n",
       "      <td>0.777857</td>\n",
       "      <td>0.777857</td>\n",
       "    </tr>\n",
       "    <tr>\n",
       "      <th>macro avg</th>\n",
       "      <td>0.713979</td>\n",
       "      <td>0.704499</td>\n",
       "      <td>0.708839</td>\n",
       "      <td>1409.000000</td>\n",
       "    </tr>\n",
       "    <tr>\n",
       "      <th>weighted avg</th>\n",
       "      <td>0.773365</td>\n",
       "      <td>0.777857</td>\n",
       "      <td>0.775341</td>\n",
       "      <td>1409.000000</td>\n",
       "    </tr>\n",
       "  </tbody>\n",
       "</table>\n",
       "</div>"
      ],
      "text/plain": [
       "              precision    recall  f1-score      support\n",
       "0              0.840566  0.860870  0.850597  1035.000000\n",
       "1              0.587393  0.548128  0.567082   374.000000\n",
       "accuracy       0.777857  0.777857  0.777857     0.777857\n",
       "macro avg      0.713979  0.704499  0.708839  1409.000000\n",
       "weighted avg   0.773365  0.777857  0.775341  1409.000000"
      ]
     },
     "execution_count": 119,
     "metadata": {},
     "output_type": "execute_result"
    }
   ],
   "source": [
    "y_pred_3_validate = clf3.predict(X_validate)\n",
    "classification_report_churn_validate = pd.DataFrame(classification_report(y_validate, y_pred_3_validate, output_dict = True)).T\n",
    "classification_report_churn_validate"
   ]
  },
  {
   "cell_type": "markdown",
   "id": "fb075d28",
   "metadata": {},
   "source": [
    "Precision increases, recall decreases using max depth 5."
   ]
  },
  {
   "cell_type": "markdown",
   "id": "bfaa231b",
   "metadata": {},
   "source": [
    "## Random forest"
   ]
  },
  {
   "cell_type": "code",
   "execution_count": 120,
   "id": "6d7c10dc",
   "metadata": {},
   "outputs": [],
   "source": [
    "from sklearn.ensemble import RandomForestClassifier"
   ]
  },
  {
   "cell_type": "code",
   "execution_count": 121,
   "id": "539ff291",
   "metadata": {},
   "outputs": [],
   "source": [
    "rf = RandomForestClassifier(bootstrap=True, \n",
    "                            class_weight=None, \n",
    "                            criterion='gini',\n",
    "                            min_samples_leaf=1,\n",
    "                            n_estimators=100,\n",
    "                            max_depth=10, \n",
    "                            random_state=123)"
   ]
  },
  {
   "cell_type": "markdown",
   "id": "7c459b5f",
   "metadata": {},
   "source": [
    "### Fit the model"
   ]
  },
  {
   "cell_type": "code",
   "execution_count": 122,
   "id": "dde3ce46",
   "metadata": {},
   "outputs": [
    {
     "data": {
      "text/plain": [
       "RandomForestClassifier(max_depth=10, random_state=123)"
      ]
     },
     "execution_count": 122,
     "metadata": {},
     "output_type": "execute_result"
    }
   ],
   "source": [
    "rf.fit(X_train, y_train)"
   ]
  },
  {
   "cell_type": "markdown",
   "id": "6d3387f1",
   "metadata": {},
   "source": [
    "### Feature importance"
   ]
  },
  {
   "cell_type": "code",
   "execution_count": 123,
   "id": "ee5db815",
   "metadata": {},
   "outputs": [],
   "source": [
    "feature_importances = pd.DataFrame(rf.feature_importances_, index = X_train.columns, columns = [ \"relative importance\"])"
   ]
  },
  {
   "cell_type": "code",
   "execution_count": 124,
   "id": "87e3fae8",
   "metadata": {},
   "outputs": [],
   "source": [
    "feature_importances = feature_importances.sort_values(by = ['relative importance'], ascending = False)"
   ]
  },
  {
   "cell_type": "code",
   "execution_count": 125,
   "id": "4dd97f7c",
   "metadata": {},
   "outputs": [],
   "source": [
    "feature_importances.columns.names = ['category']"
   ]
  },
  {
   "cell_type": "code",
   "execution_count": 126,
   "id": "3a1fc520",
   "metadata": {},
   "outputs": [
    {
     "data": {
      "text/html": [
       "<div>\n",
       "<style scoped>\n",
       "    .dataframe tbody tr th:only-of-type {\n",
       "        vertical-align: middle;\n",
       "    }\n",
       "\n",
       "    .dataframe tbody tr th {\n",
       "        vertical-align: top;\n",
       "    }\n",
       "\n",
       "    .dataframe thead th {\n",
       "        text-align: right;\n",
       "    }\n",
       "</style>\n",
       "<table border=\"1\" class=\"dataframe\">\n",
       "  <thead>\n",
       "    <tr style=\"text-align: right;\">\n",
       "      <th>category</th>\n",
       "      <th>relative importance</th>\n",
       "    </tr>\n",
       "  </thead>\n",
       "  <tbody>\n",
       "    <tr>\n",
       "      <th>total_charges</th>\n",
       "      <td>0.169107</td>\n",
       "    </tr>\n",
       "    <tr>\n",
       "      <th>tenure</th>\n",
       "      <td>0.165327</td>\n",
       "    </tr>\n",
       "    <tr>\n",
       "      <th>monthly_charges</th>\n",
       "      <td>0.130737</td>\n",
       "    </tr>\n",
       "    <tr>\n",
       "      <th>contract_type_id</th>\n",
       "      <td>0.126100</td>\n",
       "    </tr>\n",
       "    <tr>\n",
       "      <th>payment_type_id</th>\n",
       "      <td>0.077776</td>\n",
       "    </tr>\n",
       "    <tr>\n",
       "      <th>internet_service_type_id</th>\n",
       "      <td>0.038534</td>\n",
       "    </tr>\n",
       "    <tr>\n",
       "      <th>tech_support_Yes</th>\n",
       "      <td>0.031048</td>\n",
       "    </tr>\n",
       "    <tr>\n",
       "      <th>online_security_Yes</th>\n",
       "      <td>0.029296</td>\n",
       "    </tr>\n",
       "    <tr>\n",
       "      <th>paperless_billing_numeric</th>\n",
       "      <td>0.024660</td>\n",
       "    </tr>\n",
       "    <tr>\n",
       "      <th>multiple_lines_Yes</th>\n",
       "      <td>0.019738</td>\n",
       "    </tr>\n",
       "    <tr>\n",
       "      <th>gender_Male</th>\n",
       "      <td>0.019368</td>\n",
       "    </tr>\n",
       "    <tr>\n",
       "      <th>senior_citizen</th>\n",
       "      <td>0.017481</td>\n",
       "    </tr>\n",
       "    <tr>\n",
       "      <th>online_backup_Yes</th>\n",
       "      <td>0.016260</td>\n",
       "    </tr>\n",
       "    <tr>\n",
       "      <th>partner_Yes</th>\n",
       "      <td>0.015958</td>\n",
       "    </tr>\n",
       "    <tr>\n",
       "      <th>dependents_Yes</th>\n",
       "      <td>0.014158</td>\n",
       "    </tr>\n",
       "    <tr>\n",
       "      <th>streaming_tv_Yes</th>\n",
       "      <td>0.013000</td>\n",
       "    </tr>\n",
       "    <tr>\n",
       "      <th>device_protection_Yes</th>\n",
       "      <td>0.012305</td>\n",
       "    </tr>\n",
       "    <tr>\n",
       "      <th>streaming_movies_Yes</th>\n",
       "      <td>0.011871</td>\n",
       "    </tr>\n",
       "    <tr>\n",
       "      <th>online_security_No internet service</th>\n",
       "      <td>0.011785</td>\n",
       "    </tr>\n",
       "    <tr>\n",
       "      <th>tech_support_No internet service</th>\n",
       "      <td>0.011711</td>\n",
       "    </tr>\n",
       "    <tr>\n",
       "      <th>streaming_movies_No internet service</th>\n",
       "      <td>0.009707</td>\n",
       "    </tr>\n",
       "    <tr>\n",
       "      <th>device_protection_No internet service</th>\n",
       "      <td>0.009186</td>\n",
       "    </tr>\n",
       "    <tr>\n",
       "      <th>online_backup_No internet service</th>\n",
       "      <td>0.007445</td>\n",
       "    </tr>\n",
       "    <tr>\n",
       "      <th>streaming_tv_No internet service</th>\n",
       "      <td>0.006478</td>\n",
       "    </tr>\n",
       "    <tr>\n",
       "      <th>multiple_lines_No phone service</th>\n",
       "      <td>0.005907</td>\n",
       "    </tr>\n",
       "    <tr>\n",
       "      <th>phone_service_Yes</th>\n",
       "      <td>0.005053</td>\n",
       "    </tr>\n",
       "  </tbody>\n",
       "</table>\n",
       "</div>"
      ],
      "text/plain": [
       "category                               relative importance\n",
       "total_charges                                     0.169107\n",
       "tenure                                            0.165327\n",
       "monthly_charges                                   0.130737\n",
       "contract_type_id                                  0.126100\n",
       "payment_type_id                                   0.077776\n",
       "internet_service_type_id                          0.038534\n",
       "tech_support_Yes                                  0.031048\n",
       "online_security_Yes                               0.029296\n",
       "paperless_billing_numeric                         0.024660\n",
       "multiple_lines_Yes                                0.019738\n",
       "gender_Male                                       0.019368\n",
       "senior_citizen                                    0.017481\n",
       "online_backup_Yes                                 0.016260\n",
       "partner_Yes                                       0.015958\n",
       "dependents_Yes                                    0.014158\n",
       "streaming_tv_Yes                                  0.013000\n",
       "device_protection_Yes                             0.012305\n",
       "streaming_movies_Yes                              0.011871\n",
       "online_security_No internet service               0.011785\n",
       "tech_support_No internet service                  0.011711\n",
       "streaming_movies_No internet service              0.009707\n",
       "device_protection_No internet service             0.009186\n",
       "online_backup_No internet service                 0.007445\n",
       "streaming_tv_No internet service                  0.006478\n",
       "multiple_lines_No phone service                   0.005907\n",
       "phone_service_Yes                                 0.005053"
      ]
     },
     "execution_count": 126,
     "metadata": {},
     "output_type": "execute_result"
    }
   ],
   "source": [
    "feature_importances"
   ]
  },
  {
   "cell_type": "code",
   "execution_count": 127,
   "id": "d90c08ea",
   "metadata": {},
   "outputs": [],
   "source": [
    "most_important_features = feature_importances.head(3)"
   ]
  },
  {
   "cell_type": "code",
   "execution_count": 128,
   "id": "430c4c24",
   "metadata": {},
   "outputs": [
    {
     "name": "stdout",
     "output_type": "stream",
     "text": [
      "|                 |   relative importance |\n",
      "|:----------------|----------------------:|\n",
      "| total_charges   |              0.169107 |\n",
      "| tenure          |              0.165327 |\n",
      "| monthly_charges |              0.130737 |\n"
     ]
    }
   ],
   "source": [
    "print(most_important_features.to_markdown())"
   ]
  },
  {
   "cell_type": "markdown",
   "id": "5923cc86",
   "metadata": {},
   "source": [
    "The above chart indicates to us that the most important values for predicting churn are: **tenure**, **monthly charges**, **contract type**, and **payment type**."
   ]
  },
  {
   "cell_type": "code",
   "execution_count": 129,
   "id": "d438f9f8",
   "metadata": {},
   "outputs": [
    {
     "data": {
      "image/png": "[encoded data removed]",
      "text/plain": [
       "<Figure size 432x288 with 1 Axes>"
      ]
     },
     "metadata": {
      "needs_background": "light"
     },
     "output_type": "display_data"
    }
   ],
   "source": [
    "relative_importances = sns.barplot(x=feature_importances['relative importance'], y=feature_importances.index)"
   ]
  },
  {
   "cell_type": "code",
   "execution_count": 130,
   "id": "9d67dc63",
   "metadata": {},
   "outputs": [
    {
     "data": {
      "image/png": "[encoded data removed]",
      "text/plain": [
       "<Figure size 432x288 with 1 Axes>"
      ]
     },
     "metadata": {
      "needs_background": "light"
     },
     "output_type": "display_data"
    }
   ],
   "source": [
    "relative_importances = sns.barplot(x=feature_importances['relative importance'][0:5], y=feature_importances.index[0:5])"
   ]
  },
  {
   "cell_type": "markdown",
   "id": "343ddbad",
   "metadata": {},
   "source": [
    "### Make predictions"
   ]
  },
  {
   "cell_type": "markdown",
   "id": "86e0867f",
   "metadata": {},
   "source": [
    "**Train dataset**"
   ]
  },
  {
   "cell_type": "code",
   "execution_count": 131,
   "id": "d4167080",
   "metadata": {},
   "outputs": [],
   "source": [
    "y_pred = rf.predict(X_train)"
   ]
  },
  {
   "cell_type": "code",
   "execution_count": 132,
   "id": "a8cfad96",
   "metadata": {},
   "outputs": [
    {
     "data": {
      "text/html": [
       "<div>\n",
       "<style scoped>\n",
       "    .dataframe tbody tr th:only-of-type {\n",
       "        vertical-align: middle;\n",
       "    }\n",
       "\n",
       "    .dataframe tbody tr th {\n",
       "        vertical-align: top;\n",
       "    }\n",
       "\n",
       "    .dataframe thead th {\n",
       "        text-align: right;\n",
       "    }\n",
       "</style>\n",
       "<table border=\"1\" class=\"dataframe\">\n",
       "  <thead>\n",
       "    <tr style=\"text-align: right;\">\n",
       "      <th></th>\n",
       "      <th>0</th>\n",
       "    </tr>\n",
       "  </thead>\n",
       "  <tbody>\n",
       "    <tr>\n",
       "      <th>0</th>\n",
       "      <td>0</td>\n",
       "    </tr>\n",
       "    <tr>\n",
       "      <th>1</th>\n",
       "      <td>0</td>\n",
       "    </tr>\n",
       "    <tr>\n",
       "      <th>2</th>\n",
       "      <td>1</td>\n",
       "    </tr>\n",
       "    <tr>\n",
       "      <th>3</th>\n",
       "      <td>0</td>\n",
       "    </tr>\n",
       "    <tr>\n",
       "      <th>4</th>\n",
       "      <td>0</td>\n",
       "    </tr>\n",
       "    <tr>\n",
       "      <th>...</th>\n",
       "      <td>...</td>\n",
       "    </tr>\n",
       "    <tr>\n",
       "      <th>3938</th>\n",
       "      <td>1</td>\n",
       "    </tr>\n",
       "    <tr>\n",
       "      <th>3939</th>\n",
       "      <td>0</td>\n",
       "    </tr>\n",
       "    <tr>\n",
       "      <th>3940</th>\n",
       "      <td>0</td>\n",
       "    </tr>\n",
       "    <tr>\n",
       "      <th>3941</th>\n",
       "      <td>0</td>\n",
       "    </tr>\n",
       "    <tr>\n",
       "      <th>3942</th>\n",
       "      <td>0</td>\n",
       "    </tr>\n",
       "  </tbody>\n",
       "</table>\n",
       "<p>3943 rows × 1 columns</p>\n",
       "</div>"
      ],
      "text/plain": [
       "      0\n",
       "0     0\n",
       "1     0\n",
       "2     1\n",
       "3     0\n",
       "4     0\n",
       "...  ..\n",
       "3938  1\n",
       "3939  0\n",
       "3940  0\n",
       "3941  0\n",
       "3942  0\n",
       "\n",
       "[3943 rows x 1 columns]"
      ]
     },
     "execution_count": 132,
     "metadata": {},
     "output_type": "execute_result"
    }
   ],
   "source": [
    "pd.DataFrame(y_pred)"
   ]
  },
  {
   "cell_type": "markdown",
   "id": "aa88088e",
   "metadata": {},
   "source": [
    "**Validate dataset**"
   ]
  },
  {
   "cell_type": "code",
   "execution_count": 133,
   "id": "43df7ae3",
   "metadata": {},
   "outputs": [],
   "source": [
    "y_pred_validate = rf.predict(X_validate)"
   ]
  },
  {
   "cell_type": "markdown",
   "id": "eb71a439",
   "metadata": {},
   "source": [
    "### Estimate probability"
   ]
  },
  {
   "cell_type": "markdown",
   "id": "51cbb189",
   "metadata": {},
   "source": [
    "**Train dataset**"
   ]
  },
  {
   "cell_type": "code",
   "execution_count": 134,
   "id": "e136a739",
   "metadata": {},
   "outputs": [],
   "source": [
    "y_pred_proba = rf.predict_proba(X_train)"
   ]
  },
  {
   "cell_type": "code",
   "execution_count": 135,
   "id": "7d0677cc",
   "metadata": {},
   "outputs": [
    {
     "data": {
      "text/html": [
       "<div>\n",
       "<style scoped>\n",
       "    .dataframe tbody tr th:only-of-type {\n",
       "        vertical-align: middle;\n",
       "    }\n",
       "\n",
       "    .dataframe tbody tr th {\n",
       "        vertical-align: top;\n",
       "    }\n",
       "\n",
       "    .dataframe thead th {\n",
       "        text-align: right;\n",
       "    }\n",
       "</style>\n",
       "<table border=\"1\" class=\"dataframe\">\n",
       "  <thead>\n",
       "    <tr style=\"text-align: right;\">\n",
       "      <th></th>\n",
       "      <th>0</th>\n",
       "      <th>1</th>\n",
       "    </tr>\n",
       "  </thead>\n",
       "  <tbody>\n",
       "    <tr>\n",
       "      <th>0</th>\n",
       "      <td>0.992901</td>\n",
       "      <td>0.007099</td>\n",
       "    </tr>\n",
       "    <tr>\n",
       "      <th>1</th>\n",
       "      <td>0.819419</td>\n",
       "      <td>0.180581</td>\n",
       "    </tr>\n",
       "    <tr>\n",
       "      <th>2</th>\n",
       "      <td>0.430128</td>\n",
       "      <td>0.569872</td>\n",
       "    </tr>\n",
       "    <tr>\n",
       "      <th>3</th>\n",
       "      <td>0.856511</td>\n",
       "      <td>0.143489</td>\n",
       "    </tr>\n",
       "    <tr>\n",
       "      <th>4</th>\n",
       "      <td>0.907393</td>\n",
       "      <td>0.092607</td>\n",
       "    </tr>\n",
       "    <tr>\n",
       "      <th>...</th>\n",
       "      <td>...</td>\n",
       "      <td>...</td>\n",
       "    </tr>\n",
       "    <tr>\n",
       "      <th>3938</th>\n",
       "      <td>0.445981</td>\n",
       "      <td>0.554019</td>\n",
       "    </tr>\n",
       "    <tr>\n",
       "      <th>3939</th>\n",
       "      <td>0.970890</td>\n",
       "      <td>0.029110</td>\n",
       "    </tr>\n",
       "    <tr>\n",
       "      <th>3940</th>\n",
       "      <td>0.591730</td>\n",
       "      <td>0.408270</td>\n",
       "    </tr>\n",
       "    <tr>\n",
       "      <th>3941</th>\n",
       "      <td>0.806280</td>\n",
       "      <td>0.193720</td>\n",
       "    </tr>\n",
       "    <tr>\n",
       "      <th>3942</th>\n",
       "      <td>0.671784</td>\n",
       "      <td>0.328216</td>\n",
       "    </tr>\n",
       "  </tbody>\n",
       "</table>\n",
       "<p>3943 rows × 2 columns</p>\n",
       "</div>"
      ],
      "text/plain": [
       "             0         1\n",
       "0     0.992901  0.007099\n",
       "1     0.819419  0.180581\n",
       "2     0.430128  0.569872\n",
       "3     0.856511  0.143489\n",
       "4     0.907393  0.092607\n",
       "...        ...       ...\n",
       "3938  0.445981  0.554019\n",
       "3939  0.970890  0.029110\n",
       "3940  0.591730  0.408270\n",
       "3941  0.806280  0.193720\n",
       "3942  0.671784  0.328216\n",
       "\n",
       "[3943 rows x 2 columns]"
      ]
     },
     "execution_count": 135,
     "metadata": {},
     "output_type": "execute_result"
    }
   ],
   "source": [
    "pd.DataFrame(y_pred_proba)"
   ]
  },
  {
   "cell_type": "markdown",
   "id": "fa33e2ff",
   "metadata": {},
   "source": [
    "**Validate dataset**"
   ]
  },
  {
   "cell_type": "code",
   "execution_count": 136,
   "id": "c463adce",
   "metadata": {},
   "outputs": [],
   "source": [
    "y_pred_proba_validate = rf.predict_proba(X_validate)"
   ]
  },
  {
   "cell_type": "markdown",
   "id": "f6d3a1a6",
   "metadata": {},
   "source": [
    "#### Accuracy"
   ]
  },
  {
   "cell_type": "code",
   "execution_count": 137,
   "id": "833e0853",
   "metadata": {},
   "outputs": [
    {
     "name": "stdout",
     "output_type": "stream",
     "text": [
      "Accuracy of random forest classifier on training set: 0.90\n"
     ]
    }
   ],
   "source": [
    "print('Accuracy of random forest classifier on training set: {:.2f}'\n",
    "     .format(rf.score(X_train, y_train)))"
   ]
  },
  {
   "cell_type": "code",
   "execution_count": 138,
   "id": "8e6e4241",
   "metadata": {},
   "outputs": [
    {
     "name": "stdout",
     "output_type": "stream",
     "text": [
      "Accuracy of random forest classifier on validate set: 0.81\n"
     ]
    }
   ],
   "source": [
    "print('Accuracy of random forest classifier on validate set: {:.2f}'\n",
    "     .format(rf.score(X_validate, y_validate)))"
   ]
  },
  {
   "cell_type": "markdown",
   "id": "23887541",
   "metadata": {},
   "source": [
    "#### Confusion matrix"
   ]
  },
  {
   "cell_type": "code",
   "execution_count": 139,
   "id": "3ca72e0a",
   "metadata": {},
   "outputs": [],
   "source": [
    "labels1 = ['did not churn actual', 'churned actual']\n",
    "labels2 = ['did not churn predicted', 'churned predicted']\n",
    "df_confusion_matrix = pd.DataFrame(confusion_matrix(y_train, y_pred), index=labels1, columns=labels2)"
   ]
  },
  {
   "cell_type": "code",
   "execution_count": 140,
   "id": "617c7d77",
   "metadata": {},
   "outputs": [
    {
     "data": {
      "text/html": [
       "<div>\n",
       "<style scoped>\n",
       "    .dataframe tbody tr th:only-of-type {\n",
       "        vertical-align: middle;\n",
       "    }\n",
       "\n",
       "    .dataframe tbody tr th {\n",
       "        vertical-align: top;\n",
       "    }\n",
       "\n",
       "    .dataframe thead th {\n",
       "        text-align: right;\n",
       "    }\n",
       "</style>\n",
       "<table border=\"1\" class=\"dataframe\">\n",
       "  <thead>\n",
       "    <tr style=\"text-align: right;\">\n",
       "      <th></th>\n",
       "      <th>did not churn predicted</th>\n",
       "      <th>churned predicted</th>\n",
       "    </tr>\n",
       "  </thead>\n",
       "  <tbody>\n",
       "    <tr>\n",
       "      <th>did not churn actual</th>\n",
       "      <td>2771</td>\n",
       "      <td>126</td>\n",
       "    </tr>\n",
       "    <tr>\n",
       "      <th>churned actual</th>\n",
       "      <td>280</td>\n",
       "      <td>766</td>\n",
       "    </tr>\n",
       "  </tbody>\n",
       "</table>\n",
       "</div>"
      ],
      "text/plain": [
       "                      did not churn predicted  churned predicted\n",
       "did not churn actual                     2771                126\n",
       "churned actual                            280                766"
      ]
     },
     "execution_count": 140,
     "metadata": {},
     "output_type": "execute_result"
    }
   ],
   "source": [
    "df_confusion_matrix"
   ]
  },
  {
   "cell_type": "markdown",
   "id": "982e9754",
   "metadata": {},
   "source": [
    "#### Classification Report"
   ]
  },
  {
   "cell_type": "code",
   "execution_count": 141,
   "id": "4d62986a",
   "metadata": {},
   "outputs": [],
   "source": [
    "classification_report_2 = classification_report(y_train, y_pred, output_dict = True)"
   ]
  },
  {
   "cell_type": "code",
   "execution_count": 142,
   "id": "44a7dbbf",
   "metadata": {},
   "outputs": [],
   "source": [
    "df_classification_report_2 = pd.DataFrame(classification_report_2).T"
   ]
  },
  {
   "cell_type": "code",
   "execution_count": 143,
   "id": "e4596126",
   "metadata": {},
   "outputs": [
    {
     "data": {
      "text/html": [
       "<div>\n",
       "<style scoped>\n",
       "    .dataframe tbody tr th:only-of-type {\n",
       "        vertical-align: middle;\n",
       "    }\n",
       "\n",
       "    .dataframe tbody tr th {\n",
       "        vertical-align: top;\n",
       "    }\n",
       "\n",
       "    .dataframe thead th {\n",
       "        text-align: right;\n",
       "    }\n",
       "</style>\n",
       "<table border=\"1\" class=\"dataframe\">\n",
       "  <thead>\n",
       "    <tr style=\"text-align: right;\">\n",
       "      <th></th>\n",
       "      <th>precision</th>\n",
       "      <th>recall</th>\n",
       "      <th>f1-score</th>\n",
       "      <th>support</th>\n",
       "    </tr>\n",
       "  </thead>\n",
       "  <tbody>\n",
       "    <tr>\n",
       "      <th>0</th>\n",
       "      <td>0.908227</td>\n",
       "      <td>0.956507</td>\n",
       "      <td>0.931742</td>\n",
       "      <td>2897.000000</td>\n",
       "    </tr>\n",
       "    <tr>\n",
       "      <th>1</th>\n",
       "      <td>0.858744</td>\n",
       "      <td>0.732314</td>\n",
       "      <td>0.790506</td>\n",
       "      <td>1046.000000</td>\n",
       "    </tr>\n",
       "    <tr>\n",
       "      <th>accuracy</th>\n",
       "      <td>0.897033</td>\n",
       "      <td>0.897033</td>\n",
       "      <td>0.897033</td>\n",
       "      <td>0.897033</td>\n",
       "    </tr>\n",
       "    <tr>\n",
       "      <th>macro avg</th>\n",
       "      <td>0.883486</td>\n",
       "      <td>0.844410</td>\n",
       "      <td>0.861124</td>\n",
       "      <td>3943.000000</td>\n",
       "    </tr>\n",
       "    <tr>\n",
       "      <th>weighted avg</th>\n",
       "      <td>0.895100</td>\n",
       "      <td>0.897033</td>\n",
       "      <td>0.894275</td>\n",
       "      <td>3943.000000</td>\n",
       "    </tr>\n",
       "  </tbody>\n",
       "</table>\n",
       "</div>"
      ],
      "text/plain": [
       "              precision    recall  f1-score      support\n",
       "0              0.908227  0.956507  0.931742  2897.000000\n",
       "1              0.858744  0.732314  0.790506  1046.000000\n",
       "accuracy       0.897033  0.897033  0.897033     0.897033\n",
       "macro avg      0.883486  0.844410  0.861124  3943.000000\n",
       "weighted avg   0.895100  0.897033  0.894275  3943.000000"
      ]
     },
     "execution_count": 143,
     "metadata": {},
     "output_type": "execute_result"
    }
   ],
   "source": [
    "df_classification_report_2"
   ]
  },
  {
   "cell_type": "code",
   "execution_count": 144,
   "id": "20541545",
   "metadata": {},
   "outputs": [
    {
     "data": {
      "text/html": [
       "<div>\n",
       "<style scoped>\n",
       "    .dataframe tbody tr th:only-of-type {\n",
       "        vertical-align: middle;\n",
       "    }\n",
       "\n",
       "    .dataframe tbody tr th {\n",
       "        vertical-align: top;\n",
       "    }\n",
       "\n",
       "    .dataframe thead th {\n",
       "        text-align: right;\n",
       "    }\n",
       "</style>\n",
       "<table border=\"1\" class=\"dataframe\">\n",
       "  <thead>\n",
       "    <tr style=\"text-align: right;\">\n",
       "      <th></th>\n",
       "      <th>precision</th>\n",
       "      <th>recall</th>\n",
       "      <th>f1-score</th>\n",
       "      <th>support</th>\n",
       "    </tr>\n",
       "  </thead>\n",
       "  <tbody>\n",
       "    <tr>\n",
       "      <th>0</th>\n",
       "      <td>0.853726</td>\n",
       "      <td>0.896618</td>\n",
       "      <td>0.874647</td>\n",
       "      <td>1035.000000</td>\n",
       "    </tr>\n",
       "    <tr>\n",
       "      <th>1</th>\n",
       "      <td>0.667702</td>\n",
       "      <td>0.574866</td>\n",
       "      <td>0.617816</td>\n",
       "      <td>374.000000</td>\n",
       "    </tr>\n",
       "    <tr>\n",
       "      <th>accuracy</th>\n",
       "      <td>0.811214</td>\n",
       "      <td>0.811214</td>\n",
       "      <td>0.811214</td>\n",
       "      <td>0.811214</td>\n",
       "    </tr>\n",
       "    <tr>\n",
       "      <th>macro avg</th>\n",
       "      <td>0.760714</td>\n",
       "      <td>0.735742</td>\n",
       "      <td>0.746231</td>\n",
       "      <td>1409.000000</td>\n",
       "    </tr>\n",
       "    <tr>\n",
       "      <th>weighted avg</th>\n",
       "      <td>0.804348</td>\n",
       "      <td>0.811214</td>\n",
       "      <td>0.806474</td>\n",
       "      <td>1409.000000</td>\n",
       "    </tr>\n",
       "  </tbody>\n",
       "</table>\n",
       "</div>"
      ],
      "text/plain": [
       "              precision    recall  f1-score      support\n",
       "0              0.853726  0.896618  0.874647  1035.000000\n",
       "1              0.667702  0.574866  0.617816   374.000000\n",
       "accuracy       0.811214  0.811214  0.811214     0.811214\n",
       "macro avg      0.760714  0.735742  0.746231  1409.000000\n",
       "weighted avg   0.804348  0.811214  0.806474  1409.000000"
      ]
     },
     "execution_count": 144,
     "metadata": {},
     "output_type": "execute_result"
    }
   ],
   "source": [
    "classification_report_2_validate = classification_report(y_validate, y_pred_validate, output_dict = True)\n",
    "df_classification_report_2_validate = pd.DataFrame(classification_report_2_validate).T\n",
    "df_classification_report_2_validate"
   ]
  },
  {
   "cell_type": "markdown",
   "id": "b59d607f",
   "metadata": {},
   "source": [
    "Let's try the random forest model with max depth 3. "
   ]
  },
  {
   "cell_type": "code",
   "execution_count": 145,
   "id": "4bb9ada1",
   "metadata": {},
   "outputs": [],
   "source": [
    "rf2 = RandomForestClassifier(bootstrap=True, \n",
    "                            class_weight=None, \n",
    "                            criterion='gini',\n",
    "                            min_samples_leaf=1,\n",
    "                            n_estimators=100,\n",
    "                            max_depth=3, \n",
    "                            random_state=123)"
   ]
  },
  {
   "cell_type": "code",
   "execution_count": 146,
   "id": "ceffa8b4",
   "metadata": {},
   "outputs": [
    {
     "data": {
      "text/plain": [
       "RandomForestClassifier(max_depth=3, random_state=123)"
      ]
     },
     "execution_count": 146,
     "metadata": {},
     "output_type": "execute_result"
    }
   ],
   "source": [
    "rf2.fit(X_train, y_train)"
   ]
  },
  {
   "cell_type": "markdown",
   "id": "9806970c",
   "metadata": {},
   "source": [
    "**Training dataset**"
   ]
  },
  {
   "cell_type": "code",
   "execution_count": 147,
   "id": "305486cc",
   "metadata": {},
   "outputs": [],
   "source": [
    "y_pred_rf2 = rf2.predict(X_train)"
   ]
  },
  {
   "cell_type": "code",
   "execution_count": 148,
   "id": "ced8924b",
   "metadata": {},
   "outputs": [
    {
     "name": "stdout",
     "output_type": "stream",
     "text": [
      "Accuracy of random forest classifier on training set: 0.79\n"
     ]
    }
   ],
   "source": [
    "print('Accuracy of random forest classifier on training set: {:.2f}'\n",
    "     .format(rf2.score(X_train, y_train)))"
   ]
  },
  {
   "cell_type": "code",
   "execution_count": 149,
   "id": "8603c866",
   "metadata": {},
   "outputs": [],
   "source": [
    "classification_report_3 = classification_report(y_train, y_pred_rf2, output_dict = True)"
   ]
  },
  {
   "cell_type": "code",
   "execution_count": 150,
   "id": "6e9da76c",
   "metadata": {},
   "outputs": [],
   "source": [
    "df_classification_report_3 = pd.DataFrame(classification_report_3).T"
   ]
  },
  {
   "cell_type": "code",
   "execution_count": 151,
   "id": "ede7097c",
   "metadata": {},
   "outputs": [
    {
     "data": {
      "text/html": [
       "<div>\n",
       "<style scoped>\n",
       "    .dataframe tbody tr th:only-of-type {\n",
       "        vertical-align: middle;\n",
       "    }\n",
       "\n",
       "    .dataframe tbody tr th {\n",
       "        vertical-align: top;\n",
       "    }\n",
       "\n",
       "    .dataframe thead th {\n",
       "        text-align: right;\n",
       "    }\n",
       "</style>\n",
       "<table border=\"1\" class=\"dataframe\">\n",
       "  <thead>\n",
       "    <tr style=\"text-align: right;\">\n",
       "      <th></th>\n",
       "      <th>precision</th>\n",
       "      <th>recall</th>\n",
       "      <th>f1-score</th>\n",
       "      <th>support</th>\n",
       "    </tr>\n",
       "  </thead>\n",
       "  <tbody>\n",
       "    <tr>\n",
       "      <th>0</th>\n",
       "      <td>0.797578</td>\n",
       "      <td>0.954781</td>\n",
       "      <td>0.869128</td>\n",
       "      <td>2897.00000</td>\n",
       "    </tr>\n",
       "    <tr>\n",
       "      <th>1</th>\n",
       "      <td>0.724211</td>\n",
       "      <td>0.328872</td>\n",
       "      <td>0.452334</td>\n",
       "      <td>1046.00000</td>\n",
       "    </tr>\n",
       "    <tr>\n",
       "      <th>accuracy</th>\n",
       "      <td>0.788740</td>\n",
       "      <td>0.788740</td>\n",
       "      <td>0.788740</td>\n",
       "      <td>0.78874</td>\n",
       "    </tr>\n",
       "    <tr>\n",
       "      <th>macro avg</th>\n",
       "      <td>0.760894</td>\n",
       "      <td>0.641826</td>\n",
       "      <td>0.660731</td>\n",
       "      <td>3943.00000</td>\n",
       "    </tr>\n",
       "    <tr>\n",
       "      <th>weighted avg</th>\n",
       "      <td>0.778115</td>\n",
       "      <td>0.788740</td>\n",
       "      <td>0.758561</td>\n",
       "      <td>3943.00000</td>\n",
       "    </tr>\n",
       "  </tbody>\n",
       "</table>\n",
       "</div>"
      ],
      "text/plain": [
       "              precision    recall  f1-score     support\n",
       "0              0.797578  0.954781  0.869128  2897.00000\n",
       "1              0.724211  0.328872  0.452334  1046.00000\n",
       "accuracy       0.788740  0.788740  0.788740     0.78874\n",
       "macro avg      0.760894  0.641826  0.660731  3943.00000\n",
       "weighted avg   0.778115  0.788740  0.758561  3943.00000"
      ]
     },
     "execution_count": 151,
     "metadata": {},
     "output_type": "execute_result"
    }
   ],
   "source": [
    "df_classification_report_3"
   ]
  },
  {
   "cell_type": "code",
   "execution_count": 152,
   "id": "5589711c",
   "metadata": {},
   "outputs": [
    {
     "name": "stdout",
     "output_type": "stream",
     "text": [
      "Accuracy of random forest classifier on training set: 0.78\n"
     ]
    }
   ],
   "source": [
    "y_pred_rf2_validate = rf2.predict(X_validate)\n",
    "print('Accuracy of random forest classifier on training set: {:.2f}'\n",
    "     .format(rf2.score(X_validate, y_validate)))"
   ]
  },
  {
   "cell_type": "code",
   "execution_count": 153,
   "id": "66cf5a56",
   "metadata": {},
   "outputs": [
    {
     "data": {
      "text/html": [
       "<div>\n",
       "<style scoped>\n",
       "    .dataframe tbody tr th:only-of-type {\n",
       "        vertical-align: middle;\n",
       "    }\n",
       "\n",
       "    .dataframe tbody tr th {\n",
       "        vertical-align: top;\n",
       "    }\n",
       "\n",
       "    .dataframe thead th {\n",
       "        text-align: right;\n",
       "    }\n",
       "</style>\n",
       "<table border=\"1\" class=\"dataframe\">\n",
       "  <thead>\n",
       "    <tr style=\"text-align: right;\">\n",
       "      <th></th>\n",
       "      <th>precision</th>\n",
       "      <th>recall</th>\n",
       "      <th>f1-score</th>\n",
       "      <th>support</th>\n",
       "    </tr>\n",
       "  </thead>\n",
       "  <tbody>\n",
       "    <tr>\n",
       "      <th>0</th>\n",
       "      <td>0.794643</td>\n",
       "      <td>0.945894</td>\n",
       "      <td>0.863697</td>\n",
       "      <td>1035.000000</td>\n",
       "    </tr>\n",
       "    <tr>\n",
       "      <th>1</th>\n",
       "      <td>0.683616</td>\n",
       "      <td>0.323529</td>\n",
       "      <td>0.439201</td>\n",
       "      <td>374.000000</td>\n",
       "    </tr>\n",
       "    <tr>\n",
       "      <th>accuracy</th>\n",
       "      <td>0.780696</td>\n",
       "      <td>0.780696</td>\n",
       "      <td>0.780696</td>\n",
       "      <td>0.780696</td>\n",
       "    </tr>\n",
       "    <tr>\n",
       "      <th>macro avg</th>\n",
       "      <td>0.739129</td>\n",
       "      <td>0.634712</td>\n",
       "      <td>0.651449</td>\n",
       "      <td>1409.000000</td>\n",
       "    </tr>\n",
       "    <tr>\n",
       "      <th>weighted avg</th>\n",
       "      <td>0.765172</td>\n",
       "      <td>0.780696</td>\n",
       "      <td>0.751020</td>\n",
       "      <td>1409.000000</td>\n",
       "    </tr>\n",
       "  </tbody>\n",
       "</table>\n",
       "</div>"
      ],
      "text/plain": [
       "              precision    recall  f1-score      support\n",
       "0              0.794643  0.945894  0.863697  1035.000000\n",
       "1              0.683616  0.323529  0.439201   374.000000\n",
       "accuracy       0.780696  0.780696  0.780696     0.780696\n",
       "macro avg      0.739129  0.634712  0.651449  1409.000000\n",
       "weighted avg   0.765172  0.780696  0.751020  1409.000000"
      ]
     },
     "execution_count": 153,
     "metadata": {},
     "output_type": "execute_result"
    }
   ],
   "source": [
    "classification_report_3_validate = classification_report(y_validate, y_pred_rf2_validate, output_dict = True)\n",
    "df_classification_report_3_validate = pd.DataFrame(classification_report_3_validate).T\n",
    "df_classification_report_3_validate"
   ]
  },
  {
   "cell_type": "markdown",
   "id": "2eb92615",
   "metadata": {},
   "source": [
    "Precision and accuracy decrease when use max depth 3, versus max depth 10. Let's see what happens when we differ the amount of `n_estimators`."
   ]
  },
  {
   "cell_type": "code",
   "execution_count": 154,
   "id": "56e2cd70",
   "metadata": {},
   "outputs": [],
   "source": [
    "rf3 = RandomForestClassifier(bootstrap=True, \n",
    "                            class_weight=None, \n",
    "                            criterion='gini',\n",
    "                            min_samples_leaf=1,\n",
    "                            n_estimators=150,\n",
    "                            max_depth=10, \n",
    "                            random_state=123)"
   ]
  },
  {
   "cell_type": "code",
   "execution_count": 155,
   "id": "00993fd2",
   "metadata": {},
   "outputs": [
    {
     "data": {
      "text/plain": [
       "RandomForestClassifier(max_depth=10, n_estimators=150, random_state=123)"
      ]
     },
     "execution_count": 155,
     "metadata": {},
     "output_type": "execute_result"
    }
   ],
   "source": [
    "rf3.fit(X_train, y_train)"
   ]
  },
  {
   "cell_type": "code",
   "execution_count": 156,
   "id": "2ca4f60e",
   "metadata": {},
   "outputs": [],
   "source": [
    "y_pred_rf3 = rf3.predict(X_train)"
   ]
  },
  {
   "cell_type": "code",
   "execution_count": 157,
   "id": "8e51c2d9",
   "metadata": {},
   "outputs": [],
   "source": [
    "y_pred_rf3_validate = rf3.predict(X_validate)"
   ]
  },
  {
   "cell_type": "code",
   "execution_count": 158,
   "id": "76ab1de8",
   "metadata": {},
   "outputs": [
    {
     "name": "stdout",
     "output_type": "stream",
     "text": [
      "Accuracy of random forest classifier on training set: 0.90\n"
     ]
    }
   ],
   "source": [
    "print('Accuracy of random forest classifier on training set: {:.2f}'\n",
    "     .format(rf3.score(X_train, y_train)))"
   ]
  },
  {
   "cell_type": "code",
   "execution_count": 159,
   "id": "6e6a6501",
   "metadata": {},
   "outputs": [
    {
     "data": {
      "text/html": [
       "<div>\n",
       "<style scoped>\n",
       "    .dataframe tbody tr th:only-of-type {\n",
       "        vertical-align: middle;\n",
       "    }\n",
       "\n",
       "    .dataframe tbody tr th {\n",
       "        vertical-align: top;\n",
       "    }\n",
       "\n",
       "    .dataframe thead th {\n",
       "        text-align: right;\n",
       "    }\n",
       "</style>\n",
       "<table border=\"1\" class=\"dataframe\">\n",
       "  <thead>\n",
       "    <tr style=\"text-align: right;\">\n",
       "      <th></th>\n",
       "      <th>precision</th>\n",
       "      <th>recall</th>\n",
       "      <th>f1-score</th>\n",
       "      <th>support</th>\n",
       "    </tr>\n",
       "  </thead>\n",
       "  <tbody>\n",
       "    <tr>\n",
       "      <th>0</th>\n",
       "      <td>0.907778</td>\n",
       "      <td>0.954781</td>\n",
       "      <td>0.930686</td>\n",
       "      <td>2897.000000</td>\n",
       "    </tr>\n",
       "    <tr>\n",
       "      <th>1</th>\n",
       "      <td>0.853795</td>\n",
       "      <td>0.731358</td>\n",
       "      <td>0.787848</td>\n",
       "      <td>1046.000000</td>\n",
       "    </tr>\n",
       "    <tr>\n",
       "      <th>accuracy</th>\n",
       "      <td>0.895511</td>\n",
       "      <td>0.895511</td>\n",
       "      <td>0.895511</td>\n",
       "      <td>0.895511</td>\n",
       "    </tr>\n",
       "    <tr>\n",
       "      <th>macro avg</th>\n",
       "      <td>0.880786</td>\n",
       "      <td>0.843069</td>\n",
       "      <td>0.859267</td>\n",
       "      <td>3943.000000</td>\n",
       "    </tr>\n",
       "    <tr>\n",
       "      <th>weighted avg</th>\n",
       "      <td>0.893457</td>\n",
       "      <td>0.895511</td>\n",
       "      <td>0.892794</td>\n",
       "      <td>3943.000000</td>\n",
       "    </tr>\n",
       "  </tbody>\n",
       "</table>\n",
       "</div>"
      ],
      "text/plain": [
       "              precision    recall  f1-score      support\n",
       "0              0.907778  0.954781  0.930686  2897.000000\n",
       "1              0.853795  0.731358  0.787848  1046.000000\n",
       "accuracy       0.895511  0.895511  0.895511     0.895511\n",
       "macro avg      0.880786  0.843069  0.859267  3943.000000\n",
       "weighted avg   0.893457  0.895511  0.892794  3943.000000"
      ]
     },
     "execution_count": 159,
     "metadata": {},
     "output_type": "execute_result"
    }
   ],
   "source": [
    "classification_report_4 = classification_report(y_train, y_pred_rf3, output_dict = True)\n",
    "df_classification_report_4 = pd.DataFrame(classification_report_4).T\n",
    "df_classification_report_4"
   ]
  },
  {
   "cell_type": "code",
   "execution_count": 160,
   "id": "4a9780e4",
   "metadata": {},
   "outputs": [
    {
     "data": {
      "text/html": [
       "<div>\n",
       "<style scoped>\n",
       "    .dataframe tbody tr th:only-of-type {\n",
       "        vertical-align: middle;\n",
       "    }\n",
       "\n",
       "    .dataframe tbody tr th {\n",
       "        vertical-align: top;\n",
       "    }\n",
       "\n",
       "    .dataframe thead th {\n",
       "        text-align: right;\n",
       "    }\n",
       "</style>\n",
       "<table border=\"1\" class=\"dataframe\">\n",
       "  <thead>\n",
       "    <tr style=\"text-align: right;\">\n",
       "      <th></th>\n",
       "      <th>precision</th>\n",
       "      <th>recall</th>\n",
       "      <th>f1-score</th>\n",
       "      <th>support</th>\n",
       "    </tr>\n",
       "  </thead>\n",
       "  <tbody>\n",
       "    <tr>\n",
       "      <th>0</th>\n",
       "      <td>0.856221</td>\n",
       "      <td>0.897585</td>\n",
       "      <td>0.876415</td>\n",
       "      <td>1035.000000</td>\n",
       "    </tr>\n",
       "    <tr>\n",
       "      <th>1</th>\n",
       "      <td>0.672840</td>\n",
       "      <td>0.582888</td>\n",
       "      <td>0.624642</td>\n",
       "      <td>374.000000</td>\n",
       "    </tr>\n",
       "    <tr>\n",
       "      <th>accuracy</th>\n",
       "      <td>0.814053</td>\n",
       "      <td>0.814053</td>\n",
       "      <td>0.814053</td>\n",
       "      <td>0.814053</td>\n",
       "    </tr>\n",
       "    <tr>\n",
       "      <th>macro avg</th>\n",
       "      <td>0.764530</td>\n",
       "      <td>0.740236</td>\n",
       "      <td>0.750528</td>\n",
       "      <td>1409.000000</td>\n",
       "    </tr>\n",
       "    <tr>\n",
       "      <th>weighted avg</th>\n",
       "      <td>0.807545</td>\n",
       "      <td>0.814053</td>\n",
       "      <td>0.809585</td>\n",
       "      <td>1409.000000</td>\n",
       "    </tr>\n",
       "  </tbody>\n",
       "</table>\n",
       "</div>"
      ],
      "text/plain": [
       "              precision    recall  f1-score      support\n",
       "0              0.856221  0.897585  0.876415  1035.000000\n",
       "1              0.672840  0.582888  0.624642   374.000000\n",
       "accuracy       0.814053  0.814053  0.814053     0.814053\n",
       "macro avg      0.764530  0.740236  0.750528  1409.000000\n",
       "weighted avg   0.807545  0.814053  0.809585  1409.000000"
      ]
     },
     "execution_count": 160,
     "metadata": {},
     "output_type": "execute_result"
    }
   ],
   "source": [
    "classification_report_4_validate = classification_report(y_validate, y_pred_rf3_validate, output_dict = True)\n",
    "df_classification_report_4_validate = pd.DataFrame(classification_report_4_validate).T\n",
    "df_classification_report_4_validate"
   ]
  },
  {
   "cell_type": "markdown",
   "id": "b04a7f7e",
   "metadata": {},
   "source": [
    "Increases esitmators give us precision, recall, and accuracy comparable to our first Random Forest model."
   ]
  },
  {
   "cell_type": "markdown",
   "id": "a36fcf5d",
   "metadata": {},
   "source": [
    "## K-nearest neighbor"
   ]
  },
  {
   "cell_type": "markdown",
   "id": "aa3f291c",
   "metadata": {},
   "source": [
    "**Create KNN Object**"
   ]
  },
  {
   "cell_type": "code",
   "execution_count": 161,
   "id": "39b8ee83",
   "metadata": {},
   "outputs": [],
   "source": [
    "knn = KNeighborsClassifier(n_neighbors=5, weights='uniform')"
   ]
  },
  {
   "cell_type": "markdown",
   "id": "defa2e46",
   "metadata": {},
   "source": [
    "**Fit the model**"
   ]
  },
  {
   "cell_type": "code",
   "execution_count": 162,
   "id": "ea3e49cb",
   "metadata": {},
   "outputs": [
    {
     "data": {
      "text/plain": [
       "KNeighborsClassifier()"
      ]
     },
     "execution_count": 162,
     "metadata": {},
     "output_type": "execute_result"
    }
   ],
   "source": [
    "knn.fit(X_train, y_train)"
   ]
  },
  {
   "cell_type": "markdown",
   "id": "5ca12a51",
   "metadata": {},
   "source": [
    "**Make predictions**"
   ]
  },
  {
   "cell_type": "code",
   "execution_count": 163,
   "id": "5b239b00",
   "metadata": {},
   "outputs": [],
   "source": [
    "y_pred = knn.predict(X_train)"
   ]
  },
  {
   "cell_type": "code",
   "execution_count": 164,
   "id": "ad40a4cb",
   "metadata": {},
   "outputs": [],
   "source": [
    "y_pred_validate = knn.predict(X_validate)"
   ]
  },
  {
   "cell_type": "markdown",
   "id": "429167eb",
   "metadata": {},
   "source": [
    "**Classification report**"
   ]
  },
  {
   "cell_type": "code",
   "execution_count": 165,
   "id": "00d1f077",
   "metadata": {},
   "outputs": [
    {
     "data": {
      "text/html": [
       "<div>\n",
       "<style scoped>\n",
       "    .dataframe tbody tr th:only-of-type {\n",
       "        vertical-align: middle;\n",
       "    }\n",
       "\n",
       "    .dataframe tbody tr th {\n",
       "        vertical-align: top;\n",
       "    }\n",
       "\n",
       "    .dataframe thead th {\n",
       "        text-align: right;\n",
       "    }\n",
       "</style>\n",
       "<table border=\"1\" class=\"dataframe\">\n",
       "  <thead>\n",
       "    <tr style=\"text-align: right;\">\n",
       "      <th></th>\n",
       "      <th>precision</th>\n",
       "      <th>recall</th>\n",
       "      <th>f1-score</th>\n",
       "      <th>support</th>\n",
       "    </tr>\n",
       "  </thead>\n",
       "  <tbody>\n",
       "    <tr>\n",
       "      <th>0</th>\n",
       "      <td>0.857143</td>\n",
       "      <td>0.925785</td>\n",
       "      <td>0.890143</td>\n",
       "      <td>2897.000000</td>\n",
       "    </tr>\n",
       "    <tr>\n",
       "      <th>1</th>\n",
       "      <td>0.735872</td>\n",
       "      <td>0.572658</td>\n",
       "      <td>0.644086</td>\n",
       "      <td>1046.000000</td>\n",
       "    </tr>\n",
       "    <tr>\n",
       "      <th>accuracy</th>\n",
       "      <td>0.832108</td>\n",
       "      <td>0.832108</td>\n",
       "      <td>0.832108</td>\n",
       "      <td>0.832108</td>\n",
       "    </tr>\n",
       "    <tr>\n",
       "      <th>macro avg</th>\n",
       "      <td>0.796508</td>\n",
       "      <td>0.749222</td>\n",
       "      <td>0.767114</td>\n",
       "      <td>3943.000000</td>\n",
       "    </tr>\n",
       "    <tr>\n",
       "      <th>weighted avg</th>\n",
       "      <td>0.824972</td>\n",
       "      <td>0.832108</td>\n",
       "      <td>0.824869</td>\n",
       "      <td>3943.000000</td>\n",
       "    </tr>\n",
       "  </tbody>\n",
       "</table>\n",
       "</div>"
      ],
      "text/plain": [
       "              precision    recall  f1-score      support\n",
       "0              0.857143  0.925785  0.890143  2897.000000\n",
       "1              0.735872  0.572658  0.644086  1046.000000\n",
       "accuracy       0.832108  0.832108  0.832108     0.832108\n",
       "macro avg      0.796508  0.749222  0.767114  3943.000000\n",
       "weighted avg   0.824972  0.832108  0.824869  3943.000000"
      ]
     },
     "execution_count": 165,
     "metadata": {},
     "output_type": "execute_result"
    }
   ],
   "source": [
    "pd.DataFrame(classification_report(y_train, y_pred, output_dict = True)).T"
   ]
  },
  {
   "cell_type": "code",
   "execution_count": 166,
   "id": "f8ed752b",
   "metadata": {},
   "outputs": [
    {
     "data": {
      "text/html": [
       "<div>\n",
       "<style scoped>\n",
       "    .dataframe tbody tr th:only-of-type {\n",
       "        vertical-align: middle;\n",
       "    }\n",
       "\n",
       "    .dataframe tbody tr th {\n",
       "        vertical-align: top;\n",
       "    }\n",
       "\n",
       "    .dataframe thead th {\n",
       "        text-align: right;\n",
       "    }\n",
       "</style>\n",
       "<table border=\"1\" class=\"dataframe\">\n",
       "  <thead>\n",
       "    <tr style=\"text-align: right;\">\n",
       "      <th></th>\n",
       "      <th>precision</th>\n",
       "      <th>recall</th>\n",
       "      <th>f1-score</th>\n",
       "      <th>support</th>\n",
       "    </tr>\n",
       "  </thead>\n",
       "  <tbody>\n",
       "    <tr>\n",
       "      <th>0</th>\n",
       "      <td>0.815718</td>\n",
       "      <td>0.872464</td>\n",
       "      <td>0.843137</td>\n",
       "      <td>1035.000000</td>\n",
       "    </tr>\n",
       "    <tr>\n",
       "      <th>1</th>\n",
       "      <td>0.562914</td>\n",
       "      <td>0.454545</td>\n",
       "      <td>0.502959</td>\n",
       "      <td>374.000000</td>\n",
       "    </tr>\n",
       "    <tr>\n",
       "      <th>accuracy</th>\n",
       "      <td>0.761533</td>\n",
       "      <td>0.761533</td>\n",
       "      <td>0.761533</td>\n",
       "      <td>0.761533</td>\n",
       "    </tr>\n",
       "    <tr>\n",
       "      <th>macro avg</th>\n",
       "      <td>0.689316</td>\n",
       "      <td>0.663505</td>\n",
       "      <td>0.673048</td>\n",
       "      <td>1409.000000</td>\n",
       "    </tr>\n",
       "    <tr>\n",
       "      <th>weighted avg</th>\n",
       "      <td>0.748615</td>\n",
       "      <td>0.761533</td>\n",
       "      <td>0.752841</td>\n",
       "      <td>1409.000000</td>\n",
       "    </tr>\n",
       "  </tbody>\n",
       "</table>\n",
       "</div>"
      ],
      "text/plain": [
       "              precision    recall  f1-score      support\n",
       "0              0.815718  0.872464  0.843137  1035.000000\n",
       "1              0.562914  0.454545  0.502959   374.000000\n",
       "accuracy       0.761533  0.761533  0.761533     0.761533\n",
       "macro avg      0.689316  0.663505  0.673048  1409.000000\n",
       "weighted avg   0.748615  0.761533  0.752841  1409.000000"
      ]
     },
     "execution_count": 166,
     "metadata": {},
     "output_type": "execute_result"
    }
   ],
   "source": [
    "pd.DataFrame(classification_report(y_validate, y_pred_validate, output_dict = True)).T"
   ]
  },
  {
   "cell_type": "markdown",
   "id": "6b4f8110",
   "metadata": {},
   "source": [
    "Let's try the knn model with 10 neighbors."
   ]
  },
  {
   "cell_type": "code",
   "execution_count": 167,
   "id": "69dd43f2",
   "metadata": {},
   "outputs": [
    {
     "data": {
      "text/html": [
       "<div>\n",
       "<style scoped>\n",
       "    .dataframe tbody tr th:only-of-type {\n",
       "        vertical-align: middle;\n",
       "    }\n",
       "\n",
       "    .dataframe tbody tr th {\n",
       "        vertical-align: top;\n",
       "    }\n",
       "\n",
       "    .dataframe thead th {\n",
       "        text-align: right;\n",
       "    }\n",
       "</style>\n",
       "<table border=\"1\" class=\"dataframe\">\n",
       "  <thead>\n",
       "    <tr style=\"text-align: right;\">\n",
       "      <th></th>\n",
       "      <th>precision</th>\n",
       "      <th>recall</th>\n",
       "      <th>f1-score</th>\n",
       "      <th>support</th>\n",
       "    </tr>\n",
       "  </thead>\n",
       "  <tbody>\n",
       "    <tr>\n",
       "      <th>0</th>\n",
       "      <td>0.819833</td>\n",
       "      <td>0.950293</td>\n",
       "      <td>0.880256</td>\n",
       "      <td>2897.000000</td>\n",
       "    </tr>\n",
       "    <tr>\n",
       "      <th>1</th>\n",
       "      <td>0.753846</td>\n",
       "      <td>0.421606</td>\n",
       "      <td>0.540773</td>\n",
       "      <td>1046.000000</td>\n",
       "    </tr>\n",
       "    <tr>\n",
       "      <th>accuracy</th>\n",
       "      <td>0.810043</td>\n",
       "      <td>0.810043</td>\n",
       "      <td>0.810043</td>\n",
       "      <td>0.810043</td>\n",
       "    </tr>\n",
       "    <tr>\n",
       "      <th>macro avg</th>\n",
       "      <td>0.786840</td>\n",
       "      <td>0.685950</td>\n",
       "      <td>0.710514</td>\n",
       "      <td>3943.000000</td>\n",
       "    </tr>\n",
       "    <tr>\n",
       "      <th>weighted avg</th>\n",
       "      <td>0.802328</td>\n",
       "      <td>0.810043</td>\n",
       "      <td>0.790198</td>\n",
       "      <td>3943.000000</td>\n",
       "    </tr>\n",
       "  </tbody>\n",
       "</table>\n",
       "</div>"
      ],
      "text/plain": [
       "              precision    recall  f1-score      support\n",
       "0              0.819833  0.950293  0.880256  2897.000000\n",
       "1              0.753846  0.421606  0.540773  1046.000000\n",
       "accuracy       0.810043  0.810043  0.810043     0.810043\n",
       "macro avg      0.786840  0.685950  0.710514  3943.000000\n",
       "weighted avg   0.802328  0.810043  0.790198  3943.000000"
      ]
     },
     "execution_count": 167,
     "metadata": {},
     "output_type": "execute_result"
    }
   ],
   "source": [
    "knn2 = KNeighborsClassifier(n_neighbors=10, weights='uniform')\n",
    "knn2.fit(X_train, y_train)\n",
    "y_pred2 = knn2.predict(X_train)\n",
    "pd.DataFrame(classification_report(y_train, y_pred2, output_dict = True)).T"
   ]
  },
  {
   "cell_type": "code",
   "execution_count": 168,
   "id": "63488d15",
   "metadata": {},
   "outputs": [
    {
     "data": {
      "text/html": [
       "<div>\n",
       "<style scoped>\n",
       "    .dataframe tbody tr th:only-of-type {\n",
       "        vertical-align: middle;\n",
       "    }\n",
       "\n",
       "    .dataframe tbody tr th {\n",
       "        vertical-align: top;\n",
       "    }\n",
       "\n",
       "    .dataframe thead th {\n",
       "        text-align: right;\n",
       "    }\n",
       "</style>\n",
       "<table border=\"1\" class=\"dataframe\">\n",
       "  <thead>\n",
       "    <tr style=\"text-align: right;\">\n",
       "      <th></th>\n",
       "      <th>precision</th>\n",
       "      <th>recall</th>\n",
       "      <th>f1-score</th>\n",
       "      <th>support</th>\n",
       "    </tr>\n",
       "  </thead>\n",
       "  <tbody>\n",
       "    <tr>\n",
       "      <th>0</th>\n",
       "      <td>0.799832</td>\n",
       "      <td>0.922705</td>\n",
       "      <td>0.856886</td>\n",
       "      <td>1035.000000</td>\n",
       "    </tr>\n",
       "    <tr>\n",
       "      <th>1</th>\n",
       "      <td>0.627907</td>\n",
       "      <td>0.360963</td>\n",
       "      <td>0.458404</td>\n",
       "      <td>374.000000</td>\n",
       "    </tr>\n",
       "    <tr>\n",
       "      <th>accuracy</th>\n",
       "      <td>0.773598</td>\n",
       "      <td>0.773598</td>\n",
       "      <td>0.773598</td>\n",
       "      <td>0.773598</td>\n",
       "    </tr>\n",
       "    <tr>\n",
       "      <th>macro avg</th>\n",
       "      <td>0.713870</td>\n",
       "      <td>0.641834</td>\n",
       "      <td>0.657645</td>\n",
       "      <td>1409.000000</td>\n",
       "    </tr>\n",
       "    <tr>\n",
       "      <th>weighted avg</th>\n",
       "      <td>0.754197</td>\n",
       "      <td>0.773598</td>\n",
       "      <td>0.751115</td>\n",
       "      <td>1409.000000</td>\n",
       "    </tr>\n",
       "  </tbody>\n",
       "</table>\n",
       "</div>"
      ],
      "text/plain": [
       "              precision    recall  f1-score      support\n",
       "0              0.799832  0.922705  0.856886  1035.000000\n",
       "1              0.627907  0.360963  0.458404   374.000000\n",
       "accuracy       0.773598  0.773598  0.773598     0.773598\n",
       "macro avg      0.713870  0.641834  0.657645  1409.000000\n",
       "weighted avg   0.754197  0.773598  0.751115  1409.000000"
      ]
     },
     "execution_count": 168,
     "metadata": {},
     "output_type": "execute_result"
    }
   ],
   "source": [
    "y_pred2_validate = knn2.predict(X_validate)\n",
    "pd.DataFrame(classification_report(y_validate, y_pred2_validate, output_dict = True)).T"
   ]
  },
  {
   "cell_type": "markdown",
   "id": "fa90da2a",
   "metadata": {},
   "source": [
    "Increasing neighbors decreases precision, recall and accuracy. Let's try the knn model with 7 neighbors. "
   ]
  },
  {
   "cell_type": "code",
   "execution_count": 169,
   "id": "852dc935",
   "metadata": {},
   "outputs": [
    {
     "data": {
      "text/html": [
       "<div>\n",
       "<style scoped>\n",
       "    .dataframe tbody tr th:only-of-type {\n",
       "        vertical-align: middle;\n",
       "    }\n",
       "\n",
       "    .dataframe tbody tr th {\n",
       "        vertical-align: top;\n",
       "    }\n",
       "\n",
       "    .dataframe thead th {\n",
       "        text-align: right;\n",
       "    }\n",
       "</style>\n",
       "<table border=\"1\" class=\"dataframe\">\n",
       "  <thead>\n",
       "    <tr style=\"text-align: right;\">\n",
       "      <th></th>\n",
       "      <th>precision</th>\n",
       "      <th>recall</th>\n",
       "      <th>f1-score</th>\n",
       "      <th>support</th>\n",
       "    </tr>\n",
       "  </thead>\n",
       "  <tbody>\n",
       "    <tr>\n",
       "      <th>0</th>\n",
       "      <td>0.819833</td>\n",
       "      <td>0.950293</td>\n",
       "      <td>0.880256</td>\n",
       "      <td>2897.000000</td>\n",
       "    </tr>\n",
       "    <tr>\n",
       "      <th>1</th>\n",
       "      <td>0.753846</td>\n",
       "      <td>0.421606</td>\n",
       "      <td>0.540773</td>\n",
       "      <td>1046.000000</td>\n",
       "    </tr>\n",
       "    <tr>\n",
       "      <th>accuracy</th>\n",
       "      <td>0.810043</td>\n",
       "      <td>0.810043</td>\n",
       "      <td>0.810043</td>\n",
       "      <td>0.810043</td>\n",
       "    </tr>\n",
       "    <tr>\n",
       "      <th>macro avg</th>\n",
       "      <td>0.786840</td>\n",
       "      <td>0.685950</td>\n",
       "      <td>0.710514</td>\n",
       "      <td>3943.000000</td>\n",
       "    </tr>\n",
       "    <tr>\n",
       "      <th>weighted avg</th>\n",
       "      <td>0.802328</td>\n",
       "      <td>0.810043</td>\n",
       "      <td>0.790198</td>\n",
       "      <td>3943.000000</td>\n",
       "    </tr>\n",
       "  </tbody>\n",
       "</table>\n",
       "</div>"
      ],
      "text/plain": [
       "              precision    recall  f1-score      support\n",
       "0              0.819833  0.950293  0.880256  2897.000000\n",
       "1              0.753846  0.421606  0.540773  1046.000000\n",
       "accuracy       0.810043  0.810043  0.810043     0.810043\n",
       "macro avg      0.786840  0.685950  0.710514  3943.000000\n",
       "weighted avg   0.802328  0.810043  0.790198  3943.000000"
      ]
     },
     "execution_count": 169,
     "metadata": {},
     "output_type": "execute_result"
    }
   ],
   "source": [
    "knn3 = KNeighborsClassifier(n_neighbors=10, weights='uniform')\n",
    "knn3.fit(X_train, y_train)\n",
    "y_pred3 = knn3.predict(X_train)\n",
    "pd.DataFrame(classification_report(y_train, y_pred3, output_dict = True)).T"
   ]
  },
  {
   "cell_type": "code",
   "execution_count": 170,
   "id": "b42af853",
   "metadata": {},
   "outputs": [
    {
     "data": {
      "text/html": [
       "<div>\n",
       "<style scoped>\n",
       "    .dataframe tbody tr th:only-of-type {\n",
       "        vertical-align: middle;\n",
       "    }\n",
       "\n",
       "    .dataframe tbody tr th {\n",
       "        vertical-align: top;\n",
       "    }\n",
       "\n",
       "    .dataframe thead th {\n",
       "        text-align: right;\n",
       "    }\n",
       "</style>\n",
       "<table border=\"1\" class=\"dataframe\">\n",
       "  <thead>\n",
       "    <tr style=\"text-align: right;\">\n",
       "      <th></th>\n",
       "      <th>precision</th>\n",
       "      <th>recall</th>\n",
       "      <th>f1-score</th>\n",
       "      <th>support</th>\n",
       "    </tr>\n",
       "  </thead>\n",
       "  <tbody>\n",
       "    <tr>\n",
       "      <th>0</th>\n",
       "      <td>0.799832</td>\n",
       "      <td>0.922705</td>\n",
       "      <td>0.856886</td>\n",
       "      <td>1035.000000</td>\n",
       "    </tr>\n",
       "    <tr>\n",
       "      <th>1</th>\n",
       "      <td>0.627907</td>\n",
       "      <td>0.360963</td>\n",
       "      <td>0.458404</td>\n",
       "      <td>374.000000</td>\n",
       "    </tr>\n",
       "    <tr>\n",
       "      <th>accuracy</th>\n",
       "      <td>0.773598</td>\n",
       "      <td>0.773598</td>\n",
       "      <td>0.773598</td>\n",
       "      <td>0.773598</td>\n",
       "    </tr>\n",
       "    <tr>\n",
       "      <th>macro avg</th>\n",
       "      <td>0.713870</td>\n",
       "      <td>0.641834</td>\n",
       "      <td>0.657645</td>\n",
       "      <td>1409.000000</td>\n",
       "    </tr>\n",
       "    <tr>\n",
       "      <th>weighted avg</th>\n",
       "      <td>0.754197</td>\n",
       "      <td>0.773598</td>\n",
       "      <td>0.751115</td>\n",
       "      <td>1409.000000</td>\n",
       "    </tr>\n",
       "  </tbody>\n",
       "</table>\n",
       "</div>"
      ],
      "text/plain": [
       "              precision    recall  f1-score      support\n",
       "0              0.799832  0.922705  0.856886  1035.000000\n",
       "1              0.627907  0.360963  0.458404   374.000000\n",
       "accuracy       0.773598  0.773598  0.773598     0.773598\n",
       "macro avg      0.713870  0.641834  0.657645  1409.000000\n",
       "weighted avg   0.754197  0.773598  0.751115  1409.000000"
      ]
     },
     "execution_count": 170,
     "metadata": {},
     "output_type": "execute_result"
    }
   ],
   "source": [
    "y_pred3_validate = knn3.predict(X_validate)\n",
    "pd.DataFrame(classification_report(y_validate, y_pred3_validate, output_dict = True)).T"
   ]
  },
  {
   "cell_type": "markdown",
   "id": "baff293a",
   "metadata": {},
   "source": [
    "Again, our model with the highest accuracy, precision, and recall is the knn model with 5 neighbors."
   ]
  },
  {
   "cell_type": "markdown",
   "id": "88391c54",
   "metadata": {},
   "source": [
    "## Chosing the best model"
   ]
  },
  {
   "cell_type": "markdown",
   "id": "a7aa4147",
   "metadata": {},
   "source": [
    "The `random forest` model performs with high accuracy, precision, and recall. Also, due to feature importance, this model gives us usable data. Furthermore, we want a model with high recall because want to capture all customers that actually churned. The random forest with max depth 10 offers us high recall, while still maintaining high accuracy and precision."
   ]
  },
  {
   "cell_type": "markdown",
   "id": "deb4e841",
   "metadata": {},
   "source": [
    "We will test this model and the test dataset."
   ]
  },
  {
   "cell_type": "markdown",
   "id": "de2b0bd1",
   "metadata": {},
   "source": [
    "To use the model on our test dataset, we need to drop the `customer_id` column from our `X_test` data."
   ]
  },
  {
   "cell_type": "code",
   "execution_count": 171,
   "id": "164b0ef2",
   "metadata": {},
   "outputs": [],
   "source": [
    "X_test_no_id = X_test.drop(columns = ['customer_id'])"
   ]
  },
  {
   "cell_type": "code",
   "execution_count": 172,
   "id": "01dcabf8",
   "metadata": {},
   "outputs": [],
   "source": [
    "y_pred_rf_test = rf.predict(X_test_no_id)"
   ]
  },
  {
   "cell_type": "code",
   "execution_count": 173,
   "id": "ad5f2468",
   "metadata": {},
   "outputs": [],
   "source": [
    "classification_report_test = pd.DataFrame(classification_report(y_test, y_pred_rf_test, output_dict = True)).T"
   ]
  },
  {
   "cell_type": "code",
   "execution_count": 174,
   "id": "d6d11bbf",
   "metadata": {},
   "outputs": [
    {
     "data": {
      "text/html": [
       "<div>\n",
       "<style scoped>\n",
       "    .dataframe tbody tr th:only-of-type {\n",
       "        vertical-align: middle;\n",
       "    }\n",
       "\n",
       "    .dataframe tbody tr th {\n",
       "        vertical-align: top;\n",
       "    }\n",
       "\n",
       "    .dataframe thead th {\n",
       "        text-align: right;\n",
       "    }\n",
       "</style>\n",
       "<table border=\"1\" class=\"dataframe\">\n",
       "  <thead>\n",
       "    <tr style=\"text-align: right;\">\n",
       "      <th></th>\n",
       "      <th>precision</th>\n",
       "      <th>recall</th>\n",
       "      <th>f1-score</th>\n",
       "      <th>support</th>\n",
       "    </tr>\n",
       "  </thead>\n",
       "  <tbody>\n",
       "    <tr>\n",
       "      <th>0</th>\n",
       "      <td>0.838444</td>\n",
       "      <td>0.902576</td>\n",
       "      <td>0.869329</td>\n",
       "      <td>1242.00000</td>\n",
       "    </tr>\n",
       "    <tr>\n",
       "      <th>1</th>\n",
       "      <td>0.658192</td>\n",
       "      <td>0.518931</td>\n",
       "      <td>0.580324</td>\n",
       "      <td>449.00000</td>\n",
       "    </tr>\n",
       "    <tr>\n",
       "      <th>accuracy</th>\n",
       "      <td>0.800710</td>\n",
       "      <td>0.800710</td>\n",
       "      <td>0.800710</td>\n",
       "      <td>0.80071</td>\n",
       "    </tr>\n",
       "    <tr>\n",
       "      <th>macro avg</th>\n",
       "      <td>0.748318</td>\n",
       "      <td>0.710754</td>\n",
       "      <td>0.724826</td>\n",
       "      <td>1691.00000</td>\n",
       "    </tr>\n",
       "    <tr>\n",
       "      <th>weighted avg</th>\n",
       "      <td>0.790583</td>\n",
       "      <td>0.800710</td>\n",
       "      <td>0.792592</td>\n",
       "      <td>1691.00000</td>\n",
       "    </tr>\n",
       "  </tbody>\n",
       "</table>\n",
       "</div>"
      ],
      "text/plain": [
       "              precision    recall  f1-score     support\n",
       "0              0.838444  0.902576  0.869329  1242.00000\n",
       "1              0.658192  0.518931  0.580324   449.00000\n",
       "accuracy       0.800710  0.800710  0.800710     0.80071\n",
       "macro avg      0.748318  0.710754  0.724826  1691.00000\n",
       "weighted avg   0.790583  0.800710  0.792592  1691.00000"
      ]
     },
     "execution_count": 174,
     "metadata": {},
     "output_type": "execute_result"
    }
   ],
   "source": [
    "classification_report_test"
   ]
  },
  {
   "cell_type": "markdown",
   "id": "16a227aa",
   "metadata": {},
   "source": [
    "## Create predictions CSV"
   ]
  },
  {
   "cell_type": "code",
   "execution_count": 175,
   "id": "c7c58ab2",
   "metadata": {},
   "outputs": [],
   "source": [
    "proba_test = rf2.predict_proba(X_test_no_id)"
   ]
  },
  {
   "cell_type": "code",
   "execution_count": 342,
   "id": "130822d7",
   "metadata": {},
   "outputs": [
    {
     "data": {
      "text/html": [
       "<div>\n",
       "<style scoped>\n",
       "    .dataframe tbody tr th:only-of-type {\n",
       "        vertical-align: middle;\n",
       "    }\n",
       "\n",
       "    .dataframe tbody tr th {\n",
       "        vertical-align: top;\n",
       "    }\n",
       "\n",
       "    .dataframe thead th {\n",
       "        text-align: right;\n",
       "    }\n",
       "</style>\n",
       "<table border=\"1\" class=\"dataframe\">\n",
       "  <thead>\n",
       "    <tr style=\"text-align: right;\">\n",
       "      <th></th>\n",
       "      <th>0</th>\n",
       "      <th>1</th>\n",
       "    </tr>\n",
       "  </thead>\n",
       "  <tbody>\n",
       "    <tr>\n",
       "      <th>0</th>\n",
       "      <td>0.579144</td>\n",
       "      <td>0.420856</td>\n",
       "    </tr>\n",
       "    <tr>\n",
       "      <th>1</th>\n",
       "      <td>0.392773</td>\n",
       "      <td>0.607227</td>\n",
       "    </tr>\n",
       "    <tr>\n",
       "      <th>2</th>\n",
       "      <td>0.675248</td>\n",
       "      <td>0.324752</td>\n",
       "    </tr>\n",
       "    <tr>\n",
       "      <th>3</th>\n",
       "      <td>0.966956</td>\n",
       "      <td>0.033044</td>\n",
       "    </tr>\n",
       "    <tr>\n",
       "      <th>4</th>\n",
       "      <td>0.591087</td>\n",
       "      <td>0.408913</td>\n",
       "    </tr>\n",
       "  </tbody>\n",
       "</table>\n",
       "</div>"
      ],
      "text/plain": [
       "          0         1\n",
       "0  0.579144  0.420856\n",
       "1  0.392773  0.607227\n",
       "2  0.675248  0.324752\n",
       "3  0.966956  0.033044\n",
       "4  0.591087  0.408913"
      ]
     },
     "execution_count": 342,
     "metadata": {},
     "output_type": "execute_result"
    }
   ],
   "source": [
    "proba_df = pd.DataFrame(proba_test, columns=rf2.classes_.tolist())\n",
    "proba_df.head()"
   ]
  },
  {
   "cell_type": "code",
   "execution_count": 343,
   "id": "dee38ce7",
   "metadata": {},
   "outputs": [
    {
     "data": {
      "text/html": [
       "<div>\n",
       "<style scoped>\n",
       "    .dataframe tbody tr th:only-of-type {\n",
       "        vertical-align: middle;\n",
       "    }\n",
       "\n",
       "    .dataframe tbody tr th {\n",
       "        vertical-align: top;\n",
       "    }\n",
       "\n",
       "    .dataframe thead th {\n",
       "        text-align: right;\n",
       "    }\n",
       "</style>\n",
       "<table border=\"1\" class=\"dataframe\">\n",
       "  <thead>\n",
       "    <tr style=\"text-align: right;\">\n",
       "      <th></th>\n",
       "      <th>index</th>\n",
       "      <th>customer_id</th>\n",
       "      <th>senior_citizen</th>\n",
       "      <th>tenure</th>\n",
       "      <th>internet_service_type_id</th>\n",
       "      <th>contract_type_id</th>\n",
       "      <th>payment_type_id</th>\n",
       "      <th>monthly_charges</th>\n",
       "      <th>total_charges</th>\n",
       "      <th>paperless_billing_numeric</th>\n",
       "      <th>...</th>\n",
       "      <th>online_backup_No internet service</th>\n",
       "      <th>online_backup_Yes</th>\n",
       "      <th>device_protection_No internet service</th>\n",
       "      <th>device_protection_Yes</th>\n",
       "      <th>tech_support_No internet service</th>\n",
       "      <th>tech_support_Yes</th>\n",
       "      <th>streaming_tv_No internet service</th>\n",
       "      <th>streaming_tv_Yes</th>\n",
       "      <th>streaming_movies_No internet service</th>\n",
       "      <th>streaming_movies_Yes</th>\n",
       "    </tr>\n",
       "  </thead>\n",
       "  <tbody>\n",
       "    <tr>\n",
       "      <th>0</th>\n",
       "      <td>1630</td>\n",
       "      <td>3668-QPYBK</td>\n",
       "      <td>0</td>\n",
       "      <td>2</td>\n",
       "      <td>1</td>\n",
       "      <td>1</td>\n",
       "      <td>2</td>\n",
       "      <td>53.85</td>\n",
       "      <td>108.15</td>\n",
       "      <td>1</td>\n",
       "      <td>...</td>\n",
       "      <td>0</td>\n",
       "      <td>1</td>\n",
       "      <td>0</td>\n",
       "      <td>0</td>\n",
       "      <td>0</td>\n",
       "      <td>0</td>\n",
       "      <td>0</td>\n",
       "      <td>0</td>\n",
       "      <td>0</td>\n",
       "      <td>0</td>\n",
       "    </tr>\n",
       "    <tr>\n",
       "      <th>1</th>\n",
       "      <td>5181</td>\n",
       "      <td>8380-PEFPE</td>\n",
       "      <td>0</td>\n",
       "      <td>1</td>\n",
       "      <td>2</td>\n",
       "      <td>1</td>\n",
       "      <td>1</td>\n",
       "      <td>71.65</td>\n",
       "      <td>71.65</td>\n",
       "      <td>1</td>\n",
       "      <td>...</td>\n",
       "      <td>0</td>\n",
       "      <td>0</td>\n",
       "      <td>0</td>\n",
       "      <td>0</td>\n",
       "      <td>0</td>\n",
       "      <td>0</td>\n",
       "      <td>0</td>\n",
       "      <td>0</td>\n",
       "      <td>0</td>\n",
       "      <td>0</td>\n",
       "    </tr>\n",
       "    <tr>\n",
       "      <th>2</th>\n",
       "      <td>4239</td>\n",
       "      <td>3956-CJUST</td>\n",
       "      <td>1</td>\n",
       "      <td>23</td>\n",
       "      <td>2</td>\n",
       "      <td>1</td>\n",
       "      <td>3</td>\n",
       "      <td>75.40</td>\n",
       "      <td>1643.55</td>\n",
       "      <td>1</td>\n",
       "      <td>...</td>\n",
       "      <td>0</td>\n",
       "      <td>0</td>\n",
       "      <td>0</td>\n",
       "      <td>0</td>\n",
       "      <td>0</td>\n",
       "      <td>0</td>\n",
       "      <td>0</td>\n",
       "      <td>0</td>\n",
       "      <td>0</td>\n",
       "      <td>0</td>\n",
       "    </tr>\n",
       "    <tr>\n",
       "      <th>3</th>\n",
       "      <td>5814</td>\n",
       "      <td>4652-ODEVH</td>\n",
       "      <td>0</td>\n",
       "      <td>45</td>\n",
       "      <td>3</td>\n",
       "      <td>3</td>\n",
       "      <td>2</td>\n",
       "      <td>24.45</td>\n",
       "      <td>1088.25</td>\n",
       "      <td>0</td>\n",
       "      <td>...</td>\n",
       "      <td>1</td>\n",
       "      <td>0</td>\n",
       "      <td>1</td>\n",
       "      <td>0</td>\n",
       "      <td>1</td>\n",
       "      <td>0</td>\n",
       "      <td>1</td>\n",
       "      <td>0</td>\n",
       "      <td>1</td>\n",
       "      <td>0</td>\n",
       "    </tr>\n",
       "    <tr>\n",
       "      <th>4</th>\n",
       "      <td>1438</td>\n",
       "      <td>2100-BDNSN</td>\n",
       "      <td>0</td>\n",
       "      <td>5</td>\n",
       "      <td>1</td>\n",
       "      <td>1</td>\n",
       "      <td>3</td>\n",
       "      <td>67.95</td>\n",
       "      <td>350.30</td>\n",
       "      <td>0</td>\n",
       "      <td>...</td>\n",
       "      <td>0</td>\n",
       "      <td>0</td>\n",
       "      <td>0</td>\n",
       "      <td>1</td>\n",
       "      <td>0</td>\n",
       "      <td>1</td>\n",
       "      <td>0</td>\n",
       "      <td>1</td>\n",
       "      <td>0</td>\n",
       "      <td>0</td>\n",
       "    </tr>\n",
       "  </tbody>\n",
       "</table>\n",
       "<p>5 rows × 28 columns</p>\n",
       "</div>"
      ],
      "text/plain": [
       "   index customer_id  senior_citizen  tenure  internet_service_type_id  \\\n",
       "0   1630  3668-QPYBK               0       2                         1   \n",
       "1   5181  8380-PEFPE               0       1                         2   \n",
       "2   4239  3956-CJUST               1      23                         2   \n",
       "3   5814  4652-ODEVH               0      45                         3   \n",
       "4   1438  2100-BDNSN               0       5                         1   \n",
       "\n",
       "   contract_type_id  payment_type_id  monthly_charges  total_charges  \\\n",
       "0                 1                2            53.85         108.15   \n",
       "1                 1                1            71.65          71.65   \n",
       "2                 1                3            75.40        1643.55   \n",
       "3                 3                2            24.45        1088.25   \n",
       "4                 1                3            67.95         350.30   \n",
       "\n",
       "   paperless_billing_numeric  ...  online_backup_No internet service  \\\n",
       "0                          1  ...                                  0   \n",
       "1                          1  ...                                  0   \n",
       "2                          1  ...                                  0   \n",
       "3                          0  ...                                  1   \n",
       "4                          0  ...                                  0   \n",
       "\n",
       "   online_backup_Yes  device_protection_No internet service  \\\n",
       "0                  1                                      0   \n",
       "1                  0                                      0   \n",
       "2                  0                                      0   \n",
       "3                  0                                      1   \n",
       "4                  0                                      0   \n",
       "\n",
       "   device_protection_Yes  tech_support_No internet service  tech_support_Yes  \\\n",
       "0                      0                                 0                 0   \n",
       "1                      0                                 0                 0   \n",
       "2                      0                                 0                 0   \n",
       "3                      0                                 1                 0   \n",
       "4                      1                                 0                 1   \n",
       "\n",
       "   streaming_tv_No internet service  streaming_tv_Yes  \\\n",
       "0                                 0                 0   \n",
       "1                                 0                 0   \n",
       "2                                 0                 0   \n",
       "3                                 1                 0   \n",
       "4                                 0                 1   \n",
       "\n",
       "   streaming_movies_No internet service  streaming_movies_Yes  \n",
       "0                                     0                     0  \n",
       "1                                     0                     0  \n",
       "2                                     0                     0  \n",
       "3                                     1                     0  \n",
       "4                                     0                     0  \n",
       "\n",
       "[5 rows x 28 columns]"
      ]
     },
     "execution_count": 343,
     "metadata": {},
     "output_type": "execute_result"
    }
   ],
   "source": [
    "reset_test = X_test.reset_index()\n",
    "reset_test.head()"
   ]
  },
  {
   "cell_type": "code",
   "execution_count": 344,
   "id": "fbd229c8",
   "metadata": {},
   "outputs": [
    {
     "data": {
      "text/html": [
       "<div>\n",
       "<style scoped>\n",
       "    .dataframe tbody tr th:only-of-type {\n",
       "        vertical-align: middle;\n",
       "    }\n",
       "\n",
       "    .dataframe tbody tr th {\n",
       "        vertical-align: top;\n",
       "    }\n",
       "\n",
       "    .dataframe thead th {\n",
       "        text-align: right;\n",
       "    }\n",
       "</style>\n",
       "<table border=\"1\" class=\"dataframe\">\n",
       "  <thead>\n",
       "    <tr style=\"text-align: right;\">\n",
       "      <th></th>\n",
       "      <th>index</th>\n",
       "      <th>customer_id</th>\n",
       "      <th>senior_citizen</th>\n",
       "      <th>tenure</th>\n",
       "      <th>internet_service_type_id</th>\n",
       "      <th>contract_type_id</th>\n",
       "      <th>payment_type_id</th>\n",
       "      <th>monthly_charges</th>\n",
       "      <th>total_charges</th>\n",
       "      <th>paperless_billing_numeric</th>\n",
       "      <th>...</th>\n",
       "      <th>device_protection_No internet service</th>\n",
       "      <th>device_protection_Yes</th>\n",
       "      <th>tech_support_No internet service</th>\n",
       "      <th>tech_support_Yes</th>\n",
       "      <th>streaming_tv_No internet service</th>\n",
       "      <th>streaming_tv_Yes</th>\n",
       "      <th>streaming_movies_No internet service</th>\n",
       "      <th>streaming_movies_Yes</th>\n",
       "      <th>0</th>\n",
       "      <th>1</th>\n",
       "    </tr>\n",
       "  </thead>\n",
       "  <tbody>\n",
       "    <tr>\n",
       "      <th>0</th>\n",
       "      <td>1630</td>\n",
       "      <td>3668-QPYBK</td>\n",
       "      <td>0</td>\n",
       "      <td>2</td>\n",
       "      <td>1</td>\n",
       "      <td>1</td>\n",
       "      <td>2</td>\n",
       "      <td>53.85</td>\n",
       "      <td>108.15</td>\n",
       "      <td>1</td>\n",
       "      <td>...</td>\n",
       "      <td>0</td>\n",
       "      <td>0</td>\n",
       "      <td>0</td>\n",
       "      <td>0</td>\n",
       "      <td>0</td>\n",
       "      <td>0</td>\n",
       "      <td>0</td>\n",
       "      <td>0</td>\n",
       "      <td>0.579144</td>\n",
       "      <td>0.420856</td>\n",
       "    </tr>\n",
       "    <tr>\n",
       "      <th>1</th>\n",
       "      <td>5181</td>\n",
       "      <td>8380-PEFPE</td>\n",
       "      <td>0</td>\n",
       "      <td>1</td>\n",
       "      <td>2</td>\n",
       "      <td>1</td>\n",
       "      <td>1</td>\n",
       "      <td>71.65</td>\n",
       "      <td>71.65</td>\n",
       "      <td>1</td>\n",
       "      <td>...</td>\n",
       "      <td>0</td>\n",
       "      <td>0</td>\n",
       "      <td>0</td>\n",
       "      <td>0</td>\n",
       "      <td>0</td>\n",
       "      <td>0</td>\n",
       "      <td>0</td>\n",
       "      <td>0</td>\n",
       "      <td>0.392773</td>\n",
       "      <td>0.607227</td>\n",
       "    </tr>\n",
       "    <tr>\n",
       "      <th>2</th>\n",
       "      <td>4239</td>\n",
       "      <td>3956-CJUST</td>\n",
       "      <td>1</td>\n",
       "      <td>23</td>\n",
       "      <td>2</td>\n",
       "      <td>1</td>\n",
       "      <td>3</td>\n",
       "      <td>75.40</td>\n",
       "      <td>1643.55</td>\n",
       "      <td>1</td>\n",
       "      <td>...</td>\n",
       "      <td>0</td>\n",
       "      <td>0</td>\n",
       "      <td>0</td>\n",
       "      <td>0</td>\n",
       "      <td>0</td>\n",
       "      <td>0</td>\n",
       "      <td>0</td>\n",
       "      <td>0</td>\n",
       "      <td>0.675248</td>\n",
       "      <td>0.324752</td>\n",
       "    </tr>\n",
       "    <tr>\n",
       "      <th>3</th>\n",
       "      <td>5814</td>\n",
       "      <td>4652-ODEVH</td>\n",
       "      <td>0</td>\n",
       "      <td>45</td>\n",
       "      <td>3</td>\n",
       "      <td>3</td>\n",
       "      <td>2</td>\n",
       "      <td>24.45</td>\n",
       "      <td>1088.25</td>\n",
       "      <td>0</td>\n",
       "      <td>...</td>\n",
       "      <td>1</td>\n",
       "      <td>0</td>\n",
       "      <td>1</td>\n",
       "      <td>0</td>\n",
       "      <td>1</td>\n",
       "      <td>0</td>\n",
       "      <td>1</td>\n",
       "      <td>0</td>\n",
       "      <td>0.966956</td>\n",
       "      <td>0.033044</td>\n",
       "    </tr>\n",
       "    <tr>\n",
       "      <th>4</th>\n",
       "      <td>1438</td>\n",
       "      <td>2100-BDNSN</td>\n",
       "      <td>0</td>\n",
       "      <td>5</td>\n",
       "      <td>1</td>\n",
       "      <td>1</td>\n",
       "      <td>3</td>\n",
       "      <td>67.95</td>\n",
       "      <td>350.30</td>\n",
       "      <td>0</td>\n",
       "      <td>...</td>\n",
       "      <td>0</td>\n",
       "      <td>1</td>\n",
       "      <td>0</td>\n",
       "      <td>1</td>\n",
       "      <td>0</td>\n",
       "      <td>1</td>\n",
       "      <td>0</td>\n",
       "      <td>0</td>\n",
       "      <td>0.591087</td>\n",
       "      <td>0.408913</td>\n",
       "    </tr>\n",
       "  </tbody>\n",
       "</table>\n",
       "<p>5 rows × 30 columns</p>\n",
       "</div>"
      ],
      "text/plain": [
       "   index customer_id  senior_citizen  tenure  internet_service_type_id  \\\n",
       "0   1630  3668-QPYBK               0       2                         1   \n",
       "1   5181  8380-PEFPE               0       1                         2   \n",
       "2   4239  3956-CJUST               1      23                         2   \n",
       "3   5814  4652-ODEVH               0      45                         3   \n",
       "4   1438  2100-BDNSN               0       5                         1   \n",
       "\n",
       "   contract_type_id  payment_type_id  monthly_charges  total_charges  \\\n",
       "0                 1                2            53.85         108.15   \n",
       "1                 1                1            71.65          71.65   \n",
       "2                 1                3            75.40        1643.55   \n",
       "3                 3                2            24.45        1088.25   \n",
       "4                 1                3            67.95         350.30   \n",
       "\n",
       "   paperless_billing_numeric  ...  device_protection_No internet service  \\\n",
       "0                          1  ...                                      0   \n",
       "1                          1  ...                                      0   \n",
       "2                          1  ...                                      0   \n",
       "3                          0  ...                                      1   \n",
       "4                          0  ...                                      0   \n",
       "\n",
       "   device_protection_Yes  tech_support_No internet service  tech_support_Yes  \\\n",
       "0                      0                                 0                 0   \n",
       "1                      0                                 0                 0   \n",
       "2                      0                                 0                 0   \n",
       "3                      0                                 1                 0   \n",
       "4                      1                                 0                 1   \n",
       "\n",
       "   streaming_tv_No internet service  streaming_tv_Yes  \\\n",
       "0                                 0                 0   \n",
       "1                                 0                 0   \n",
       "2                                 0                 0   \n",
       "3                                 1                 0   \n",
       "4                                 0                 1   \n",
       "\n",
       "   streaming_movies_No internet service  streaming_movies_Yes         0  \\\n",
       "0                                     0                     0  0.579144   \n",
       "1                                     0                     0  0.392773   \n",
       "2                                     0                     0  0.675248   \n",
       "3                                     1                     0  0.966956   \n",
       "4                                     0                     0  0.591087   \n",
       "\n",
       "          1  \n",
       "0  0.420856  \n",
       "1  0.607227  \n",
       "2  0.324752  \n",
       "3  0.033044  \n",
       "4  0.408913  \n",
       "\n",
       "[5 rows x 30 columns]"
      ]
     },
     "execution_count": 344,
     "metadata": {},
     "output_type": "execute_result"
    }
   ],
   "source": [
    "test_proba_df = pd.concat([reset_test, proba_df], axis=1)\n",
    "test_proba_df.head()"
   ]
  },
  {
   "cell_type": "code",
   "execution_count": 345,
   "id": "8fc76fd8",
   "metadata": {},
   "outputs": [
    {
     "data": {
      "text/html": [
       "<div>\n",
       "<style scoped>\n",
       "    .dataframe tbody tr th:only-of-type {\n",
       "        vertical-align: middle;\n",
       "    }\n",
       "\n",
       "    .dataframe tbody tr th {\n",
       "        vertical-align: top;\n",
       "    }\n",
       "\n",
       "    .dataframe thead th {\n",
       "        text-align: right;\n",
       "    }\n",
       "</style>\n",
       "<table border=\"1\" class=\"dataframe\">\n",
       "  <thead>\n",
       "    <tr style=\"text-align: right;\">\n",
       "      <th></th>\n",
       "      <th>index</th>\n",
       "      <th>customer_id</th>\n",
       "      <th>senior_citizen</th>\n",
       "      <th>tenure</th>\n",
       "      <th>internet_service_type_id</th>\n",
       "      <th>contract_type_id</th>\n",
       "      <th>payment_type_id</th>\n",
       "      <th>monthly_charges</th>\n",
       "      <th>total_charges</th>\n",
       "      <th>paperless_billing_numeric</th>\n",
       "      <th>...</th>\n",
       "      <th>device_protection_Yes</th>\n",
       "      <th>tech_support_No internet service</th>\n",
       "      <th>tech_support_Yes</th>\n",
       "      <th>streaming_tv_No internet service</th>\n",
       "      <th>streaming_tv_Yes</th>\n",
       "      <th>streaming_movies_No internet service</th>\n",
       "      <th>streaming_movies_Yes</th>\n",
       "      <th>0</th>\n",
       "      <th>1</th>\n",
       "      <th>predicted</th>\n",
       "    </tr>\n",
       "  </thead>\n",
       "  <tbody>\n",
       "    <tr>\n",
       "      <th>0</th>\n",
       "      <td>1630</td>\n",
       "      <td>3668-QPYBK</td>\n",
       "      <td>0</td>\n",
       "      <td>2</td>\n",
       "      <td>1</td>\n",
       "      <td>1</td>\n",
       "      <td>2</td>\n",
       "      <td>53.85</td>\n",
       "      <td>108.15</td>\n",
       "      <td>1</td>\n",
       "      <td>...</td>\n",
       "      <td>0</td>\n",
       "      <td>0</td>\n",
       "      <td>0</td>\n",
       "      <td>0</td>\n",
       "      <td>0</td>\n",
       "      <td>0</td>\n",
       "      <td>0</td>\n",
       "      <td>0.579144</td>\n",
       "      <td>0.420856</td>\n",
       "      <td>0</td>\n",
       "    </tr>\n",
       "    <tr>\n",
       "      <th>1</th>\n",
       "      <td>5181</td>\n",
       "      <td>8380-PEFPE</td>\n",
       "      <td>0</td>\n",
       "      <td>1</td>\n",
       "      <td>2</td>\n",
       "      <td>1</td>\n",
       "      <td>1</td>\n",
       "      <td>71.65</td>\n",
       "      <td>71.65</td>\n",
       "      <td>1</td>\n",
       "      <td>...</td>\n",
       "      <td>0</td>\n",
       "      <td>0</td>\n",
       "      <td>0</td>\n",
       "      <td>0</td>\n",
       "      <td>0</td>\n",
       "      <td>0</td>\n",
       "      <td>0</td>\n",
       "      <td>0.392773</td>\n",
       "      <td>0.607227</td>\n",
       "      <td>1</td>\n",
       "    </tr>\n",
       "    <tr>\n",
       "      <th>2</th>\n",
       "      <td>4239</td>\n",
       "      <td>3956-CJUST</td>\n",
       "      <td>1</td>\n",
       "      <td>23</td>\n",
       "      <td>2</td>\n",
       "      <td>1</td>\n",
       "      <td>3</td>\n",
       "      <td>75.40</td>\n",
       "      <td>1643.55</td>\n",
       "      <td>1</td>\n",
       "      <td>...</td>\n",
       "      <td>0</td>\n",
       "      <td>0</td>\n",
       "      <td>0</td>\n",
       "      <td>0</td>\n",
       "      <td>0</td>\n",
       "      <td>0</td>\n",
       "      <td>0</td>\n",
       "      <td>0.675248</td>\n",
       "      <td>0.324752</td>\n",
       "      <td>0</td>\n",
       "    </tr>\n",
       "    <tr>\n",
       "      <th>3</th>\n",
       "      <td>5814</td>\n",
       "      <td>4652-ODEVH</td>\n",
       "      <td>0</td>\n",
       "      <td>45</td>\n",
       "      <td>3</td>\n",
       "      <td>3</td>\n",
       "      <td>2</td>\n",
       "      <td>24.45</td>\n",
       "      <td>1088.25</td>\n",
       "      <td>0</td>\n",
       "      <td>...</td>\n",
       "      <td>0</td>\n",
       "      <td>1</td>\n",
       "      <td>0</td>\n",
       "      <td>1</td>\n",
       "      <td>0</td>\n",
       "      <td>1</td>\n",
       "      <td>0</td>\n",
       "      <td>0.966956</td>\n",
       "      <td>0.033044</td>\n",
       "      <td>0</td>\n",
       "    </tr>\n",
       "    <tr>\n",
       "      <th>4</th>\n",
       "      <td>1438</td>\n",
       "      <td>2100-BDNSN</td>\n",
       "      <td>0</td>\n",
       "      <td>5</td>\n",
       "      <td>1</td>\n",
       "      <td>1</td>\n",
       "      <td>3</td>\n",
       "      <td>67.95</td>\n",
       "      <td>350.30</td>\n",
       "      <td>0</td>\n",
       "      <td>...</td>\n",
       "      <td>1</td>\n",
       "      <td>0</td>\n",
       "      <td>1</td>\n",
       "      <td>0</td>\n",
       "      <td>1</td>\n",
       "      <td>0</td>\n",
       "      <td>0</td>\n",
       "      <td>0.591087</td>\n",
       "      <td>0.408913</td>\n",
       "      <td>0</td>\n",
       "    </tr>\n",
       "  </tbody>\n",
       "</table>\n",
       "<p>5 rows × 31 columns</p>\n",
       "</div>"
      ],
      "text/plain": [
       "   index customer_id  senior_citizen  tenure  internet_service_type_id  \\\n",
       "0   1630  3668-QPYBK               0       2                         1   \n",
       "1   5181  8380-PEFPE               0       1                         2   \n",
       "2   4239  3956-CJUST               1      23                         2   \n",
       "3   5814  4652-ODEVH               0      45                         3   \n",
       "4   1438  2100-BDNSN               0       5                         1   \n",
       "\n",
       "   contract_type_id  payment_type_id  monthly_charges  total_charges  \\\n",
       "0                 1                2            53.85         108.15   \n",
       "1                 1                1            71.65          71.65   \n",
       "2                 1                3            75.40        1643.55   \n",
       "3                 3                2            24.45        1088.25   \n",
       "4                 1                3            67.95         350.30   \n",
       "\n",
       "   paperless_billing_numeric  ...  device_protection_Yes  \\\n",
       "0                          1  ...                      0   \n",
       "1                          1  ...                      0   \n",
       "2                          1  ...                      0   \n",
       "3                          0  ...                      0   \n",
       "4                          0  ...                      1   \n",
       "\n",
       "   tech_support_No internet service  tech_support_Yes  \\\n",
       "0                                 0                 0   \n",
       "1                                 0                 0   \n",
       "2                                 0                 0   \n",
       "3                                 1                 0   \n",
       "4                                 0                 1   \n",
       "\n",
       "   streaming_tv_No internet service  streaming_tv_Yes  \\\n",
       "0                                 0                 0   \n",
       "1                                 0                 0   \n",
       "2                                 0                 0   \n",
       "3                                 1                 0   \n",
       "4                                 0                 1   \n",
       "\n",
       "   streaming_movies_No internet service  streaming_movies_Yes         0  \\\n",
       "0                                     0                     0  0.579144   \n",
       "1                                     0                     0  0.392773   \n",
       "2                                     0                     0  0.675248   \n",
       "3                                     1                     0  0.966956   \n",
       "4                                     0                     0  0.591087   \n",
       "\n",
       "          1  predicted  \n",
       "0  0.420856          0  \n",
       "1  0.607227          1  \n",
       "2  0.324752          0  \n",
       "3  0.033044          0  \n",
       "4  0.408913          0  \n",
       "\n",
       "[5 rows x 31 columns]"
      ]
     },
     "execution_count": 345,
     "metadata": {},
     "output_type": "execute_result"
    }
   ],
   "source": [
    "test_proba_df['predicted'] = y_pred_rf2_test\n",
    "test_proba_df.head()"
   ]
  },
  {
   "cell_type": "code",
   "execution_count": 346,
   "id": "19839bc7",
   "metadata": {},
   "outputs": [],
   "source": [
    "test_proba_df = test_proba_df.rename(columns = {0:'Chance did not churn', 1:'Chance churned'})"
   ]
  },
  {
   "cell_type": "code",
   "execution_count": 347,
   "id": "9d843ebd",
   "metadata": {},
   "outputs": [
    {
     "data": {
      "text/html": [
       "<div>\n",
       "<style scoped>\n",
       "    .dataframe tbody tr th:only-of-type {\n",
       "        vertical-align: middle;\n",
       "    }\n",
       "\n",
       "    .dataframe tbody tr th {\n",
       "        vertical-align: top;\n",
       "    }\n",
       "\n",
       "    .dataframe thead th {\n",
       "        text-align: right;\n",
       "    }\n",
       "</style>\n",
       "<table border=\"1\" class=\"dataframe\">\n",
       "  <thead>\n",
       "    <tr style=\"text-align: right;\">\n",
       "      <th></th>\n",
       "      <th>index</th>\n",
       "      <th>customer_id</th>\n",
       "      <th>senior_citizen</th>\n",
       "      <th>tenure</th>\n",
       "      <th>internet_service_type_id</th>\n",
       "      <th>contract_type_id</th>\n",
       "      <th>payment_type_id</th>\n",
       "      <th>monthly_charges</th>\n",
       "      <th>total_charges</th>\n",
       "      <th>paperless_billing_numeric</th>\n",
       "      <th>...</th>\n",
       "      <th>device_protection_Yes</th>\n",
       "      <th>tech_support_No internet service</th>\n",
       "      <th>tech_support_Yes</th>\n",
       "      <th>streaming_tv_No internet service</th>\n",
       "      <th>streaming_tv_Yes</th>\n",
       "      <th>streaming_movies_No internet service</th>\n",
       "      <th>streaming_movies_Yes</th>\n",
       "      <th>Chance did not churn</th>\n",
       "      <th>Chance churned</th>\n",
       "      <th>predicted</th>\n",
       "    </tr>\n",
       "  </thead>\n",
       "  <tbody>\n",
       "    <tr>\n",
       "      <th>0</th>\n",
       "      <td>1630</td>\n",
       "      <td>3668-QPYBK</td>\n",
       "      <td>0</td>\n",
       "      <td>2</td>\n",
       "      <td>1</td>\n",
       "      <td>1</td>\n",
       "      <td>2</td>\n",
       "      <td>53.85</td>\n",
       "      <td>108.15</td>\n",
       "      <td>1</td>\n",
       "      <td>...</td>\n",
       "      <td>0</td>\n",
       "      <td>0</td>\n",
       "      <td>0</td>\n",
       "      <td>0</td>\n",
       "      <td>0</td>\n",
       "      <td>0</td>\n",
       "      <td>0</td>\n",
       "      <td>0.579144</td>\n",
       "      <td>0.420856</td>\n",
       "      <td>0</td>\n",
       "    </tr>\n",
       "    <tr>\n",
       "      <th>1</th>\n",
       "      <td>5181</td>\n",
       "      <td>8380-PEFPE</td>\n",
       "      <td>0</td>\n",
       "      <td>1</td>\n",
       "      <td>2</td>\n",
       "      <td>1</td>\n",
       "      <td>1</td>\n",
       "      <td>71.65</td>\n",
       "      <td>71.65</td>\n",
       "      <td>1</td>\n",
       "      <td>...</td>\n",
       "      <td>0</td>\n",
       "      <td>0</td>\n",
       "      <td>0</td>\n",
       "      <td>0</td>\n",
       "      <td>0</td>\n",
       "      <td>0</td>\n",
       "      <td>0</td>\n",
       "      <td>0.392773</td>\n",
       "      <td>0.607227</td>\n",
       "      <td>1</td>\n",
       "    </tr>\n",
       "    <tr>\n",
       "      <th>2</th>\n",
       "      <td>4239</td>\n",
       "      <td>3956-CJUST</td>\n",
       "      <td>1</td>\n",
       "      <td>23</td>\n",
       "      <td>2</td>\n",
       "      <td>1</td>\n",
       "      <td>3</td>\n",
       "      <td>75.40</td>\n",
       "      <td>1643.55</td>\n",
       "      <td>1</td>\n",
       "      <td>...</td>\n",
       "      <td>0</td>\n",
       "      <td>0</td>\n",
       "      <td>0</td>\n",
       "      <td>0</td>\n",
       "      <td>0</td>\n",
       "      <td>0</td>\n",
       "      <td>0</td>\n",
       "      <td>0.675248</td>\n",
       "      <td>0.324752</td>\n",
       "      <td>0</td>\n",
       "    </tr>\n",
       "    <tr>\n",
       "      <th>3</th>\n",
       "      <td>5814</td>\n",
       "      <td>4652-ODEVH</td>\n",
       "      <td>0</td>\n",
       "      <td>45</td>\n",
       "      <td>3</td>\n",
       "      <td>3</td>\n",
       "      <td>2</td>\n",
       "      <td>24.45</td>\n",
       "      <td>1088.25</td>\n",
       "      <td>0</td>\n",
       "      <td>...</td>\n",
       "      <td>0</td>\n",
       "      <td>1</td>\n",
       "      <td>0</td>\n",
       "      <td>1</td>\n",
       "      <td>0</td>\n",
       "      <td>1</td>\n",
       "      <td>0</td>\n",
       "      <td>0.966956</td>\n",
       "      <td>0.033044</td>\n",
       "      <td>0</td>\n",
       "    </tr>\n",
       "    <tr>\n",
       "      <th>4</th>\n",
       "      <td>1438</td>\n",
       "      <td>2100-BDNSN</td>\n",
       "      <td>0</td>\n",
       "      <td>5</td>\n",
       "      <td>1</td>\n",
       "      <td>1</td>\n",
       "      <td>3</td>\n",
       "      <td>67.95</td>\n",
       "      <td>350.30</td>\n",
       "      <td>0</td>\n",
       "      <td>...</td>\n",
       "      <td>1</td>\n",
       "      <td>0</td>\n",
       "      <td>1</td>\n",
       "      <td>0</td>\n",
       "      <td>1</td>\n",
       "      <td>0</td>\n",
       "      <td>0</td>\n",
       "      <td>0.591087</td>\n",
       "      <td>0.408913</td>\n",
       "      <td>0</td>\n",
       "    </tr>\n",
       "  </tbody>\n",
       "</table>\n",
       "<p>5 rows × 31 columns</p>\n",
       "</div>"
      ],
      "text/plain": [
       "   index customer_id  senior_citizen  tenure  internet_service_type_id  \\\n",
       "0   1630  3668-QPYBK               0       2                         1   \n",
       "1   5181  8380-PEFPE               0       1                         2   \n",
       "2   4239  3956-CJUST               1      23                         2   \n",
       "3   5814  4652-ODEVH               0      45                         3   \n",
       "4   1438  2100-BDNSN               0       5                         1   \n",
       "\n",
       "   contract_type_id  payment_type_id  monthly_charges  total_charges  \\\n",
       "0                 1                2            53.85         108.15   \n",
       "1                 1                1            71.65          71.65   \n",
       "2                 1                3            75.40        1643.55   \n",
       "3                 3                2            24.45        1088.25   \n",
       "4                 1                3            67.95         350.30   \n",
       "\n",
       "   paperless_billing_numeric  ...  device_protection_Yes  \\\n",
       "0                          1  ...                      0   \n",
       "1                          1  ...                      0   \n",
       "2                          1  ...                      0   \n",
       "3                          0  ...                      0   \n",
       "4                          0  ...                      1   \n",
       "\n",
       "   tech_support_No internet service  tech_support_Yes  \\\n",
       "0                                 0                 0   \n",
       "1                                 0                 0   \n",
       "2                                 0                 0   \n",
       "3                                 1                 0   \n",
       "4                                 0                 1   \n",
       "\n",
       "   streaming_tv_No internet service  streaming_tv_Yes  \\\n",
       "0                                 0                 0   \n",
       "1                                 0                 0   \n",
       "2                                 0                 0   \n",
       "3                                 1                 0   \n",
       "4                                 0                 1   \n",
       "\n",
       "   streaming_movies_No internet service  streaming_movies_Yes  \\\n",
       "0                                     0                     0   \n",
       "1                                     0                     0   \n",
       "2                                     0                     0   \n",
       "3                                     1                     0   \n",
       "4                                     0                     0   \n",
       "\n",
       "   Chance did not churn  Chance churned  predicted  \n",
       "0              0.579144        0.420856          0  \n",
       "1              0.392773        0.607227          1  \n",
       "2              0.675248        0.324752          0  \n",
       "3              0.966956        0.033044          0  \n",
       "4              0.591087        0.408913          0  \n",
       "\n",
       "[5 rows x 31 columns]"
      ]
     },
     "execution_count": 347,
     "metadata": {},
     "output_type": "execute_result"
    }
   ],
   "source": [
    "test_proba_df.head()"
   ]
  },
  {
   "cell_type": "markdown",
   "id": "8740d1e1",
   "metadata": {},
   "source": [
    "We will create a CSV file with only the most relevant columns."
   ]
  },
  {
   "cell_type": "code",
   "execution_count": 348,
   "id": "4e6acbfc",
   "metadata": {},
   "outputs": [],
   "source": [
    "csv_df = test_proba_df[[\"customer_id\", \"contract_type_id\", \"monthly_charges\", \"tenure\", 'Chance did not churn', 'Chance churned', 'predicted']]"
   ]
  },
  {
   "cell_type": "code",
   "execution_count": 349,
   "id": "071b9000",
   "metadata": {},
   "outputs": [
    {
     "data": {
      "text/html": [
       "<div>\n",
       "<style scoped>\n",
       "    .dataframe tbody tr th:only-of-type {\n",
       "        vertical-align: middle;\n",
       "    }\n",
       "\n",
       "    .dataframe tbody tr th {\n",
       "        vertical-align: top;\n",
       "    }\n",
       "\n",
       "    .dataframe thead th {\n",
       "        text-align: right;\n",
       "    }\n",
       "</style>\n",
       "<table border=\"1\" class=\"dataframe\">\n",
       "  <thead>\n",
       "    <tr style=\"text-align: right;\">\n",
       "      <th></th>\n",
       "      <th>customer_id</th>\n",
       "      <th>contract_type_id</th>\n",
       "      <th>monthly_charges</th>\n",
       "      <th>tenure</th>\n",
       "      <th>Chance did not churn</th>\n",
       "      <th>Chance churned</th>\n",
       "      <th>predicted</th>\n",
       "    </tr>\n",
       "  </thead>\n",
       "  <tbody>\n",
       "    <tr>\n",
       "      <th>0</th>\n",
       "      <td>3668-QPYBK</td>\n",
       "      <td>1</td>\n",
       "      <td>53.85</td>\n",
       "      <td>2</td>\n",
       "      <td>0.579144</td>\n",
       "      <td>0.420856</td>\n",
       "      <td>0</td>\n",
       "    </tr>\n",
       "    <tr>\n",
       "      <th>1</th>\n",
       "      <td>8380-PEFPE</td>\n",
       "      <td>1</td>\n",
       "      <td>71.65</td>\n",
       "      <td>1</td>\n",
       "      <td>0.392773</td>\n",
       "      <td>0.607227</td>\n",
       "      <td>1</td>\n",
       "    </tr>\n",
       "    <tr>\n",
       "      <th>2</th>\n",
       "      <td>3956-CJUST</td>\n",
       "      <td>1</td>\n",
       "      <td>75.40</td>\n",
       "      <td>23</td>\n",
       "      <td>0.675248</td>\n",
       "      <td>0.324752</td>\n",
       "      <td>0</td>\n",
       "    </tr>\n",
       "    <tr>\n",
       "      <th>3</th>\n",
       "      <td>4652-ODEVH</td>\n",
       "      <td>3</td>\n",
       "      <td>24.45</td>\n",
       "      <td>45</td>\n",
       "      <td>0.966956</td>\n",
       "      <td>0.033044</td>\n",
       "      <td>0</td>\n",
       "    </tr>\n",
       "    <tr>\n",
       "      <th>4</th>\n",
       "      <td>2100-BDNSN</td>\n",
       "      <td>1</td>\n",
       "      <td>67.95</td>\n",
       "      <td>5</td>\n",
       "      <td>0.591087</td>\n",
       "      <td>0.408913</td>\n",
       "      <td>0</td>\n",
       "    </tr>\n",
       "  </tbody>\n",
       "</table>\n",
       "</div>"
      ],
      "text/plain": [
       "  customer_id  contract_type_id  monthly_charges  tenure  \\\n",
       "0  3668-QPYBK                 1            53.85       2   \n",
       "1  8380-PEFPE                 1            71.65       1   \n",
       "2  3956-CJUST                 1            75.40      23   \n",
       "3  4652-ODEVH                 3            24.45      45   \n",
       "4  2100-BDNSN                 1            67.95       5   \n",
       "\n",
       "   Chance did not churn  Chance churned  predicted  \n",
       "0              0.579144        0.420856          0  \n",
       "1              0.392773        0.607227          1  \n",
       "2              0.675248        0.324752          0  \n",
       "3              0.966956        0.033044          0  \n",
       "4              0.591087        0.408913          0  "
      ]
     },
     "execution_count": 349,
     "metadata": {},
     "output_type": "execute_result"
    }
   ],
   "source": [
    "csv_df.head()"
   ]
  },
  {
   "cell_type": "code",
   "execution_count": 351,
   "id": "9a87683d",
   "metadata": {},
   "outputs": [
    {
     "data": {
      "text/html": [
       "<div>\n",
       "<style scoped>\n",
       "    .dataframe tbody tr th:only-of-type {\n",
       "        vertical-align: middle;\n",
       "    }\n",
       "\n",
       "    .dataframe tbody tr th {\n",
       "        vertical-align: top;\n",
       "    }\n",
       "\n",
       "    .dataframe thead th {\n",
       "        text-align: right;\n",
       "    }\n",
       "</style>\n",
       "<table border=\"1\" class=\"dataframe\">\n",
       "  <thead>\n",
       "    <tr style=\"text-align: right;\">\n",
       "      <th></th>\n",
       "      <th>customer_id</th>\n",
       "      <th>contract_type_id</th>\n",
       "      <th>monthly_charges</th>\n",
       "      <th>tenure</th>\n",
       "      <th>Chance did not churn</th>\n",
       "      <th>Chance churned</th>\n",
       "      <th>predicted</th>\n",
       "    </tr>\n",
       "  </thead>\n",
       "  <tbody>\n",
       "    <tr>\n",
       "      <th>0</th>\n",
       "      <td>3668-QPYBK</td>\n",
       "      <td>1</td>\n",
       "      <td>53.85</td>\n",
       "      <td>2</td>\n",
       "      <td>0.579144</td>\n",
       "      <td>0.420856</td>\n",
       "      <td>Did not churn</td>\n",
       "    </tr>\n",
       "    <tr>\n",
       "      <th>1</th>\n",
       "      <td>8380-PEFPE</td>\n",
       "      <td>1</td>\n",
       "      <td>71.65</td>\n",
       "      <td>1</td>\n",
       "      <td>0.392773</td>\n",
       "      <td>0.607227</td>\n",
       "      <td>churned</td>\n",
       "    </tr>\n",
       "    <tr>\n",
       "      <th>2</th>\n",
       "      <td>3956-CJUST</td>\n",
       "      <td>1</td>\n",
       "      <td>75.40</td>\n",
       "      <td>23</td>\n",
       "      <td>0.675248</td>\n",
       "      <td>0.324752</td>\n",
       "      <td>Did not churn</td>\n",
       "    </tr>\n",
       "    <tr>\n",
       "      <th>3</th>\n",
       "      <td>4652-ODEVH</td>\n",
       "      <td>3</td>\n",
       "      <td>24.45</td>\n",
       "      <td>45</td>\n",
       "      <td>0.966956</td>\n",
       "      <td>0.033044</td>\n",
       "      <td>Did not churn</td>\n",
       "    </tr>\n",
       "    <tr>\n",
       "      <th>4</th>\n",
       "      <td>2100-BDNSN</td>\n",
       "      <td>1</td>\n",
       "      <td>67.95</td>\n",
       "      <td>5</td>\n",
       "      <td>0.591087</td>\n",
       "      <td>0.408913</td>\n",
       "      <td>Did not churn</td>\n",
       "    </tr>\n",
       "  </tbody>\n",
       "</table>\n",
       "</div>"
      ],
      "text/plain": [
       "  customer_id  contract_type_id  monthly_charges  tenure  \\\n",
       "0  3668-QPYBK                 1            53.85       2   \n",
       "1  8380-PEFPE                 1            71.65       1   \n",
       "2  3956-CJUST                 1            75.40      23   \n",
       "3  4652-ODEVH                 3            24.45      45   \n",
       "4  2100-BDNSN                 1            67.95       5   \n",
       "\n",
       "   Chance did not churn  Chance churned      predicted  \n",
       "0              0.579144        0.420856  Did not churn  \n",
       "1              0.392773        0.607227        churned  \n",
       "2              0.675248        0.324752  Did not churn  \n",
       "3              0.966956        0.033044  Did not churn  \n",
       "4              0.591087        0.408913  Did not churn  "
      ]
     },
     "execution_count": 351,
     "metadata": {},
     "output_type": "execute_result"
    }
   ],
   "source": [
    "csv_df.head()"
   ]
  },
  {
   "cell_type": "code",
   "execution_count": 352,
   "id": "048b7b76",
   "metadata": {},
   "outputs": [],
   "source": [
    "# Write DataFrame to a csv file for deliverable assignment.\n",
    "\n",
    "csv_df.to_csv('predictions.csv')"
   ]
  }
 ],
 "metadata": {
  "kernelspec": {
   "display_name": "Python 3",
   "language": "python",
   "name": "python3"
  },
  "language_info": {
   "codemirror_mode": {
    "name": "ipython",
    "version": 3
   },
   "file_extension": ".py",
   "mimetype": "text/x-python",
   "name": "python",
   "nbconvert_exporter": "python",
   "pygments_lexer": "ipython3",
   "version": "3.8.8"
  }
 },
 "nbformat": 4,
 "nbformat_minor": 5
}
