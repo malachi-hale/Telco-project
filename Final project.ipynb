{
 "cells": [
  {
   "cell_type": "markdown",
   "id": "b88d62bf",
   "metadata": {},
   "source": [
    "# Calculating Why Customers Churn "
   ]
  },
  {
   "cell_type": "markdown",
   "id": "b4edf7e8",
   "metadata": {},
   "source": [
    " <tr>\n",
    "    <td> <img src=\"pexels-lukas-590020.jpg\"/> </td>\n",
    "    <td> <img src=\"pexels-burak-kebapci-187041.jpg\"/> </td>\n",
    "    </tr>"
   ]
  },
  {
   "cell_type": "markdown",
   "id": "e90486a9",
   "metadata": {},
   "source": [
    "[Source Photo 1](https://www.pexels.com/photo/person-holding-pen-pointing-at-graph-590020/?utm_content=attributionCopyText&utm_medium=referral&utm_source=pexels) \n",
    "[Source Photo 2](https://www.pexels.com/photo/space-grey-ipad-air-with-graph-on-brown-wooden-table-187041/?utm_content=attributionCopyText&utm_medium=referral&utm_source=pexels) "
   ]
  },
  {
   "cell_type": "markdown",
   "id": "e8fa3846",
   "metadata": {},
   "source": [
    "We will begin with the necessary imports we will need for this project."
   ]
  },
  {
   "cell_type": "code",
   "execution_count": 2,
   "id": "acdefda2",
   "metadata": {},
   "outputs": [],
   "source": [
    "##General imports we need for the project\n",
    "import pandas as pd\n",
    "import os\n",
    "import env\n",
    "import warnings\n",
    "warnings.filterwarnings('ignore')\n",
    "import numpy\n",
    "\n",
    "##Imports for graphing\n",
    "import matplotlib.pyplot as plt\n",
    "import seaborn as sns\n",
    "import graphviz\n",
    "from graphviz import Graph\n",
    "\n",
    "##Import prep and acquire functions\n",
    "from acquire import get_telco_data\n",
    "from prepare import prep_telco\n",
    "\n",
    "##Import sklearn functinos\n",
    "from sklearn.dummy import DummyClassifier\n",
    "from sklearn.model_selection import train_test_split\n",
    "\n",
    "##Import sklearn models\n",
    "from sklearn.tree import DecisionTreeClassifier\n",
    "from sklearn.ensemble import RandomForestClassifier\n",
    "from sklearn.neighbors import KNeighborsClassifier\n",
    "from sklearn.tree import export_graphviz\n",
    "from sklearn import tree\n",
    "\n",
    "##Import sklearn metrics\n",
    "from sklearn.metrics import accuracy_score\n",
    "from sklearn.metrics import precision_score\n",
    "from sklearn.metrics import recall_score\n",
    "from sklearn.metrics import f1_score\n",
    "from sklearn.metrics import confusion_matrix\n",
    "from sklearn.metrics import classification_report\n",
    "\n",
    "##Import statistics functinos\n",
    "import scipy.stats as stats\n",
    "from scipy.stats import mannwhitneyu\n",
    "\n",
    "##Custom code so that we can print out tables side by side\n",
    "from IPython.display import display_html\n",
    "def display_side_by_side(*args):\n",
    "    html_str=''\n",
    "    for df in args:\n",
    "        html_str+=df.to_html()\n",
    "    display_html(html_str.replace('table','table style=\"display:inline\"'),raw=True)\n",
    "    \n",
    "    #https://stackoverflow.com/questions/38783027/jupyter-notebook-display-two-pandas-tables-side-by-side"
   ]
  },
  {
   "cell_type": "markdown",
   "id": "60b54bbc",
   "metadata": {},
   "source": [
    "## Project planning"
   ]
  },
  {
   "cell_type": "markdown",
   "id": "9536df5e",
   "metadata": {},
   "source": [
    "\n",
    " - We will created a `README.md` with a data dictionary, project goals. We also established our initial hypotheses in this `README.md` file.\n",
    " \n",
    " - Acquire data using the function `get_telco_data`. This function will be saved to the `acquire.py` file, which we imported to this notebook above.\n",
    " \n",
    " - We will clean and prepare teh data using the function `prep_telco`. This function will be saved to the `prepare.py` file, which we imported to this notebook above.\n",
    " \n",
    " - Clearly define several hypotheses and an $\\alpha$ value. We will run statistical tests on these hypotheses, then determine whether or not to reject the null hypothesis. We will documents our findings in each case.  \n",
    " \n",
    " - Establish and document a baseline accuracy. \n",
    " \n",
    " - Train classification modules. We will evaluate these models on our train and validate datasets. \n",
    "      - We will compare the accuracy of these models to the baseline accuracy. \n",
    "\n",
    " - We will choose the model that performs the best and try that model on the test dataset once. \n",
    " \n",
    " - Create a CSV file with `customer_id`, probability of churn, and prediction of churn, based on the results of our best performing model. \n",
    " \n",
    " - Finish with key takeaways, recommendations, and next steps."
   ]
  },
  {
   "cell_type": "markdown",
   "id": "827e71cd",
   "metadata": {},
   "source": [
    "## Execute Summary"
   ]
  },
  {
   "cell_type": "markdown",
   "id": "c60212a3",
   "metadata": {},
   "source": [
    " - I created three models `DecisionTree`, `RandomForest`, and `KNeighbors`. \n",
    " \n",
    " - I found that the `RandomForest` with `max_depth=10` and `min_samples_leaf=1` model performed with a high accuracy, while still maintaining a high recall score.  I concluded that the recall dataset was most important because we want to capture all customers who churn. Overestimating churn rate is better than underestimating churn rate. Furthermore, this model outperformed our baseline accuracy of $0.73$, so it has value.\n",
    " \n",
    "**Policy recommendation**\n",
    " - We know that the customers most likely to churn are customers on a month-to-month contract. \n",
    "     - Our `DecisionTree` model indicated that among customers on a month-to-contract, the biggest predictors of churn are having `monthly_charges` less than \\$68.42 or having tenure of 5 months or less. Thus, I recommend limiting the month-to-month contract option to customers who satisfy one of the following criteria:\n",
    "         - At least &#0036;68.42 in monthly charges. \n",
    "         - At least six months of tenure.\n",
    "         \n",
    "         \n",
    "**Recommendation for further exploration**\n",
    " - With more time I would like to explore the relationship between the churn and the following variables: `contract_type_id`, `tenure`, `monthly_charges`, and `payment_type_id`."
   ]
  },
  {
   "cell_type": "markdown",
   "id": "5af28ca6",
   "metadata": {},
   "source": [
    "## Acquire data"
   ]
  },
  {
   "cell_type": "markdown",
   "id": "0bffa5f6",
   "metadata": {},
   "source": [
    "Now we will acquire the necessary data we will need for this project. We will utilize a function called `get_telco_data` from our `acquire.py` file. For more information about the `get_telco_data` function, please refer to the mentioned `acquire.py` file."
   ]
  },
  {
   "cell_type": "code",
   "execution_count": 3,
   "id": "9da541aa",
   "metadata": {},
   "outputs": [],
   "source": [
    "df = get_telco_data()"
   ]
  },
  {
   "cell_type": "code",
   "execution_count": 4,
   "id": "c85b2703",
   "metadata": {},
   "outputs": [
    {
     "data": {
      "text/html": [
       "<div>\n",
       "<style scoped>\n",
       "    .dataframe tbody tr th:only-of-type {\n",
       "        vertical-align: middle;\n",
       "    }\n",
       "\n",
       "    .dataframe tbody tr th {\n",
       "        vertical-align: top;\n",
       "    }\n",
       "\n",
       "    .dataframe thead th {\n",
       "        text-align: right;\n",
       "    }\n",
       "</style>\n",
       "<table border=\"1\" class=\"dataframe\">\n",
       "  <thead>\n",
       "    <tr style=\"text-align: right;\">\n",
       "      <th></th>\n",
       "      <th>customer_id</th>\n",
       "      <th>gender</th>\n",
       "      <th>senior_citizen</th>\n",
       "      <th>partner</th>\n",
       "      <th>dependents</th>\n",
       "      <th>tenure</th>\n",
       "      <th>phone_service</th>\n",
       "      <th>multiple_lines</th>\n",
       "      <th>internet_service_type_id</th>\n",
       "      <th>online_security</th>\n",
       "      <th>...</th>\n",
       "      <th>streaming_movies</th>\n",
       "      <th>contract_type_id</th>\n",
       "      <th>paperless_billing</th>\n",
       "      <th>payment_type_id</th>\n",
       "      <th>monthly_charges</th>\n",
       "      <th>total_charges</th>\n",
       "      <th>churn</th>\n",
       "      <th>contract_type</th>\n",
       "      <th>internet_service_type</th>\n",
       "      <th>payment_type</th>\n",
       "    </tr>\n",
       "  </thead>\n",
       "  <tbody>\n",
       "    <tr>\n",
       "      <th>0</th>\n",
       "      <td>0016-QLJIS</td>\n",
       "      <td>Female</td>\n",
       "      <td>0</td>\n",
       "      <td>Yes</td>\n",
       "      <td>Yes</td>\n",
       "      <td>65</td>\n",
       "      <td>Yes</td>\n",
       "      <td>Yes</td>\n",
       "      <td>1</td>\n",
       "      <td>Yes</td>\n",
       "      <td>...</td>\n",
       "      <td>Yes</td>\n",
       "      <td>3</td>\n",
       "      <td>Yes</td>\n",
       "      <td>2</td>\n",
       "      <td>90.45</td>\n",
       "      <td>5957.9</td>\n",
       "      <td>No</td>\n",
       "      <td>Two year</td>\n",
       "      <td>DSL</td>\n",
       "      <td>Mailed check</td>\n",
       "    </tr>\n",
       "    <tr>\n",
       "      <th>1</th>\n",
       "      <td>0017-DINOC</td>\n",
       "      <td>Male</td>\n",
       "      <td>0</td>\n",
       "      <td>No</td>\n",
       "      <td>No</td>\n",
       "      <td>54</td>\n",
       "      <td>No</td>\n",
       "      <td>No phone service</td>\n",
       "      <td>1</td>\n",
       "      <td>Yes</td>\n",
       "      <td>...</td>\n",
       "      <td>No</td>\n",
       "      <td>3</td>\n",
       "      <td>No</td>\n",
       "      <td>4</td>\n",
       "      <td>45.20</td>\n",
       "      <td>2460.55</td>\n",
       "      <td>No</td>\n",
       "      <td>Two year</td>\n",
       "      <td>DSL</td>\n",
       "      <td>Credit card (automatic)</td>\n",
       "    </tr>\n",
       "    <tr>\n",
       "      <th>2</th>\n",
       "      <td>0019-GFNTW</td>\n",
       "      <td>Female</td>\n",
       "      <td>0</td>\n",
       "      <td>No</td>\n",
       "      <td>No</td>\n",
       "      <td>56</td>\n",
       "      <td>No</td>\n",
       "      <td>No phone service</td>\n",
       "      <td>1</td>\n",
       "      <td>Yes</td>\n",
       "      <td>...</td>\n",
       "      <td>No</td>\n",
       "      <td>3</td>\n",
       "      <td>No</td>\n",
       "      <td>3</td>\n",
       "      <td>45.05</td>\n",
       "      <td>2560.1</td>\n",
       "      <td>No</td>\n",
       "      <td>Two year</td>\n",
       "      <td>DSL</td>\n",
       "      <td>Bank transfer (automatic)</td>\n",
       "    </tr>\n",
       "    <tr>\n",
       "      <th>3</th>\n",
       "      <td>0056-EPFBG</td>\n",
       "      <td>Male</td>\n",
       "      <td>0</td>\n",
       "      <td>Yes</td>\n",
       "      <td>Yes</td>\n",
       "      <td>20</td>\n",
       "      <td>No</td>\n",
       "      <td>No phone service</td>\n",
       "      <td>1</td>\n",
       "      <td>Yes</td>\n",
       "      <td>...</td>\n",
       "      <td>No</td>\n",
       "      <td>3</td>\n",
       "      <td>Yes</td>\n",
       "      <td>4</td>\n",
       "      <td>39.40</td>\n",
       "      <td>825.4</td>\n",
       "      <td>No</td>\n",
       "      <td>Two year</td>\n",
       "      <td>DSL</td>\n",
       "      <td>Credit card (automatic)</td>\n",
       "    </tr>\n",
       "    <tr>\n",
       "      <th>4</th>\n",
       "      <td>0078-XZMHT</td>\n",
       "      <td>Male</td>\n",
       "      <td>0</td>\n",
       "      <td>Yes</td>\n",
       "      <td>No</td>\n",
       "      <td>72</td>\n",
       "      <td>Yes</td>\n",
       "      <td>Yes</td>\n",
       "      <td>1</td>\n",
       "      <td>No</td>\n",
       "      <td>...</td>\n",
       "      <td>Yes</td>\n",
       "      <td>3</td>\n",
       "      <td>Yes</td>\n",
       "      <td>3</td>\n",
       "      <td>85.15</td>\n",
       "      <td>6316.2</td>\n",
       "      <td>No</td>\n",
       "      <td>Two year</td>\n",
       "      <td>DSL</td>\n",
       "      <td>Bank transfer (automatic)</td>\n",
       "    </tr>\n",
       "  </tbody>\n",
       "</table>\n",
       "<p>5 rows × 24 columns</p>\n",
       "</div>"
      ],
      "text/plain": [
       "  customer_id  gender  senior_citizen partner dependents  tenure  \\\n",
       "0  0016-QLJIS  Female               0     Yes        Yes      65   \n",
       "1  0017-DINOC    Male               0      No         No      54   \n",
       "2  0019-GFNTW  Female               0      No         No      56   \n",
       "3  0056-EPFBG    Male               0     Yes        Yes      20   \n",
       "4  0078-XZMHT    Male               0     Yes         No      72   \n",
       "\n",
       "  phone_service    multiple_lines  internet_service_type_id online_security  \\\n",
       "0           Yes               Yes                         1             Yes   \n",
       "1            No  No phone service                         1             Yes   \n",
       "2            No  No phone service                         1             Yes   \n",
       "3            No  No phone service                         1             Yes   \n",
       "4           Yes               Yes                         1              No   \n",
       "\n",
       "   ... streaming_movies contract_type_id paperless_billing payment_type_id  \\\n",
       "0  ...              Yes                3               Yes               2   \n",
       "1  ...               No                3                No               4   \n",
       "2  ...               No                3                No               3   \n",
       "3  ...               No                3               Yes               4   \n",
       "4  ...              Yes                3               Yes               3   \n",
       "\n",
       "  monthly_charges  total_charges churn  contract_type  internet_service_type  \\\n",
       "0           90.45         5957.9    No       Two year                    DSL   \n",
       "1           45.20        2460.55    No       Two year                    DSL   \n",
       "2           45.05         2560.1    No       Two year                    DSL   \n",
       "3           39.40          825.4    No       Two year                    DSL   \n",
       "4           85.15         6316.2    No       Two year                    DSL   \n",
       "\n",
       "                payment_type  \n",
       "0               Mailed check  \n",
       "1    Credit card (automatic)  \n",
       "2  Bank transfer (automatic)  \n",
       "3    Credit card (automatic)  \n",
       "4  Bank transfer (automatic)  \n",
       "\n",
       "[5 rows x 24 columns]"
      ]
     },
     "execution_count": 4,
     "metadata": {},
     "output_type": "execute_result"
    }
   ],
   "source": [
    "df.head()"
   ]
  },
  {
   "cell_type": "markdown",
   "id": "fa95fb16",
   "metadata": {},
   "source": [
    "### Get info"
   ]
  },
  {
   "cell_type": "markdown",
   "id": "c0313004",
   "metadata": {},
   "source": [
    "Let's get info for each column in our dataframe."
   ]
  },
  {
   "cell_type": "code",
   "execution_count": 5,
   "id": "c39d8a18",
   "metadata": {},
   "outputs": [
    {
     "name": "stdout",
     "output_type": "stream",
     "text": [
      "<class 'pandas.core.frame.DataFrame'>\n",
      "RangeIndex: 7043 entries, 0 to 7042\n",
      "Data columns (total 24 columns):\n",
      " #   Column                    Non-Null Count  Dtype  \n",
      "---  ------                    --------------  -----  \n",
      " 0   customer_id               7043 non-null   object \n",
      " 1   gender                    7043 non-null   object \n",
      " 2   senior_citizen            7043 non-null   int64  \n",
      " 3   partner                   7043 non-null   object \n",
      " 4   dependents                7043 non-null   object \n",
      " 5   tenure                    7043 non-null   int64  \n",
      " 6   phone_service             7043 non-null   object \n",
      " 7   multiple_lines            7043 non-null   object \n",
      " 8   internet_service_type_id  7043 non-null   int64  \n",
      " 9   online_security           7043 non-null   object \n",
      " 10  online_backup             7043 non-null   object \n",
      " 11  device_protection         7043 non-null   object \n",
      " 12  tech_support              7043 non-null   object \n",
      " 13  streaming_tv              7043 non-null   object \n",
      " 14  streaming_movies          7043 non-null   object \n",
      " 15  contract_type_id          7043 non-null   int64  \n",
      " 16  paperless_billing         7043 non-null   object \n",
      " 17  payment_type_id           7043 non-null   int64  \n",
      " 18  monthly_charges           7043 non-null   float64\n",
      " 19  total_charges             7043 non-null   object \n",
      " 20  churn                     7043 non-null   object \n",
      " 21  contract_type             7043 non-null   object \n",
      " 22  internet_service_type     7043 non-null   object \n",
      " 23  payment_type              7043 non-null   object \n",
      "dtypes: float64(1), int64(5), object(18)\n",
      "memory usage: 1.3+ MB\n"
     ]
    }
   ],
   "source": [
    "df.info()"
   ]
  },
  {
   "cell_type": "markdown",
   "id": "1f543d96",
   "metadata": {},
   "source": [
    "### Describe data"
   ]
  },
  {
   "cell_type": "markdown",
   "id": "5db8610d",
   "metadata": {},
   "source": [
    "Now we will describe key statistics for our dataframe."
   ]
  },
  {
   "cell_type": "code",
   "execution_count": 6,
   "id": "13691b27",
   "metadata": {},
   "outputs": [
    {
     "data": {
      "text/html": [
       "<div>\n",
       "<style scoped>\n",
       "    .dataframe tbody tr th:only-of-type {\n",
       "        vertical-align: middle;\n",
       "    }\n",
       "\n",
       "    .dataframe tbody tr th {\n",
       "        vertical-align: top;\n",
       "    }\n",
       "\n",
       "    .dataframe thead th {\n",
       "        text-align: right;\n",
       "    }\n",
       "</style>\n",
       "<table border=\"1\" class=\"dataframe\">\n",
       "  <thead>\n",
       "    <tr style=\"text-align: right;\">\n",
       "      <th></th>\n",
       "      <th>count</th>\n",
       "      <th>mean</th>\n",
       "      <th>std</th>\n",
       "      <th>min</th>\n",
       "      <th>25%</th>\n",
       "      <th>50%</th>\n",
       "      <th>75%</th>\n",
       "      <th>max</th>\n",
       "    </tr>\n",
       "  </thead>\n",
       "  <tbody>\n",
       "    <tr>\n",
       "      <th>senior_citizen</th>\n",
       "      <td>7043.0</td>\n",
       "      <td>0.162147</td>\n",
       "      <td>0.368612</td>\n",
       "      <td>0.00</td>\n",
       "      <td>0.0</td>\n",
       "      <td>0.00</td>\n",
       "      <td>0.00</td>\n",
       "      <td>1.00</td>\n",
       "    </tr>\n",
       "    <tr>\n",
       "      <th>tenure</th>\n",
       "      <td>7043.0</td>\n",
       "      <td>32.371149</td>\n",
       "      <td>24.559481</td>\n",
       "      <td>0.00</td>\n",
       "      <td>9.0</td>\n",
       "      <td>29.00</td>\n",
       "      <td>55.00</td>\n",
       "      <td>72.00</td>\n",
       "    </tr>\n",
       "    <tr>\n",
       "      <th>internet_service_type_id</th>\n",
       "      <td>7043.0</td>\n",
       "      <td>1.872923</td>\n",
       "      <td>0.737796</td>\n",
       "      <td>1.00</td>\n",
       "      <td>1.0</td>\n",
       "      <td>2.00</td>\n",
       "      <td>2.00</td>\n",
       "      <td>3.00</td>\n",
       "    </tr>\n",
       "    <tr>\n",
       "      <th>contract_type_id</th>\n",
       "      <td>7043.0</td>\n",
       "      <td>1.690473</td>\n",
       "      <td>0.833755</td>\n",
       "      <td>1.00</td>\n",
       "      <td>1.0</td>\n",
       "      <td>1.00</td>\n",
       "      <td>2.00</td>\n",
       "      <td>3.00</td>\n",
       "    </tr>\n",
       "    <tr>\n",
       "      <th>payment_type_id</th>\n",
       "      <td>7043.0</td>\n",
       "      <td>2.315633</td>\n",
       "      <td>1.148907</td>\n",
       "      <td>1.00</td>\n",
       "      <td>1.0</td>\n",
       "      <td>2.00</td>\n",
       "      <td>3.00</td>\n",
       "      <td>4.00</td>\n",
       "    </tr>\n",
       "    <tr>\n",
       "      <th>monthly_charges</th>\n",
       "      <td>7043.0</td>\n",
       "      <td>64.761692</td>\n",
       "      <td>30.090047</td>\n",
       "      <td>18.25</td>\n",
       "      <td>35.5</td>\n",
       "      <td>70.35</td>\n",
       "      <td>89.85</td>\n",
       "      <td>118.75</td>\n",
       "    </tr>\n",
       "  </tbody>\n",
       "</table>\n",
       "</div>"
      ],
      "text/plain": [
       "                           count       mean        std    min   25%    50%  \\\n",
       "senior_citizen            7043.0   0.162147   0.368612   0.00   0.0   0.00   \n",
       "tenure                    7043.0  32.371149  24.559481   0.00   9.0  29.00   \n",
       "internet_service_type_id  7043.0   1.872923   0.737796   1.00   1.0   2.00   \n",
       "contract_type_id          7043.0   1.690473   0.833755   1.00   1.0   1.00   \n",
       "payment_type_id           7043.0   2.315633   1.148907   1.00   1.0   2.00   \n",
       "monthly_charges           7043.0  64.761692  30.090047  18.25  35.5  70.35   \n",
       "\n",
       "                            75%     max  \n",
       "senior_citizen             0.00    1.00  \n",
       "tenure                    55.00   72.00  \n",
       "internet_service_type_id   2.00    3.00  \n",
       "contract_type_id           2.00    3.00  \n",
       "payment_type_id            3.00    4.00  \n",
       "monthly_charges           89.85  118.75  "
      ]
     },
     "execution_count": 6,
     "metadata": {},
     "output_type": "execute_result"
    }
   ],
   "source": [
    "df.describe().T"
   ]
  },
  {
   "cell_type": "markdown",
   "id": "9b56125b",
   "metadata": {},
   "source": [
    "### Value counts of data"
   ]
  },
  {
   "cell_type": "markdown",
   "id": "6edcc558",
   "metadata": {},
   "source": [
    "No we will run a loop to get value counts for each column."
   ]
  },
  {
   "cell_type": "code",
   "execution_count": 7,
   "id": "418da3c2",
   "metadata": {},
   "outputs": [
    {
     "name": "stdout",
     "output_type": "stream",
     "text": [
      "---- customer_id ---\n",
      "8319-QBEHW    1\n",
      "7758-UJWYS    1\n",
      "0491-KAPQG    1\n",
      "4632-XJMEX    1\n",
      "3466-BYAVD    1\n",
      "             ..\n",
      "5131-PONJI    1\n",
      "1555-HAPSU    1\n",
      "9391-TTOYH    1\n",
      "6303-KFWSL    1\n",
      "3850-OKINF    1\n",
      "Name: customer_id, Length: 7043, dtype: int64\n",
      "---- gender ---\n",
      "Male      3555\n",
      "Female    3488\n",
      "Name: gender, dtype: int64\n",
      "---- senior_citizen ---\n",
      "0    5901\n",
      "1    1142\n",
      "Name: senior_citizen, dtype: int64\n",
      "---- partner ---\n",
      "No     3641\n",
      "Yes    3402\n",
      "Name: partner, dtype: int64\n",
      "---- dependents ---\n",
      "No     4933\n",
      "Yes    2110\n",
      "Name: dependents, dtype: int64\n",
      "---- tenure ---\n",
      "1     613\n",
      "72    362\n",
      "2     238\n",
      "3     200\n",
      "4     176\n",
      "     ... \n",
      "28     57\n",
      "39     56\n",
      "44     51\n",
      "36     50\n",
      "0      11\n",
      "Name: tenure, Length: 73, dtype: int64\n",
      "---- phone_service ---\n",
      "Yes    6361\n",
      "No      682\n",
      "Name: phone_service, dtype: int64\n",
      "---- multiple_lines ---\n",
      "No                  3390\n",
      "Yes                 2971\n",
      "No phone service     682\n",
      "Name: multiple_lines, dtype: int64\n",
      "---- internet_service_type_id ---\n",
      "2    3096\n",
      "1    2421\n",
      "3    1526\n",
      "Name: internet_service_type_id, dtype: int64\n",
      "---- online_security ---\n",
      "No                     3498\n",
      "Yes                    2019\n",
      "No internet service    1526\n",
      "Name: online_security, dtype: int64\n",
      "---- online_backup ---\n",
      "No                     3088\n",
      "Yes                    2429\n",
      "No internet service    1526\n",
      "Name: online_backup, dtype: int64\n",
      "---- device_protection ---\n",
      "No                     3095\n",
      "Yes                    2422\n",
      "No internet service    1526\n",
      "Name: device_protection, dtype: int64\n",
      "---- tech_support ---\n",
      "No                     3473\n",
      "Yes                    2044\n",
      "No internet service    1526\n",
      "Name: tech_support, dtype: int64\n",
      "---- streaming_tv ---\n",
      "No                     2810\n",
      "Yes                    2707\n",
      "No internet service    1526\n",
      "Name: streaming_tv, dtype: int64\n",
      "---- streaming_movies ---\n",
      "No                     2785\n",
      "Yes                    2732\n",
      "No internet service    1526\n",
      "Name: streaming_movies, dtype: int64\n",
      "---- contract_type_id ---\n",
      "1    3875\n",
      "3    1695\n",
      "2    1473\n",
      "Name: contract_type_id, dtype: int64\n",
      "---- paperless_billing ---\n",
      "Yes    4171\n",
      "No     2872\n",
      "Name: paperless_billing, dtype: int64\n",
      "---- payment_type_id ---\n",
      "1    2365\n",
      "2    1612\n",
      "3    1544\n",
      "4    1522\n",
      "Name: payment_type_id, dtype: int64\n",
      "---- monthly_charges ---\n",
      "20.05     61\n",
      "19.85     45\n",
      "19.90     44\n",
      "19.95     44\n",
      "20.00     43\n",
      "          ..\n",
      "30.30      1\n",
      "56.45      1\n",
      "117.50     1\n",
      "40.00      1\n",
      "97.25      1\n",
      "Name: monthly_charges, Length: 1585, dtype: int64\n",
      "---- total_charges ---\n",
      "          11\n",
      "20.2      11\n",
      "19.75      9\n",
      "19.65      8\n",
      "19.9       8\n",
      "          ..\n",
      "474.9      1\n",
      "165.35     1\n",
      "53.15      1\n",
      "608        1\n",
      "559.2      1\n",
      "Name: total_charges, Length: 6531, dtype: int64\n",
      "---- churn ---\n",
      "No     5174\n",
      "Yes    1869\n",
      "Name: churn, dtype: int64\n",
      "---- contract_type ---\n",
      "Month-to-month    3875\n",
      "Two year          1695\n",
      "One year          1473\n",
      "Name: contract_type, dtype: int64\n",
      "---- internet_service_type ---\n",
      "Fiber optic    3096\n",
      "DSL            2421\n",
      "None           1526\n",
      "Name: internet_service_type, dtype: int64\n",
      "---- payment_type ---\n",
      "Electronic check             2365\n",
      "Mailed check                 1612\n",
      "Bank transfer (automatic)    1544\n",
      "Credit card (automatic)      1522\n",
      "Name: payment_type, dtype: int64\n"
     ]
    }
   ],
   "source": [
    "for c in df.columns:\n",
    "    print (\"---- %s ---\" % c)\n",
    "    print (df[c].value_counts())"
   ]
  },
  {
   "cell_type": "markdown",
   "id": "2bf02914",
   "metadata": {},
   "source": [
    "### Distributions of individual variables"
   ]
  },
  {
   "cell_type": "markdown",
   "id": "4159a007",
   "metadata": {},
   "source": [
    "**Gender**"
   ]
  },
  {
   "cell_type": "code",
   "execution_count": 8,
   "id": "4a85a6e0",
   "metadata": {},
   "outputs": [
    {
     "data": {
      "image/png": "[encoded data removed]",
      "text/plain": [
       "<Figure size 432.125x360 with 1 Axes>"
      ]
     },
     "metadata": {
      "needs_background": "light"
     },
     "output_type": "display_data"
    }
   ],
   "source": [
    "gender_distribution = sns.displot(df, x = df.gender, discrete = True, hue = \"gender\", palette=[\"C1\", \"C0\"])"
   ]
  },
  {
   "cell_type": "markdown",
   "id": "759cc8c8",
   "metadata": {},
   "source": [
    "**Senior Citizen**"
   ]
  },
  {
   "cell_type": "code",
   "execution_count": 16,
   "id": "2d476d7a",
   "metadata": {},
   "outputs": [
    {
     "data": {
      "image/png": "[encoded data removed]",
      "text/plain": [
       "<Figure size 436.5x360 with 1 Axes>"
      ]
     },
     "metadata": {
      "needs_background": "light"
     },
     "output_type": "display_data"
    }
   ],
   "source": [
    "gender_distribution = sns.displot(df, x = df.senior_citizen, discrete = True, hue = \"senior_citizen\")"
   ]
  },
  {
   "cell_type": "markdown",
   "id": "2900b755",
   "metadata": {},
   "source": [
    "**Partner**"
   ]
  },
  {
   "cell_type": "code",
   "execution_count": 17,
   "id": "4d7dc122",
   "metadata": {},
   "outputs": [
    {
     "data": {
      "image/png": "[encoded data removed]",
      "text/plain": [
       "<Figure size 412x360 with 1 Axes>"
      ]
     },
     "metadata": {
      "needs_background": "light"
     },
     "output_type": "display_data"
    }
   ],
   "source": [
    "gender_distribution = sns.displot(df, x = df.partner, discrete = True, hue = \"partner\")"
   ]
  },
  {
   "cell_type": "markdown",
   "id": "ccd25da2",
   "metadata": {},
   "source": [
    "**Dependents**"
   ]
  },
  {
   "cell_type": "code",
   "execution_count": 19,
   "id": "94e4df41",
   "metadata": {},
   "outputs": [
    {
     "data": {
      "image/png": "[encoded data removed]",
      "text/plain": [
       "<Figure size 427.25x360 with 1 Axes>"
      ]
     },
     "metadata": {
      "needs_background": "light"
     },
     "output_type": "display_data"
    }
   ],
   "source": [
    "dependents_distribution = sns.displot(df, x = df.dependents, discrete = True, hue = \"dependents\")"
   ]
  },
  {
   "cell_type": "markdown",
   "id": "6249c65b",
   "metadata": {},
   "source": [
    "**Tenure**"
   ]
  },
  {
   "cell_type": "code",
   "execution_count": 14,
   "id": "8347417e",
   "metadata": {},
   "outputs": [
    {
     "data": {
      "image/png": "[encoded data removed]",
      "text/plain": [
       "<Figure size 360x360 with 1 Axes>"
      ]
     },
     "metadata": {
      "needs_background": "light"
     },
     "output_type": "display_data"
    }
   ],
   "source": [
    "tenure_distribution = sns.displot(df, x=\"tenure\")"
   ]
  },
  {
   "cell_type": "markdown",
   "id": "04c26aab",
   "metadata": {},
   "source": [
    "**Phone Service**"
   ]
  },
  {
   "cell_type": "code",
   "execution_count": 20,
   "id": "5714f035",
   "metadata": {},
   "outputs": [
    {
     "data": {
      "image/png": "[encoded data removed]",
      "text/plain": [
       "<Figure size 440x360 with 1 Axes>"
      ]
     },
     "metadata": {
      "needs_background": "light"
     },
     "output_type": "display_data"
    }
   ],
   "source": [
    "phone_service_distribution = sns.displot(df, x = df.phone_service, discrete = True, hue = \"phone_service\")"
   ]
  },
  {
   "cell_type": "markdown",
   "id": "3bb6d430",
   "metadata": {},
   "source": [
    "**Multiple Lines**"
   ]
  },
  {
   "cell_type": "code",
   "execution_count": 22,
   "id": "9063fa7e",
   "metadata": {},
   "outputs": [
    {
     "data": {
      "image/png": "[encoded data removed]",
      "text/plain": [
       "<Figure size 482.75x360 with 1 Axes>"
      ]
     },
     "metadata": {
      "needs_background": "light"
     },
     "output_type": "display_data"
    }
   ],
   "source": [
    "multiple_lines_distribution = sns.displot(df, x = df.multiple_lines, discrete = True, hue = \"multiple_lines\")"
   ]
  },
  {
   "cell_type": "markdown",
   "id": "d31aa130",
   "metadata": {},
   "source": [
    "**Internet Service ID**"
   ]
  },
  {
   "cell_type": "code",
   "execution_count": 51,
   "id": "7b3458ee",
   "metadata": {},
   "outputs": [
    {
     "data": {
      "image/png": "[encoded data removed]",
      "text/plain": [
       "<Figure size 360x360 with 1 Axes>"
      ]
     },
     "metadata": {
      "needs_background": "light"
     },
     "output_type": "display_data"
    }
   ],
   "source": [
    "multiple_lines_distribution = sns.displot(df, x = df.internet_service_type_id)"
   ]
  },
  {
   "cell_type": "markdown",
   "id": "3ad2bdad",
   "metadata": {},
   "source": [
    "**Online Security**"
   ]
  },
  {
   "cell_type": "code",
   "execution_count": 53,
   "id": "e35653a0",
   "metadata": {},
   "outputs": [
    {
     "data": {
      "image/png": "[encoded data removed]",
      "text/plain": [
       "<Figure size 491.25x360 with 1 Axes>"
      ]
     },
     "metadata": {
      "needs_background": "light"
     },
     "output_type": "display_data"
    }
   ],
   "source": [
    "online_security_distribution = sns.displot(df, x = df.online_security, discrete = True, hue = \"online_security\")"
   ]
  },
  {
   "cell_type": "markdown",
   "id": "9a57e12e",
   "metadata": {},
   "source": [
    "**Online Backup**"
   ]
  },
  {
   "cell_type": "code",
   "execution_count": 57,
   "id": "4a6e2af6",
   "metadata": {},
   "outputs": [
    {
     "data": {
      "image/png": "[encoded data removed]",
      "text/plain": [
       "<Figure size 491.25x360 with 1 Axes>"
      ]
     },
     "metadata": {
      "needs_background": "light"
     },
     "output_type": "display_data"
    }
   ],
   "source": [
    "online_backup_distribution = sns.displot(df, x = df.online_backup, discrete = True, hue = \"online_backup\")"
   ]
  },
  {
   "cell_type": "markdown",
   "id": "49b29101",
   "metadata": {},
   "source": [
    "**Device Protection**"
   ]
  },
  {
   "cell_type": "code",
   "execution_count": 58,
   "id": "d17cc304",
   "metadata": {},
   "outputs": [
    {
     "data": {
      "image/png": "[encoded data removed]",
      "text/plain": [
       "<Figure size 491.25x360 with 1 Axes>"
      ]
     },
     "metadata": {
      "needs_background": "light"
     },
     "output_type": "display_data"
    }
   ],
   "source": [
    "device_protection_distribution = sns.displot(df, x = df.device_protection, discrete = True, hue = \"device_protection\")"
   ]
  },
  {
   "cell_type": "markdown",
   "id": "deed6de3",
   "metadata": {},
   "source": [
    "**Tech Support**"
   ]
  },
  {
   "cell_type": "code",
   "execution_count": 6,
   "id": "bdd54a2d",
   "metadata": {},
   "outputs": [
    {
     "data": {
      "image/png": "[encoded data removed]",
      "text/plain": [
       "<Figure size 491.25x360 with 1 Axes>"
      ]
     },
     "metadata": {
      "needs_background": "light"
     },
     "output_type": "display_data"
    }
   ],
   "source": [
    "tech_support_distribution = sns.displot(df, x = df.tech_support, discrete = True, hue = \"tech_support\")"
   ]
  },
  {
   "cell_type": "markdown",
   "id": "3aacab4e",
   "metadata": {},
   "source": [
    "**Streaming TV**"
   ]
  },
  {
   "cell_type": "code",
   "execution_count": 9,
   "id": "7a36dbd1",
   "metadata": {},
   "outputs": [
    {
     "data": {
      "image/png": "[encoded data removed]",
      "text/plain": [
       "<Figure size 491.25x360 with 1 Axes>"
      ]
     },
     "metadata": {
      "needs_background": "light"
     },
     "output_type": "display_data"
    }
   ],
   "source": [
    "streaming_tv_distribution = sns.displot(df, x = df.streaming_tv, discrete = True, hue = \"streaming_tv\")"
   ]
  },
  {
   "cell_type": "markdown",
   "id": "f0ab8b1b",
   "metadata": {},
   "source": [
    "**Streaming Movies**"
   ]
  },
  {
   "cell_type": "code",
   "execution_count": 11,
   "id": "788c95d6",
   "metadata": {},
   "outputs": [
    {
     "data": {
      "image/png": "[encoded data removed]",
      "text/plain": [
       "<Figure size 491.25x360 with 1 Axes>"
      ]
     },
     "metadata": {
      "needs_background": "light"
     },
     "output_type": "display_data"
    }
   ],
   "source": [
    "streaming_movies_distribution = sns.displot(df, x = df.streaming_movies, discrete = True, hue = \"streaming_movies\")"
   ]
  },
  {
   "cell_type": "markdown",
   "id": "1902c2f1",
   "metadata": {},
   "source": [
    "**Contract Type ID**"
   ]
  },
  {
   "cell_type": "code",
   "execution_count": 13,
   "id": "6d613901",
   "metadata": {},
   "outputs": [
    {
     "data": {
      "image/png": "[encoded data removed]",
      "text/plain": [
       "<Figure size 450.75x360 with 1 Axes>"
      ]
     },
     "metadata": {
      "needs_background": "light"
     },
     "output_type": "display_data"
    }
   ],
   "source": [
    "contract_type_id_distribution = sns.displot(df, x = df.contract_type_id, discrete = True, hue = \"contract_type_id\")"
   ]
  },
  {
   "cell_type": "markdown",
   "id": "c76378e5",
   "metadata": {},
   "source": [
    "**Paperless Billing**"
   ]
  },
  {
   "cell_type": "code",
   "execution_count": 14,
   "id": "c04c7d0f",
   "metadata": {},
   "outputs": [
    {
     "data": {
      "image/png": "[encoded data removed]",
      "text/plain": [
       "<Figure size 451.875x360 with 1 Axes>"
      ]
     },
     "metadata": {
      "needs_background": "light"
     },
     "output_type": "display_data"
    }
   ],
   "source": [
    "paperless_billing_distribution = sns.displot(df, x = df.paperless_billing, discrete = True, hue = \"paperless_billing\")"
   ]
  },
  {
   "cell_type": "markdown",
   "id": "30fd1eb6",
   "metadata": {},
   "source": [
    "**Payment Type ID**"
   ]
  },
  {
   "cell_type": "code",
   "execution_count": 16,
   "id": "3672b658",
   "metadata": {},
   "outputs": [
    {
     "data": {
      "image/png": "[encoded data removed]",
      "text/plain": [
       "<Figure size 453.625x360 with 1 Axes>"
      ]
     },
     "metadata": {
      "needs_background": "light"
     },
     "output_type": "display_data"
    }
   ],
   "source": [
    "payment_type_id_distribution = sns.displot(df, x = df.payment_type_id, discrete = True, hue = \"payment_type_id\")"
   ]
  },
  {
   "cell_type": "markdown",
   "id": "b02da558",
   "metadata": {},
   "source": [
    "**Monthly Charges**"
   ]
  },
  {
   "cell_type": "code",
   "execution_count": 16,
   "id": "98e6282b",
   "metadata": {},
   "outputs": [
    {
     "data": {
      "image/png": "[encoded data removed]",
      "text/plain": [
       "<Figure size 360x360 with 1 Axes>"
      ]
     },
     "metadata": {
      "needs_background": "light"
     },
     "output_type": "display_data"
    }
   ],
   "source": [
    "monthly_charges_distribution = sns.displot(df, x='monthly_charges')"
   ]
  },
  {
   "cell_type": "markdown",
   "id": "dc13b8ee",
   "metadata": {},
   "source": [
    "**Churn**"
   ]
  },
  {
   "cell_type": "code",
   "execution_count": 17,
   "id": "893db5b2",
   "metadata": {},
   "outputs": [
    {
     "data": {
      "image/png": "[encoded data removed]",
      "text/plain": [
       "<Figure size 412x360 with 1 Axes>"
      ]
     },
     "metadata": {
      "needs_background": "light"
     },
     "output_type": "display_data"
    }
   ],
   "source": [
    "churn_distribution = sns.displot(df, x = df.churn, discrete = True, hue = \"churn\")"
   ]
  },
  {
   "cell_type": "markdown",
   "id": "60787665",
   "metadata": {},
   "source": [
    "**Contract Type**"
   ]
  },
  {
   "cell_type": "code",
   "execution_count": 19,
   "id": "821b8d49",
   "metadata": {},
   "outputs": [
    {
     "data": {
      "image/png": "[encoded data removed]",
      "text/plain": [
       "<Figure size 476.75x360 with 1 Axes>"
      ]
     },
     "metadata": {
      "needs_background": "light"
     },
     "output_type": "display_data"
    }
   ],
   "source": [
    "contract_type_distribution = sns.displot(df, x = df.contract_type, discrete = True, hue = \"contract_type\")"
   ]
  },
  {
   "cell_type": "markdown",
   "id": "17cfb6c2",
   "metadata": {},
   "source": [
    "**Internet Service Type**"
   ]
  },
  {
   "cell_type": "code",
   "execution_count": 20,
   "id": "93b4fd51",
   "metadata": {},
   "outputs": [
    {
     "data": {
      "image/png": "[encoded data removed]",
      "text/plain": [
       "<Figure size 475.625x360 with 1 Axes>"
      ]
     },
     "metadata": {
      "needs_background": "light"
     },
     "output_type": "display_data"
    }
   ],
   "source": [
    "internet_service_type_distribution = sns.displot(df, x = df.internet_service_type, discrete = True, hue = \"internet_service_type\")"
   ]
  },
  {
   "cell_type": "markdown",
   "id": "0671f617",
   "metadata": {},
   "source": [
    "**Payment Type**"
   ]
  },
  {
   "cell_type": "code",
   "execution_count": 29,
   "id": "db221abe",
   "metadata": {},
   "outputs": [
    {
     "data": {
      "text/plain": [
       "<seaborn.axisgrid.FacetGrid at 0x7f8f1f24f550>"
      ]
     },
     "execution_count": 29,
     "metadata": {},
     "output_type": "execute_result"
    },
    {
     "data": {
      "image/png": "[encoded data removed]",
      "text/plain": [
       "<Figure size 360x360 with 1 Axes>"
      ]
     },
     "metadata": {
      "needs_background": "light"
     },
     "output_type": "display_data"
    }
   ],
   "source": [
    "payment_type_distribution = sns.displot(df, x = df.payment_type, discrete = True, hue = \"payment_type\", legend = False)\n",
    "payment_type_distribution.set_xticklabels(rotation=45)"
   ]
  },
  {
   "cell_type": "markdown",
   "id": "a9be9849",
   "metadata": {},
   "source": [
    "### Acquire takeaways"
   ]
  },
  {
   "cell_type": "markdown",
   "id": "8e4f339a",
   "metadata": {},
   "source": [
    " - I wrote a function containing SQL query to obtain my DataFrame of Telco data.\n",
    " - I used `info()`, `describe()`, and `value_counts()` on this DataFrame.\n",
    " - I utilized Seaborn to build distribution graphs for the features of this DataFrame."
   ]
  },
  {
   "cell_type": "markdown",
   "id": "5f9b6dc2",
   "metadata": {},
   "source": [
    "## Data Preparation"
   ]
  },
  {
   "cell_type": "markdown",
   "id": "0bb8c41e",
   "metadata": {},
   "source": [
    "Now we will clean the data we need for this project. We will use a function called `prep_telco` from the file `prepare.py`. The `prep_telco` function will also split our data into `train`, `validate`, and `test` datasets.\n",
    "\n",
    "For more information about the function `prep_telco`, please see the file `prepare.py` in this repository."
   ]
  },
  {
   "cell_type": "code",
   "execution_count": 11,
   "id": "3da67e22",
   "metadata": {},
   "outputs": [],
   "source": [
    "train, validate, test = prep_telco(df)"
   ]
  },
  {
   "cell_type": "code",
   "execution_count": 68,
   "id": "03a27144",
   "metadata": {},
   "outputs": [
    {
     "name": "stdout",
     "output_type": "stream",
     "text": [
      "Shape of train data: (3943, 28)\n",
      "Shape of validate data: (1691, 28)\n",
      "Shape of test data: (1409, 28)\n"
     ]
    }
   ],
   "source": [
    "print(\"Shape of train data:\", train.shape)\n",
    "print(\"Shape of validate data:\", validate.shape)\n",
    "print(\"Shape of test data:\", test.shape)"
   ]
  },
  {
   "cell_type": "markdown",
   "id": "fd57d4de",
   "metadata": {},
   "source": [
    "### Prepare takeaways"
   ]
  },
  {
   "cell_type": "markdown",
   "id": "c11ddc8d",
   "metadata": {},
   "source": [
    " - I wrote a two functions in the `prepare.py` file. This file contains two functions: `split_data` and `get_telco`.\n",
    " - The `split data` divides the `df` DataFrame into `train`, `validate`, and `test`, stratifying the data on the `has_churned`.\n",
    " - The `get_telco` function performs the following tasks:\n",
    "     - Eliminate duplicate columns.\n",
    "     - Create columns `has_churned` and `paperless_billing_numeric`.\n",
    "     - Create dummy variables for non-numeric columns. \n",
    "     - Concatenate dummy variables to `df`.\n",
    "     - Drop redundant columns in `df`.\n",
    "     - Replace null variables in `total_charges` with $0$.\n",
    "     - Convert `total_charges` and `monthly_charges` values into floats. \n",
    "     - Call the `split_data` function to split the data into `train`, `validate`, and `test`, stratifying on the `has_churned` column."
   ]
  },
  {
   "cell_type": "markdown",
   "id": "670bf37c",
   "metadata": {},
   "source": [
    "## Explore Data"
   ]
  },
  {
   "cell_type": "markdown",
   "id": "229ca3bd",
   "metadata": {},
   "source": [
    "`In this section, we will run statistical tests to determine what variables are likely correlated with churn."
   ]
  },
  {
   "cell_type": "markdown",
   "id": "1256db9f",
   "metadata": {},
   "source": [
    "For the statistical hypothesis testing in this section we will use the following value for alpha ($\\alpha$):"
   ]
  },
  {
   "cell_type": "code",
   "execution_count": 4,
   "id": "8ab62c11",
   "metadata": {},
   "outputs": [],
   "source": [
    "alpha = 0.05"
   ]
  },
  {
   "cell_type": "markdown",
   "id": "c9a8557b",
   "metadata": {},
   "source": [
    "### Hypothesis 1"
   ]
  },
  {
   "cell_type": "markdown",
   "id": "4ecc93a4",
   "metadata": {},
   "source": [
    "$H_0$: There is no significant difference in the churn rate for customers on month-to-month contracts and the churn rate for customers on either year or two-year contracts. \n",
    "\n",
    "$H_a$: There is a significant difference in the churn rate for customers on month-to-month contracts and the churn rate for customers on either year or two-yera contracts. "
   ]
  },
  {
   "cell_type": "markdown",
   "id": "01208578",
   "metadata": {},
   "source": [
    "To test these hypotheses, we will need to create the following two subgroups. Recall that `contract_type_id == 1` indicates a month_to_month contract."
   ]
  },
  {
   "cell_type": "code",
   "execution_count": 9,
   "id": "2e195f30",
   "metadata": {},
   "outputs": [],
   "source": [
    "month_to_month_customers = train[train.contract_type_id == 1]\n",
    "one_year_and_two_year_customers = train[train.contract_type_id != 1]"
   ]
  },
  {
   "cell_type": "markdown",
   "id": "4517e75b",
   "metadata": {},
   "source": [
    "Now we will test our hypotheses by computing the p-value and test statistic. We use the independent t-test because our variables our independent. In other words,  customers from the month-to-month contract group are not in the one-year or two-year contract group."
   ]
  },
  {
   "cell_type": "code",
   "execution_count": 12,
   "id": "2e01e3a6",
   "metadata": {},
   "outputs": [
    {
     "data": {
      "text/plain": [
       "(28.150653344431294, 4.950197678770975e-159)"
      ]
     },
     "execution_count": 12,
     "metadata": {},
     "output_type": "execute_result"
    }
   ],
   "source": [
    "tstat, p = stats.ttest_ind(month_to_month_customers.has_churned, one_year_and_two_year_customers.has_churned)\n",
    "tstat, p"
   ]
  },
  {
   "cell_type": "markdown",
   "id": "1f43b419",
   "metadata": {},
   "source": [
    "Because our p-value is less than our alpha value ($4.95 \\times 10^{-159} < 0.05 $), we reject our null hypothesis that there is no significant different in the churn rate for customers on a month-to-month contract and customers on either a one year or two year contract."
   ]
  },
  {
   "cell_type": "markdown",
   "id": "d1f6f9ed",
   "metadata": {},
   "source": [
    "The corresponding Seaborn plot confirms what the hypothesis test indicates. Recall that `has_churned==0` indicats no churn and `has_churned==1` indicates churn."
   ]
  },
  {
   "cell_type": "code",
   "execution_count": 13,
   "id": "27eea707",
   "metadata": {
    "scrolled": true
   },
   "outputs": [
    {
     "data": {
      "image/png": "[encoded data removed]",
      "text/plain": [
       "<Figure size 432x288 with 1 Axes>"
      ]
     },
     "metadata": {
      "needs_background": "light"
     },
     "output_type": "display_data"
    }
   ],
   "source": [
    "churn_counts_by_contract = sns.countplot(x='has_churned', data=train, hue = \"contract_type_id\")"
   ]
  },
  {
   "cell_type": "markdown",
   "id": "c9e63f0f",
   "metadata": {},
   "source": [
    "### Hypothesis 2"
   ]
  },
  {
   "cell_type": "markdown",
   "id": "f46f9ae9",
   "metadata": {},
   "source": [
    "We can also test for correlation between churn rate and contract type."
   ]
  },
  {
   "cell_type": "markdown",
   "id": "73a2f6fd",
   "metadata": {},
   "source": [
    "$H_0$: There is no significant correlation between customer churn rate and contract type. \n",
    "\n",
    "$H_a$: There is a significant correlation between customer churn rate and contract type."
   ]
  },
  {
   "cell_type": "markdown",
   "id": "6b68b16b",
   "metadata": {},
   "source": [
    "To test this hypothesis, we create the following subgroups."
   ]
  },
  {
   "cell_type": "code",
   "execution_count": 12,
   "id": "e0eb734b",
   "metadata": {},
   "outputs": [],
   "source": [
    "churn_rate = train.has_churned\n",
    "contract_type = train.contract_type_id"
   ]
  },
  {
   "cell_type": "markdown",
   "id": "5432c67b",
   "metadata": {},
   "source": [
    "We will use the Pearson test to determine correlation between these two variables."
   ]
  },
  {
   "cell_type": "code",
   "execution_count": 29,
   "id": "ca6af7cc",
   "metadata": {},
   "outputs": [
    {
     "data": {
      "text/plain": [
       "(-0.3961558393959263, 2.572502613430288e-148)"
      ]
     },
     "execution_count": 29,
     "metadata": {},
     "output_type": "execute_result"
    }
   ],
   "source": [
    "corr, p = stats.pearsonr(churn_rate, contract_type)\n",
    "corr, p"
   ]
  },
  {
   "cell_type": "markdown",
   "id": "1e671105",
   "metadata": {},
   "source": [
    "Because our p-value is less than our alpha value ($4.95 \\times 10^{-159} < 0.05 $), we reject our null hypothesis that there is no significant correlation between customer churn rate and contract type. "
   ]
  },
  {
   "cell_type": "markdown",
   "id": "01e34cc7",
   "metadata": {},
   "source": [
    "Please see the graph below Hypothesis 1 for a visualization of this correlation."
   ]
  },
  {
   "cell_type": "markdown",
   "id": "4431d4da",
   "metadata": {},
   "source": [
    "### Hypothesis 3"
   ]
  },
  {
   "cell_type": "markdown",
   "id": "9aeb9c84",
   "metadata": {},
   "source": [
    "$H_0$: There is no significant correlation between churn rate and payment type ID.\n",
    "\n",
    "$H_a$: There is a significant correlation between churn rate and payment type ID. "
   ]
  },
  {
   "cell_type": "markdown",
   "id": "9e6f2f0b",
   "metadata": {},
   "source": [
    "We can use the Pearson test to test this correlation."
   ]
  },
  {
   "cell_type": "code",
   "execution_count": 13,
   "id": "4fe26cf7",
   "metadata": {},
   "outputs": [
    {
     "data": {
      "text/plain": [
       "(-0.2555831035581517, 7.653586167832065e-60)"
      ]
     },
     "execution_count": 13,
     "metadata": {},
     "output_type": "execute_result"
    }
   ],
   "source": [
    "corr, p = stats.pearsonr(churn_rate, train.payment_type_id)\n",
    "corr, p"
   ]
  },
  {
   "cell_type": "markdown",
   "id": "8fb1deb5",
   "metadata": {},
   "source": [
    "Because our p-value is less than our alpha value ($7.65 \\times 10^{-60} < 0.05 $), we reject our null hypothesis that there is no significant correlation between churn rate and payment type ID."
   ]
  },
  {
   "cell_type": "markdown",
   "id": "1fa73cb1",
   "metadata": {},
   "source": [
    "We can visualize this correlation with the following Seaborn plot below."
   ]
  },
  {
   "cell_type": "code",
   "execution_count": 34,
   "id": "013d3507",
   "metadata": {},
   "outputs": [
    {
     "data": {
      "image/png": "[encoded data removed]",
      "text/plain": [
       "<Figure size 432x288 with 1 Axes>"
      ]
     },
     "metadata": {
      "needs_background": "light"
     },
     "output_type": "display_data"
    }
   ],
   "source": [
    "churn_rates_counts_by_contract = sns.countplot(x='has_churned', data=train[train.has_churned == 1], hue = \"payment_type_id\")"
   ]
  },
  {
   "cell_type": "markdown",
   "id": "d7c3d50f",
   "metadata": {},
   "source": [
    "It appears from the graph that customers with `payment_type_id==1` are more likely to churn."
   ]
  },
  {
   "cell_type": "markdown",
   "id": "0fd0db4c",
   "metadata": {},
   "source": [
    "### Hypothesis 4"
   ]
  },
  {
   "cell_type": "markdown",
   "id": "55b4d492",
   "metadata": {},
   "source": [
    "$H_0$: There is no significant correlation between customer churn rate and monthly charges. \n",
    "\n",
    "$H_a$: There is a significant correlation between customer churn rate and monthly charges."
   ]
  },
  {
   "cell_type": "markdown",
   "id": "93f40659",
   "metadata": {},
   "source": [
    "Similar to the previous hypothesis testing problem, to test these hypotheses we will need to create the following subgroups."
   ]
  },
  {
   "cell_type": "code",
   "execution_count": 14,
   "id": "3bd40945",
   "metadata": {},
   "outputs": [],
   "source": [
    "churn_rate = train.has_churned\n",
    "monthly_charges = train.monthly_charges"
   ]
  },
  {
   "cell_type": "markdown",
   "id": "6ddfc234",
   "metadata": {},
   "source": [
    "We will use the Pearson test to test for correlation between these two variables. "
   ]
  },
  {
   "cell_type": "code",
   "execution_count": 15,
   "id": "ef95b88e",
   "metadata": {},
   "outputs": [
    {
     "data": {
      "text/plain": [
       "(0.18903970957264357, 4.816687112552436e-33)"
      ]
     },
     "execution_count": 15,
     "metadata": {},
     "output_type": "execute_result"
    }
   ],
   "source": [
    "corr, p = stats.pearsonr(churn_rate, monthly_charges)\n",
    "corr, p"
   ]
  },
  {
   "cell_type": "markdown",
   "id": "45a8360c",
   "metadata": {},
   "source": [
    "Because or p-value is less than our alpha value ($4.81 \\times 10^{-33} < 0.05 $), we reject teh null hypothesis that there is no significant correlation between customer churn and monthly charges. "
   ]
  },
  {
   "cell_type": "markdown",
   "id": "7ebefbc6",
   "metadata": {},
   "source": [
    "The seaborn plot of the correlation between monthly charges and churn rate is indicated below."
   ]
  },
  {
   "cell_type": "code",
   "execution_count": 16,
   "id": "b6a9cc98",
   "metadata": {},
   "outputs": [
    {
     "data": {
      "image/png": "[encoded data removed]",
      "text/plain": [
       "<Figure size 432x288 with 1 Axes>"
      ]
     },
     "metadata": {
      "needs_background": "light"
     },
     "output_type": "display_data"
    }
   ],
   "source": [
    "churn_by_monthly_charges = sns.histplot(\n",
    "    x=train.monthly_charges, hue=train.has_churned, element = 'step'\n",
    ")"
   ]
  },
  {
   "cell_type": "markdown",
   "id": "d71adeb9",
   "metadata": {},
   "source": [
    "The rate of monthly charges that are more likely to churn is not immediately obvious from the chart. The relationship between monthly charges and churn is worth exploring in our machine learning models later on in this project."
   ]
  },
  {
   "cell_type": "markdown",
   "id": "e90f1e47",
   "metadata": {},
   "source": [
    "### Hypothesis 5"
   ]
  },
  {
   "cell_type": "markdown",
   "id": "65913bc9",
   "metadata": {},
   "source": [
    "$H_0$: There is no significant correlation between internet service type ID and churn rate.\n",
    "\n",
    "$H_a$: There is a significant correlation between internet service type ID and churn rate."
   ]
  },
  {
   "cell_type": "markdown",
   "id": "93eb8857",
   "metadata": {},
   "source": [
    "We will use Pearson to test this correlation."
   ]
  },
  {
   "cell_type": "code",
   "execution_count": 37,
   "id": "51f0bbf2",
   "metadata": {},
   "outputs": [
    {
     "data": {
      "text/plain": [
       "(-0.043897298986751675, 0.0058350104960837165)"
      ]
     },
     "execution_count": 37,
     "metadata": {},
     "output_type": "execute_result"
    }
   ],
   "source": [
    "corr, p = stats.pearsonr(churn_rate, train.internet_service_type_id)\n",
    "corr, p"
   ]
  },
  {
   "cell_type": "markdown",
   "id": "04d65933",
   "metadata": {},
   "source": [
    "Because our p-value is less than our alpha ($0.0058 < 0.05 $), we reject our null hypothesis that there is no significant correlation between internet service type ID and churn rate."
   ]
  },
  {
   "cell_type": "markdown",
   "id": "1dbdfbda",
   "metadata": {},
   "source": [
    "We visualize this correlation with the graph below."
   ]
  },
  {
   "cell_type": "code",
   "execution_count": 38,
   "id": "796cf136",
   "metadata": {},
   "outputs": [
    {
     "data": {
      "image/png": "[encoded data removed]",
      "text/plain": [
       "<Figure size 432x288 with 1 Axes>"
      ]
     },
     "metadata": {
      "needs_background": "light"
     },
     "output_type": "display_data"
    }
   ],
   "source": [
    "churn_counts_by_internet_service = sns.countplot(x='has_churned', data=train, hue = \"internet_service_type_id\")"
   ]
  },
  {
   "cell_type": "markdown",
   "id": "3b06f3ff",
   "metadata": {},
   "source": [
    "It appears from this graph that customers with `internet_service_type_id==2` are more likely to churn."
   ]
  },
  {
   "cell_type": "markdown",
   "id": "b01ed7e2",
   "metadata": {},
   "source": [
    "We can also compare the churn and no churn groups using the Mann Whitney Test. The Mann Whitney tests allows us to test whether or not there is a significant difference in the mean between two groups."
   ]
  },
  {
   "cell_type": "markdown",
   "id": "1e5fceb6",
   "metadata": {},
   "source": [
    "### Hypothesis 6"
   ]
  },
  {
   "cell_type": "markdown",
   "id": "727a16cd",
   "metadata": {},
   "source": [
    "$H_0$: There is no significant difference between the mean tenure for customers who didn't churn and customers who did churn. \n",
    "\n",
    "$H_a$: There is a significant difference between the mean tenure for customers who churned and customers who did churn. "
   ]
  },
  {
   "cell_type": "markdown",
   "id": "93dd5992",
   "metadata": {},
   "source": [
    "We must create the following subgroups to test these hypotheses."
   ]
  },
  {
   "cell_type": "code",
   "execution_count": 18,
   "id": "4f2fcae9",
   "metadata": {},
   "outputs": [],
   "source": [
    "train_has_churned = train[train.has_churned == 1]\n",
    "train_no_churn = train[train.has_churned == 0]"
   ]
  },
  {
   "cell_type": "markdown",
   "id": "23194579",
   "metadata": {},
   "source": [
    "Now we can run the Mann-Whitney test on the `tenure` column of these two groups."
   ]
  },
  {
   "cell_type": "code",
   "execution_count": 19,
   "id": "13e0086f",
   "metadata": {},
   "outputs": [
    {
     "data": {
      "text/plain": [
       "MannwhitneyuResult(statistic=787745.5, pvalue=5.978994288055496e-118)"
      ]
     },
     "execution_count": 19,
     "metadata": {},
     "output_type": "execute_result"
    }
   ],
   "source": [
    "stats.mannwhitneyu(train_has_churned['tenure'], train_no_churn['tenure'], use_continuity=True)"
   ]
  },
  {
   "cell_type": "markdown",
   "id": "45d0bb1b",
   "metadata": {},
   "source": [
    "Because our p-value is less than our alpha value ($5.98 \\times 10^{-118} < 0.05 $), we reject our null hypothesis that there is no significant difference in mean tenure who customers who churned and customers who didn't churn."
   ]
  },
  {
   "cell_type": "markdown",
   "id": "3b1d358e",
   "metadata": {},
   "source": [
    "We will now create a graph to see if our conclusion is visible in the data."
   ]
  },
  {
   "cell_type": "code",
   "execution_count": 21,
   "id": "696ce6ea",
   "metadata": {},
   "outputs": [
    {
     "data": {
      "image/png": "[encoded data removed]",
      "text/plain": [
       "<Figure size 432x288 with 1 Axes>"
      ]
     },
     "metadata": {
      "needs_background": "light"
     },
     "output_type": "display_data"
    }
   ],
   "source": [
    "tenure_and_churn = sns.histplot(x=train.tenure, hue=train.has_churned, element = 'step')"
   ]
  },
  {
   "cell_type": "markdown",
   "id": "b9f03adb",
   "metadata": {},
   "source": [
    "It is clearly visible in the graph that customers with less tenure are more likely to churn."
   ]
  },
  {
   "cell_type": "markdown",
   "id": "1a00366f",
   "metadata": {},
   "source": [
    "### Hypothesis 7"
   ]
  },
  {
   "cell_type": "markdown",
   "id": "cda70a2b",
   "metadata": {},
   "source": [
    "$H_0$: There is no significant difference in mean monthly charges for customers who have churned and customers who have not churned. \n",
    "\n",
    "$H_a$: There is a significant difference in mean monthly charges for customers who have churned and customers who have not churned."
   ]
  },
  {
   "cell_type": "markdown",
   "id": "d9fc16ed",
   "metadata": {},
   "source": [
    "The test we ran in Hypothesis 2 is similar to this hypothesis. We will now determine if the Mann-Whitney test confirms our previous finding."
   ]
  },
  {
   "cell_type": "code",
   "execution_count": 22,
   "id": "081d8513",
   "metadata": {},
   "outputs": [
    {
     "data": {
      "text/plain": [
       "MannwhitneyuResult(statistic=1160715.0, pvalue=1.4455529063493655e-29)"
      ]
     },
     "execution_count": 22,
     "metadata": {},
     "output_type": "execute_result"
    }
   ],
   "source": [
    "stats.mannwhitneyu(train_has_churned['monthly_charges'], train_no_churn['monthly_charges'], use_continuity=True)"
   ]
  },
  {
   "cell_type": "markdown",
   "id": "13281951",
   "metadata": {},
   "source": [
    "Because our p-value is less than our alpha value ($1.45 \\times 10^{-29} < 0.05 $), we reject our null hypothesis that there is no significant difference in mean monthly charges for customers who churn and customers who do not churn. "
   ]
  },
  {
   "cell_type": "markdown",
   "id": "f922346e",
   "metadata": {},
   "source": [
    "For a graph of the data tested in this hypothesis please see the graph below Hypothesis 3."
   ]
  },
  {
   "cell_type": "markdown",
   "id": "75717391",
   "metadata": {},
   "source": [
    "### Key takeaways"
   ]
  },
  {
   "cell_type": "markdown",
   "id": "af9cf5b8",
   "metadata": {},
   "source": [
    " - We found that there is a significant difference in churn rate for customers on a month-to-month contract and customers on one year or two year contracts.\n",
    " - We found that churn rate is correlated with `contract_type_id`, `payment_type_id`, `monthly_charges`, and `internet_service_type_id`.\n",
    " - We found that there is a significant difference in mean `monthly_charges` and `tenure` for customers who churn and customers who don't churn. \n",
    " - Given these findings, I recommend that in our models we explore the relationship between churn and the following features: \n",
    "     - `contract_type_id`,\n",
    "     - `payment_type_id`,\n",
    "     - `monthly_charges`,\n",
    "     - `internet_service_type_id`, and \n",
    "     - `tenure`."
   ]
  },
  {
   "cell_type": "markdown",
   "id": "cd19f438",
   "metadata": {},
   "source": [
    "## Model and Evaluate"
   ]
  },
  {
   "cell_type": "markdown",
   "id": "3bf303db",
   "metadata": {},
   "source": [
    "### Define X and y train, validate, and test datasets"
   ]
  },
  {
   "cell_type": "code",
   "execution_count": 5,
   "id": "01fb437d",
   "metadata": {},
   "outputs": [],
   "source": [
    "X_train, y_train = train.drop(columns='has_churned'), train.has_churned\n",
    "X_validate, y_validate = validate.drop(columns='has_churned'), validate.has_churned\n",
    "X_test, y_test = test.drop(columns='has_churned'), test.has_churned"
   ]
  },
  {
   "cell_type": "markdown",
   "id": "b0eca5ad",
   "metadata": {},
   "source": [
    "### Baseline Accuracy"
   ]
  },
  {
   "cell_type": "markdown",
   "id": "3064732e",
   "metadata": {},
   "source": [
    "Now we will establish a baseline accuracy. "
   ]
  },
  {
   "cell_type": "code",
   "execution_count": 4,
   "id": "3a32153f",
   "metadata": {},
   "outputs": [
    {
     "data": {
      "text/plain": [
       "0    2897\n",
       "1    1046\n",
       "Name: has_churned, dtype: int64"
      ]
     },
     "execution_count": 4,
     "metadata": {},
     "output_type": "execute_result"
    }
   ],
   "source": [
    "train.has_churned.value_counts()"
   ]
  },
  {
   "cell_type": "markdown",
   "id": "98d5543f",
   "metadata": {},
   "source": [
    "The majority of our customers have not churned, so our baseliene assumption is that cutsomers will not churn."
   ]
  },
  {
   "cell_type": "code",
   "execution_count": 9,
   "id": "8c3f6a80",
   "metadata": {},
   "outputs": [
    {
     "data": {
      "text/plain": [
       "DummyClassifier(constant=0, strategy='constant')"
      ]
     },
     "execution_count": 9,
     "metadata": {},
     "output_type": "execute_result"
    }
   ],
   "source": [
    "model = DummyClassifier(strategy= 'constant', constant = 0)\n",
    "model.fit(X_train, y_train)"
   ]
  },
  {
   "cell_type": "code",
   "execution_count": 10,
   "id": "a284a2d6",
   "metadata": {},
   "outputs": [
    {
     "name": "stdout",
     "output_type": "stream",
     "text": [
      "Training accuracy: 0.73\n"
     ]
    }
   ],
   "source": [
    "accuracy = round(model.score(X_train, y_train), 2)\n",
    "print(f'Training accuracy: {accuracy}')"
   ]
  },
  {
   "cell_type": "markdown",
   "id": "45f810ee",
   "metadata": {},
   "source": [
    "We will now test the accuracy of several different models with our baseline accuracy in mind. I am going to test the accuracy of the models by creating several classification reports, then printing out each classification report at the end of this section to compare their accuracies."
   ]
  },
  {
   "cell_type": "markdown",
   "id": "0bbb8811",
   "metadata": {},
   "source": [
    "To run our data through the models, we will need to drop the column `customer_id`."
   ]
  },
  {
   "cell_type": "code",
   "execution_count": 6,
   "id": "7c40bec5",
   "metadata": {},
   "outputs": [],
   "source": [
    "X_train = X_train.drop(columns = ['customer_id'])\n",
    "X_validate = X_validate.drop(columns = ['customer_id'])"
   ]
  },
  {
   "cell_type": "markdown",
   "id": "ff383297",
   "metadata": {},
   "source": [
    "### Decision Tree"
   ]
  },
  {
   "cell_type": "markdown",
   "id": "f577b809",
   "metadata": {},
   "source": [
    "We will start with a decision tree of `max_depth=3`."
   ]
  },
  {
   "cell_type": "code",
   "execution_count": 7,
   "id": "0cf80de0",
   "metadata": {},
   "outputs": [],
   "source": [
    "clf_max_depth_3 = DecisionTreeClassifier(max_depth=3, random_state=123)\n",
    "clf_max_depth_3 = clf_max_depth_3.fit(X_train, y_train)"
   ]
  },
  {
   "cell_type": "markdown",
   "id": "348614e5",
   "metadata": {},
   "source": [
    "We can print the decision tree for this model."
   ]
  },
  {
   "cell_type": "code",
   "execution_count": 16,
   "id": "fbc3f460",
   "metadata": {},
   "outputs": [
    {
     "data": {
      "text/plain": [
       "'telco_tree_1.pdf'"
      ]
     },
     "execution_count": 16,
     "metadata": {},
     "output_type": "execute_result"
    }
   ],
   "source": [
    "dot_data = export_graphviz(clf_max_depth_3, feature_names= X_train.columns, rounded=True, filled=True, out_file=None)\n",
    "graph = graphviz.Source(dot_data) \n",
    "\n",
    "graph.render('telco_tree_1', view=True)"
   ]
  },
  {
   "cell_type": "markdown",
   "id": "069370f5",
   "metadata": {},
   "source": [
    "![title](telco_graph_picture.png)"
   ]
  },
  {
   "cell_type": "markdown",
   "id": "18c41e92",
   "metadata": {},
   "source": [
    "The tree indicates to us that the main predictor of churn is contract type. Customers with contract type ID 1 are more likely to churn than customers with contract type ID 2 and 3.\n",
    "\n",
    "Of customers who have contract type ID one, the biggest predictor of churn is monthly charges less than &#0036;64.43."
   ]
  },
  {
   "cell_type": "markdown",
   "id": "23135836",
   "metadata": {},
   "source": [
    "Now we will test this model on our train and validate datasets."
   ]
  },
  {
   "cell_type": "code",
   "execution_count": 8,
   "id": "1e15b12e",
   "metadata": {},
   "outputs": [],
   "source": [
    "y_pred_decision_tree_depth_3_train = clf_max_depth_3.predict(X_train)\n",
    "y_pred_decision_tree_depth_3_validate = clf_max_depth_3.predict(X_validate)\n",
    "report_decision_tree_depth_3_train = pd.DataFrame(classification_report(y_train, y_pred_decision_tree_depth_3_train, output_dict = True)).T\n",
    "report_decision_tree_depth_3_validate = pd.DataFrame(classification_report(y_validate, y_pred_decision_tree_depth_3_validate, output_dict = True)).T"
   ]
  },
  {
   "cell_type": "markdown",
   "id": "b48682c4",
   "metadata": {},
   "source": [
    "Now we will create a DecisionTree with `max_depth=4`."
   ]
  },
  {
   "cell_type": "code",
   "execution_count": 9,
   "id": "3da8fe9d",
   "metadata": {},
   "outputs": [],
   "source": [
    "clf_max_depth_4 = DecisionTreeClassifier(max_depth=4, random_state=123)\n",
    "clf_max_depth_4 = clf_max_depth_4.fit(X_train, y_train)\n",
    "y_pred_decision_tree_depth_4_train = clf_max_depth_4.predict(X_train)\n",
    "y_pred_decision_tree_depth_4_validate = clf_max_depth_4.predict(X_validate)\n",
    "report_decision_tree_depth_4_train = pd.DataFrame(classification_report(y_train, y_pred_decision_tree_depth_4_train, output_dict = True)).T\n",
    "report_decision_tree_depth_4_validate = pd.DataFrame(classification_report(y_validate, y_pred_decision_tree_depth_4_validate, output_dict = True)).T"
   ]
  },
  {
   "cell_type": "markdown",
   "id": "7d644b55",
   "metadata": {},
   "source": [
    "Now we will look at a DecisionTree with `max_depth=5`."
   ]
  },
  {
   "cell_type": "code",
   "execution_count": 10,
   "id": "35cc0951",
   "metadata": {},
   "outputs": [],
   "source": [
    "clf_max_depth_5 = DecisionTreeClassifier(max_depth=5, random_state=123)\n",
    "clf_max_depth_5 = clf_max_depth_5.fit(X_train, y_train)\n",
    "y_pred_decision_tree_depth_5_train = clf_max_depth_5.predict(X_train)\n",
    "y_pred_decision_tree_depth_5_validate = clf_max_depth_5.predict(X_validate)\n",
    "report_decision_tree_depth_5_train = pd.DataFrame(classification_report(y_train, y_pred_decision_tree_depth_5_train, output_dict = True)).T\n",
    "report_decision_tree_depth_5_validate = pd.DataFrame(classification_report(y_validate, y_pred_decision_tree_depth_5_validate, output_dict = True)).T"
   ]
  },
  {
   "cell_type": "markdown",
   "id": "b8e32ffe",
   "metadata": {},
   "source": [
    "### Random Forest"
   ]
  },
  {
   "cell_type": "markdown",
   "id": "053e8253",
   "metadata": {},
   "source": [
    "We will first look at the `RandomForest` model with `max_depth=10` and `min_samples_leaf=1`"
   ]
  },
  {
   "cell_type": "code",
   "execution_count": 11,
   "id": "4a0e623d",
   "metadata": {},
   "outputs": [],
   "source": [
    "rf_depth_10_leaf_1 = RandomForestClassifier(bootstrap=True, \n",
    "                            class_weight=None, \n",
    "                            criterion='gini',\n",
    "                            min_samples_leaf=1,\n",
    "                            n_estimators=100,\n",
    "                            max_depth=10, \n",
    "                            random_state=123)\n",
    "rf_depth_10_leaf_1.fit(X_train, y_train)\n",
    "y_pred_rf_depth_10_leaf_1_train = rf_depth_10_leaf_1.predict(X_train)\n",
    "y_pred_rf_depth_10_leaf_1_validate = rf_depth_10_leaf_1.predict(X_validate)\n",
    "report_rf_depth_10_leaf_1_train = pd.DataFrame(classification_report(y_train, y_pred_rf_depth_10_leaf_1_train, output_dict = True)).T\n",
    "report_rf_depth_10_leaf_1_validate = pd.DataFrame(classification_report(y_validate, y_pred_rf_depth_10_leaf_1_validate, output_dict = True)).T"
   ]
  },
  {
   "cell_type": "markdown",
   "id": "f766de31",
   "metadata": {},
   "source": [
    "We will now look at the `RandomForest` model with `max_depth=3` and `min_samples_leaf=1`."
   ]
  },
  {
   "cell_type": "code",
   "execution_count": 12,
   "id": "cbeef102",
   "metadata": {},
   "outputs": [],
   "source": [
    "rf_depth_3_leaf_1 = RandomForestClassifier(bootstrap=True, \n",
    "                            class_weight=None, \n",
    "                            criterion='gini',\n",
    "                            min_samples_leaf=1,\n",
    "                            n_estimators=100,\n",
    "                            max_depth=3, \n",
    "                            random_state=123)\n",
    "rf_depth_3_leaf_1.fit(X_train, y_train)\n",
    "y_pred_rf_depth_3_leaf_1_train = rf_depth_3_leaf_1.predict(X_train)\n",
    "y_pred_rf_depth_3_leaf_1_validate = rf_depth_3_leaf_1.predict(X_validate)\n",
    "report_rf_depth_3_leaf_1_train = pd.DataFrame(classification_report(y_train, y_pred_rf_depth_3_leaf_1_train, output_dict = True)).T\n",
    "report_rf_depth_3_leaf_1_validate = pd.DataFrame(classification_report(y_validate, y_pred_rf_depth_3_leaf_1_validate, output_dict = True)).T"
   ]
  },
  {
   "cell_type": "markdown",
   "id": "8c130144",
   "metadata": {},
   "source": [
    "We will now look at the `RandomForest` model with `max_depth=10` and `min_samples_leaf=3`."
   ]
  },
  {
   "cell_type": "code",
   "execution_count": 13,
   "id": "e7dd977f",
   "metadata": {},
   "outputs": [],
   "source": [
    "rf_depth_10_leaf_3 = RandomForestClassifier(bootstrap=True, \n",
    "                            class_weight=None, \n",
    "                            criterion='gini',\n",
    "                            min_samples_leaf=3,\n",
    "                            n_estimators=100,\n",
    "                            max_depth=10, \n",
    "                            random_state=123)\n",
    "rf_depth_10_leaf_3.fit(X_train, y_train)\n",
    "y_pred_rf_depth_10_leaf_3_train = rf_depth_10_leaf_3.predict(X_train)\n",
    "y_pred_rf_depth_10_leaf_3_validate = rf_depth_10_leaf_3.predict(X_validate)\n",
    "report_rf_depth_10_leaf_3_train = pd.DataFrame(classification_report(y_train, y_pred_rf_depth_10_leaf_3_train, output_dict = True)).T\n",
    "report_rf_depth_10_leaf_3_validate = pd.DataFrame(classification_report(y_validate, y_pred_rf_depth_10_leaf_3_validate, output_dict = True)).T"
   ]
  },
  {
   "cell_type": "markdown",
   "id": "b360393e",
   "metadata": {},
   "source": [
    "### K Nearest Neighbor"
   ]
  },
  {
   "cell_type": "markdown",
   "id": "ea04e477",
   "metadata": {},
   "source": [
    "We will start by setting `n_neighbors=5`."
   ]
  },
  {
   "cell_type": "code",
   "execution_count": 14,
   "id": "a4c3e5cf",
   "metadata": {},
   "outputs": [],
   "source": [
    "knn_5_neighbors = KNeighborsClassifier(n_neighbors=5, weights='uniform')\n",
    "knn_5_neighbors.fit(X_train, y_train)\n",
    "y_pred_5_neighbors_train = knn_5_neighbors.predict(X_train)\n",
    "y_pred_5_neighbors_validate = knn_5_neighbors.predict(X_validate)\n",
    "report_knn_5_neighbors_train = pd.DataFrame(classification_report(y_train, y_pred_5_neighbors_train, output_dict = True)).T\n",
    "report_knn_5_neighbors_validate = pd.DataFrame(classification_report(y_validate, y_pred_5_neighbors_validate, output_dict = True)).T"
   ]
  },
  {
   "cell_type": "markdown",
   "id": "cc0c6cc2",
   "metadata": {},
   "source": [
    "We will now test the model by setting `n_neighbors=10`."
   ]
  },
  {
   "cell_type": "code",
   "execution_count": 15,
   "id": "17a23ae2",
   "metadata": {},
   "outputs": [],
   "source": [
    "knn_10_neighbors = KNeighborsClassifier(n_neighbors=10, weights='uniform')\n",
    "knn_10_neighbors.fit(X_train, y_train)\n",
    "y_pred_10_neighbors_train = knn_10_neighbors.predict(X_train)\n",
    "y_pred_10_neighbors_validate = knn_10_neighbors.predict(X_validate)\n",
    "report_knn_10_neighbors_train = pd.DataFrame(classification_report(y_train, y_pred_10_neighbors_train, output_dict = True)).T\n",
    "report_knn_10_neighbors_validate = pd.DataFrame(classification_report(y_validate, y_pred_10_neighbors_validate, output_dict = True)).T"
   ]
  },
  {
   "cell_type": "markdown",
   "id": "c048fe0d",
   "metadata": {},
   "source": [
    "We will now test the model by setting `n_neighbors=7`."
   ]
  },
  {
   "cell_type": "code",
   "execution_count": 16,
   "id": "92b1d7f8",
   "metadata": {},
   "outputs": [],
   "source": [
    "knn_7_neighbors = KNeighborsClassifier(n_neighbors=7, weights='uniform')\n",
    "knn_7_neighbors.fit(X_train, y_train)\n",
    "y_pred_7_neighbors_train = knn_7_neighbors.predict(X_train)\n",
    "y_pred_7_neighbors_validate = knn_7_neighbors.predict(X_validate)\n",
    "report_knn_7_neighbors_train = pd.DataFrame(classification_report(y_train, y_pred_7_neighbors_train, output_dict = True)).T\n",
    "report_knn_7_neighbors_validate = pd.DataFrame(classification_report(y_validate, y_pred_7_neighbors_validate, output_dict = True)).T"
   ]
  },
  {
   "cell_type": "markdown",
   "id": "a2f50ea0",
   "metadata": {},
   "source": [
    "### Comparing Models"
   ]
  },
  {
   "cell_type": "markdown",
   "id": "e3db1bba",
   "metadata": {},
   "source": [
    "We will now print out the classification report for each model to compare the accuracy, precision, and recall of each model."
   ]
  },
  {
   "cell_type": "markdown",
   "id": "4495a182",
   "metadata": {},
   "source": [
    "#### DecisionTree max depth 3"
   ]
  },
  {
   "cell_type": "code",
   "execution_count": 21,
   "id": "72d5644d",
   "metadata": {},
   "outputs": [
    {
     "data": {
      "text/html": [
       "<table style=\"display:inline\" border=\"1\" class=\"dataframe\">\n",
       "  <thead>\n",
       "    <tr style=\"text-align: right;\">\n",
       "      <th></th>\n",
       "      <th>precision</th>\n",
       "      <th>recall</th>\n",
       "      <th>f1-score</th>\n",
       "      <th>support</th>\n",
       "    </tr>\n",
       "  </thead>\n",
       "  <tbody>\n",
       "    <tr>\n",
       "      <th>0</th>\n",
       "      <td>0.791324</td>\n",
       "      <td>0.963410</td>\n",
       "      <td>0.868929</td>\n",
       "      <td>2897.000000</td>\n",
       "    </tr>\n",
       "    <tr>\n",
       "      <th>1</th>\n",
       "      <td>0.745192</td>\n",
       "      <td>0.296367</td>\n",
       "      <td>0.424077</td>\n",
       "      <td>1046.000000</td>\n",
       "    </tr>\n",
       "    <tr>\n",
       "      <th>accuracy</th>\n",
       "      <td>0.786457</td>\n",
       "      <td>0.786457</td>\n",
       "      <td>0.786457</td>\n",
       "      <td>0.786457</td>\n",
       "    </tr>\n",
       "    <tr>\n",
       "      <th>macro avg</th>\n",
       "      <td>0.768258</td>\n",
       "      <td>0.629889</td>\n",
       "      <td>0.646503</td>\n",
       "      <td>3943.000000</td>\n",
       "    </tr>\n",
       "    <tr>\n",
       "      <th>weighted avg</th>\n",
       "      <td>0.779086</td>\n",
       "      <td>0.786457</td>\n",
       "      <td>0.750918</td>\n",
       "      <td>3943.000000</td>\n",
       "    </tr>\n",
       "  </tbody>\n",
       "</table style=\"display:inline\"><table style=\"display:inline\" border=\"1\" class=\"dataframe\">\n",
       "  <thead>\n",
       "    <tr style=\"text-align: right;\">\n",
       "      <th></th>\n",
       "      <th>precision</th>\n",
       "      <th>recall</th>\n",
       "      <th>f1-score</th>\n",
       "      <th>support</th>\n",
       "    </tr>\n",
       "  </thead>\n",
       "  <tbody>\n",
       "    <tr>\n",
       "      <th>0</th>\n",
       "      <td>0.790312</td>\n",
       "      <td>0.958937</td>\n",
       "      <td>0.866497</td>\n",
       "      <td>1242.000000</td>\n",
       "    </tr>\n",
       "    <tr>\n",
       "      <th>1</th>\n",
       "      <td>0.722826</td>\n",
       "      <td>0.296214</td>\n",
       "      <td>0.420221</td>\n",
       "      <td>449.000000</td>\n",
       "    </tr>\n",
       "    <tr>\n",
       "      <th>accuracy</th>\n",
       "      <td>0.782969</td>\n",
       "      <td>0.782969</td>\n",
       "      <td>0.782969</td>\n",
       "      <td>0.782969</td>\n",
       "    </tr>\n",
       "    <tr>\n",
       "      <th>macro avg</th>\n",
       "      <td>0.756569</td>\n",
       "      <td>0.627576</td>\n",
       "      <td>0.643359</td>\n",
       "      <td>1691.000000</td>\n",
       "    </tr>\n",
       "    <tr>\n",
       "      <th>weighted avg</th>\n",
       "      <td>0.772393</td>\n",
       "      <td>0.782969</td>\n",
       "      <td>0.748000</td>\n",
       "      <td>1691.000000</td>\n",
       "    </tr>\n",
       "  </tbody>\n",
       "</table style=\"display:inline\">"
      ]
     },
     "metadata": {},
     "output_type": "display_data"
    }
   ],
   "source": [
    "display_side_by_side(report_decision_tree_depth_3_train, report_decision_tree_depth_3_validate)"
   ]
  },
  {
   "cell_type": "markdown",
   "id": "a0c1a51f",
   "metadata": {},
   "source": [
    "#### DecisionTree max depth 4"
   ]
  },
  {
   "cell_type": "code",
   "execution_count": 20,
   "id": "c13e3897",
   "metadata": {},
   "outputs": [
    {
     "data": {
      "text/html": [
       "<table style=\"display:inline\" border=\"1\" class=\"dataframe\">\n",
       "  <thead>\n",
       "    <tr style=\"text-align: right;\">\n",
       "      <th></th>\n",
       "      <th>precision</th>\n",
       "      <th>recall</th>\n",
       "      <th>f1-score</th>\n",
       "      <th>support</th>\n",
       "    </tr>\n",
       "  </thead>\n",
       "  <tbody>\n",
       "    <tr>\n",
       "      <th>0</th>\n",
       "      <td>0.812954</td>\n",
       "      <td>0.927166</td>\n",
       "      <td>0.866312</td>\n",
       "      <td>2897.000000</td>\n",
       "    </tr>\n",
       "    <tr>\n",
       "      <th>1</th>\n",
       "      <td>0.669797</td>\n",
       "      <td>0.409178</td>\n",
       "      <td>0.508012</td>\n",
       "      <td>1046.000000</td>\n",
       "    </tr>\n",
       "    <tr>\n",
       "      <th>accuracy</th>\n",
       "      <td>0.789754</td>\n",
       "      <td>0.789754</td>\n",
       "      <td>0.789754</td>\n",
       "      <td>0.789754</td>\n",
       "    </tr>\n",
       "    <tr>\n",
       "      <th>macro avg</th>\n",
       "      <td>0.741375</td>\n",
       "      <td>0.668172</td>\n",
       "      <td>0.687162</td>\n",
       "      <td>3943.000000</td>\n",
       "    </tr>\n",
       "    <tr>\n",
       "      <th>weighted avg</th>\n",
       "      <td>0.774977</td>\n",
       "      <td>0.789754</td>\n",
       "      <td>0.771262</td>\n",
       "      <td>3943.000000</td>\n",
       "    </tr>\n",
       "  </tbody>\n",
       "</table style=\"display:inline\"><table style=\"display:inline\" border=\"1\" class=\"dataframe\">\n",
       "  <thead>\n",
       "    <tr style=\"text-align: right;\">\n",
       "      <th></th>\n",
       "      <th>precision</th>\n",
       "      <th>recall</th>\n",
       "      <th>f1-score</th>\n",
       "      <th>support</th>\n",
       "    </tr>\n",
       "  </thead>\n",
       "  <tbody>\n",
       "    <tr>\n",
       "      <th>0</th>\n",
       "      <td>0.809834</td>\n",
       "      <td>0.901771</td>\n",
       "      <td>0.853333</td>\n",
       "      <td>1242.000000</td>\n",
       "    </tr>\n",
       "    <tr>\n",
       "      <th>1</th>\n",
       "      <td>0.603896</td>\n",
       "      <td>0.414254</td>\n",
       "      <td>0.491413</td>\n",
       "      <td>449.000000</td>\n",
       "    </tr>\n",
       "    <tr>\n",
       "      <th>accuracy</th>\n",
       "      <td>0.772324</td>\n",
       "      <td>0.772324</td>\n",
       "      <td>0.772324</td>\n",
       "      <td>0.772324</td>\n",
       "    </tr>\n",
       "    <tr>\n",
       "      <th>macro avg</th>\n",
       "      <td>0.706865</td>\n",
       "      <td>0.658013</td>\n",
       "      <td>0.672373</td>\n",
       "      <td>1691.000000</td>\n",
       "    </tr>\n",
       "    <tr>\n",
       "      <th>weighted avg</th>\n",
       "      <td>0.755152</td>\n",
       "      <td>0.772324</td>\n",
       "      <td>0.757235</td>\n",
       "      <td>1691.000000</td>\n",
       "    </tr>\n",
       "  </tbody>\n",
       "</table style=\"display:inline\">"
      ]
     },
     "metadata": {},
     "output_type": "display_data"
    }
   ],
   "source": [
    "display_side_by_side(report_decision_tree_depth_4_train, report_decision_tree_depth_4_validate)"
   ]
  },
  {
   "cell_type": "markdown",
   "id": "e8ae88f2",
   "metadata": {},
   "source": [
    "#### DecsionTree max depth 5"
   ]
  },
  {
   "cell_type": "code",
   "execution_count": 22,
   "id": "47f163d7",
   "metadata": {},
   "outputs": [
    {
     "data": {
      "text/html": [
       "<table style=\"display:inline\" border=\"1\" class=\"dataframe\">\n",
       "  <thead>\n",
       "    <tr style=\"text-align: right;\">\n",
       "      <th></th>\n",
       "      <th>precision</th>\n",
       "      <th>recall</th>\n",
       "      <th>f1-score</th>\n",
       "      <th>support</th>\n",
       "    </tr>\n",
       "  </thead>\n",
       "  <tbody>\n",
       "    <tr>\n",
       "      <th>0</th>\n",
       "      <td>0.843915</td>\n",
       "      <td>0.880911</td>\n",
       "      <td>0.862017</td>\n",
       "      <td>2897.000000</td>\n",
       "    </tr>\n",
       "    <tr>\n",
       "      <th>1</th>\n",
       "      <td>0.624592</td>\n",
       "      <td>0.548757</td>\n",
       "      <td>0.584224</td>\n",
       "      <td>1046.000000</td>\n",
       "    </tr>\n",
       "    <tr>\n",
       "      <th>accuracy</th>\n",
       "      <td>0.792797</td>\n",
       "      <td>0.792797</td>\n",
       "      <td>0.792797</td>\n",
       "      <td>0.792797</td>\n",
       "    </tr>\n",
       "    <tr>\n",
       "      <th>macro avg</th>\n",
       "      <td>0.734254</td>\n",
       "      <td>0.714834</td>\n",
       "      <td>0.723120</td>\n",
       "      <td>3943.000000</td>\n",
       "    </tr>\n",
       "    <tr>\n",
       "      <th>weighted avg</th>\n",
       "      <td>0.785733</td>\n",
       "      <td>0.792797</td>\n",
       "      <td>0.788324</td>\n",
       "      <td>3943.000000</td>\n",
       "    </tr>\n",
       "  </tbody>\n",
       "</table style=\"display:inline\"><table style=\"display:inline\" border=\"1\" class=\"dataframe\">\n",
       "  <thead>\n",
       "    <tr style=\"text-align: right;\">\n",
       "      <th></th>\n",
       "      <th>precision</th>\n",
       "      <th>recall</th>\n",
       "      <th>f1-score</th>\n",
       "      <th>support</th>\n",
       "    </tr>\n",
       "  </thead>\n",
       "  <tbody>\n",
       "    <tr>\n",
       "      <th>0</th>\n",
       "      <td>0.836874</td>\n",
       "      <td>0.888084</td>\n",
       "      <td>0.861719</td>\n",
       "      <td>1242.000000</td>\n",
       "    </tr>\n",
       "    <tr>\n",
       "      <th>1</th>\n",
       "      <td>0.627346</td>\n",
       "      <td>0.521158</td>\n",
       "      <td>0.569343</td>\n",
       "      <td>449.000000</td>\n",
       "    </tr>\n",
       "    <tr>\n",
       "      <th>accuracy</th>\n",
       "      <td>0.790656</td>\n",
       "      <td>0.790656</td>\n",
       "      <td>0.790656</td>\n",
       "      <td>0.790656</td>\n",
       "    </tr>\n",
       "    <tr>\n",
       "      <th>macro avg</th>\n",
       "      <td>0.732110</td>\n",
       "      <td>0.704621</td>\n",
       "      <td>0.715531</td>\n",
       "      <td>1691.000000</td>\n",
       "    </tr>\n",
       "    <tr>\n",
       "      <th>weighted avg</th>\n",
       "      <td>0.781239</td>\n",
       "      <td>0.790656</td>\n",
       "      <td>0.784086</td>\n",
       "      <td>1691.000000</td>\n",
       "    </tr>\n",
       "  </tbody>\n",
       "</table style=\"display:inline\">"
      ]
     },
     "metadata": {},
     "output_type": "display_data"
    }
   ],
   "source": [
    "display_side_by_side(report_decision_tree_depth_5_train, report_decision_tree_depth_5_validate)"
   ]
  },
  {
   "cell_type": "markdown",
   "id": "f4ff489a",
   "metadata": {},
   "source": [
    "#### RandomForest max depth 10, min samples leaf 1"
   ]
  },
  {
   "cell_type": "code",
   "execution_count": 23,
   "id": "ffaf1c18",
   "metadata": {},
   "outputs": [
    {
     "data": {
      "text/html": [
       "<table style=\"display:inline\" border=\"1\" class=\"dataframe\">\n",
       "  <thead>\n",
       "    <tr style=\"text-align: right;\">\n",
       "      <th></th>\n",
       "      <th>precision</th>\n",
       "      <th>recall</th>\n",
       "      <th>f1-score</th>\n",
       "      <th>support</th>\n",
       "    </tr>\n",
       "  </thead>\n",
       "  <tbody>\n",
       "    <tr>\n",
       "      <th>0</th>\n",
       "      <td>0.908227</td>\n",
       "      <td>0.956507</td>\n",
       "      <td>0.931742</td>\n",
       "      <td>2897.000000</td>\n",
       "    </tr>\n",
       "    <tr>\n",
       "      <th>1</th>\n",
       "      <td>0.858744</td>\n",
       "      <td>0.732314</td>\n",
       "      <td>0.790506</td>\n",
       "      <td>1046.000000</td>\n",
       "    </tr>\n",
       "    <tr>\n",
       "      <th>accuracy</th>\n",
       "      <td>0.897033</td>\n",
       "      <td>0.897033</td>\n",
       "      <td>0.897033</td>\n",
       "      <td>0.897033</td>\n",
       "    </tr>\n",
       "    <tr>\n",
       "      <th>macro avg</th>\n",
       "      <td>0.883486</td>\n",
       "      <td>0.844410</td>\n",
       "      <td>0.861124</td>\n",
       "      <td>3943.000000</td>\n",
       "    </tr>\n",
       "    <tr>\n",
       "      <th>weighted avg</th>\n",
       "      <td>0.895100</td>\n",
       "      <td>0.897033</td>\n",
       "      <td>0.894275</td>\n",
       "      <td>3943.000000</td>\n",
       "    </tr>\n",
       "  </tbody>\n",
       "</table style=\"display:inline\"><table style=\"display:inline\" border=\"1\" class=\"dataframe\">\n",
       "  <thead>\n",
       "    <tr style=\"text-align: right;\">\n",
       "      <th></th>\n",
       "      <th>precision</th>\n",
       "      <th>recall</th>\n",
       "      <th>f1-score</th>\n",
       "      <th>support</th>\n",
       "    </tr>\n",
       "  </thead>\n",
       "  <tbody>\n",
       "    <tr>\n",
       "      <th>0</th>\n",
       "      <td>0.838444</td>\n",
       "      <td>0.902576</td>\n",
       "      <td>0.869329</td>\n",
       "      <td>1242.00000</td>\n",
       "    </tr>\n",
       "    <tr>\n",
       "      <th>1</th>\n",
       "      <td>0.658192</td>\n",
       "      <td>0.518931</td>\n",
       "      <td>0.580324</td>\n",
       "      <td>449.00000</td>\n",
       "    </tr>\n",
       "    <tr>\n",
       "      <th>accuracy</th>\n",
       "      <td>0.800710</td>\n",
       "      <td>0.800710</td>\n",
       "      <td>0.800710</td>\n",
       "      <td>0.80071</td>\n",
       "    </tr>\n",
       "    <tr>\n",
       "      <th>macro avg</th>\n",
       "      <td>0.748318</td>\n",
       "      <td>0.710754</td>\n",
       "      <td>0.724826</td>\n",
       "      <td>1691.00000</td>\n",
       "    </tr>\n",
       "    <tr>\n",
       "      <th>weighted avg</th>\n",
       "      <td>0.790583</td>\n",
       "      <td>0.800710</td>\n",
       "      <td>0.792592</td>\n",
       "      <td>1691.00000</td>\n",
       "    </tr>\n",
       "  </tbody>\n",
       "</table style=\"display:inline\">"
      ]
     },
     "metadata": {},
     "output_type": "display_data"
    }
   ],
   "source": [
    "display_side_by_side(report_rf_depth_10_leaf_1_train, report_rf_depth_10_leaf_1_validate)"
   ]
  },
  {
   "cell_type": "markdown",
   "id": "c49ad1db",
   "metadata": {},
   "source": [
    "#### RandomForest max depth 3, min samples leaf 1"
   ]
  },
  {
   "cell_type": "code",
   "execution_count": 24,
   "id": "2c3eb8d9",
   "metadata": {},
   "outputs": [
    {
     "data": {
      "text/html": [
       "<table style=\"display:inline\" border=\"1\" class=\"dataframe\">\n",
       "  <thead>\n",
       "    <tr style=\"text-align: right;\">\n",
       "      <th></th>\n",
       "      <th>precision</th>\n",
       "      <th>recall</th>\n",
       "      <th>f1-score</th>\n",
       "      <th>support</th>\n",
       "    </tr>\n",
       "  </thead>\n",
       "  <tbody>\n",
       "    <tr>\n",
       "      <th>0</th>\n",
       "      <td>0.797578</td>\n",
       "      <td>0.954781</td>\n",
       "      <td>0.869128</td>\n",
       "      <td>2897.00000</td>\n",
       "    </tr>\n",
       "    <tr>\n",
       "      <th>1</th>\n",
       "      <td>0.724211</td>\n",
       "      <td>0.328872</td>\n",
       "      <td>0.452334</td>\n",
       "      <td>1046.00000</td>\n",
       "    </tr>\n",
       "    <tr>\n",
       "      <th>accuracy</th>\n",
       "      <td>0.788740</td>\n",
       "      <td>0.788740</td>\n",
       "      <td>0.788740</td>\n",
       "      <td>0.78874</td>\n",
       "    </tr>\n",
       "    <tr>\n",
       "      <th>macro avg</th>\n",
       "      <td>0.760894</td>\n",
       "      <td>0.641826</td>\n",
       "      <td>0.660731</td>\n",
       "      <td>3943.00000</td>\n",
       "    </tr>\n",
       "    <tr>\n",
       "      <th>weighted avg</th>\n",
       "      <td>0.778115</td>\n",
       "      <td>0.788740</td>\n",
       "      <td>0.758561</td>\n",
       "      <td>3943.00000</td>\n",
       "    </tr>\n",
       "  </tbody>\n",
       "</table style=\"display:inline\"><table style=\"display:inline\" border=\"1\" class=\"dataframe\">\n",
       "  <thead>\n",
       "    <tr style=\"text-align: right;\">\n",
       "      <th></th>\n",
       "      <th>precision</th>\n",
       "      <th>recall</th>\n",
       "      <th>f1-score</th>\n",
       "      <th>support</th>\n",
       "    </tr>\n",
       "  </thead>\n",
       "  <tbody>\n",
       "    <tr>\n",
       "      <th>0</th>\n",
       "      <td>0.799729</td>\n",
       "      <td>0.951691</td>\n",
       "      <td>0.869118</td>\n",
       "      <td>1242.000000</td>\n",
       "    </tr>\n",
       "    <tr>\n",
       "      <th>1</th>\n",
       "      <td>0.718310</td>\n",
       "      <td>0.340757</td>\n",
       "      <td>0.462236</td>\n",
       "      <td>449.000000</td>\n",
       "    </tr>\n",
       "    <tr>\n",
       "      <th>accuracy</th>\n",
       "      <td>0.789474</td>\n",
       "      <td>0.789474</td>\n",
       "      <td>0.789474</td>\n",
       "      <td>0.789474</td>\n",
       "    </tr>\n",
       "    <tr>\n",
       "      <th>macro avg</th>\n",
       "      <td>0.759020</td>\n",
       "      <td>0.646224</td>\n",
       "      <td>0.665677</td>\n",
       "      <td>1691.000000</td>\n",
       "    </tr>\n",
       "    <tr>\n",
       "      <th>weighted avg</th>\n",
       "      <td>0.778111</td>\n",
       "      <td>0.789474</td>\n",
       "      <td>0.761081</td>\n",
       "      <td>1691.000000</td>\n",
       "    </tr>\n",
       "  </tbody>\n",
       "</table style=\"display:inline\">"
      ]
     },
     "metadata": {},
     "output_type": "display_data"
    }
   ],
   "source": [
    "display_side_by_side(report_rf_depth_3_leaf_1_train, report_rf_depth_3_leaf_1_validate)"
   ]
  },
  {
   "cell_type": "markdown",
   "id": "01ef7c1f",
   "metadata": {},
   "source": [
    "#### RandomForest, maxdepth 10, min samples leaf 3"
   ]
  },
  {
   "cell_type": "code",
   "execution_count": 25,
   "id": "40d3693f",
   "metadata": {},
   "outputs": [
    {
     "data": {
      "text/html": [
       "<table style=\"display:inline\" border=\"1\" class=\"dataframe\">\n",
       "  <thead>\n",
       "    <tr style=\"text-align: right;\">\n",
       "      <th></th>\n",
       "      <th>precision</th>\n",
       "      <th>recall</th>\n",
       "      <th>f1-score</th>\n",
       "      <th>support</th>\n",
       "    </tr>\n",
       "  </thead>\n",
       "  <tbody>\n",
       "    <tr>\n",
       "      <th>0</th>\n",
       "      <td>0.879987</td>\n",
       "      <td>0.944080</td>\n",
       "      <td>0.910908</td>\n",
       "      <td>2897.000000</td>\n",
       "    </tr>\n",
       "    <tr>\n",
       "      <th>1</th>\n",
       "      <td>0.805988</td>\n",
       "      <td>0.643403</td>\n",
       "      <td>0.715577</td>\n",
       "      <td>1046.000000</td>\n",
       "    </tr>\n",
       "    <tr>\n",
       "      <th>accuracy</th>\n",
       "      <td>0.864317</td>\n",
       "      <td>0.864317</td>\n",
       "      <td>0.864317</td>\n",
       "      <td>0.864317</td>\n",
       "    </tr>\n",
       "    <tr>\n",
       "      <th>macro avg</th>\n",
       "      <td>0.842988</td>\n",
       "      <td>0.793742</td>\n",
       "      <td>0.813242</td>\n",
       "      <td>3943.000000</td>\n",
       "    </tr>\n",
       "    <tr>\n",
       "      <th>weighted avg</th>\n",
       "      <td>0.860357</td>\n",
       "      <td>0.864317</td>\n",
       "      <td>0.859090</td>\n",
       "      <td>3943.000000</td>\n",
       "    </tr>\n",
       "  </tbody>\n",
       "</table style=\"display:inline\"><table style=\"display:inline\" border=\"1\" class=\"dataframe\">\n",
       "  <thead>\n",
       "    <tr style=\"text-align: right;\">\n",
       "      <th></th>\n",
       "      <th>precision</th>\n",
       "      <th>recall</th>\n",
       "      <th>f1-score</th>\n",
       "      <th>support</th>\n",
       "    </tr>\n",
       "  </thead>\n",
       "  <tbody>\n",
       "    <tr>\n",
       "      <th>0</th>\n",
       "      <td>0.839072</td>\n",
       "      <td>0.902576</td>\n",
       "      <td>0.869666</td>\n",
       "      <td>1242.000000</td>\n",
       "    </tr>\n",
       "    <tr>\n",
       "      <th>1</th>\n",
       "      <td>0.659155</td>\n",
       "      <td>0.521158</td>\n",
       "      <td>0.582090</td>\n",
       "      <td>449.000000</td>\n",
       "    </tr>\n",
       "    <tr>\n",
       "      <th>accuracy</th>\n",
       "      <td>0.801301</td>\n",
       "      <td>0.801301</td>\n",
       "      <td>0.801301</td>\n",
       "      <td>0.801301</td>\n",
       "    </tr>\n",
       "    <tr>\n",
       "      <th>macro avg</th>\n",
       "      <td>0.749113</td>\n",
       "      <td>0.711867</td>\n",
       "      <td>0.725878</td>\n",
       "      <td>1691.000000</td>\n",
       "    </tr>\n",
       "    <tr>\n",
       "      <th>weighted avg</th>\n",
       "      <td>0.791300</td>\n",
       "      <td>0.801301</td>\n",
       "      <td>0.793308</td>\n",
       "      <td>1691.000000</td>\n",
       "    </tr>\n",
       "  </tbody>\n",
       "</table style=\"display:inline\">"
      ]
     },
     "metadata": {},
     "output_type": "display_data"
    }
   ],
   "source": [
    "display_side_by_side(report_rf_depth_10_leaf_3_train, report_rf_depth_10_leaf_3_validate)"
   ]
  },
  {
   "cell_type": "markdown",
   "id": "145daa13",
   "metadata": {},
   "source": [
    "#### K Nearest Neighbor, 5 neighbors"
   ]
  },
  {
   "cell_type": "code",
   "execution_count": 27,
   "id": "f8c65ea7",
   "metadata": {},
   "outputs": [
    {
     "data": {
      "text/html": [
       "<table style=\"display:inline\" border=\"1\" class=\"dataframe\">\n",
       "  <thead>\n",
       "    <tr style=\"text-align: right;\">\n",
       "      <th></th>\n",
       "      <th>precision</th>\n",
       "      <th>recall</th>\n",
       "      <th>f1-score</th>\n",
       "      <th>support</th>\n",
       "    </tr>\n",
       "  </thead>\n",
       "  <tbody>\n",
       "    <tr>\n",
       "      <th>0</th>\n",
       "      <td>0.857143</td>\n",
       "      <td>0.925785</td>\n",
       "      <td>0.890143</td>\n",
       "      <td>2897.000000</td>\n",
       "    </tr>\n",
       "    <tr>\n",
       "      <th>1</th>\n",
       "      <td>0.735872</td>\n",
       "      <td>0.572658</td>\n",
       "      <td>0.644086</td>\n",
       "      <td>1046.000000</td>\n",
       "    </tr>\n",
       "    <tr>\n",
       "      <th>accuracy</th>\n",
       "      <td>0.832108</td>\n",
       "      <td>0.832108</td>\n",
       "      <td>0.832108</td>\n",
       "      <td>0.832108</td>\n",
       "    </tr>\n",
       "    <tr>\n",
       "      <th>macro avg</th>\n",
       "      <td>0.796508</td>\n",
       "      <td>0.749222</td>\n",
       "      <td>0.767114</td>\n",
       "      <td>3943.000000</td>\n",
       "    </tr>\n",
       "    <tr>\n",
       "      <th>weighted avg</th>\n",
       "      <td>0.824972</td>\n",
       "      <td>0.832108</td>\n",
       "      <td>0.824869</td>\n",
       "      <td>3943.000000</td>\n",
       "    </tr>\n",
       "  </tbody>\n",
       "</table style=\"display:inline\"><table style=\"display:inline\" border=\"1\" class=\"dataframe\">\n",
       "  <thead>\n",
       "    <tr style=\"text-align: right;\">\n",
       "      <th></th>\n",
       "      <th>precision</th>\n",
       "      <th>recall</th>\n",
       "      <th>f1-score</th>\n",
       "      <th>support</th>\n",
       "    </tr>\n",
       "  </thead>\n",
       "  <tbody>\n",
       "    <tr>\n",
       "      <th>0</th>\n",
       "      <td>0.817352</td>\n",
       "      <td>0.864734</td>\n",
       "      <td>0.840376</td>\n",
       "      <td>1242.000000</td>\n",
       "    </tr>\n",
       "    <tr>\n",
       "      <th>1</th>\n",
       "      <td>0.554377</td>\n",
       "      <td>0.465479</td>\n",
       "      <td>0.506053</td>\n",
       "      <td>449.000000</td>\n",
       "    </tr>\n",
       "    <tr>\n",
       "      <th>accuracy</th>\n",
       "      <td>0.758723</td>\n",
       "      <td>0.758723</td>\n",
       "      <td>0.758723</td>\n",
       "      <td>0.758723</td>\n",
       "    </tr>\n",
       "    <tr>\n",
       "      <th>macro avg</th>\n",
       "      <td>0.685864</td>\n",
       "      <td>0.665107</td>\n",
       "      <td>0.673214</td>\n",
       "      <td>1691.000000</td>\n",
       "    </tr>\n",
       "    <tr>\n",
       "      <th>weighted avg</th>\n",
       "      <td>0.747526</td>\n",
       "      <td>0.758723</td>\n",
       "      <td>0.751605</td>\n",
       "      <td>1691.000000</td>\n",
       "    </tr>\n",
       "  </tbody>\n",
       "</table style=\"display:inline\">"
      ]
     },
     "metadata": {},
     "output_type": "display_data"
    }
   ],
   "source": [
    "display_side_by_side(report_knn_5_neighbors_train, report_knn_5_neighbors_validate)"
   ]
  },
  {
   "cell_type": "markdown",
   "id": "9341b9ab",
   "metadata": {},
   "source": [
    "#### K Nearest Neighbor, 10 neighbors"
   ]
  },
  {
   "cell_type": "code",
   "execution_count": 28,
   "id": "2b13e44b",
   "metadata": {},
   "outputs": [
    {
     "data": {
      "text/html": [
       "<table style=\"display:inline\" border=\"1\" class=\"dataframe\">\n",
       "  <thead>\n",
       "    <tr style=\"text-align: right;\">\n",
       "      <th></th>\n",
       "      <th>precision</th>\n",
       "      <th>recall</th>\n",
       "      <th>f1-score</th>\n",
       "      <th>support</th>\n",
       "    </tr>\n",
       "  </thead>\n",
       "  <tbody>\n",
       "    <tr>\n",
       "      <th>0</th>\n",
       "      <td>0.819833</td>\n",
       "      <td>0.950293</td>\n",
       "      <td>0.880256</td>\n",
       "      <td>2897.000000</td>\n",
       "    </tr>\n",
       "    <tr>\n",
       "      <th>1</th>\n",
       "      <td>0.753846</td>\n",
       "      <td>0.421606</td>\n",
       "      <td>0.540773</td>\n",
       "      <td>1046.000000</td>\n",
       "    </tr>\n",
       "    <tr>\n",
       "      <th>accuracy</th>\n",
       "      <td>0.810043</td>\n",
       "      <td>0.810043</td>\n",
       "      <td>0.810043</td>\n",
       "      <td>0.810043</td>\n",
       "    </tr>\n",
       "    <tr>\n",
       "      <th>macro avg</th>\n",
       "      <td>0.786840</td>\n",
       "      <td>0.685950</td>\n",
       "      <td>0.710514</td>\n",
       "      <td>3943.000000</td>\n",
       "    </tr>\n",
       "    <tr>\n",
       "      <th>weighted avg</th>\n",
       "      <td>0.802328</td>\n",
       "      <td>0.810043</td>\n",
       "      <td>0.790198</td>\n",
       "      <td>3943.000000</td>\n",
       "    </tr>\n",
       "  </tbody>\n",
       "</table style=\"display:inline\"><table style=\"display:inline\" border=\"1\" class=\"dataframe\">\n",
       "  <thead>\n",
       "    <tr style=\"text-align: right;\">\n",
       "      <th></th>\n",
       "      <th>precision</th>\n",
       "      <th>recall</th>\n",
       "      <th>f1-score</th>\n",
       "      <th>support</th>\n",
       "    </tr>\n",
       "  </thead>\n",
       "  <tbody>\n",
       "    <tr>\n",
       "      <th>0</th>\n",
       "      <td>0.800414</td>\n",
       "      <td>0.933172</td>\n",
       "      <td>0.861710</td>\n",
       "      <td>1242.000000</td>\n",
       "    </tr>\n",
       "    <tr>\n",
       "      <th>1</th>\n",
       "      <td>0.658436</td>\n",
       "      <td>0.356347</td>\n",
       "      <td>0.462428</td>\n",
       "      <td>449.000000</td>\n",
       "    </tr>\n",
       "    <tr>\n",
       "      <th>accuracy</th>\n",
       "      <td>0.780012</td>\n",
       "      <td>0.780012</td>\n",
       "      <td>0.780012</td>\n",
       "      <td>0.780012</td>\n",
       "    </tr>\n",
       "    <tr>\n",
       "      <th>macro avg</th>\n",
       "      <td>0.729425</td>\n",
       "      <td>0.644760</td>\n",
       "      <td>0.662069</td>\n",
       "      <td>1691.000000</td>\n",
       "    </tr>\n",
       "    <tr>\n",
       "      <th>weighted avg</th>\n",
       "      <td>0.762716</td>\n",
       "      <td>0.780012</td>\n",
       "      <td>0.755691</td>\n",
       "      <td>1691.000000</td>\n",
       "    </tr>\n",
       "  </tbody>\n",
       "</table style=\"display:inline\">"
      ]
     },
     "metadata": {},
     "output_type": "display_data"
    }
   ],
   "source": [
    "display_side_by_side(report_knn_10_neighbors_train, report_knn_10_neighbors_validate)"
   ]
  },
  {
   "cell_type": "markdown",
   "id": "dddcbf88",
   "metadata": {},
   "source": [
    "#### K Nearest Neighbor, 7 neighbors"
   ]
  },
  {
   "cell_type": "code",
   "execution_count": 29,
   "id": "6aa82805",
   "metadata": {
    "scrolled": true
   },
   "outputs": [
    {
     "data": {
      "text/html": [
       "<table style=\"display:inline\" border=\"1\" class=\"dataframe\">\n",
       "  <thead>\n",
       "    <tr style=\"text-align: right;\">\n",
       "      <th></th>\n",
       "      <th>precision</th>\n",
       "      <th>recall</th>\n",
       "      <th>f1-score</th>\n",
       "      <th>support</th>\n",
       "    </tr>\n",
       "  </thead>\n",
       "  <tbody>\n",
       "    <tr>\n",
       "      <th>0</th>\n",
       "      <td>0.845190</td>\n",
       "      <td>0.930963</td>\n",
       "      <td>0.886005</td>\n",
       "      <td>2897.000000</td>\n",
       "    </tr>\n",
       "    <tr>\n",
       "      <th>1</th>\n",
       "      <td>0.734043</td>\n",
       "      <td>0.527725</td>\n",
       "      <td>0.614016</td>\n",
       "      <td>1046.000000</td>\n",
       "    </tr>\n",
       "    <tr>\n",
       "      <th>accuracy</th>\n",
       "      <td>0.823992</td>\n",
       "      <td>0.823992</td>\n",
       "      <td>0.823992</td>\n",
       "      <td>0.823992</td>\n",
       "    </tr>\n",
       "    <tr>\n",
       "      <th>macro avg</th>\n",
       "      <td>0.789616</td>\n",
       "      <td>0.729344</td>\n",
       "      <td>0.750010</td>\n",
       "      <td>3943.000000</td>\n",
       "    </tr>\n",
       "    <tr>\n",
       "      <th>weighted avg</th>\n",
       "      <td>0.815704</td>\n",
       "      <td>0.823992</td>\n",
       "      <td>0.813852</td>\n",
       "      <td>3943.000000</td>\n",
       "    </tr>\n",
       "  </tbody>\n",
       "</table style=\"display:inline\"><table style=\"display:inline\" border=\"1\" class=\"dataframe\">\n",
       "  <thead>\n",
       "    <tr style=\"text-align: right;\">\n",
       "      <th></th>\n",
       "      <th>precision</th>\n",
       "      <th>recall</th>\n",
       "      <th>f1-score</th>\n",
       "      <th>support</th>\n",
       "    </tr>\n",
       "  </thead>\n",
       "  <tbody>\n",
       "    <tr>\n",
       "      <th>0</th>\n",
       "      <td>0.811669</td>\n",
       "      <td>0.884863</td>\n",
       "      <td>0.846687</td>\n",
       "      <td>1242.000000</td>\n",
       "    </tr>\n",
       "    <tr>\n",
       "      <th>1</th>\n",
       "      <td>0.575668</td>\n",
       "      <td>0.432071</td>\n",
       "      <td>0.493639</td>\n",
       "      <td>449.000000</td>\n",
       "    </tr>\n",
       "    <tr>\n",
       "      <th>accuracy</th>\n",
       "      <td>0.764636</td>\n",
       "      <td>0.764636</td>\n",
       "      <td>0.764636</td>\n",
       "      <td>0.764636</td>\n",
       "    </tr>\n",
       "    <tr>\n",
       "      <th>macro avg</th>\n",
       "      <td>0.693668</td>\n",
       "      <td>0.658467</td>\n",
       "      <td>0.670163</td>\n",
       "      <td>1691.000000</td>\n",
       "    </tr>\n",
       "    <tr>\n",
       "      <th>weighted avg</th>\n",
       "      <td>0.749005</td>\n",
       "      <td>0.764636</td>\n",
       "      <td>0.752945</td>\n",
       "      <td>1691.000000</td>\n",
       "    </tr>\n",
       "  </tbody>\n",
       "</table style=\"display:inline\">"
      ]
     },
     "metadata": {},
     "output_type": "display_data"
    }
   ],
   "source": [
    "display_side_by_side(report_knn_7_neighbors_train, report_knn_7_neighbors_validate)"
   ]
  },
  {
   "cell_type": "markdown",
   "id": "33dbdce3",
   "metadata": {},
   "source": [
    "### Key Takeaways"
   ]
  },
  {
   "cell_type": "markdown",
   "id": "b0262c66",
   "metadata": {},
   "source": [
    "All these models have accuracy greater than baseline accuracy of $0.73$. Thus, all the models are valid.\n",
    "\n",
    "Comparing each of these models, I select the `RandomForest` with `max_depth=10` and `min_samples_leaf=1`. My selection is based on the following criteria:\n",
    "    - This model has a higher accuracy than our baseline of $0.73$, so it is valid. \n",
    "    - This model has the a recall score for the train and validate datasets, while still maintaining high accuracy and precision.\n",
    "\n",
    "In my opinion, the recall score is the most important score in this situation. We want to make sure we are capturing all churning customers. It is better to overestimate than to underestimate churn rate. In other words, it is better to overprepare for the worst possible scenario than to underestimate the problem and underprepare.\n",
    "\n",
    "Although `RandomForest` `max_depth=3` and `min_samples_leaf=1` has the highest overall recall score, we sacrifice accuracy and precision by using this model. Thus, `RandomForest` with `max_depth=10` and `min_samples_leaf=1` is overall the most effective model."
   ]
  },
  {
   "cell_type": "markdown",
   "id": "a24d8b16",
   "metadata": {},
   "source": [
    "### Feature importance"
   ]
  },
  {
   "cell_type": "markdown",
   "id": "338c0d53",
   "metadata": {},
   "source": [
    "We can use our selected model to calculate feature importances."
   ]
  },
  {
   "cell_type": "code",
   "execution_count": 35,
   "id": "12144c4f",
   "metadata": {},
   "outputs": [
    {
     "data": {
      "text/html": [
       "<div>\n",
       "<style scoped>\n",
       "    .dataframe tbody tr th:only-of-type {\n",
       "        vertical-align: middle;\n",
       "    }\n",
       "\n",
       "    .dataframe tbody tr th {\n",
       "        vertical-align: top;\n",
       "    }\n",
       "\n",
       "    .dataframe thead th {\n",
       "        text-align: right;\n",
       "    }\n",
       "</style>\n",
       "<table border=\"1\" class=\"dataframe\">\n",
       "  <thead>\n",
       "    <tr style=\"text-align: right;\">\n",
       "      <th>category</th>\n",
       "      <th>relative importance</th>\n",
       "    </tr>\n",
       "  </thead>\n",
       "  <tbody>\n",
       "    <tr>\n",
       "      <th>total_charges</th>\n",
       "      <td>0.169107</td>\n",
       "    </tr>\n",
       "    <tr>\n",
       "      <th>tenure</th>\n",
       "      <td>0.165327</td>\n",
       "    </tr>\n",
       "    <tr>\n",
       "      <th>monthly_charges</th>\n",
       "      <td>0.130737</td>\n",
       "    </tr>\n",
       "    <tr>\n",
       "      <th>contract_type_id</th>\n",
       "      <td>0.126100</td>\n",
       "    </tr>\n",
       "    <tr>\n",
       "      <th>payment_type_id</th>\n",
       "      <td>0.077776</td>\n",
       "    </tr>\n",
       "    <tr>\n",
       "      <th>internet_service_type_id</th>\n",
       "      <td>0.038534</td>\n",
       "    </tr>\n",
       "    <tr>\n",
       "      <th>tech_support_Yes</th>\n",
       "      <td>0.031048</td>\n",
       "    </tr>\n",
       "    <tr>\n",
       "      <th>online_security_Yes</th>\n",
       "      <td>0.029296</td>\n",
       "    </tr>\n",
       "    <tr>\n",
       "      <th>paperless_billing_numeric</th>\n",
       "      <td>0.024660</td>\n",
       "    </tr>\n",
       "    <tr>\n",
       "      <th>multiple_lines_Yes</th>\n",
       "      <td>0.019738</td>\n",
       "    </tr>\n",
       "    <tr>\n",
       "      <th>gender_Male</th>\n",
       "      <td>0.019368</td>\n",
       "    </tr>\n",
       "    <tr>\n",
       "      <th>senior_citizen</th>\n",
       "      <td>0.017481</td>\n",
       "    </tr>\n",
       "    <tr>\n",
       "      <th>online_backup_Yes</th>\n",
       "      <td>0.016260</td>\n",
       "    </tr>\n",
       "    <tr>\n",
       "      <th>partner_Yes</th>\n",
       "      <td>0.015958</td>\n",
       "    </tr>\n",
       "    <tr>\n",
       "      <th>dependents_Yes</th>\n",
       "      <td>0.014158</td>\n",
       "    </tr>\n",
       "    <tr>\n",
       "      <th>streaming_tv_Yes</th>\n",
       "      <td>0.013000</td>\n",
       "    </tr>\n",
       "    <tr>\n",
       "      <th>device_protection_Yes</th>\n",
       "      <td>0.012305</td>\n",
       "    </tr>\n",
       "    <tr>\n",
       "      <th>streaming_movies_Yes</th>\n",
       "      <td>0.011871</td>\n",
       "    </tr>\n",
       "    <tr>\n",
       "      <th>online_security_No internet service</th>\n",
       "      <td>0.011785</td>\n",
       "    </tr>\n",
       "    <tr>\n",
       "      <th>tech_support_No internet service</th>\n",
       "      <td>0.011711</td>\n",
       "    </tr>\n",
       "    <tr>\n",
       "      <th>streaming_movies_No internet service</th>\n",
       "      <td>0.009707</td>\n",
       "    </tr>\n",
       "    <tr>\n",
       "      <th>device_protection_No internet service</th>\n",
       "      <td>0.009186</td>\n",
       "    </tr>\n",
       "    <tr>\n",
       "      <th>online_backup_No internet service</th>\n",
       "      <td>0.007445</td>\n",
       "    </tr>\n",
       "    <tr>\n",
       "      <th>streaming_tv_No internet service</th>\n",
       "      <td>0.006478</td>\n",
       "    </tr>\n",
       "    <tr>\n",
       "      <th>multiple_lines_No phone service</th>\n",
       "      <td>0.005907</td>\n",
       "    </tr>\n",
       "    <tr>\n",
       "      <th>phone_service_Yes</th>\n",
       "      <td>0.005053</td>\n",
       "    </tr>\n",
       "  </tbody>\n",
       "</table>\n",
       "</div>"
      ],
      "text/plain": [
       "category                               relative importance\n",
       "total_charges                                     0.169107\n",
       "tenure                                            0.165327\n",
       "monthly_charges                                   0.130737\n",
       "contract_type_id                                  0.126100\n",
       "payment_type_id                                   0.077776\n",
       "internet_service_type_id                          0.038534\n",
       "tech_support_Yes                                  0.031048\n",
       "online_security_Yes                               0.029296\n",
       "paperless_billing_numeric                         0.024660\n",
       "multiple_lines_Yes                                0.019738\n",
       "gender_Male                                       0.019368\n",
       "senior_citizen                                    0.017481\n",
       "online_backup_Yes                                 0.016260\n",
       "partner_Yes                                       0.015958\n",
       "dependents_Yes                                    0.014158\n",
       "streaming_tv_Yes                                  0.013000\n",
       "device_protection_Yes                             0.012305\n",
       "streaming_movies_Yes                              0.011871\n",
       "online_security_No internet service               0.011785\n",
       "tech_support_No internet service                  0.011711\n",
       "streaming_movies_No internet service              0.009707\n",
       "device_protection_No internet service             0.009186\n",
       "online_backup_No internet service                 0.007445\n",
       "streaming_tv_No internet service                  0.006478\n",
       "multiple_lines_No phone service                   0.005907\n",
       "phone_service_Yes                                 0.005053"
      ]
     },
     "execution_count": 35,
     "metadata": {},
     "output_type": "execute_result"
    }
   ],
   "source": [
    "feature_importances = pd.DataFrame(rf_depth_10_leaf_rf_depth_10_leaf_11.feature_importances_, index = X_train.columns, columns = [ \"relative importance\"])\n",
    "feature_importances = feature_importances.sort_values(by = ['relative importance'], ascending = False)\n",
    "feature_importances.columns.names = ['category']\n",
    "feature_importances"
   ]
  },
  {
   "cell_type": "markdown",
   "id": "b8695706",
   "metadata": {},
   "source": [
    "We can graph our feature importances below."
   ]
  },
  {
   "cell_type": "code",
   "execution_count": 36,
   "id": "f8452528",
   "metadata": {},
   "outputs": [
    {
     "data": {
      "image/png": "[encoded data removed]",
      "text/plain": [
       "<Figure size 432x288 with 1 Axes>"
      ]
     },
     "metadata": {
      "needs_background": "light"
     },
     "output_type": "display_data"
    }
   ],
   "source": [
    "relative_importances = sns.barplot(x=feature_importances['relative importance'], y=feature_importances.index)"
   ]
  },
  {
   "cell_type": "markdown",
   "id": "b84d619f",
   "metadata": {},
   "source": [
    "Furthermore, we can zoom in on the most important variables."
   ]
  },
  {
   "cell_type": "code",
   "execution_count": 37,
   "id": "3b9d1bdd",
   "metadata": {},
   "outputs": [
    {
     "data": {
      "image/png": "[encoded data removed]",
      "text/plain": [
       "<Figure size 432x288 with 1 Axes>"
      ]
     },
     "metadata": {
      "needs_background": "light"
     },
     "output_type": "display_data"
    }
   ],
   "source": [
    "relative_importances = sns.barplot(x=feature_importances['relative importance'][0:5], y=feature_importances.index[0:5])"
   ]
  },
  {
   "cell_type": "markdown",
   "id": "ef0fd9e0",
   "metadata": {},
   "source": [
    "#### Key takeaways"
   ]
  },
  {
   "cell_type": "markdown",
   "id": "8cf14d85",
   "metadata": {},
   "source": [
    "This model confirms what we have previously seen in our hypothesis testing and our DecisionTree. The features `total_charges`, `tenure`, `monthly_charges`, `contract_type_id`, and `payment_type_id` are highly predictive of churn."
   ]
  },
  {
   "cell_type": "markdown",
   "id": "d89b5b50",
   "metadata": {},
   "source": [
    "### Testing my best model"
   ]
  },
  {
   "cell_type": "markdown",
   "id": "6d2dc21c",
   "metadata": {},
   "source": [
    "To run the model on the test dataset, we will need to drop the column `customer_id`."
   ]
  },
  {
   "cell_type": "code",
   "execution_count": 38,
   "id": "cf09cc23",
   "metadata": {},
   "outputs": [],
   "source": [
    "X_test_no_id = X_test.drop(columns = ['customer_id'])"
   ]
  },
  {
   "cell_type": "markdown",
   "id": "46be85f8",
   "metadata": {},
   "source": [
    "Now we can run our `RandomForest` model with `max_depth=0` and `min_samples_leaf=1` on our test dataset."
   ]
  },
  {
   "cell_type": "code",
   "execution_count": 40,
   "id": "66373e18",
   "metadata": {},
   "outputs": [
    {
     "data": {
      "text/html": [
       "<div>\n",
       "<style scoped>\n",
       "    .dataframe tbody tr th:only-of-type {\n",
       "        vertical-align: middle;\n",
       "    }\n",
       "\n",
       "    .dataframe tbody tr th {\n",
       "        vertical-align: top;\n",
       "    }\n",
       "\n",
       "    .dataframe thead th {\n",
       "        text-align: right;\n",
       "    }\n",
       "</style>\n",
       "<table border=\"1\" class=\"dataframe\">\n",
       "  <thead>\n",
       "    <tr style=\"text-align: right;\">\n",
       "      <th></th>\n",
       "      <th>precision</th>\n",
       "      <th>recall</th>\n",
       "      <th>f1-score</th>\n",
       "      <th>support</th>\n",
       "    </tr>\n",
       "  </thead>\n",
       "  <tbody>\n",
       "    <tr>\n",
       "      <th>0</th>\n",
       "      <td>0.853726</td>\n",
       "      <td>0.896618</td>\n",
       "      <td>0.874647</td>\n",
       "      <td>1035.000000</td>\n",
       "    </tr>\n",
       "    <tr>\n",
       "      <th>1</th>\n",
       "      <td>0.667702</td>\n",
       "      <td>0.574866</td>\n",
       "      <td>0.617816</td>\n",
       "      <td>374.000000</td>\n",
       "    </tr>\n",
       "    <tr>\n",
       "      <th>accuracy</th>\n",
       "      <td>0.811214</td>\n",
       "      <td>0.811214</td>\n",
       "      <td>0.811214</td>\n",
       "      <td>0.811214</td>\n",
       "    </tr>\n",
       "    <tr>\n",
       "      <th>macro avg</th>\n",
       "      <td>0.760714</td>\n",
       "      <td>0.735742</td>\n",
       "      <td>0.746231</td>\n",
       "      <td>1409.000000</td>\n",
       "    </tr>\n",
       "    <tr>\n",
       "      <th>weighted avg</th>\n",
       "      <td>0.804348</td>\n",
       "      <td>0.811214</td>\n",
       "      <td>0.806474</td>\n",
       "      <td>1409.000000</td>\n",
       "    </tr>\n",
       "  </tbody>\n",
       "</table>\n",
       "</div>"
      ],
      "text/plain": [
       "              precision    recall  f1-score      support\n",
       "0              0.853726  0.896618  0.874647  1035.000000\n",
       "1              0.667702  0.574866  0.617816   374.000000\n",
       "accuracy       0.811214  0.811214  0.811214     0.811214\n",
       "macro avg      0.760714  0.735742  0.746231  1409.000000\n",
       "weighted avg   0.804348  0.811214  0.806474  1409.000000"
      ]
     },
     "execution_count": 40,
     "metadata": {},
     "output_type": "execute_result"
    }
   ],
   "source": [
    "y_pred_rf_depth_10_leaf_1_test = rf_depth_10_leaf_1.predict(X_test_no_id)\n",
    "classification_report_test = pd.DataFrame(classification_report(y_test, y_pred_rf_depth_10_leaf_1_test, output_dict = True)).T\n",
    "classification_report_test"
   ]
  },
  {
   "cell_type": "markdown",
   "id": "2a640519",
   "metadata": {},
   "source": [
    "### Create a Predictions CSV file"
   ]
  },
  {
   "cell_type": "code",
   "execution_count": 44,
   "id": "4c893822",
   "metadata": {},
   "outputs": [
    {
     "data": {
      "text/html": [
       "<div>\n",
       "<style scoped>\n",
       "    .dataframe tbody tr th:only-of-type {\n",
       "        vertical-align: middle;\n",
       "    }\n",
       "\n",
       "    .dataframe tbody tr th {\n",
       "        vertical-align: top;\n",
       "    }\n",
       "\n",
       "    .dataframe thead th {\n",
       "        text-align: right;\n",
       "    }\n",
       "</style>\n",
       "<table border=\"1\" class=\"dataframe\">\n",
       "  <thead>\n",
       "    <tr style=\"text-align: right;\">\n",
       "      <th></th>\n",
       "      <th>0</th>\n",
       "      <th>1</th>\n",
       "    </tr>\n",
       "  </thead>\n",
       "  <tbody>\n",
       "    <tr>\n",
       "      <th>0</th>\n",
       "      <td>0.948333</td>\n",
       "      <td>0.051667</td>\n",
       "    </tr>\n",
       "    <tr>\n",
       "      <th>1</th>\n",
       "      <td>0.688388</td>\n",
       "      <td>0.311612</td>\n",
       "    </tr>\n",
       "    <tr>\n",
       "      <th>2</th>\n",
       "      <td>0.730716</td>\n",
       "      <td>0.269284</td>\n",
       "    </tr>\n",
       "    <tr>\n",
       "      <th>3</th>\n",
       "      <td>0.696324</td>\n",
       "      <td>0.303676</td>\n",
       "    </tr>\n",
       "    <tr>\n",
       "      <th>4</th>\n",
       "      <td>0.479042</td>\n",
       "      <td>0.520958</td>\n",
       "    </tr>\n",
       "  </tbody>\n",
       "</table>\n",
       "</div>"
      ],
      "text/plain": [
       "          0         1\n",
       "0  0.948333  0.051667\n",
       "1  0.688388  0.311612\n",
       "2  0.730716  0.269284\n",
       "3  0.696324  0.303676\n",
       "4  0.479042  0.520958"
      ]
     },
     "execution_count": 44,
     "metadata": {},
     "output_type": "execute_result"
    }
   ],
   "source": [
    "proba_test = rf_depth_10_leaf_1.predict_proba(X_test_no_id)\n",
    "proba_df = pd.DataFrame(proba_test, columns=rf_depth_10_leaf_1.classes_.tolist())\n",
    "proba_df.head()"
   ]
  },
  {
   "cell_type": "code",
   "execution_count": 45,
   "id": "b9a73bfd",
   "metadata": {},
   "outputs": [
    {
     "data": {
      "text/html": [
       "<div>\n",
       "<style scoped>\n",
       "    .dataframe tbody tr th:only-of-type {\n",
       "        vertical-align: middle;\n",
       "    }\n",
       "\n",
       "    .dataframe tbody tr th {\n",
       "        vertical-align: top;\n",
       "    }\n",
       "\n",
       "    .dataframe thead th {\n",
       "        text-align: right;\n",
       "    }\n",
       "</style>\n",
       "<table border=\"1\" class=\"dataframe\">\n",
       "  <thead>\n",
       "    <tr style=\"text-align: right;\">\n",
       "      <th></th>\n",
       "      <th>index</th>\n",
       "      <th>customer_id</th>\n",
       "      <th>senior_citizen</th>\n",
       "      <th>tenure</th>\n",
       "      <th>internet_service_type_id</th>\n",
       "      <th>contract_type_id</th>\n",
       "      <th>payment_type_id</th>\n",
       "      <th>monthly_charges</th>\n",
       "      <th>total_charges</th>\n",
       "      <th>paperless_billing_numeric</th>\n",
       "      <th>...</th>\n",
       "      <th>online_backup_No internet service</th>\n",
       "      <th>online_backup_Yes</th>\n",
       "      <th>device_protection_No internet service</th>\n",
       "      <th>device_protection_Yes</th>\n",
       "      <th>tech_support_No internet service</th>\n",
       "      <th>tech_support_Yes</th>\n",
       "      <th>streaming_tv_No internet service</th>\n",
       "      <th>streaming_tv_Yes</th>\n",
       "      <th>streaming_movies_No internet service</th>\n",
       "      <th>streaming_movies_Yes</th>\n",
       "    </tr>\n",
       "  </thead>\n",
       "  <tbody>\n",
       "    <tr>\n",
       "      <th>0</th>\n",
       "      <td>2789</td>\n",
       "      <td>8670-ERCJH</td>\n",
       "      <td>0</td>\n",
       "      <td>72</td>\n",
       "      <td>2</td>\n",
       "      <td>3</td>\n",
       "      <td>3</td>\n",
       "      <td>113.40</td>\n",
       "      <td>8164.10</td>\n",
       "      <td>0</td>\n",
       "      <td>...</td>\n",
       "      <td>0</td>\n",
       "      <td>1</td>\n",
       "      <td>0</td>\n",
       "      <td>1</td>\n",
       "      <td>0</td>\n",
       "      <td>1</td>\n",
       "      <td>0</td>\n",
       "      <td>1</td>\n",
       "      <td>0</td>\n",
       "      <td>1</td>\n",
       "    </tr>\n",
       "    <tr>\n",
       "      <th>1</th>\n",
       "      <td>1233</td>\n",
       "      <td>0356-ERHVT</td>\n",
       "      <td>0</td>\n",
       "      <td>11</td>\n",
       "      <td>1</td>\n",
       "      <td>1</td>\n",
       "      <td>3</td>\n",
       "      <td>45.90</td>\n",
       "      <td>521.90</td>\n",
       "      <td>1</td>\n",
       "      <td>...</td>\n",
       "      <td>0</td>\n",
       "      <td>0</td>\n",
       "      <td>0</td>\n",
       "      <td>0</td>\n",
       "      <td>0</td>\n",
       "      <td>0</td>\n",
       "      <td>0</td>\n",
       "      <td>0</td>\n",
       "      <td>0</td>\n",
       "      <td>0</td>\n",
       "    </tr>\n",
       "    <tr>\n",
       "      <th>2</th>\n",
       "      <td>6784</td>\n",
       "      <td>4786-UKSNZ</td>\n",
       "      <td>0</td>\n",
       "      <td>1</td>\n",
       "      <td>3</td>\n",
       "      <td>1</td>\n",
       "      <td>2</td>\n",
       "      <td>20.20</td>\n",
       "      <td>20.20</td>\n",
       "      <td>0</td>\n",
       "      <td>...</td>\n",
       "      <td>1</td>\n",
       "      <td>0</td>\n",
       "      <td>1</td>\n",
       "      <td>0</td>\n",
       "      <td>1</td>\n",
       "      <td>0</td>\n",
       "      <td>1</td>\n",
       "      <td>0</td>\n",
       "      <td>1</td>\n",
       "      <td>0</td>\n",
       "    </tr>\n",
       "    <tr>\n",
       "      <th>3</th>\n",
       "      <td>3177</td>\n",
       "      <td>5945-AZYHT</td>\n",
       "      <td>0</td>\n",
       "      <td>71</td>\n",
       "      <td>2</td>\n",
       "      <td>2</td>\n",
       "      <td>1</td>\n",
       "      <td>109.60</td>\n",
       "      <td>7854.15</td>\n",
       "      <td>1</td>\n",
       "      <td>...</td>\n",
       "      <td>0</td>\n",
       "      <td>1</td>\n",
       "      <td>0</td>\n",
       "      <td>1</td>\n",
       "      <td>0</td>\n",
       "      <td>0</td>\n",
       "      <td>0</td>\n",
       "      <td>1</td>\n",
       "      <td>0</td>\n",
       "      <td>1</td>\n",
       "    </tr>\n",
       "    <tr>\n",
       "      <th>4</th>\n",
       "      <td>1740</td>\n",
       "      <td>4432-ADRLB</td>\n",
       "      <td>0</td>\n",
       "      <td>2</td>\n",
       "      <td>1</td>\n",
       "      <td>1</td>\n",
       "      <td>2</td>\n",
       "      <td>44.65</td>\n",
       "      <td>74.90</td>\n",
       "      <td>0</td>\n",
       "      <td>...</td>\n",
       "      <td>0</td>\n",
       "      <td>0</td>\n",
       "      <td>0</td>\n",
       "      <td>0</td>\n",
       "      <td>0</td>\n",
       "      <td>0</td>\n",
       "      <td>0</td>\n",
       "      <td>0</td>\n",
       "      <td>0</td>\n",
       "      <td>0</td>\n",
       "    </tr>\n",
       "  </tbody>\n",
       "</table>\n",
       "<p>5 rows × 28 columns</p>\n",
       "</div>"
      ],
      "text/plain": [
       "   index customer_id  senior_citizen  tenure  internet_service_type_id  \\\n",
       "0   2789  8670-ERCJH               0      72                         2   \n",
       "1   1233  0356-ERHVT               0      11                         1   \n",
       "2   6784  4786-UKSNZ               0       1                         3   \n",
       "3   3177  5945-AZYHT               0      71                         2   \n",
       "4   1740  4432-ADRLB               0       2                         1   \n",
       "\n",
       "   contract_type_id  payment_type_id  monthly_charges  total_charges  \\\n",
       "0                 3                3           113.40        8164.10   \n",
       "1                 1                3            45.90         521.90   \n",
       "2                 1                2            20.20          20.20   \n",
       "3                 2                1           109.60        7854.15   \n",
       "4                 1                2            44.65          74.90   \n",
       "\n",
       "   paperless_billing_numeric  ...  online_backup_No internet service  \\\n",
       "0                          0  ...                                  0   \n",
       "1                          1  ...                                  0   \n",
       "2                          0  ...                                  1   \n",
       "3                          1  ...                                  0   \n",
       "4                          0  ...                                  0   \n",
       "\n",
       "   online_backup_Yes  device_protection_No internet service  \\\n",
       "0                  1                                      0   \n",
       "1                  0                                      0   \n",
       "2                  0                                      1   \n",
       "3                  1                                      0   \n",
       "4                  0                                      0   \n",
       "\n",
       "   device_protection_Yes  tech_support_No internet service  tech_support_Yes  \\\n",
       "0                      1                                 0                 1   \n",
       "1                      0                                 0                 0   \n",
       "2                      0                                 1                 0   \n",
       "3                      1                                 0                 0   \n",
       "4                      0                                 0                 0   \n",
       "\n",
       "   streaming_tv_No internet service  streaming_tv_Yes  \\\n",
       "0                                 0                 1   \n",
       "1                                 0                 0   \n",
       "2                                 1                 0   \n",
       "3                                 0                 1   \n",
       "4                                 0                 0   \n",
       "\n",
       "   streaming_movies_No internet service  streaming_movies_Yes  \n",
       "0                                     0                     1  \n",
       "1                                     0                     0  \n",
       "2                                     1                     0  \n",
       "3                                     0                     1  \n",
       "4                                     0                     0  \n",
       "\n",
       "[5 rows x 28 columns]"
      ]
     },
     "execution_count": 45,
     "metadata": {},
     "output_type": "execute_result"
    }
   ],
   "source": [
    "reset_test = X_test.reset_index()\n",
    "reset_test.head()"
   ]
  },
  {
   "cell_type": "code",
   "execution_count": 46,
   "id": "cdb9d32b",
   "metadata": {},
   "outputs": [
    {
     "data": {
      "text/html": [
       "<div>\n",
       "<style scoped>\n",
       "    .dataframe tbody tr th:only-of-type {\n",
       "        vertical-align: middle;\n",
       "    }\n",
       "\n",
       "    .dataframe tbody tr th {\n",
       "        vertical-align: top;\n",
       "    }\n",
       "\n",
       "    .dataframe thead th {\n",
       "        text-align: right;\n",
       "    }\n",
       "</style>\n",
       "<table border=\"1\" class=\"dataframe\">\n",
       "  <thead>\n",
       "    <tr style=\"text-align: right;\">\n",
       "      <th></th>\n",
       "      <th>index</th>\n",
       "      <th>customer_id</th>\n",
       "      <th>senior_citizen</th>\n",
       "      <th>tenure</th>\n",
       "      <th>internet_service_type_id</th>\n",
       "      <th>contract_type_id</th>\n",
       "      <th>payment_type_id</th>\n",
       "      <th>monthly_charges</th>\n",
       "      <th>total_charges</th>\n",
       "      <th>paperless_billing_numeric</th>\n",
       "      <th>...</th>\n",
       "      <th>device_protection_No internet service</th>\n",
       "      <th>device_protection_Yes</th>\n",
       "      <th>tech_support_No internet service</th>\n",
       "      <th>tech_support_Yes</th>\n",
       "      <th>streaming_tv_No internet service</th>\n",
       "      <th>streaming_tv_Yes</th>\n",
       "      <th>streaming_movies_No internet service</th>\n",
       "      <th>streaming_movies_Yes</th>\n",
       "      <th>0</th>\n",
       "      <th>1</th>\n",
       "    </tr>\n",
       "  </thead>\n",
       "  <tbody>\n",
       "    <tr>\n",
       "      <th>0</th>\n",
       "      <td>2789</td>\n",
       "      <td>8670-ERCJH</td>\n",
       "      <td>0</td>\n",
       "      <td>72</td>\n",
       "      <td>2</td>\n",
       "      <td>3</td>\n",
       "      <td>3</td>\n",
       "      <td>113.40</td>\n",
       "      <td>8164.10</td>\n",
       "      <td>0</td>\n",
       "      <td>...</td>\n",
       "      <td>0</td>\n",
       "      <td>1</td>\n",
       "      <td>0</td>\n",
       "      <td>1</td>\n",
       "      <td>0</td>\n",
       "      <td>1</td>\n",
       "      <td>0</td>\n",
       "      <td>1</td>\n",
       "      <td>0.948333</td>\n",
       "      <td>0.051667</td>\n",
       "    </tr>\n",
       "    <tr>\n",
       "      <th>1</th>\n",
       "      <td>1233</td>\n",
       "      <td>0356-ERHVT</td>\n",
       "      <td>0</td>\n",
       "      <td>11</td>\n",
       "      <td>1</td>\n",
       "      <td>1</td>\n",
       "      <td>3</td>\n",
       "      <td>45.90</td>\n",
       "      <td>521.90</td>\n",
       "      <td>1</td>\n",
       "      <td>...</td>\n",
       "      <td>0</td>\n",
       "      <td>0</td>\n",
       "      <td>0</td>\n",
       "      <td>0</td>\n",
       "      <td>0</td>\n",
       "      <td>0</td>\n",
       "      <td>0</td>\n",
       "      <td>0</td>\n",
       "      <td>0.688388</td>\n",
       "      <td>0.311612</td>\n",
       "    </tr>\n",
       "    <tr>\n",
       "      <th>2</th>\n",
       "      <td>6784</td>\n",
       "      <td>4786-UKSNZ</td>\n",
       "      <td>0</td>\n",
       "      <td>1</td>\n",
       "      <td>3</td>\n",
       "      <td>1</td>\n",
       "      <td>2</td>\n",
       "      <td>20.20</td>\n",
       "      <td>20.20</td>\n",
       "      <td>0</td>\n",
       "      <td>...</td>\n",
       "      <td>1</td>\n",
       "      <td>0</td>\n",
       "      <td>1</td>\n",
       "      <td>0</td>\n",
       "      <td>1</td>\n",
       "      <td>0</td>\n",
       "      <td>1</td>\n",
       "      <td>0</td>\n",
       "      <td>0.730716</td>\n",
       "      <td>0.269284</td>\n",
       "    </tr>\n",
       "    <tr>\n",
       "      <th>3</th>\n",
       "      <td>3177</td>\n",
       "      <td>5945-AZYHT</td>\n",
       "      <td>0</td>\n",
       "      <td>71</td>\n",
       "      <td>2</td>\n",
       "      <td>2</td>\n",
       "      <td>1</td>\n",
       "      <td>109.60</td>\n",
       "      <td>7854.15</td>\n",
       "      <td>1</td>\n",
       "      <td>...</td>\n",
       "      <td>0</td>\n",
       "      <td>1</td>\n",
       "      <td>0</td>\n",
       "      <td>0</td>\n",
       "      <td>0</td>\n",
       "      <td>1</td>\n",
       "      <td>0</td>\n",
       "      <td>1</td>\n",
       "      <td>0.696324</td>\n",
       "      <td>0.303676</td>\n",
       "    </tr>\n",
       "    <tr>\n",
       "      <th>4</th>\n",
       "      <td>1740</td>\n",
       "      <td>4432-ADRLB</td>\n",
       "      <td>0</td>\n",
       "      <td>2</td>\n",
       "      <td>1</td>\n",
       "      <td>1</td>\n",
       "      <td>2</td>\n",
       "      <td>44.65</td>\n",
       "      <td>74.90</td>\n",
       "      <td>0</td>\n",
       "      <td>...</td>\n",
       "      <td>0</td>\n",
       "      <td>0</td>\n",
       "      <td>0</td>\n",
       "      <td>0</td>\n",
       "      <td>0</td>\n",
       "      <td>0</td>\n",
       "      <td>0</td>\n",
       "      <td>0</td>\n",
       "      <td>0.479042</td>\n",
       "      <td>0.520958</td>\n",
       "    </tr>\n",
       "  </tbody>\n",
       "</table>\n",
       "<p>5 rows × 30 columns</p>\n",
       "</div>"
      ],
      "text/plain": [
       "   index customer_id  senior_citizen  tenure  internet_service_type_id  \\\n",
       "0   2789  8670-ERCJH               0      72                         2   \n",
       "1   1233  0356-ERHVT               0      11                         1   \n",
       "2   6784  4786-UKSNZ               0       1                         3   \n",
       "3   3177  5945-AZYHT               0      71                         2   \n",
       "4   1740  4432-ADRLB               0       2                         1   \n",
       "\n",
       "   contract_type_id  payment_type_id  monthly_charges  total_charges  \\\n",
       "0                 3                3           113.40        8164.10   \n",
       "1                 1                3            45.90         521.90   \n",
       "2                 1                2            20.20          20.20   \n",
       "3                 2                1           109.60        7854.15   \n",
       "4                 1                2            44.65          74.90   \n",
       "\n",
       "   paperless_billing_numeric  ...  device_protection_No internet service  \\\n",
       "0                          0  ...                                      0   \n",
       "1                          1  ...                                      0   \n",
       "2                          0  ...                                      1   \n",
       "3                          1  ...                                      0   \n",
       "4                          0  ...                                      0   \n",
       "\n",
       "   device_protection_Yes  tech_support_No internet service  tech_support_Yes  \\\n",
       "0                      1                                 0                 1   \n",
       "1                      0                                 0                 0   \n",
       "2                      0                                 1                 0   \n",
       "3                      1                                 0                 0   \n",
       "4                      0                                 0                 0   \n",
       "\n",
       "   streaming_tv_No internet service  streaming_tv_Yes  \\\n",
       "0                                 0                 1   \n",
       "1                                 0                 0   \n",
       "2                                 1                 0   \n",
       "3                                 0                 1   \n",
       "4                                 0                 0   \n",
       "\n",
       "   streaming_movies_No internet service  streaming_movies_Yes         0  \\\n",
       "0                                     0                     1  0.948333   \n",
       "1                                     0                     0  0.688388   \n",
       "2                                     1                     0  0.730716   \n",
       "3                                     0                     1  0.696324   \n",
       "4                                     0                     0  0.479042   \n",
       "\n",
       "          1  \n",
       "0  0.051667  \n",
       "1  0.311612  \n",
       "2  0.269284  \n",
       "3  0.303676  \n",
       "4  0.520958  \n",
       "\n",
       "[5 rows x 30 columns]"
      ]
     },
     "execution_count": 46,
     "metadata": {},
     "output_type": "execute_result"
    }
   ],
   "source": [
    "test_proba_df = pd.concat([reset_test, proba_df], axis=1)\n",
    "test_proba_df.head()"
   ]
  },
  {
   "cell_type": "code",
   "execution_count": 48,
   "id": "a42913f6",
   "metadata": {},
   "outputs": [
    {
     "data": {
      "text/html": [
       "<div>\n",
       "<style scoped>\n",
       "    .dataframe tbody tr th:only-of-type {\n",
       "        vertical-align: middle;\n",
       "    }\n",
       "\n",
       "    .dataframe tbody tr th {\n",
       "        vertical-align: top;\n",
       "    }\n",
       "\n",
       "    .dataframe thead th {\n",
       "        text-align: right;\n",
       "    }\n",
       "</style>\n",
       "<table border=\"1\" class=\"dataframe\">\n",
       "  <thead>\n",
       "    <tr style=\"text-align: right;\">\n",
       "      <th></th>\n",
       "      <th>index</th>\n",
       "      <th>customer_id</th>\n",
       "      <th>senior_citizen</th>\n",
       "      <th>tenure</th>\n",
       "      <th>internet_service_type_id</th>\n",
       "      <th>contract_type_id</th>\n",
       "      <th>payment_type_id</th>\n",
       "      <th>monthly_charges</th>\n",
       "      <th>total_charges</th>\n",
       "      <th>paperless_billing_numeric</th>\n",
       "      <th>...</th>\n",
       "      <th>device_protection_Yes</th>\n",
       "      <th>tech_support_No internet service</th>\n",
       "      <th>tech_support_Yes</th>\n",
       "      <th>streaming_tv_No internet service</th>\n",
       "      <th>streaming_tv_Yes</th>\n",
       "      <th>streaming_movies_No internet service</th>\n",
       "      <th>streaming_movies_Yes</th>\n",
       "      <th>0</th>\n",
       "      <th>1</th>\n",
       "      <th>predicted</th>\n",
       "    </tr>\n",
       "  </thead>\n",
       "  <tbody>\n",
       "    <tr>\n",
       "      <th>0</th>\n",
       "      <td>2789</td>\n",
       "      <td>8670-ERCJH</td>\n",
       "      <td>0</td>\n",
       "      <td>72</td>\n",
       "      <td>2</td>\n",
       "      <td>3</td>\n",
       "      <td>3</td>\n",
       "      <td>113.40</td>\n",
       "      <td>8164.10</td>\n",
       "      <td>0</td>\n",
       "      <td>...</td>\n",
       "      <td>1</td>\n",
       "      <td>0</td>\n",
       "      <td>1</td>\n",
       "      <td>0</td>\n",
       "      <td>1</td>\n",
       "      <td>0</td>\n",
       "      <td>1</td>\n",
       "      <td>0.948333</td>\n",
       "      <td>0.051667</td>\n",
       "      <td>0</td>\n",
       "    </tr>\n",
       "    <tr>\n",
       "      <th>1</th>\n",
       "      <td>1233</td>\n",
       "      <td>0356-ERHVT</td>\n",
       "      <td>0</td>\n",
       "      <td>11</td>\n",
       "      <td>1</td>\n",
       "      <td>1</td>\n",
       "      <td>3</td>\n",
       "      <td>45.90</td>\n",
       "      <td>521.90</td>\n",
       "      <td>1</td>\n",
       "      <td>...</td>\n",
       "      <td>0</td>\n",
       "      <td>0</td>\n",
       "      <td>0</td>\n",
       "      <td>0</td>\n",
       "      <td>0</td>\n",
       "      <td>0</td>\n",
       "      <td>0</td>\n",
       "      <td>0.688388</td>\n",
       "      <td>0.311612</td>\n",
       "      <td>0</td>\n",
       "    </tr>\n",
       "    <tr>\n",
       "      <th>2</th>\n",
       "      <td>6784</td>\n",
       "      <td>4786-UKSNZ</td>\n",
       "      <td>0</td>\n",
       "      <td>1</td>\n",
       "      <td>3</td>\n",
       "      <td>1</td>\n",
       "      <td>2</td>\n",
       "      <td>20.20</td>\n",
       "      <td>20.20</td>\n",
       "      <td>0</td>\n",
       "      <td>...</td>\n",
       "      <td>0</td>\n",
       "      <td>1</td>\n",
       "      <td>0</td>\n",
       "      <td>1</td>\n",
       "      <td>0</td>\n",
       "      <td>1</td>\n",
       "      <td>0</td>\n",
       "      <td>0.730716</td>\n",
       "      <td>0.269284</td>\n",
       "      <td>0</td>\n",
       "    </tr>\n",
       "    <tr>\n",
       "      <th>3</th>\n",
       "      <td>3177</td>\n",
       "      <td>5945-AZYHT</td>\n",
       "      <td>0</td>\n",
       "      <td>71</td>\n",
       "      <td>2</td>\n",
       "      <td>2</td>\n",
       "      <td>1</td>\n",
       "      <td>109.60</td>\n",
       "      <td>7854.15</td>\n",
       "      <td>1</td>\n",
       "      <td>...</td>\n",
       "      <td>1</td>\n",
       "      <td>0</td>\n",
       "      <td>0</td>\n",
       "      <td>0</td>\n",
       "      <td>1</td>\n",
       "      <td>0</td>\n",
       "      <td>1</td>\n",
       "      <td>0.696324</td>\n",
       "      <td>0.303676</td>\n",
       "      <td>0</td>\n",
       "    </tr>\n",
       "    <tr>\n",
       "      <th>4</th>\n",
       "      <td>1740</td>\n",
       "      <td>4432-ADRLB</td>\n",
       "      <td>0</td>\n",
       "      <td>2</td>\n",
       "      <td>1</td>\n",
       "      <td>1</td>\n",
       "      <td>2</td>\n",
       "      <td>44.65</td>\n",
       "      <td>74.90</td>\n",
       "      <td>0</td>\n",
       "      <td>...</td>\n",
       "      <td>0</td>\n",
       "      <td>0</td>\n",
       "      <td>0</td>\n",
       "      <td>0</td>\n",
       "      <td>0</td>\n",
       "      <td>0</td>\n",
       "      <td>0</td>\n",
       "      <td>0.479042</td>\n",
       "      <td>0.520958</td>\n",
       "      <td>1</td>\n",
       "    </tr>\n",
       "  </tbody>\n",
       "</table>\n",
       "<p>5 rows × 31 columns</p>\n",
       "</div>"
      ],
      "text/plain": [
       "   index customer_id  senior_citizen  tenure  internet_service_type_id  \\\n",
       "0   2789  8670-ERCJH               0      72                         2   \n",
       "1   1233  0356-ERHVT               0      11                         1   \n",
       "2   6784  4786-UKSNZ               0       1                         3   \n",
       "3   3177  5945-AZYHT               0      71                         2   \n",
       "4   1740  4432-ADRLB               0       2                         1   \n",
       "\n",
       "   contract_type_id  payment_type_id  monthly_charges  total_charges  \\\n",
       "0                 3                3           113.40        8164.10   \n",
       "1                 1                3            45.90         521.90   \n",
       "2                 1                2            20.20          20.20   \n",
       "3                 2                1           109.60        7854.15   \n",
       "4                 1                2            44.65          74.90   \n",
       "\n",
       "   paperless_billing_numeric  ...  device_protection_Yes  \\\n",
       "0                          0  ...                      1   \n",
       "1                          1  ...                      0   \n",
       "2                          0  ...                      0   \n",
       "3                          1  ...                      1   \n",
       "4                          0  ...                      0   \n",
       "\n",
       "   tech_support_No internet service  tech_support_Yes  \\\n",
       "0                                 0                 1   \n",
       "1                                 0                 0   \n",
       "2                                 1                 0   \n",
       "3                                 0                 0   \n",
       "4                                 0                 0   \n",
       "\n",
       "   streaming_tv_No internet service  streaming_tv_Yes  \\\n",
       "0                                 0                 1   \n",
       "1                                 0                 0   \n",
       "2                                 1                 0   \n",
       "3                                 0                 1   \n",
       "4                                 0                 0   \n",
       "\n",
       "   streaming_movies_No internet service  streaming_movies_Yes         0  \\\n",
       "0                                     0                     1  0.948333   \n",
       "1                                     0                     0  0.688388   \n",
       "2                                     1                     0  0.730716   \n",
       "3                                     0                     1  0.696324   \n",
       "4                                     0                     0  0.479042   \n",
       "\n",
       "          1  predicted  \n",
       "0  0.051667          0  \n",
       "1  0.311612          0  \n",
       "2  0.269284          0  \n",
       "3  0.303676          0  \n",
       "4  0.520958          1  \n",
       "\n",
       "[5 rows x 31 columns]"
      ]
     },
     "execution_count": 48,
     "metadata": {},
     "output_type": "execute_result"
    }
   ],
   "source": [
    "test_proba_df['predicted'] = y_pred_rf_depth_10_leaf_1_test \n",
    "test_proba_df.head()"
   ]
  },
  {
   "cell_type": "markdown",
   "id": "61043abb",
   "metadata": {},
   "source": [
    "We will now write a CSV file with just the predicitons."
   ]
  },
  {
   "cell_type": "code",
   "execution_count": 50,
   "id": "98064ded",
   "metadata": {},
   "outputs": [
    {
     "data": {
      "text/html": [
       "<div>\n",
       "<style scoped>\n",
       "    .dataframe tbody tr th:only-of-type {\n",
       "        vertical-align: middle;\n",
       "    }\n",
       "\n",
       "    .dataframe tbody tr th {\n",
       "        vertical-align: top;\n",
       "    }\n",
       "\n",
       "    .dataframe thead th {\n",
       "        text-align: right;\n",
       "    }\n",
       "</style>\n",
       "<table border=\"1\" class=\"dataframe\">\n",
       "  <thead>\n",
       "    <tr style=\"text-align: right;\">\n",
       "      <th></th>\n",
       "      <th>customer_id</th>\n",
       "      <th>0</th>\n",
       "      <th>1</th>\n",
       "      <th>predicted</th>\n",
       "    </tr>\n",
       "  </thead>\n",
       "  <tbody>\n",
       "    <tr>\n",
       "      <th>0</th>\n",
       "      <td>8670-ERCJH</td>\n",
       "      <td>0.948333</td>\n",
       "      <td>0.051667</td>\n",
       "      <td>0</td>\n",
       "    </tr>\n",
       "    <tr>\n",
       "      <th>1</th>\n",
       "      <td>0356-ERHVT</td>\n",
       "      <td>0.688388</td>\n",
       "      <td>0.311612</td>\n",
       "      <td>0</td>\n",
       "    </tr>\n",
       "    <tr>\n",
       "      <th>2</th>\n",
       "      <td>4786-UKSNZ</td>\n",
       "      <td>0.730716</td>\n",
       "      <td>0.269284</td>\n",
       "      <td>0</td>\n",
       "    </tr>\n",
       "    <tr>\n",
       "      <th>3</th>\n",
       "      <td>5945-AZYHT</td>\n",
       "      <td>0.696324</td>\n",
       "      <td>0.303676</td>\n",
       "      <td>0</td>\n",
       "    </tr>\n",
       "    <tr>\n",
       "      <th>4</th>\n",
       "      <td>4432-ADRLB</td>\n",
       "      <td>0.479042</td>\n",
       "      <td>0.520958</td>\n",
       "      <td>1</td>\n",
       "    </tr>\n",
       "  </tbody>\n",
       "</table>\n",
       "</div>"
      ],
      "text/plain": [
       "  customer_id         0         1  predicted\n",
       "0  8670-ERCJH  0.948333  0.051667          0\n",
       "1  0356-ERHVT  0.688388  0.311612          0\n",
       "2  4786-UKSNZ  0.730716  0.269284          0\n",
       "3  5945-AZYHT  0.696324  0.303676          0\n",
       "4  4432-ADRLB  0.479042  0.520958          1"
      ]
     },
     "execution_count": 50,
     "metadata": {},
     "output_type": "execute_result"
    }
   ],
   "source": [
    "csv_df = test_proba_df[[\"customer_id\", 0, 1, 'predicted']]\n",
    "csv_df.head()"
   ]
  },
  {
   "cell_type": "markdown",
   "id": "fd8eb232",
   "metadata": {},
   "source": [
    "We will now write our DataFrame to a CSV file."
   ]
  },
  {
   "cell_type": "code",
   "execution_count": 51,
   "id": "6fffd1c3",
   "metadata": {},
   "outputs": [],
   "source": [
    "csv_df.to_csv('predictions.csv')"
   ]
  },
  {
   "cell_type": "markdown",
   "id": "33203dbd",
   "metadata": {},
   "source": [
    "I am also creating another CSV file that includes relevant variables."
   ]
  },
  {
   "cell_type": "code",
   "execution_count": 53,
   "id": "212e400e",
   "metadata": {},
   "outputs": [],
   "source": [
    "csv_with_relevant_variables = test_proba_df[[\"customer_id\", \"contract_type_id\", \"monthly_charges\", \"tenure\", 0, 1, 'predicted']]"
   ]
  },
  {
   "cell_type": "code",
   "execution_count": 55,
   "id": "73479e1e",
   "metadata": {},
   "outputs": [],
   "source": [
    "csv_with_relevant_variables.to_csv('predictions_with_features.csv')"
   ]
  },
  {
   "cell_type": "markdown",
   "id": "5ad61258",
   "metadata": {},
   "source": [
    "## Conclusion"
   ]
  },
  {
   "cell_type": "markdown",
   "id": "173728f4",
   "metadata": {},
   "source": [
    "We learned from hypothesis testing, the DecisionTree model, and the RandomForest model that the variables `total_charges`, `tenure`, `monthly_charges`, `contract_type_id` are highly correlated with churn. \n",
    "\n",
    "We know that customers on a month-to-month contract are more likely to churn. Our DecisionTree indicated to us, that of these month-to-month customers, two additional factors predicted churn: \n",
    "   - monthly charges less than &#0036;68.42.\n",
    "   - tenure of 5 months or less. \n",
    "   \n",
    "Therefore, I recommend limiting the month-to-month contract to customers who meet either of the following criteria:\n",
    "   - monthly charges greater than &#0036;68.42.\n",
    "   - six months or greater of tenure. \n",
    "   \n",
    "Following my recommendation would decrease churn significantly among the customers most likely to churn, highly increasing our company's revenues.   \n",
    "   \n",
    "With more time, I would like to explore additional ways the key variables mentioned above are correlated with churn. We can adjust the contract requirements to make customers less likely to churn. "
   ]
  },
  {
   "cell_type": "markdown",
   "id": "c6520ace",
   "metadata": {},
   "source": [
    "[](pexels-photo-669619.jpeg)"
   ]
  },
  {
   "cell_type": "markdown",
   "id": "be2525b6",
   "metadata": {},
   "source": [
    "![title](pexels-lukas-669619.jpg)"
   ]
  },
  {
   "cell_type": "markdown",
   "id": "50d6b57e",
   "metadata": {},
   "source": [
    "[Source Photo 3](https://www.pexels.com/photo/macbook-pro-beside-papers-669619/) "
   ]
  }
 ],
 "metadata": {
  "kernelspec": {
   "display_name": "Python 3",
   "language": "python",
   "name": "python3"
  },
  "language_info": {
   "codemirror_mode": {
    "name": "ipython",
    "version": 3
   },
   "file_extension": ".py",
   "mimetype": "text/x-python",
   "name": "python",
   "nbconvert_exporter": "python",
   "pygments_lexer": "ipython3",
   "version": "3.8.8"
  }
 },
 "nbformat": 4,
 "nbformat_minor": 5
}
