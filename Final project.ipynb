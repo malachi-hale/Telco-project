{
 "cells": [
  {
   "cell_type": "markdown",
   "id": "b88d62bf",
   "metadata": {},
   "source": [
    "# <font size=\"300\"> Calculating Why Customers Churn </font>"
   ]
  },
  {
   "cell_type": "markdown",
   "id": "b4edf7e8",
   "metadata": {},
   "source": [
    " <tr>\n",
    "    <td> <img src=\"pexels-lukas-590020.jpg\" alt=\"Drawing\" style=\"width: 300px;\"/> </td>\n",
    "    <td> <img src=\"pexels-burak-kebapci-187041.jpg\" alt=\"Drawing\" style=\"width: 300px;\"/> </td>\n",
    "    </tr>"
   ]
  },
  {
   "cell_type": "markdown",
   "id": "e90486a9",
   "metadata": {},
   "source": [
    "[Source Photo 1](https://www.pexels.com/photo/person-holding-pen-pointing-at-graph-590020/?utm_content=attributionCopyText&utm_medium=referral&utm_source=pexels) \n",
    "[Source Photo 2](https://www.pexels.com/photo/space-grey-ipad-air-with-graph-on-brown-wooden-table-187041/?utm_content=attributionCopyText&utm_medium=referral&utm_source=pexels) "
   ]
  },
  {
   "cell_type": "markdown",
   "id": "e8fa3846",
   "metadata": {},
   "source": [
    "<font size=\"4\"> We will begin with the necessary imports we will need for this project. </font>"
   ]
  },
  {
   "cell_type": "code",
   "execution_count": 7,
   "id": "acdefda2",
   "metadata": {},
   "outputs": [],
   "source": [
    "##General imports we need for the project\n",
    "import pandas as pd\n",
    "import os\n",
    "import env\n",
    "import warnings\n",
    "warnings.filterwarnings('ignore')\n",
    "import numpy\n",
    "\n",
    "##Imports for graphing\n",
    "import matplotlib.pyplot as plt\n",
    "import seaborn as sns\n",
    "import graphviz\n",
    "from graphviz import Graph\n",
    "\n",
    "##Import prep and acquire functions\n",
    "from acquire import get_telco_data\n",
    "from prepare import prep_telco\n",
    "\n",
    "##Import sklearn functinos\n",
    "from sklearn.dummy import DummyClassifier\n",
    "from sklearn.model_selection import train_test_split\n",
    "\n",
    "##Import sklearn models\n",
    "from sklearn.tree import DecisionTreeClassifier\n",
    "from sklearn.neighbors import KNeighborsClassifier\n",
    "from sklearn.tree import export_graphviz\n",
    "from sklearn import tree\n",
    "\n",
    "##Import sklearn metrics\n",
    "from sklearn.metrics import accuracy_score\n",
    "from sklearn.metrics import precision_score\n",
    "from sklearn.metrics import recall_score\n",
    "from sklearn.metrics import f1_score\n",
    "from sklearn.metrics import confusion_matrix\n",
    "from sklearn.metrics import classification_report\n",
    "\n",
    "##Import statistics functinos\n",
    "import scipy.stats as stats\n",
    "from scipy.stats import mannwhitneyu"
   ]
  },
  {
   "cell_type": "markdown",
   "id": "60b54bbc",
   "metadata": {},
   "source": [
    "## Project planning"
   ]
  },
  {
   "cell_type": "markdown",
   "id": "9536df5e",
   "metadata": {},
   "source": [
    "\n",
    " - We will created a `README.md` with a data dictionary, project goals. We also established our initial hypotheses in this `README.md` file.\n",
    " \n",
    " - Acquire data using the function `get_telco_data`. This function will be saved to the `acquire.py` file, which we imported to this notebook above.\n",
    " \n",
    " - We will clean and prepare teh data using the function `prep_telco`. This function will be saved to the `prepare.py` file, which we imported to this notebook above.\n",
    " \n",
    " - Clearly define two hypotheses and an $\\alpha$ value. We will run statistical tests on these hypotheses, then determine whether or not to reject the null hypothesis. We will documents our findings in each case.  \n",
    " \n",
    " - Establish and document a baseline accuracy. \n",
    " \n",
    " - Train classification modules. We will evaluate these models on our train and validate datasets. \n",
    "      - We will compare the accuracy of these models to the baseline accuracy. \n",
    "\n",
    " - We will choose the model that performs the best and try that model on the test dataset once. \n",
    " \n",
    " - Create a CSV file with `customer_id`, probability of churn, and prediction of churn, based on the results of our best performing model. \n",
    " \n",
    " - Finish with key takeaways, recommendations, and next steps."
   ]
  },
  {
   "cell_type": "markdown",
   "id": "827e71cd",
   "metadata": {},
   "source": [
    "## Execute Summary"
   ]
  },
  {
   "cell_type": "markdown",
   "id": "c60212a3",
   "metadata": {},
   "source": [
    " - I created three models `DecisionTree`, `RandomForest`, and `KNeighbors`. \n",
    " \n",
    " - I found that the `RandomForest` with `max_depth=3` model performed with high accuracy and the highest recall score of all the models on both the train and validate dataset. I concluded that the recall dataset was most important because we want to capture all customers who churn. Overestimating churn rate is better than underestimating churn rate. Furthermore, this model outperformed our baseline accuracy of $0.73$, so it has value.\n",
    " \n",
    " - With more time I would like to explore the relationship between the following variables and churn `contract_type_id`, `tenure`, `monthly_charges`, and `payment_type_id`.\n",
    " \n",
    " - We know that the customers most likely to churn are customers on a month-to-month contract. \n",
    "     - Our `DecisionTree` model indicated that among customers on a month-to-contract, the biggest predictors of churn are having `monthly_charges` less than \\$68.42 or having tenure of 5 months or less. Thus, I recommend limiting the month-to-month contract option to customers who satisfy one of the following criteria:\n",
    "         - At least \\$68.42 in monthly charges. \n",
    "         - At least six months of tenure."
   ]
  },
  {
   "cell_type": "markdown",
   "id": "5af28ca6",
   "metadata": {},
   "source": [
    "## Acquire data"
   ]
  },
  {
   "cell_type": "markdown",
   "id": "0bffa5f6",
   "metadata": {},
   "source": [
    "Now we will acquire the necessary data we will need for this project. We will utilize a function called `get_telco_data` from our `acquire.py` file. For more information about the `get_telco_data` function, please refer to the mentioned `acquire.py` file."
   ]
  },
  {
   "cell_type": "code",
   "execution_count": 8,
   "id": "9da541aa",
   "metadata": {},
   "outputs": [],
   "source": [
    "df = get_telco_data()"
   ]
  },
  {
   "cell_type": "code",
   "execution_count": null,
   "id": "c85b2703",
   "metadata": {},
   "outputs": [],
   "source": []
  }
 ],
 "metadata": {
  "kernelspec": {
   "display_name": "Python 3",
   "language": "python",
   "name": "python3"
  },
  "language_info": {
   "codemirror_mode": {
    "name": "ipython",
    "version": 3
   },
   "file_extension": ".py",
   "mimetype": "text/x-python",
   "name": "python",
   "nbconvert_exporter": "python",
   "pygments_lexer": "ipython3",
   "version": "3.8.8"
  }
 },
 "nbformat": 4,
 "nbformat_minor": 5
}
