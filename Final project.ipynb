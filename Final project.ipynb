{
 "cells": [
  {
   "cell_type": "markdown",
   "id": "b88d62bf",
   "metadata": {},
   "source": [
    "# <font size=\"300\"> Calculating Why Customers Churn </font>"
   ]
  },
  {
   "cell_type": "markdown",
   "id": "b4edf7e8",
   "metadata": {},
   "source": [
    " <tr>\n",
    "    <td> <img src=\"pexels-lukas-590020.jpg\" alt=\"Drawing\" style=\"width: 100px;\"/> </td>\n",
    "    <td> <img src=\"pexels-burak-kebapci-187041.jpg\" alt=\"Drawing\" style=\"width: 100px;\"/> </td>\n",
    "    </tr>"
   ]
  },
  {
   "cell_type": "markdown",
   "id": "e90486a9",
   "metadata": {},
   "source": [
    "[Source Photo 1](https://www.pexels.com/photo/person-holding-pen-pointing-at-graph-590020/?utm_content=attributionCopyText&utm_medium=referral&utm_source=pexels) \n",
    "[Source Photo 2](https://www.pexels.com/photo/space-grey-ipad-air-with-graph-on-brown-wooden-table-187041/?utm_content=attributionCopyText&utm_medium=referral&utm_source=pexels) "
   ]
  },
  {
   "cell_type": "markdown",
   "id": "e8fa3846",
   "metadata": {},
   "source": [
    "<font size=\"4\"> We will begin with the necessary imports we will need for this project. </font>"
   ]
  },
  {
   "cell_type": "code",
   "execution_count": 1,
   "id": "acdefda2",
   "metadata": {},
   "outputs": [],
   "source": [
    "##General imports we need for the project\n",
    "import pandas as pd\n",
    "import os\n",
    "import env\n",
    "import warnings\n",
    "warnings.filterwarnings('ignore')\n",
    "import numpy\n",
    "\n",
    "##Imports for graphing\n",
    "import matplotlib.pyplot as plt\n",
    "import seaborn as sns\n",
    "import graphviz\n",
    "from graphviz import Graph\n",
    "\n",
    "##Import prep and acquire functions\n",
    "from acquire import get_telco_data\n",
    "from prepare import prep_telco\n",
    "\n",
    "##Import sklearn functinos\n",
    "from sklearn.dummy import DummyClassifier\n",
    "from sklearn.model_selection import train_test_split\n",
    "\n",
    "##Import sklearn models\n",
    "from sklearn.tree import DecisionTreeClassifier\n",
    "from sklearn.neighbors import KNeighborsClassifier\n",
    "from sklearn.tree import export_graphviz\n",
    "from sklearn import tree\n",
    "\n",
    "##Import sklearn metrics\n",
    "from sklearn.metrics import accuracy_score\n",
    "from sklearn.metrics import precision_score\n",
    "from sklearn.metrics import recall_score\n",
    "from sklearn.metrics import f1_score\n",
    "from sklearn.metrics import confusion_matrix\n",
    "from sklearn.metrics import classification_report\n",
    "\n",
    "##Import statistics functinos\n",
    "import scipy.stats as stats\n",
    "from scipy.stats import mannwhitneyu"
   ]
  },
  {
   "cell_type": "markdown",
   "id": "60b54bbc",
   "metadata": {},
   "source": [
    "## Project planning"
   ]
  },
  {
   "cell_type": "markdown",
   "id": "9536df5e",
   "metadata": {},
   "source": [
    "\n",
    " - We will created a `README.md` with a data dictionary, project goals. We also established our initial hypotheses in this `README.md` file.\n",
    " \n",
    " - Acquire data using the function `get_telco_data`. This function will be saved to the `acquire.py` file, which we imported to this notebook above.\n",
    " \n",
    " - We will clean and prepare teh data using the function `prep_telco`. This function will be saved to the `prepare.py` file, which we imported to this notebook above.\n",
    " \n",
    " - Clearly define two hypotheses and an $\\alpha$ value. We will run statistical tests on these hypotheses, then determine whether or not to reject the null hypothesis. We will documents our findings in each case.  \n",
    " \n",
    " - Establish and document a baseline accuracy. \n",
    " \n",
    " - Train classification modules. We will evaluate these models on our train and validate datasets. \n",
    "      - We will compare the accuracy of these models to the baseline accuracy. \n",
    "\n",
    " - We will choose the model that performs the best and try that model on the test dataset once. \n",
    " \n",
    " - Create a CSV file with `customer_id`, probability of churn, and prediction of churn, based on the results of our best performing model. \n",
    " \n",
    " - Finish with key takeaways, recommendations, and next steps."
   ]
  },
  {
   "cell_type": "markdown",
   "id": "827e71cd",
   "metadata": {},
   "source": [
    "## Execute Summary"
   ]
  },
  {
   "cell_type": "markdown",
   "id": "c60212a3",
   "metadata": {},
   "source": [
    " - I created three models `DecisionTree`, `RandomForest`, and `KNeighbors`. \n",
    " \n",
    " - I found that the `RandomForest` with `max_depth=3` model performed with high accuracy and the highest recall score of all the models on both the train and validate dataset. I concluded that the recall dataset was most important because we want to capture all customers who churn. Overestimating churn rate is better than underestimating churn rate. Furthermore, this model outperformed our baseline accuracy of $0.73$, so it has value.\n",
    " \n",
    " - With more time I would like to explore the relationship between the following variables and churn `contract_type_id`, `tenure`, `monthly_charges`, and `payment_type_id`.\n",
    " \n",
    " - We know that the customers most likely to churn are customers on a month-to-month contract. \n",
    "     - Our `DecisionTree` model indicated that among customers on a month-to-contract, the biggest predictors of churn are having `monthly_charges` less than \\$68.42 or having tenure of 5 months or less. Thus, I recommend limiting the month-to-month contract option to customers who satisfy one of the following criteria:\n",
    "         - At least \\$68.42 in monthly charges. \n",
    "         - At least six months of tenure."
   ]
  },
  {
   "cell_type": "markdown",
   "id": "5af28ca6",
   "metadata": {},
   "source": [
    "## Acquire data"
   ]
  },
  {
   "cell_type": "markdown",
   "id": "0bffa5f6",
   "metadata": {},
   "source": [
    "Now we will acquire the necessary data we will need for this project. We will utilize a function called `get_telco_data` from our `acquire.py` file. For more information about the `get_telco_data` function, please refer to the mentioned `acquire.py` file."
   ]
  },
  {
   "cell_type": "code",
   "execution_count": 2,
   "id": "9da541aa",
   "metadata": {},
   "outputs": [],
   "source": [
    "df = get_telco_data()"
   ]
  },
  {
   "cell_type": "code",
   "execution_count": 3,
   "id": "c85b2703",
   "metadata": {},
   "outputs": [
    {
     "data": {
      "text/html": [
       "<div>\n",
       "<style scoped>\n",
       "    .dataframe tbody tr th:only-of-type {\n",
       "        vertical-align: middle;\n",
       "    }\n",
       "\n",
       "    .dataframe tbody tr th {\n",
       "        vertical-align: top;\n",
       "    }\n",
       "\n",
       "    .dataframe thead th {\n",
       "        text-align: right;\n",
       "    }\n",
       "</style>\n",
       "<table border=\"1\" class=\"dataframe\">\n",
       "  <thead>\n",
       "    <tr style=\"text-align: right;\">\n",
       "      <th></th>\n",
       "      <th>customer_id</th>\n",
       "      <th>gender</th>\n",
       "      <th>senior_citizen</th>\n",
       "      <th>partner</th>\n",
       "      <th>dependents</th>\n",
       "      <th>tenure</th>\n",
       "      <th>phone_service</th>\n",
       "      <th>multiple_lines</th>\n",
       "      <th>internet_service_type_id</th>\n",
       "      <th>online_security</th>\n",
       "      <th>...</th>\n",
       "      <th>streaming_movies</th>\n",
       "      <th>contract_type_id</th>\n",
       "      <th>paperless_billing</th>\n",
       "      <th>payment_type_id</th>\n",
       "      <th>monthly_charges</th>\n",
       "      <th>total_charges</th>\n",
       "      <th>churn</th>\n",
       "      <th>contract_type</th>\n",
       "      <th>internet_service_type</th>\n",
       "      <th>payment_type</th>\n",
       "    </tr>\n",
       "  </thead>\n",
       "  <tbody>\n",
       "    <tr>\n",
       "      <th>0</th>\n",
       "      <td>0016-QLJIS</td>\n",
       "      <td>Female</td>\n",
       "      <td>0</td>\n",
       "      <td>Yes</td>\n",
       "      <td>Yes</td>\n",
       "      <td>65</td>\n",
       "      <td>Yes</td>\n",
       "      <td>Yes</td>\n",
       "      <td>1</td>\n",
       "      <td>Yes</td>\n",
       "      <td>...</td>\n",
       "      <td>Yes</td>\n",
       "      <td>3</td>\n",
       "      <td>Yes</td>\n",
       "      <td>2</td>\n",
       "      <td>90.45</td>\n",
       "      <td>5957.9</td>\n",
       "      <td>No</td>\n",
       "      <td>Two year</td>\n",
       "      <td>DSL</td>\n",
       "      <td>Mailed check</td>\n",
       "    </tr>\n",
       "    <tr>\n",
       "      <th>1</th>\n",
       "      <td>0017-DINOC</td>\n",
       "      <td>Male</td>\n",
       "      <td>0</td>\n",
       "      <td>No</td>\n",
       "      <td>No</td>\n",
       "      <td>54</td>\n",
       "      <td>No</td>\n",
       "      <td>No phone service</td>\n",
       "      <td>1</td>\n",
       "      <td>Yes</td>\n",
       "      <td>...</td>\n",
       "      <td>No</td>\n",
       "      <td>3</td>\n",
       "      <td>No</td>\n",
       "      <td>4</td>\n",
       "      <td>45.20</td>\n",
       "      <td>2460.55</td>\n",
       "      <td>No</td>\n",
       "      <td>Two year</td>\n",
       "      <td>DSL</td>\n",
       "      <td>Credit card (automatic)</td>\n",
       "    </tr>\n",
       "    <tr>\n",
       "      <th>2</th>\n",
       "      <td>0019-GFNTW</td>\n",
       "      <td>Female</td>\n",
       "      <td>0</td>\n",
       "      <td>No</td>\n",
       "      <td>No</td>\n",
       "      <td>56</td>\n",
       "      <td>No</td>\n",
       "      <td>No phone service</td>\n",
       "      <td>1</td>\n",
       "      <td>Yes</td>\n",
       "      <td>...</td>\n",
       "      <td>No</td>\n",
       "      <td>3</td>\n",
       "      <td>No</td>\n",
       "      <td>3</td>\n",
       "      <td>45.05</td>\n",
       "      <td>2560.1</td>\n",
       "      <td>No</td>\n",
       "      <td>Two year</td>\n",
       "      <td>DSL</td>\n",
       "      <td>Bank transfer (automatic)</td>\n",
       "    </tr>\n",
       "    <tr>\n",
       "      <th>3</th>\n",
       "      <td>0056-EPFBG</td>\n",
       "      <td>Male</td>\n",
       "      <td>0</td>\n",
       "      <td>Yes</td>\n",
       "      <td>Yes</td>\n",
       "      <td>20</td>\n",
       "      <td>No</td>\n",
       "      <td>No phone service</td>\n",
       "      <td>1</td>\n",
       "      <td>Yes</td>\n",
       "      <td>...</td>\n",
       "      <td>No</td>\n",
       "      <td>3</td>\n",
       "      <td>Yes</td>\n",
       "      <td>4</td>\n",
       "      <td>39.40</td>\n",
       "      <td>825.4</td>\n",
       "      <td>No</td>\n",
       "      <td>Two year</td>\n",
       "      <td>DSL</td>\n",
       "      <td>Credit card (automatic)</td>\n",
       "    </tr>\n",
       "    <tr>\n",
       "      <th>4</th>\n",
       "      <td>0078-XZMHT</td>\n",
       "      <td>Male</td>\n",
       "      <td>0</td>\n",
       "      <td>Yes</td>\n",
       "      <td>No</td>\n",
       "      <td>72</td>\n",
       "      <td>Yes</td>\n",
       "      <td>Yes</td>\n",
       "      <td>1</td>\n",
       "      <td>No</td>\n",
       "      <td>...</td>\n",
       "      <td>Yes</td>\n",
       "      <td>3</td>\n",
       "      <td>Yes</td>\n",
       "      <td>3</td>\n",
       "      <td>85.15</td>\n",
       "      <td>6316.2</td>\n",
       "      <td>No</td>\n",
       "      <td>Two year</td>\n",
       "      <td>DSL</td>\n",
       "      <td>Bank transfer (automatic)</td>\n",
       "    </tr>\n",
       "  </tbody>\n",
       "</table>\n",
       "<p>5 rows × 24 columns</p>\n",
       "</div>"
      ],
      "text/plain": [
       "  customer_id  gender  senior_citizen partner dependents  tenure  \\\n",
       "0  0016-QLJIS  Female               0     Yes        Yes      65   \n",
       "1  0017-DINOC    Male               0      No         No      54   \n",
       "2  0019-GFNTW  Female               0      No         No      56   \n",
       "3  0056-EPFBG    Male               0     Yes        Yes      20   \n",
       "4  0078-XZMHT    Male               0     Yes         No      72   \n",
       "\n",
       "  phone_service    multiple_lines  internet_service_type_id online_security  \\\n",
       "0           Yes               Yes                         1             Yes   \n",
       "1            No  No phone service                         1             Yes   \n",
       "2            No  No phone service                         1             Yes   \n",
       "3            No  No phone service                         1             Yes   \n",
       "4           Yes               Yes                         1              No   \n",
       "\n",
       "   ... streaming_movies contract_type_id paperless_billing payment_type_id  \\\n",
       "0  ...              Yes                3               Yes               2   \n",
       "1  ...               No                3                No               4   \n",
       "2  ...               No                3                No               3   \n",
       "3  ...               No                3               Yes               4   \n",
       "4  ...              Yes                3               Yes               3   \n",
       "\n",
       "  monthly_charges  total_charges churn  contract_type  internet_service_type  \\\n",
       "0           90.45         5957.9    No       Two year                    DSL   \n",
       "1           45.20        2460.55    No       Two year                    DSL   \n",
       "2           45.05         2560.1    No       Two year                    DSL   \n",
       "3           39.40          825.4    No       Two year                    DSL   \n",
       "4           85.15         6316.2    No       Two year                    DSL   \n",
       "\n",
       "                payment_type  \n",
       "0               Mailed check  \n",
       "1    Credit card (automatic)  \n",
       "2  Bank transfer (automatic)  \n",
       "3    Credit card (automatic)  \n",
       "4  Bank transfer (automatic)  \n",
       "\n",
       "[5 rows x 24 columns]"
      ]
     },
     "execution_count": 3,
     "metadata": {},
     "output_type": "execute_result"
    }
   ],
   "source": [
    "df.head()"
   ]
  },
  {
   "cell_type": "markdown",
   "id": "fa95fb16",
   "metadata": {},
   "source": [
    "### Get info"
   ]
  },
  {
   "cell_type": "markdown",
   "id": "c0313004",
   "metadata": {},
   "source": [
    "Let's get info for each column in our dataframe."
   ]
  },
  {
   "cell_type": "code",
   "execution_count": 7,
   "id": "c39d8a18",
   "metadata": {},
   "outputs": [
    {
     "name": "stdout",
     "output_type": "stream",
     "text": [
      "<class 'pandas.core.frame.DataFrame'>\n",
      "RangeIndex: 7043 entries, 0 to 7042\n",
      "Data columns (total 27 columns):\n",
      " #   Column                    Non-Null Count  Dtype  \n",
      "---  ------                    --------------  -----  \n",
      " 0   customer_id               7043 non-null   object \n",
      " 1   gender                    7043 non-null   object \n",
      " 2   senior_citizen            7043 non-null   int64  \n",
      " 3   partner                   7043 non-null   object \n",
      " 4   dependents                7043 non-null   object \n",
      " 5   tenure                    7043 non-null   int64  \n",
      " 6   phone_service             7043 non-null   object \n",
      " 7   multiple_lines            7043 non-null   object \n",
      " 8   internet_service_type_id  7043 non-null   int64  \n",
      " 9   online_security           7043 non-null   object \n",
      " 10  online_backup             7043 non-null   object \n",
      " 11  device_protection         7043 non-null   object \n",
      " 12  tech_support              7043 non-null   object \n",
      " 13  streaming_tv              7043 non-null   object \n",
      " 14  streaming_movies          7043 non-null   object \n",
      " 15  contract_type_id          7043 non-null   int64  \n",
      " 16  paperless_billing         7043 non-null   object \n",
      " 17  payment_type_id           7043 non-null   int64  \n",
      " 18  monthly_charges           7043 non-null   float64\n",
      " 19  total_charges             7043 non-null   object \n",
      " 20  churn                     7043 non-null   object \n",
      " 21  contract_type_id          7043 non-null   int64  \n",
      " 22  contract_type             7043 non-null   object \n",
      " 23  internet_service_type_id  7043 non-null   int64  \n",
      " 24  internet_service_type     7043 non-null   object \n",
      " 25  payment_type_id           7043 non-null   int64  \n",
      " 26  payment_type              7043 non-null   object \n",
      "dtypes: float64(1), int64(8), object(18)\n",
      "memory usage: 1.5+ MB\n"
     ]
    }
   ],
   "source": [
    "df.info()"
   ]
  },
  {
   "cell_type": "markdown",
   "id": "1f543d96",
   "metadata": {},
   "source": [
    "### Describe data"
   ]
  },
  {
   "cell_type": "markdown",
   "id": "5db8610d",
   "metadata": {},
   "source": [
    "Now we will describe key statistics for our dataframe."
   ]
  },
  {
   "cell_type": "code",
   "execution_count": 9,
   "id": "13691b27",
   "metadata": {},
   "outputs": [
    {
     "data": {
      "text/html": [
       "<div>\n",
       "<style scoped>\n",
       "    .dataframe tbody tr th:only-of-type {\n",
       "        vertical-align: middle;\n",
       "    }\n",
       "\n",
       "    .dataframe tbody tr th {\n",
       "        vertical-align: top;\n",
       "    }\n",
       "\n",
       "    .dataframe thead th {\n",
       "        text-align: right;\n",
       "    }\n",
       "</style>\n",
       "<table border=\"1\" class=\"dataframe\">\n",
       "  <thead>\n",
       "    <tr style=\"text-align: right;\">\n",
       "      <th></th>\n",
       "      <th>count</th>\n",
       "      <th>mean</th>\n",
       "      <th>std</th>\n",
       "      <th>min</th>\n",
       "      <th>25%</th>\n",
       "      <th>50%</th>\n",
       "      <th>75%</th>\n",
       "      <th>max</th>\n",
       "    </tr>\n",
       "  </thead>\n",
       "  <tbody>\n",
       "    <tr>\n",
       "      <th>senior_citizen</th>\n",
       "      <td>7043.0</td>\n",
       "      <td>0.162147</td>\n",
       "      <td>0.368612</td>\n",
       "      <td>0.00</td>\n",
       "      <td>0.0</td>\n",
       "      <td>0.00</td>\n",
       "      <td>0.00</td>\n",
       "      <td>1.00</td>\n",
       "    </tr>\n",
       "    <tr>\n",
       "      <th>tenure</th>\n",
       "      <td>7043.0</td>\n",
       "      <td>32.371149</td>\n",
       "      <td>24.559481</td>\n",
       "      <td>0.00</td>\n",
       "      <td>9.0</td>\n",
       "      <td>29.00</td>\n",
       "      <td>55.00</td>\n",
       "      <td>72.00</td>\n",
       "    </tr>\n",
       "    <tr>\n",
       "      <th>internet_service_type_id</th>\n",
       "      <td>7043.0</td>\n",
       "      <td>1.872923</td>\n",
       "      <td>0.737796</td>\n",
       "      <td>1.00</td>\n",
       "      <td>1.0</td>\n",
       "      <td>2.00</td>\n",
       "      <td>2.00</td>\n",
       "      <td>3.00</td>\n",
       "    </tr>\n",
       "    <tr>\n",
       "      <th>contract_type_id</th>\n",
       "      <td>7043.0</td>\n",
       "      <td>1.690473</td>\n",
       "      <td>0.833755</td>\n",
       "      <td>1.00</td>\n",
       "      <td>1.0</td>\n",
       "      <td>1.00</td>\n",
       "      <td>2.00</td>\n",
       "      <td>3.00</td>\n",
       "    </tr>\n",
       "    <tr>\n",
       "      <th>payment_type_id</th>\n",
       "      <td>7043.0</td>\n",
       "      <td>2.315633</td>\n",
       "      <td>1.148907</td>\n",
       "      <td>1.00</td>\n",
       "      <td>1.0</td>\n",
       "      <td>2.00</td>\n",
       "      <td>3.00</td>\n",
       "      <td>4.00</td>\n",
       "    </tr>\n",
       "    <tr>\n",
       "      <th>monthly_charges</th>\n",
       "      <td>7043.0</td>\n",
       "      <td>64.761692</td>\n",
       "      <td>30.090047</td>\n",
       "      <td>18.25</td>\n",
       "      <td>35.5</td>\n",
       "      <td>70.35</td>\n",
       "      <td>89.85</td>\n",
       "      <td>118.75</td>\n",
       "    </tr>\n",
       "    <tr>\n",
       "      <th>contract_type_id</th>\n",
       "      <td>7043.0</td>\n",
       "      <td>1.690473</td>\n",
       "      <td>0.833755</td>\n",
       "      <td>1.00</td>\n",
       "      <td>1.0</td>\n",
       "      <td>1.00</td>\n",
       "      <td>2.00</td>\n",
       "      <td>3.00</td>\n",
       "    </tr>\n",
       "    <tr>\n",
       "      <th>internet_service_type_id</th>\n",
       "      <td>7043.0</td>\n",
       "      <td>1.872923</td>\n",
       "      <td>0.737796</td>\n",
       "      <td>1.00</td>\n",
       "      <td>1.0</td>\n",
       "      <td>2.00</td>\n",
       "      <td>2.00</td>\n",
       "      <td>3.00</td>\n",
       "    </tr>\n",
       "    <tr>\n",
       "      <th>payment_type_id</th>\n",
       "      <td>7043.0</td>\n",
       "      <td>2.315633</td>\n",
       "      <td>1.148907</td>\n",
       "      <td>1.00</td>\n",
       "      <td>1.0</td>\n",
       "      <td>2.00</td>\n",
       "      <td>3.00</td>\n",
       "      <td>4.00</td>\n",
       "    </tr>\n",
       "  </tbody>\n",
       "</table>\n",
       "</div>"
      ],
      "text/plain": [
       "                           count       mean        std    min   25%    50%  \\\n",
       "senior_citizen            7043.0   0.162147   0.368612   0.00   0.0   0.00   \n",
       "tenure                    7043.0  32.371149  24.559481   0.00   9.0  29.00   \n",
       "internet_service_type_id  7043.0   1.872923   0.737796   1.00   1.0   2.00   \n",
       "contract_type_id          7043.0   1.690473   0.833755   1.00   1.0   1.00   \n",
       "payment_type_id           7043.0   2.315633   1.148907   1.00   1.0   2.00   \n",
       "monthly_charges           7043.0  64.761692  30.090047  18.25  35.5  70.35   \n",
       "contract_type_id          7043.0   1.690473   0.833755   1.00   1.0   1.00   \n",
       "internet_service_type_id  7043.0   1.872923   0.737796   1.00   1.0   2.00   \n",
       "payment_type_id           7043.0   2.315633   1.148907   1.00   1.0   2.00   \n",
       "\n",
       "                            75%     max  \n",
       "senior_citizen             0.00    1.00  \n",
       "tenure                    55.00   72.00  \n",
       "internet_service_type_id   2.00    3.00  \n",
       "contract_type_id           2.00    3.00  \n",
       "payment_type_id            3.00    4.00  \n",
       "monthly_charges           89.85  118.75  \n",
       "contract_type_id           2.00    3.00  \n",
       "internet_service_type_id   2.00    3.00  \n",
       "payment_type_id            3.00    4.00  "
      ]
     },
     "execution_count": 9,
     "metadata": {},
     "output_type": "execute_result"
    }
   ],
   "source": [
    "df.describe().T"
   ]
  },
  {
   "cell_type": "markdown",
   "id": "9b56125b",
   "metadata": {},
   "source": [
    "### Value counts of data"
   ]
  },
  {
   "cell_type": "markdown",
   "id": "6edcc558",
   "metadata": {},
   "source": [
    "No we will run a loop to get value counts for each column."
   ]
  },
  {
   "cell_type": "code",
   "execution_count": 4,
   "id": "418da3c2",
   "metadata": {},
   "outputs": [
    {
     "name": "stdout",
     "output_type": "stream",
     "text": [
      "---- customer_id ---\n",
      "7799-LGRDP    1\n",
      "4115-UMJFQ    1\n",
      "8205-VSLRB    1\n",
      "2037-SGXHH    1\n",
      "2958-NHPPS    1\n",
      "             ..\n",
      "3446-QDSZF    1\n",
      "1399-UBQIU    1\n",
      "4806-HIPDW    1\n",
      "7319-VENRZ    1\n",
      "1750-CSKKM    1\n",
      "Name: customer_id, Length: 7043, dtype: int64\n",
      "---- gender ---\n",
      "Male      3555\n",
      "Female    3488\n",
      "Name: gender, dtype: int64\n",
      "---- senior_citizen ---\n",
      "0    5901\n",
      "1    1142\n",
      "Name: senior_citizen, dtype: int64\n",
      "---- partner ---\n",
      "No     3641\n",
      "Yes    3402\n",
      "Name: partner, dtype: int64\n",
      "---- dependents ---\n",
      "No     4933\n",
      "Yes    2110\n",
      "Name: dependents, dtype: int64\n",
      "---- tenure ---\n",
      "1     613\n",
      "72    362\n",
      "2     238\n",
      "3     200\n",
      "4     176\n",
      "     ... \n",
      "28     57\n",
      "39     56\n",
      "44     51\n",
      "36     50\n",
      "0      11\n",
      "Name: tenure, Length: 73, dtype: int64\n",
      "---- phone_service ---\n",
      "Yes    6361\n",
      "No      682\n",
      "Name: phone_service, dtype: int64\n",
      "---- multiple_lines ---\n",
      "No                  3390\n",
      "Yes                 2971\n",
      "No phone service     682\n",
      "Name: multiple_lines, dtype: int64\n",
      "---- internet_service_type_id ---\n",
      "2    3096\n",
      "1    2421\n",
      "3    1526\n",
      "Name: internet_service_type_id, dtype: int64\n",
      "---- online_security ---\n",
      "No                     3498\n",
      "Yes                    2019\n",
      "No internet service    1526\n",
      "Name: online_security, dtype: int64\n",
      "---- online_backup ---\n",
      "No                     3088\n",
      "Yes                    2429\n",
      "No internet service    1526\n",
      "Name: online_backup, dtype: int64\n",
      "---- device_protection ---\n",
      "No                     3095\n",
      "Yes                    2422\n",
      "No internet service    1526\n",
      "Name: device_protection, dtype: int64\n",
      "---- tech_support ---\n",
      "No                     3473\n",
      "Yes                    2044\n",
      "No internet service    1526\n",
      "Name: tech_support, dtype: int64\n",
      "---- streaming_tv ---\n",
      "No                     2810\n",
      "Yes                    2707\n",
      "No internet service    1526\n",
      "Name: streaming_tv, dtype: int64\n",
      "---- streaming_movies ---\n",
      "No                     2785\n",
      "Yes                    2732\n",
      "No internet service    1526\n",
      "Name: streaming_movies, dtype: int64\n",
      "---- contract_type_id ---\n",
      "1    3875\n",
      "3    1695\n",
      "2    1473\n",
      "Name: contract_type_id, dtype: int64\n",
      "---- paperless_billing ---\n",
      "Yes    4171\n",
      "No     2872\n",
      "Name: paperless_billing, dtype: int64\n",
      "---- payment_type_id ---\n",
      "1    2365\n",
      "2    1612\n",
      "3    1544\n",
      "4    1522\n",
      "Name: payment_type_id, dtype: int64\n",
      "---- monthly_charges ---\n",
      "20.05     61\n",
      "19.85     45\n",
      "19.90     44\n",
      "19.95     44\n",
      "20.00     43\n",
      "          ..\n",
      "30.30      1\n",
      "56.45      1\n",
      "117.50     1\n",
      "40.00      1\n",
      "97.25      1\n",
      "Name: monthly_charges, Length: 1585, dtype: int64\n",
      "---- total_charges ---\n",
      "           11\n",
      "20.2       11\n",
      "19.75       9\n",
      "20.05       8\n",
      "19.65       8\n",
      "           ..\n",
      "4860.35     1\n",
      "2697.4      1\n",
      "184.15      1\n",
      "1863.8      1\n",
      "1559.15     1\n",
      "Name: total_charges, Length: 6531, dtype: int64\n",
      "---- churn ---\n",
      "No     5174\n",
      "Yes    1869\n",
      "Name: churn, dtype: int64\n",
      "---- contract_type ---\n",
      "Month-to-month    3875\n",
      "Two year          1695\n",
      "One year          1473\n",
      "Name: contract_type, dtype: int64\n",
      "---- internet_service_type ---\n",
      "Fiber optic    3096\n",
      "DSL            2421\n",
      "None           1526\n",
      "Name: internet_service_type, dtype: int64\n",
      "---- payment_type ---\n",
      "Electronic check             2365\n",
      "Mailed check                 1612\n",
      "Bank transfer (automatic)    1544\n",
      "Credit card (automatic)      1522\n",
      "Name: payment_type, dtype: int64\n"
     ]
    }
   ],
   "source": [
    "for c in df.columns:\n",
    "    print (\"---- %s ---\" % c)\n",
    "    print (df[c].value_counts())"
   ]
  },
  {
   "cell_type": "markdown",
   "id": "2bf02914",
   "metadata": {},
   "source": [
    "### Distributions of individual variables"
   ]
  },
  {
   "cell_type": "markdown",
   "id": "4159a007",
   "metadata": {},
   "source": [
    "<center><font size=\"4\"> Gender <font size>"
   ]
  },
  {
   "cell_type": "code",
   "execution_count": 13,
   "id": "4a85a6e0",
   "metadata": {},
   "outputs": [
    {
     "data": {
      "image/png": "[encoded data removed]",
      "text/plain": [
       "<Figure size 432.125x360 with 1 Axes>"
      ]
     },
     "metadata": {
      "needs_background": "light"
     },
     "output_type": "display_data"
    }
   ],
   "source": [
    "gender_distribution = sns.displot(df, x = df.gender, discrete = True, hue = \"gender\", palette=[\"C1\", \"C0\"])"
   ]
  },
  {
   "cell_type": "markdown",
   "id": "759cc8c8",
   "metadata": {},
   "source": [
    "<center><font size=\"4\"> Senior Citizen <font size>"
   ]
  },
  {
   "cell_type": "code",
   "execution_count": 16,
   "id": "2d476d7a",
   "metadata": {},
   "outputs": [
    {
     "data": {
      "image/png": "[encoded data removed]",
      "text/plain": [
       "<Figure size 436.5x360 with 1 Axes>"
      ]
     },
     "metadata": {
      "needs_background": "light"
     },
     "output_type": "display_data"
    }
   ],
   "source": [
    "gender_distribution = sns.displot(df, x = df.senior_citizen, discrete = True, hue = \"senior_citizen\")"
   ]
  },
  {
   "cell_type": "markdown",
   "id": "2900b755",
   "metadata": {},
   "source": [
    "<center><font size=\"4\"> Partner <font size>"
   ]
  },
  {
   "cell_type": "code",
   "execution_count": 17,
   "id": "4d7dc122",
   "metadata": {},
   "outputs": [
    {
     "data": {
      "image/png": "[encoded data removed]",
      "text/plain": [
       "<Figure size 412x360 with 1 Axes>"
      ]
     },
     "metadata": {
      "needs_background": "light"
     },
     "output_type": "display_data"
    }
   ],
   "source": [
    "gender_distribution = sns.displot(df, x = df.partner, discrete = True, hue = \"partner\")"
   ]
  },
  {
   "cell_type": "markdown",
   "id": "ccd25da2",
   "metadata": {},
   "source": [
    "<center><font size=\"4\"> Dependents <font size>"
   ]
  },
  {
   "cell_type": "code",
   "execution_count": 19,
   "id": "94e4df41",
   "metadata": {},
   "outputs": [
    {
     "data": {
      "image/png": "[encoded data removed]",
      "text/plain": [
       "<Figure size 427.25x360 with 1 Axes>"
      ]
     },
     "metadata": {
      "needs_background": "light"
     },
     "output_type": "display_data"
    }
   ],
   "source": [
    "dependents_distribution = sns.displot(df, x = df.dependents, discrete = True, hue = \"dependents\")"
   ]
  },
  {
   "cell_type": "markdown",
   "id": "6249c65b",
   "metadata": {},
   "source": [
    "<center><font size=\"4\"> Tenure <font size>"
   ]
  },
  {
   "cell_type": "code",
   "execution_count": 14,
   "id": "8347417e",
   "metadata": {},
   "outputs": [
    {
     "data": {
      "image/png": "[encoded data removed]",
      "text/plain": [
       "<Figure size 360x360 with 1 Axes>"
      ]
     },
     "metadata": {
      "needs_background": "light"
     },
     "output_type": "display_data"
    }
   ],
   "source": [
    "tenure_distribution = sns.displot(df, x=\"tenure\")"
   ]
  },
  {
   "cell_type": "markdown",
   "id": "04c26aab",
   "metadata": {},
   "source": [
    "<center><font size=\"4\"> Phone Service <font size>"
   ]
  },
  {
   "cell_type": "code",
   "execution_count": 20,
   "id": "5714f035",
   "metadata": {},
   "outputs": [
    {
     "data": {
      "image/png": "[encoded data removed]",
      "text/plain": [
       "<Figure size 440x360 with 1 Axes>"
      ]
     },
     "metadata": {
      "needs_background": "light"
     },
     "output_type": "display_data"
    }
   ],
   "source": [
    "phone_service_distribution = sns.displot(df, x = df.phone_service, discrete = True, hue = \"phone_service\")"
   ]
  },
  {
   "cell_type": "markdown",
   "id": "3bb6d430",
   "metadata": {},
   "source": [
    "<center><font size=\"4\"> Multiple Lines <font size>"
   ]
  },
  {
   "cell_type": "code",
   "execution_count": 22,
   "id": "9063fa7e",
   "metadata": {},
   "outputs": [
    {
     "data": {
      "image/png": "[encoded data removed]",
      "text/plain": [
       "<Figure size 482.75x360 with 1 Axes>"
      ]
     },
     "metadata": {
      "needs_background": "light"
     },
     "output_type": "display_data"
    }
   ],
   "source": [
    "multiple_lines_distribution = sns.displot(df, x = df.multiple_lines, discrete = True, hue = \"multiple_lines\")"
   ]
  },
  {
   "cell_type": "markdown",
   "id": "d31aa130",
   "metadata": {},
   "source": [
    "<center><font size=\"4\"> Internet Service ID <font size>"
   ]
  },
  {
   "cell_type": "code",
   "execution_count": 51,
   "id": "7b3458ee",
   "metadata": {},
   "outputs": [
    {
     "data": {
      "image/png": "[encoded data removed]",
      "text/plain": [
       "<Figure size 360x360 with 1 Axes>"
      ]
     },
     "metadata": {
      "needs_background": "light"
     },
     "output_type": "display_data"
    }
   ],
   "source": [
    "multiple_lines_distribution = sns.displot(df, x = df.internet_service_type_id)"
   ]
  },
  {
   "cell_type": "markdown",
   "id": "3ad2bdad",
   "metadata": {},
   "source": [
    "<center><font size=\"4\"> Online Security <font size>"
   ]
  },
  {
   "cell_type": "code",
   "execution_count": 53,
   "id": "e35653a0",
   "metadata": {},
   "outputs": [
    {
     "data": {
      "image/png": "[encoded data removed]",
      "text/plain": [
       "<Figure size 491.25x360 with 1 Axes>"
      ]
     },
     "metadata": {
      "needs_background": "light"
     },
     "output_type": "display_data"
    }
   ],
   "source": [
    "online_security_distribution = sns.displot(df, x = df.online_security, discrete = True, hue = \"online_security\")"
   ]
  },
  {
   "cell_type": "markdown",
   "id": "9a57e12e",
   "metadata": {},
   "source": [
    "<center><font size=\"4\"> Online Backup <font size>"
   ]
  },
  {
   "cell_type": "code",
   "execution_count": 57,
   "id": "4a6e2af6",
   "metadata": {},
   "outputs": [
    {
     "data": {
      "image/png": "[encoded data removed]",
      "text/plain": [
       "<Figure size 491.25x360 with 1 Axes>"
      ]
     },
     "metadata": {
      "needs_background": "light"
     },
     "output_type": "display_data"
    }
   ],
   "source": [
    "online_backup_distribution = sns.displot(df, x = df.online_backup, discrete = True, hue = \"online_backup\")"
   ]
  },
  {
   "cell_type": "markdown",
   "id": "49b29101",
   "metadata": {},
   "source": [
    "<center><font size=\"4\"> Device Protection <font size>"
   ]
  },
  {
   "cell_type": "code",
   "execution_count": 58,
   "id": "d17cc304",
   "metadata": {},
   "outputs": [
    {
     "data": {
      "image/png": "[encoded data removed]",
      "text/plain": [
       "<Figure size 491.25x360 with 1 Axes>"
      ]
     },
     "metadata": {
      "needs_background": "light"
     },
     "output_type": "display_data"
    }
   ],
   "source": [
    "device_protection_distribution = sns.displot(df, x = df.device_protection, discrete = True, hue = \"device_protection\")"
   ]
  },
  {
   "cell_type": "markdown",
   "id": "deed6de3",
   "metadata": {},
   "source": [
    "<center><font size=\"4\"> Tech Support <font size>"
   ]
  },
  {
   "cell_type": "code",
   "execution_count": 6,
   "id": "bdd54a2d",
   "metadata": {},
   "outputs": [
    {
     "data": {
      "image/png": "[encoded data removed]",
      "text/plain": [
       "<Figure size 491.25x360 with 1 Axes>"
      ]
     },
     "metadata": {
      "needs_background": "light"
     },
     "output_type": "display_data"
    }
   ],
   "source": [
    "tech_support_distribution = sns.displot(df, x = df.tech_support, discrete = True, hue = \"tech_support\")"
   ]
  },
  {
   "cell_type": "markdown",
   "id": "3aacab4e",
   "metadata": {},
   "source": [
    "<center><font size=\"4\"> Streaming TV <font size>"
   ]
  },
  {
   "cell_type": "code",
   "execution_count": 9,
   "id": "7a36dbd1",
   "metadata": {},
   "outputs": [
    {
     "data": {
      "image/png": "[encoded data removed]",
      "text/plain": [
       "<Figure size 491.25x360 with 1 Axes>"
      ]
     },
     "metadata": {
      "needs_background": "light"
     },
     "output_type": "display_data"
    }
   ],
   "source": [
    "streaming_tv_distribution = sns.displot(df, x = df.streaming_tv, discrete = True, hue = \"streaming_tv\")"
   ]
  },
  {
   "cell_type": "markdown",
   "id": "f0ab8b1b",
   "metadata": {},
   "source": [
    "<center><font size=\"4\"> Streaming Movies <font size>"
   ]
  },
  {
   "cell_type": "code",
   "execution_count": 11,
   "id": "788c95d6",
   "metadata": {},
   "outputs": [
    {
     "data": {
      "image/png": "[encoded data removed]",
      "text/plain": [
       "<Figure size 491.25x360 with 1 Axes>"
      ]
     },
     "metadata": {
      "needs_background": "light"
     },
     "output_type": "display_data"
    }
   ],
   "source": [
    "streaming_movies_distribution = sns.displot(df, x = df.streaming_movies, discrete = True, hue = \"streaming_movies\")"
   ]
  },
  {
   "cell_type": "markdown",
   "id": "1902c2f1",
   "metadata": {},
   "source": [
    "<center><font size=\"4\"> Contract Type ID <font size>"
   ]
  },
  {
   "cell_type": "code",
   "execution_count": 13,
   "id": "6d613901",
   "metadata": {},
   "outputs": [
    {
     "data": {
      "image/png": "[encoded data removed]",
      "text/plain": [
       "<Figure size 450.75x360 with 1 Axes>"
      ]
     },
     "metadata": {
      "needs_background": "light"
     },
     "output_type": "display_data"
    }
   ],
   "source": [
    "contract_type_id_distribution = sns.displot(df, x = df.contract_type_id, discrete = True, hue = \"contract_type_id\")"
   ]
  },
  {
   "cell_type": "markdown",
   "id": "c76378e5",
   "metadata": {},
   "source": [
    "<center><font size=\"4\"> Paperless Billing <font size>"
   ]
  },
  {
   "cell_type": "code",
   "execution_count": 14,
   "id": "c04c7d0f",
   "metadata": {},
   "outputs": [
    {
     "data": {
      "image/png": "[encoded data removed]",
      "text/plain": [
       "<Figure size 451.875x360 with 1 Axes>"
      ]
     },
     "metadata": {
      "needs_background": "light"
     },
     "output_type": "display_data"
    }
   ],
   "source": [
    "paperless_billing_distribution = sns.displot(df, x = df.paperless_billing, discrete = True, hue = \"paperless_billing\")"
   ]
  },
  {
   "cell_type": "markdown",
   "id": "30fd1eb6",
   "metadata": {},
   "source": [
    "<center><font size=\"4\"> Payment Type ID <font size>"
   ]
  },
  {
   "cell_type": "code",
   "execution_count": 16,
   "id": "3672b658",
   "metadata": {},
   "outputs": [
    {
     "data": {
      "image/png": "[encoded data removed]",
      "text/plain": [
       "<Figure size 453.625x360 with 1 Axes>"
      ]
     },
     "metadata": {
      "needs_background": "light"
     },
     "output_type": "display_data"
    }
   ],
   "source": [
    "payment_type_id_distribution = sns.displot(df, x = df.payment_type_id, discrete = True, hue = \"payment_type_id\")"
   ]
  },
  {
   "cell_type": "markdown",
   "id": "b02da558",
   "metadata": {},
   "source": [
    "<center><font size=\"4\"> Monthly Charges <font size>"
   ]
  },
  {
   "cell_type": "code",
   "execution_count": 16,
   "id": "98e6282b",
   "metadata": {},
   "outputs": [
    {
     "data": {
      "image/png": "[encoded data removed]",
      "text/plain": [
       "<Figure size 360x360 with 1 Axes>"
      ]
     },
     "metadata": {
      "needs_background": "light"
     },
     "output_type": "display_data"
    }
   ],
   "source": [
    "monthly_charges_distribution = sns.displot(df, x='monthly_charges')"
   ]
  },
  {
   "cell_type": "markdown",
   "id": "dc13b8ee",
   "metadata": {},
   "source": [
    "<center><font size=\"4\"> Churn <font size>"
   ]
  },
  {
   "cell_type": "code",
   "execution_count": 17,
   "id": "893db5b2",
   "metadata": {},
   "outputs": [
    {
     "data": {
      "image/png": "[encoded data removed]",
      "text/plain": [
       "<Figure size 412x360 with 1 Axes>"
      ]
     },
     "metadata": {
      "needs_background": "light"
     },
     "output_type": "display_data"
    }
   ],
   "source": [
    "churn_distribution = sns.displot(df, x = df.churn, discrete = True, hue = \"churn\")"
   ]
  },
  {
   "cell_type": "markdown",
   "id": "60787665",
   "metadata": {},
   "source": [
    "<center><font size=\"4\"> Contract Type <font size>"
   ]
  },
  {
   "cell_type": "code",
   "execution_count": 19,
   "id": "821b8d49",
   "metadata": {},
   "outputs": [
    {
     "data": {
      "image/png": "[encoded data removed]",
      "text/plain": [
       "<Figure size 476.75x360 with 1 Axes>"
      ]
     },
     "metadata": {
      "needs_background": "light"
     },
     "output_type": "display_data"
    }
   ],
   "source": [
    "contract_type_distribution = sns.displot(df, x = df.contract_type, discrete = True, hue = \"contract_type\")"
   ]
  },
  {
   "cell_type": "markdown",
   "id": "17cfb6c2",
   "metadata": {},
   "source": [
    "<center><font size=\"4\"> Internet Service Type <font size>"
   ]
  },
  {
   "cell_type": "code",
   "execution_count": 20,
   "id": "93b4fd51",
   "metadata": {},
   "outputs": [
    {
     "data": {
      "image/png": "[encoded data removed]",
      "text/plain": [
       "<Figure size 475.625x360 with 1 Axes>"
      ]
     },
     "metadata": {
      "needs_background": "light"
     },
     "output_type": "display_data"
    }
   ],
   "source": [
    "internet_service_type_distribution = sns.displot(df, x = df.internet_service_type, discrete = True, hue = \"internet_service_type\")"
   ]
  },
  {
   "cell_type": "markdown",
   "id": "0671f617",
   "metadata": {},
   "source": [
    "<center><font size=\"4\"> Payment Type <font size>"
   ]
  },
  {
   "cell_type": "code",
   "execution_count": 29,
   "id": "db221abe",
   "metadata": {},
   "outputs": [
    {
     "data": {
      "text/plain": [
       "<seaborn.axisgrid.FacetGrid at 0x7f8f1f24f550>"
      ]
     },
     "execution_count": 29,
     "metadata": {},
     "output_type": "execute_result"
    },
    {
     "data": {
      "image/png": "[encoded data removed]",
      "text/plain": [
       "<Figure size 360x360 with 1 Axes>"
      ]
     },
     "metadata": {
      "needs_background": "light"
     },
     "output_type": "display_data"
    }
   ],
   "source": [
    "payment_type_distribution = sns.displot(df, x = df.payment_type, discrete = True, hue = \"payment_type\", legend = False)\n",
    "payment_type_distribution.set_xticklabels(rotation=45)"
   ]
  },
  {
   "cell_type": "markdown",
   "id": "a9be9849",
   "metadata": {},
   "source": [
    "### Acquire takeaways"
   ]
  },
  {
   "cell_type": "markdown",
   "id": "8e4f339a",
   "metadata": {},
   "source": [
    " - I wrote a function containing SQL query to obtain my DataFrame of Telco data.\n",
    " - I used `info()`, `describe()`, and `value_counts()` on this DataFrame.\n",
    " - I utilized seaborn to build distribution graphs for the features of this DataFrame."
   ]
  },
  {
   "cell_type": "markdown",
   "id": "5f9b6dc2",
   "metadata": {},
   "source": [
    "## Data Preparation"
   ]
  },
  {
   "cell_type": "markdown",
   "id": "0bb8c41e",
   "metadata": {},
   "source": [
    "Now we will clean the data we need for this project. We will use a function called `prep_telco` from the file `prepare.py`. The `prep_telco` function will also split our data into `train`, `validate`, and `test` datasets.\n",
    "\n",
    "For more information about the function `prep_telco`, please see the file `prepare.py` in this repository."
   ]
  },
  {
   "cell_type": "code",
   "execution_count": 60,
   "id": "3da67e22",
   "metadata": {},
   "outputs": [],
   "source": [
    "train, validate, test = prep_telco(df)"
   ]
  },
  {
   "cell_type": "code",
   "execution_count": 68,
   "id": "03a27144",
   "metadata": {},
   "outputs": [
    {
     "name": "stdout",
     "output_type": "stream",
     "text": [
      "Shape of train data: (3943, 28)\n",
      "Shape of validate data: (1691, 28)\n",
      "Shape of test data: (1409, 28)\n"
     ]
    }
   ],
   "source": [
    "print(\"Shape of train data:\", train.shape)\n",
    "print(\"Shape of validate data:\", validate.shape)\n",
    "print(\"Shape of test data:\", test.shape)"
   ]
  },
  {
   "cell_type": "markdown",
   "id": "fd57d4de",
   "metadata": {},
   "source": [
    "### Prepare takeaways"
   ]
  }
 ],
 "metadata": {
  "kernelspec": {
   "display_name": "Python 3",
   "language": "python",
   "name": "python3"
  },
  "language_info": {
   "codemirror_mode": {
    "name": "ipython",
    "version": 3
   },
   "file_extension": ".py",
   "mimetype": "text/x-python",
   "name": "python",
   "nbconvert_exporter": "python",
   "pygments_lexer": "ipython3",
   "version": "3.8.8"
  }
 },
 "nbformat": 4,
 "nbformat_minor": 5
}
